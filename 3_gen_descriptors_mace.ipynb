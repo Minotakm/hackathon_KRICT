{
 "cells": [
  {
   "cell_type": "code",
   "execution_count": 9,
   "metadata": {},
   "outputs": [],
   "source": [
    "from mendeleev import element\n",
    "import numpy as np\n",
    "import re\n",
    "import pandas as pd\n",
    "import ast\n",
    "from pymatgen.symmetry.groups import SpaceGroup\n",
    "from mace.calculators import mace_mp\n",
    "from ase import Atoms\n",
    "import requests\n",
    "from collections import Counter\n",
    "\n",
    "# Define the function to calculate descriptors\n",
    "def calculate_descriptors(formula):\n",
    "    # Parse the formula and count the elements and their stoichiometric ratios\n",
    "    pattern = re.compile(r\"([A-Z][a-z]*)(\\d*)\")\n",
    "    elements = pattern.findall(formula)\n",
    "\n",
    "    # Convert elements list into a dictionary with counts as integers\n",
    "    element_counts = {}\n",
    "    for symbol, count in elements:\n",
    "        count = int(count) if count else 1\n",
    "        element_counts[symbol] = count\n",
    "\n",
    "    # Retrieve each element's atomic properties\n",
    "    atomic_numbers = []\n",
    "    electronegativities = []\n",
    "    atomic_radii = []\n",
    "    atomic_masses = []\n",
    "    valence_electrons = []\n",
    "\n",
    "    for symbol, count in element_counts.items():\n",
    "        elem = element(symbol)\n",
    "        atomic_numbers.extend([elem.atomic_number] * count)\n",
    "        electronegativities.extend([elem.en_pauling] * count)\n",
    "        atomic_radii.extend([elem.atomic_radius] * count)\n",
    "        atomic_masses.extend([elem.atomic_weight] * count)\n",
    "        valence_electrons.extend([elem.nvalence()] * count)\n",
    "\n",
    "    # Calculate descriptors\n",
    "\n",
    "    # Elemental Properties\n",
    "    mean_electronegativity = np.mean(electronegativities)\n",
    "    atomic_number_diff = max(atomic_numbers) - min(atomic_numbers)\n",
    "    avg_atomic_radius = np.mean(atomic_radii)\n",
    "\n",
    "    # Compositional Features\n",
    "    avg_atomic_mass = np.mean(atomic_masses)\n",
    "\n",
    "    # Statistical Measures of Elemental Properties\n",
    "    std_electronegativity = np.std(electronegativities)\n",
    "    min_atomic_radius = np.min(atomic_radii)\n",
    "    max_atomic_radius = np.max(atomic_radii)\n",
    "\n",
    "    # Heuristic Quantities\n",
    "    electronegativity_diff = max(electronegativities) - min(electronegativities)\n",
    "    mean_valence_electron_count = np.mean(valence_electrons)\n",
    "\n",
    "    # Organize descriptors into a vector\n",
    "    feature_vector = [\n",
    "        mean_electronegativity,        # 1. Mean Electronegativity\n",
    "        atomic_number_diff,            # 2. Atomic Number Difference\n",
    "        avg_atomic_radius,             # 3. Average Atomic Radius\n",
    "        avg_atomic_mass,               # 4. Average Atomic Mass\n",
    "        std_electronegativity,         # 5. Standard Deviation of Electronegativity\n",
    "        min_atomic_radius,             # 6. Minimum Atomic Radius\n",
    "        max_atomic_radius,             # 7. Maximum Atomic Radius\n",
    "        electronegativity_diff,        # 8. Electronegativity Difference\n",
    "        mean_valence_electron_count    # 9. Mean Valence Electron Count\n",
    "    ]\n",
    "\n",
    "    return feature_vector\n",
    "\n",
    "\n",
    "\n",
    "def get_properties(row, ref):\n",
    "\n",
    "    data = ast.literal_eval(row['structure'])\n",
    "    \n",
    "    lattice_data = data[0]['data']\n",
    "    \n",
    "    lat_a, lat_b, lat_c = lattice_data['a'], lattice_data['b'], lattice_data['c']\n",
    "    \n",
    "    volume = abs(np.dot(lat_a, np.cross(lat_b, lat_c))) * 1e30\n",
    "    e_f = ast.literal_eval(row['formation_energy'])['value']\n",
    "    \n",
    "    atoms_data = lattice_data['atoms']\n",
    "\n",
    "    # Create ASE Atoms object\n",
    "    atoms = Atoms(\n",
    "        symbols=[atom[\"element\"] for atom in atoms_data],\n",
    "        positions=[[atom[\"x\"], atom[\"y\"], atom[\"z\"]] for atom in atoms_data],\n",
    "        cell=[lat_a, lat_b, lat_c],\n",
    "        pbc=True\n",
    "    )\n",
    "\n",
    "    # print(atoms.get_positions())\n",
    "    atoms.set_cell(atoms.cell * 1e10)\n",
    "    atoms.set_positions(atoms.positions * 1e10)\n",
    "    # print(atoms.get_positions())\n",
    "\n",
    "    atoms.calc = calc\n",
    "    e_f_MLP = atoms.get_potential_energy()\n",
    "    chemical_symbols = list(set(atoms.get_chemical_symbols())) \n",
    "\n",
    "    element_counts = Counter(atoms.get_chemical_symbols())\n",
    "    for element in chemical_symbols:\n",
    "        # print(e_f_MLP)\n",
    "        e_f_MLP -= element_counts.get(element, 0) / ref[element][0] * ref[element][1]\n",
    "\n",
    "    sg = SpaceGroup(row['space_group']).int_number\n",
    "    \n",
    "    return (volume, len(lattice_data['atoms']), sg, e_f, e_f_MLP)"
   ]
  },
  {
   "cell_type": "code",
   "execution_count": 10,
   "metadata": {},
   "outputs": [],
   "source": [
    "# df = pd.read_csv('../Data/1_MatDX/MatDX_nomad_EF_Binary.csv')\n",
    "# df = df[:5000]\n",
    "df1 = pd.read_csv('../Data/1_MatDX/MatDX_nomad_EF_Binary.csv')\n",
    "df2 = pd.read_csv('../Data/1_MatDX/MatDX_nomad_EF_Ternary.csv')\n",
    "\n",
    "# Concatenate the DataFrames\n",
    "df = pd.concat([df1, df2], ignore_index=True)"
   ]
  },
  {
   "cell_type": "code",
   "execution_count": 11,
   "metadata": {},
   "outputs": [
    {
     "name": "stdout",
     "output_type": "stream",
     "text": [
      "Using Materials Project MACE for MACECalculator with /Users/kisungkang/.cache/mace/5yyxdm76\n",
      "Using float64 for MACECalculator, which is slower but more accurate. Recommended for geometry optimization.\n"
     ]
    },
    {
     "name": "stderr",
     "output_type": "stream",
     "text": [
      "Processing Rows:   2%|▏         | 378/20000 [01:01<1:05:21,  5.00it/s]"
     ]
    },
    {
     "name": "stdout",
     "output_type": "stream",
     "text": [
      "Error processing row 378: list indices must be integers or slices, not str\n",
      "Error processing row 379: list indices must be integers or slices, not str\n",
      "Error processing row 380: list indices must be integers or slices, not str\n",
      "Error processing row 381: list indices must be integers or slices, not str\n",
      "Error processing row 382: list indices must be integers or slices, not str\n",
      "Error processing row 383: list indices must be integers or slices, not str\n",
      "Error processing row 384: list indices must be integers or slices, not str\n",
      "Error processing row 385: list indices must be integers or slices, not str\n",
      "Error processing row 386: list indices must be integers or slices, not str\n",
      "Error processing row 387: list indices must be integers or slices, not str\n",
      "Error processing row 388: list indices must be integers or slices, not str\n",
      "Error processing row 389: list indices must be integers or slices, not str\n",
      "Error processing row 390: list indices must be integers or slices, not str\n",
      "Error processing row 391: list indices must be integers or slices, not str\n",
      "Error processing row 392: list indices must be integers or slices, not str\n",
      "Error processing row 393: list indices must be integers or slices, not str\n",
      "Error processing row 394: list indices must be integers or slices, not str\n",
      "Error processing row 395: list indices must be integers or slices, not str\n",
      "Error processing row 396: list indices must be integers or slices, not str\n",
      "Error processing row 397: list indices must be integers or slices, not str\n",
      "Error processing row 398: list indices must be integers or slices, not str\n",
      "Error processing row 399: list indices must be integers or slices, not str\n",
      "Error processing row 400: list indices must be integers or slices, not str\n",
      "Error processing row 401: list indices must be integers or slices, not str\n",
      "Error processing row 402: list indices must be integers or slices, not str\n",
      "Error processing row 403: list indices must be integers or slices, not str\n",
      "Error processing row 404: list indices must be integers or slices, not str\n",
      "Error processing row 405: list indices must be integers or slices, not str\n",
      "Error processing row 406: list indices must be integers or slices, not str\n",
      "Error processing row 407: list indices must be integers or slices, not str\n",
      "Error processing row 408: list indices must be integers or slices, not str\n",
      "Error processing row 409: list indices must be integers or slices, not str\n",
      "Error processing row 410: list indices must be integers or slices, not str\n",
      "Error processing row 411: list indices must be integers or slices, not str\n",
      "Error processing row 412: list indices must be integers or slices, not str\n",
      "Error processing row 413: list indices must be integers or slices, not str\n",
      "Error processing row 414: list indices must be integers or slices, not str\n",
      "Error processing row 415: list indices must be integers or slices, not str\n",
      "Error processing row 416: list indices must be integers or slices, not str\n",
      "Error processing row 417: list indices must be integers or slices, not str\n",
      "Error processing row 418: list indices must be integers or slices, not str\n",
      "Error processing row 419: list indices must be integers or slices, not str\n",
      "Error processing row 420: list indices must be integers or slices, not str\n",
      "Error processing row 421: list indices must be integers or slices, not str\n",
      "Error processing row 422: list indices must be integers or slices, not str\n",
      "Error processing row 423: list indices must be integers or slices, not str\n",
      "Error processing row 424: list indices must be integers or slices, not str\n",
      "Error processing row 425: list indices must be integers or slices, not str\n",
      "Error processing row 426: list indices must be integers or slices, not str\n",
      "Error processing row 427: list indices must be integers or slices, not str\n",
      "Error processing row 428: list indices must be integers or slices, not str\n",
      "Error processing row 429: list indices must be integers or slices, not str\n",
      "Error processing row 430: list indices must be integers or slices, not str\n",
      "Error processing row 431: list indices must be integers or slices, not str\n",
      "Error processing row 432: list indices must be integers or slices, not str\n",
      "Error processing row 433: list indices must be integers or slices, not str\n",
      "Error processing row 434: list indices must be integers or slices, not str\n",
      "Error processing row 435: list indices must be integers or slices, not str\n"
     ]
    },
    {
     "name": "stderr",
     "output_type": "stream",
     "text": [
      "Processing Rows:   2%|▏         | 437/20000 [01:01<05:50, 55.85it/s]  "
     ]
    },
    {
     "name": "stdout",
     "output_type": "stream",
     "text": [
      "Error processing row 438: list indices must be integers or slices, not str\n",
      "Error processing row 439: list indices must be integers or slices, not str\n",
      "Error processing row 440: list indices must be integers or slices, not str\n",
      "Error processing row 441: list indices must be integers or slices, not str\n",
      "Error processing row 442: list indices must be integers or slices, not str\n",
      "Error processing row 443: list indices must be integers or slices, not str\n",
      "Error processing row 444: list indices must be integers or slices, not str\n",
      "Error processing row 445: list indices must be integers or slices, not str\n",
      "Error processing row 446: list indices must be integers or slices, not str\n",
      "Error processing row 447: list indices must be integers or slices, not str\n",
      "Error processing row 448: list indices must be integers or slices, not str\n",
      "Error processing row 449: list indices must be integers or slices, not str\n",
      "Error processing row 450: list indices must be integers or slices, not str\n",
      "Error processing row 451: list indices must be integers or slices, not str\n",
      "Error processing row 452: list indices must be integers or slices, not str\n",
      "Error processing row 453: list indices must be integers or slices, not str\n",
      "Error processing row 454: list indices must be integers or slices, not str\n",
      "Error processing row 455: list indices must be integers or slices, not str\n",
      "Error processing row 456: list indices must be integers or slices, not str\n",
      "Error processing row 457: list indices must be integers or slices, not str\n",
      "Error processing row 458: list indices must be integers or slices, not str\n",
      "Error processing row 459: list indices must be integers or slices, not str\n",
      "Error processing row 460: list indices must be integers or slices, not str\n",
      "Error processing row 461: list indices must be integers or slices, not str\n",
      "Error processing row 462: list indices must be integers or slices, not str\n"
     ]
    },
    {
     "name": "stderr",
     "output_type": "stream",
     "text": [
      "Processing Rows:   2%|▏         | 479/20000 [01:02<06:02, 53.87it/s]"
     ]
    },
    {
     "name": "stdout",
     "output_type": "stream",
     "text": [
      "Error processing row 467: list indices must be integers or slices, not str\n",
      "Error processing row 468: list indices must be integers or slices, not str\n",
      "Error processing row 469: list indices must be integers or slices, not str\n",
      "Error processing row 470: list indices must be integers or slices, not str\n",
      "Error processing row 471: list indices must be integers or slices, not str\n",
      "Error processing row 475: list indices must be integers or slices, not str\n",
      "Error processing row 476: list indices must be integers or slices, not str\n",
      "Error processing row 477: list indices must be integers or slices, not str\n",
      "Error processing row 478: list indices must be integers or slices, not str\n",
      "Error processing row 479: list indices must be integers or slices, not str\n",
      "Error processing row 480: list indices must be integers or slices, not str\n"
     ]
    },
    {
     "name": "stderr",
     "output_type": "stream",
     "text": [
      "Processing Rows:   2%|▏         | 491/20000 [01:02<05:28, 59.38it/s]"
     ]
    },
    {
     "name": "stdout",
     "output_type": "stream",
     "text": [
      "Error processing row 482: list indices must be integers or slices, not str\n",
      "Error processing row 483: list indices must be integers or slices, not str\n",
      "Error processing row 484: list indices must be integers or slices, not str\n",
      "Error processing row 485: list indices must be integers or slices, not str\n",
      "Error processing row 486: list indices must be integers or slices, not str\n",
      "Error processing row 487: list indices must be integers or slices, not str\n",
      "Error processing row 488: list indices must be integers or slices, not str\n",
      "Error processing row 489: list indices must be integers or slices, not str\n",
      "Error processing row 492: list indices must be integers or slices, not str\n",
      "Error processing row 493: list indices must be integers or slices, not str\n",
      "Error processing row 494: list indices must be integers or slices, not str\n",
      "Error processing row 495: list indices must be integers or slices, not str\n",
      "Error processing row 496: list indices must be integers or slices, not str\n",
      "Error processing row 497: list indices must be integers or slices, not str\n",
      "Error processing row 498: list indices must be integers or slices, not str\n"
     ]
    },
    {
     "name": "stderr",
     "output_type": "stream",
     "text": [
      "Processing Rows:   3%|▎         | 509/20000 [01:03<14:22, 22.61it/s]"
     ]
    },
    {
     "name": "stdout",
     "output_type": "stream",
     "text": [
      "Error processing row 505: list indices must be integers or slices, not str\n",
      "Error processing row 506: list indices must be integers or slices, not str\n",
      "Error processing row 507: list indices must be integers or slices, not str\n"
     ]
    },
    {
     "name": "stderr",
     "output_type": "stream",
     "text": [
      "Processing Rows:   3%|▎         | 513/20000 [01:04<16:55, 19.19it/s]"
     ]
    },
    {
     "name": "stdout",
     "output_type": "stream",
     "text": [
      "Error processing row 512: list indices must be integers or slices, not str\n",
      "Error processing row 513: list indices must be integers or slices, not str\n",
      "Error processing row 514: list indices must be integers or slices, not str\n",
      "Error processing row 515: list indices must be integers or slices, not str\n",
      "Error processing row 516: list indices must be integers or slices, not str\n"
     ]
    },
    {
     "name": "stderr",
     "output_type": "stream",
     "text": [
      "Processing Rows:   3%|▎         | 527/20000 [01:05<24:39, 13.16it/s]"
     ]
    },
    {
     "name": "stdout",
     "output_type": "stream",
     "text": [
      "Error processing row 522: list indices must be integers or slices, not str\n",
      "Error processing row 523: list indices must be integers or slices, not str\n",
      "Error processing row 524: list indices must be integers or slices, not str\n",
      "Error processing row 525: list indices must be integers or slices, not str\n"
     ]
    },
    {
     "name": "stderr",
     "output_type": "stream",
     "text": [
      "Processing Rows:   3%|▎         | 536/20000 [01:06<30:18, 10.70it/s]"
     ]
    },
    {
     "name": "stdout",
     "output_type": "stream",
     "text": [
      "Error processing row 533: list indices must be integers or slices, not str\n",
      "Error processing row 534: list indices must be integers or slices, not str\n"
     ]
    },
    {
     "name": "stderr",
     "output_type": "stream",
     "text": [
      "Processing Rows:   3%|▎         | 545/20000 [01:06<20:12, 16.05it/s]"
     ]
    },
    {
     "name": "stdout",
     "output_type": "stream",
     "text": [
      "Error processing row 539: list indices must be integers or slices, not str\n",
      "Error processing row 540: list indices must be integers or slices, not str\n",
      "Error processing row 541: list indices must be integers or slices, not str\n",
      "Error processing row 542: list indices must be integers or slices, not str\n",
      "Error processing row 543: list indices must be integers or slices, not str\n"
     ]
    },
    {
     "name": "stderr",
     "output_type": "stream",
     "text": [
      "Processing Rows:   3%|▎         | 554/20000 [01:08<32:38,  9.93it/s]"
     ]
    },
    {
     "name": "stdout",
     "output_type": "stream",
     "text": [
      "Error processing row 552: list indices must be integers or slices, not str\n"
     ]
    },
    {
     "name": "stderr",
     "output_type": "stream",
     "text": [
      "Processing Rows:   3%|▎         | 563/20000 [01:08<25:01, 12.95it/s]"
     ]
    },
    {
     "name": "stdout",
     "output_type": "stream",
     "text": [
      "Error processing row 559: list indices must be integers or slices, not str\n",
      "Error processing row 560: list indices must be integers or slices, not str\n",
      "Error processing row 561: list indices must be integers or slices, not str\n"
     ]
    },
    {
     "name": "stderr",
     "output_type": "stream",
     "text": [
      "Processing Rows:   3%|▎         | 589/20000 [01:12<30:18, 10.67it/s]  "
     ]
    },
    {
     "name": "stdout",
     "output_type": "stream",
     "text": [
      "Error processing row 588: list indices must be integers or slices, not str\n"
     ]
    },
    {
     "name": "stderr",
     "output_type": "stream",
     "text": [
      "Processing Rows:   3%|▎         | 596/20000 [01:14<1:02:19,  5.19it/s]"
     ]
    },
    {
     "name": "stdout",
     "output_type": "stream",
     "text": [
      "Error processing row 597: list indices must be integers or slices, not str\n"
     ]
    },
    {
     "name": "stderr",
     "output_type": "stream",
     "text": [
      "Processing Rows:   3%|▎         | 605/20000 [01:16<1:00:12,  5.37it/s]"
     ]
    },
    {
     "name": "stdout",
     "output_type": "stream",
     "text": [
      "Error processing row 606: list indices must be integers or slices, not str\n"
     ]
    },
    {
     "name": "stderr",
     "output_type": "stream",
     "text": [
      "Processing Rows:   4%|▍         | 895/20000 [01:59<30:15, 10.53it/s]  "
     ]
    },
    {
     "name": "stdout",
     "output_type": "stream",
     "text": [
      "Error processing row 895: list indices must be integers or slices, not str\n",
      "Error processing row 896: list indices must be integers or slices, not str\n",
      "Error processing row 897: list indices must be integers or slices, not str\n",
      "Error processing row 898: list indices must be integers or slices, not str\n",
      "Error processing row 899: list indices must be integers or slices, not str\n",
      "Error processing row 900: list indices must be integers or slices, not str\n",
      "Error processing row 901: list indices must be integers or slices, not str\n",
      "Error processing row 902: list indices must be integers or slices, not str\n",
      "Error processing row 903: list indices must be integers or slices, not str\n",
      "Error processing row 904: list indices must be integers or slices, not str\n",
      "Error processing row 905: list indices must be integers or slices, not str\n",
      "Error processing row 906: list indices must be integers or slices, not str\n",
      "Error processing row 907: list indices must be integers or slices, not str\n",
      "Error processing row 908: list indices must be integers or slices, not str\n",
      "Error processing row 909: list indices must be integers or slices, not str\n",
      "Error processing row 910: list indices must be integers or slices, not str\n",
      "Error processing row 911: list indices must be integers or slices, not str\n",
      "Error processing row 912: list indices must be integers or slices, not str\n",
      "Error processing row 913: list indices must be integers or slices, not str\n",
      "Error processing row 914: list indices must be integers or slices, not str\n",
      "Error processing row 915: list indices must be integers or slices, not str\n",
      "Error processing row 916: list indices must be integers or slices, not str\n",
      "Error processing row 917: list indices must be integers or slices, not str\n",
      "Error processing row 918: list indices must be integers or slices, not str\n",
      "Error processing row 919: list indices must be integers or slices, not str\n",
      "Error processing row 920: list indices must be integers or slices, not str\n",
      "Error processing row 921: list indices must be integers or slices, not str\n",
      "Error processing row 922: list indices must be integers or slices, not str\n",
      "Error processing row 923: list indices must be integers or slices, not str\n",
      "Error processing row 924: list indices must be integers or slices, not str\n",
      "Error processing row 925: list indices must be integers or slices, not str\n",
      "Error processing row 926: list indices must be integers or slices, not str\n",
      "Error processing row 927: list indices must be integers or slices, not str\n",
      "Error processing row 928: list indices must be integers or slices, not str\n",
      "Error processing row 929: list indices must be integers or slices, not str\n",
      "Error processing row 930: list indices must be integers or slices, not str\n",
      "Error processing row 931: list indices must be integers or slices, not str\n",
      "Error processing row 932: list indices must be integers or slices, not str\n",
      "Error processing row 933: list indices must be integers or slices, not str\n",
      "Error processing row 934: list indices must be integers or slices, not str\n",
      "Error processing row 935: list indices must be integers or slices, not str\n",
      "Error processing row 936: list indices must be integers or slices, not str\n",
      "Error processing row 937: list indices must be integers or slices, not str\n",
      "Error processing row 938: list indices must be integers or slices, not str\n",
      "Error processing row 939: list indices must be integers or slices, not str\n",
      "Error processing row 940: list indices must be integers or slices, not str\n",
      "Error processing row 941: list indices must be integers or slices, not str\n",
      "Error processing row 942: list indices must be integers or slices, not str\n",
      "Error processing row 943: list indices must be integers or slices, not str\n",
      "Error processing row 944: list indices must be integers or slices, not str\n",
      "Error processing row 945: list indices must be integers or slices, not str\n",
      "Error processing row 946: list indices must be integers or slices, not str\n",
      "Error processing row 947: list indices must be integers or slices, not str\n",
      "Error processing row 948: list indices must be integers or slices, not str\n",
      "Error processing row 949: list indices must be integers or slices, not str\n",
      "Error processing row 950: list indices must be integers or slices, not str\n",
      "Error processing row 951: list indices must be integers or slices, not str\n",
      "Error processing row 952: list indices must be integers or slices, not str\n",
      "Error processing row 953: list indices must be integers or slices, not str\n",
      "Error processing row 954: list indices must be integers or slices, not str\n",
      "Error processing row 955: list indices must be integers or slices, not str\n",
      "Error processing row 956: list indices must be integers or slices, not str\n",
      "Error processing row 957: list indices must be integers or slices, not str\n",
      "Error processing row 958: list indices must be integers or slices, not str\n",
      "Error processing row 959: list indices must be integers or slices, not str\n",
      "Error processing row 960: list indices must be integers or slices, not str\n",
      "Error processing row 961: list indices must be integers or slices, not str\n",
      "Error processing row 962: list indices must be integers or slices, not str\n",
      "Error processing row 963: list indices must be integers or slices, not str\n",
      "Error processing row 964: list indices must be integers or slices, not str\n",
      "Error processing row 965: list indices must be integers or slices, not str\n"
     ]
    },
    {
     "name": "stderr",
     "output_type": "stream",
     "text": [
      "Processing Rows:   7%|▋         | 1448/20000 [03:09<27:41, 11.16it/s]  "
     ]
    },
    {
     "name": "stdout",
     "output_type": "stream",
     "text": [
      "Error processing row 1445: list indices must be integers or slices, not str\n"
     ]
    },
    {
     "name": "stderr",
     "output_type": "stream",
     "text": [
      "Processing Rows:   7%|▋         | 1473/20000 [03:12<29:30, 10.46it/s]"
     ]
    },
    {
     "name": "stdout",
     "output_type": "stream",
     "text": [
      "Error processing row 1472: list indices must be integers or slices, not str\n"
     ]
    },
    {
     "name": "stderr",
     "output_type": "stream",
     "text": [
      "Processing Rows:   7%|▋         | 1492/20000 [03:15<30:56,  9.97it/s]  "
     ]
    },
    {
     "name": "stdout",
     "output_type": "stream",
     "text": [
      "Error processing row 1490: list indices must be integers or slices, not str\n"
     ]
    },
    {
     "name": "stderr",
     "output_type": "stream",
     "text": [
      "Processing Rows:   9%|▉         | 1775/20000 [04:07<34:19,  8.85it/s]  "
     ]
    },
    {
     "name": "stdout",
     "output_type": "stream",
     "text": [
      "Error processing row 1776: list indices must be integers or slices, not str\n",
      "Error processing row 1777: list indices must be integers or slices, not str\n",
      "Error processing row 1778: list indices must be integers or slices, not str\n",
      "Error processing row 1779: list indices must be integers or slices, not str\n",
      "Error processing row 1780: list indices must be integers or slices, not str\n",
      "Error processing row 1781: list indices must be integers or slices, not str\n",
      "Error processing row 1782: list indices must be integers or slices, not str\n",
      "Error processing row 1783: list indices must be integers or slices, not str\n",
      "Error processing row 1784: list indices must be integers or slices, not str\n",
      "Error processing row 1785: list indices must be integers or slices, not str\n",
      "Error processing row 1786: list indices must be integers or slices, not str\n",
      "Error processing row 1787: list indices must be integers or slices, not str\n",
      "Error processing row 1788: list indices must be integers or slices, not str\n",
      "Error processing row 1789: list indices must be integers or slices, not str\n",
      "Error processing row 1790: list indices must be integers or slices, not str\n",
      "Error processing row 1791: list indices must be integers or slices, not str\n",
      "Error processing row 1792: list indices must be integers or slices, not str\n",
      "Error processing row 1793: list indices must be integers or slices, not str\n",
      "Error processing row 1794: list indices must be integers or slices, not str\n",
      "Error processing row 1795: list indices must be integers or slices, not str\n",
      "Error processing row 1796: list indices must be integers or slices, not str\n",
      "Error processing row 1797: list indices must be integers or slices, not str\n",
      "Error processing row 1798: list indices must be integers or slices, not str\n",
      "Error processing row 1799: list indices must be integers or slices, not str\n",
      "Error processing row 1800: list indices must be integers or slices, not str\n",
      "Error processing row 1801: list indices must be integers or slices, not str\n",
      "Error processing row 1802: list indices must be integers or slices, not str\n",
      "Error processing row 1803: list indices must be integers or slices, not str\n",
      "Error processing row 1804: list indices must be integers or slices, not str\n",
      "Error processing row 1805: list indices must be integers or slices, not str\n",
      "Error processing row 1806: list indices must be integers or slices, not str\n",
      "Error processing row 1807: list indices must be integers or slices, not str\n",
      "Error processing row 1808: list indices must be integers or slices, not str\n",
      "Error processing row 1809: list indices must be integers or slices, not str\n",
      "Error processing row 1810: list indices must be integers or slices, not str\n",
      "Error processing row 1811: list indices must be integers or slices, not str\n",
      "Error processing row 1812: list indices must be integers or slices, not str\n",
      "Error processing row 1813: list indices must be integers or slices, not str\n",
      "Error processing row 1814: list indices must be integers or slices, not str\n",
      "Error processing row 1815: list indices must be integers or slices, not str\n",
      "Error processing row 1816: list indices must be integers or slices, not str\n",
      "Error processing row 1817: list indices must be integers or slices, not str\n",
      "Error processing row 1818: list indices must be integers or slices, not str\n",
      "Error processing row 1819: list indices must be integers or slices, not str\n",
      "Error processing row 1820: list indices must be integers or slices, not str\n",
      "Error processing row 1821: list indices must be integers or slices, not str\n",
      "Error processing row 1822: list indices must be integers or slices, not str\n",
      "Error processing row 1823: list indices must be integers or slices, not str\n",
      "Error processing row 1824: list indices must be integers or slices, not str\n",
      "Error processing row 1825: list indices must be integers or slices, not str\n",
      "Error processing row 1826: list indices must be integers or slices, not str\n",
      "Error processing row 1827: list indices must be integers or slices, not str\n",
      "Error processing row 1828: list indices must be integers or slices, not str\n",
      "Error processing row 1829: list indices must be integers or slices, not str\n",
      "Error processing row 1830: list indices must be integers or slices, not str\n",
      "Error processing row 1831: list indices must be integers or slices, not str\n",
      "Error processing row 1832: list indices must be integers or slices, not str\n",
      "Error processing row 1833: list indices must be integers or slices, not str\n"
     ]
    },
    {
     "name": "stderr",
     "output_type": "stream",
     "text": [
      "Processing Rows:  11%|█         | 2200/20000 [05:04<25:02, 11.85it/s]  "
     ]
    },
    {
     "name": "stdout",
     "output_type": "stream",
     "text": [
      "Error processing row 2200: list indices must be integers or slices, not str\n",
      "Error processing row 2201: list indices must be integers or slices, not str\n",
      "Error processing row 2202: list indices must be integers or slices, not str\n",
      "Error processing row 2203: list indices must be integers or slices, not str\n",
      "Error processing row 2204: list indices must be integers or slices, not str\n",
      "Error processing row 2205: list indices must be integers or slices, not str\n",
      "Error processing row 2206: list indices must be integers or slices, not str\n",
      "Error processing row 2207: list indices must be integers or slices, not str\n",
      "Error processing row 2208: list indices must be integers or slices, not str\n"
     ]
    },
    {
     "name": "stderr",
     "output_type": "stream",
     "text": [
      "Processing Rows:  11%|█         | 2220/20000 [05:04<10:54, 27.17it/s]"
     ]
    },
    {
     "name": "stdout",
     "output_type": "stream",
     "text": [
      "Error processing row 2210: list indices must be integers or slices, not str\n",
      "Error processing row 2211: list indices must be integers or slices, not str\n",
      "Error processing row 2212: list indices must be integers or slices, not str\n",
      "Error processing row 2213: list indices must be integers or slices, not str\n",
      "Error processing row 2214: list indices must be integers or slices, not str\n",
      "Error processing row 2215: list indices must be integers or slices, not str\n",
      "Error processing row 2216: list indices must be integers or slices, not str\n",
      "Error processing row 2217: list indices must be integers or slices, not str\n",
      "Error processing row 2220: list indices must be integers or slices, not str\n",
      "Error processing row 2221: list indices must be integers or slices, not str\n",
      "Error processing row 2222: list indices must be integers or slices, not str\n",
      "Error processing row 2223: list indices must be integers or slices, not str\n",
      "Error processing row 2224: list indices must be integers or slices, not str\n",
      "Error processing row 2225: list indices must be integers or slices, not str\n",
      "Error processing row 2226: list indices must be integers or slices, not str\n"
     ]
    },
    {
     "name": "stderr",
     "output_type": "stream",
     "text": [
      "Processing Rows:  11%|█         | 2238/20000 [05:05<09:15, 31.95it/s]"
     ]
    },
    {
     "name": "stdout",
     "output_type": "stream",
     "text": [
      "Error processing row 2230: list indices must be integers or slices, not str\n",
      "Error processing row 2231: list indices must be integers or slices, not str\n",
      "Error processing row 2232: list indices must be integers or slices, not str\n",
      "Error processing row 2233: list indices must be integers or slices, not str\n",
      "Error processing row 2234: list indices must be integers or slices, not str\n",
      "Error processing row 2235: list indices must be integers or slices, not str\n",
      "Error processing row 2239: list indices must be integers or slices, not str\n",
      "Error processing row 2240: list indices must be integers or slices, not str\n",
      "Error processing row 2241: list indices must be integers or slices, not str\n",
      "Error processing row 2242: list indices must be integers or slices, not str\n",
      "Error processing row 2243: list indices must be integers or slices, not str\n",
      "Error processing row 2244: list indices must be integers or slices, not str\n"
     ]
    },
    {
     "name": "stderr",
     "output_type": "stream",
     "text": [
      "Processing Rows:  11%|█         | 2246/20000 [05:06<15:22, 19.25it/s]"
     ]
    },
    {
     "name": "stdout",
     "output_type": "stream",
     "text": [
      "Error processing row 2246: list indices must be integers or slices, not str\n",
      "Error processing row 2247: list indices must be integers or slices, not str\n",
      "Error processing row 2248: list indices must be integers or slices, not str\n",
      "Error processing row 2249: list indices must be integers or slices, not str\n",
      "Error processing row 2250: list indices must be integers or slices, not str\n",
      "Error processing row 2251: list indices must be integers or slices, not str\n",
      "Error processing row 2252: list indices must be integers or slices, not str\n",
      "Error processing row 2253: list indices must be integers or slices, not str\n"
     ]
    },
    {
     "name": "stderr",
     "output_type": "stream",
     "text": [
      "Processing Rows:  11%|█▏        | 2259/20000 [05:06<16:23, 18.04it/s]"
     ]
    },
    {
     "name": "stdout",
     "output_type": "stream",
     "text": [
      "Error processing row 2259: list indices must be integers or slices, not str\n",
      "Error processing row 2260: list indices must be integers or slices, not str\n",
      "Error processing row 2261: list indices must be integers or slices, not str\n",
      "Error processing row 2262: list indices must be integers or slices, not str\n"
     ]
    },
    {
     "name": "stderr",
     "output_type": "stream",
     "text": [
      "Processing Rows:  11%|█▏        | 2273/20000 [05:07<17:06, 17.27it/s]"
     ]
    },
    {
     "name": "stdout",
     "output_type": "stream",
     "text": [
      "Error processing row 2268: list indices must be integers or slices, not str\n",
      "Error processing row 2269: list indices must be integers or slices, not str\n",
      "Error processing row 2270: list indices must be integers or slices, not str\n",
      "Error processing row 2271: list indices must be integers or slices, not str\n"
     ]
    },
    {
     "name": "stderr",
     "output_type": "stream",
     "text": [
      "Processing Rows:  11%|█▏        | 2275/20000 [05:07<18:46, 15.73it/s]"
     ]
    },
    {
     "name": "stdout",
     "output_type": "stream",
     "text": [
      "Error processing row 2276: list indices must be integers or slices, not str\n",
      "Error processing row 2277: list indices must be integers or slices, not str\n",
      "Error processing row 2278: list indices must be integers or slices, not str\n",
      "Error processing row 2279: list indices must be integers or slices, not str\n",
      "Error processing row 2280: list indices must be integers or slices, not str\n"
     ]
    },
    {
     "name": "stderr",
     "output_type": "stream",
     "text": [
      "Processing Rows:  11%|█▏        | 2288/20000 [05:08<22:22, 13.19it/s]"
     ]
    },
    {
     "name": "stdout",
     "output_type": "stream",
     "text": [
      "Error processing row 2288: list indices must be integers or slices, not str\n",
      "Error processing row 2289: list indices must be integers or slices, not str\n"
     ]
    },
    {
     "name": "stderr",
     "output_type": "stream",
     "text": [
      "Processing Rows:  12%|█▏        | 2306/20000 [05:11<32:17,  9.13it/s]"
     ]
    },
    {
     "name": "stdout",
     "output_type": "stream",
     "text": [
      "Error processing row 2306: list indices must be integers or slices, not str\n",
      "Error processing row 2307: list indices must be integers or slices, not str\n"
     ]
    },
    {
     "name": "stderr",
     "output_type": "stream",
     "text": [
      "Processing Rows:  12%|█▏        | 2324/20000 [05:13<45:22,  6.49it/s]"
     ]
    },
    {
     "name": "stdout",
     "output_type": "stream",
     "text": [
      "Error processing row 2324: list indices must be integers or slices, not str\n",
      "Error processing row 2325: list indices must be integers or slices, not str\n"
     ]
    },
    {
     "name": "stderr",
     "output_type": "stream",
     "text": [
      "Processing Rows:  14%|█▎        | 2725/20000 [06:07<02:08, 134.48it/s] "
     ]
    },
    {
     "name": "stdout",
     "output_type": "stream",
     "text": [
      "Error processing row 2652: list indices must be integers or slices, not str\n",
      "Error processing row 2653: list indices must be integers or slices, not str\n",
      "Error processing row 2654: list indices must be integers or slices, not str\n",
      "Error processing row 2655: list indices must be integers or slices, not str\n",
      "Error processing row 2656: list indices must be integers or slices, not str\n",
      "Error processing row 2657: list indices must be integers or slices, not str\n",
      "Error processing row 2658: list indices must be integers or slices, not str\n",
      "Error processing row 2659: list indices must be integers or slices, not str\n",
      "Error processing row 2660: list indices must be integers or slices, not str\n",
      "Error processing row 2661: list indices must be integers or slices, not str\n",
      "Error processing row 2662: list indices must be integers or slices, not str\n",
      "Error processing row 2663: list indices must be integers or slices, not str\n",
      "Error processing row 2664: list indices must be integers or slices, not str\n",
      "Error processing row 2665: list indices must be integers or slices, not str\n",
      "Error processing row 2666: list indices must be integers or slices, not str\n",
      "Error processing row 2667: list indices must be integers or slices, not str\n",
      "Error processing row 2668: list indices must be integers or slices, not str\n",
      "Error processing row 2669: list indices must be integers or slices, not str\n",
      "Error processing row 2670: list indices must be integers or slices, not str\n",
      "Error processing row 2671: list indices must be integers or slices, not str\n",
      "Error processing row 2672: list indices must be integers or slices, not str\n",
      "Error processing row 2673: list indices must be integers or slices, not str\n",
      "Error processing row 2674: list indices must be integers or slices, not str\n",
      "Error processing row 2675: list indices must be integers or slices, not str\n",
      "Error processing row 2676: list indices must be integers or slices, not str\n",
      "Error processing row 2677: list indices must be integers or slices, not str\n",
      "Error processing row 2678: list indices must be integers or slices, not str\n",
      "Error processing row 2679: list indices must be integers or slices, not str\n",
      "Error processing row 2680: list indices must be integers or slices, not str\n",
      "Error processing row 2681: list indices must be integers or slices, not str\n",
      "Error processing row 2682: list indices must be integers or slices, not str\n",
      "Error processing row 2683: list indices must be integers or slices, not str\n",
      "Error processing row 2684: list indices must be integers or slices, not str\n",
      "Error processing row 2685: list indices must be integers or slices, not str\n",
      "Error processing row 2686: list indices must be integers or slices, not str\n",
      "Error processing row 2687: list indices must be integers or slices, not str\n",
      "Error processing row 2688: list indices must be integers or slices, not str\n",
      "Error processing row 2689: list indices must be integers or slices, not str\n",
      "Error processing row 2690: list indices must be integers or slices, not str\n",
      "Error processing row 2691: list indices must be integers or slices, not str\n",
      "Error processing row 2692: list indices must be integers or slices, not str\n",
      "Error processing row 2693: list indices must be integers or slices, not str\n",
      "Error processing row 2694: list indices must be integers or slices, not str\n",
      "Error processing row 2695: list indices must be integers or slices, not str\n",
      "Error processing row 2696: list indices must be integers or slices, not str\n",
      "Error processing row 2697: list indices must be integers or slices, not str\n",
      "Error processing row 2698: list indices must be integers or slices, not str\n",
      "Error processing row 2699: list indices must be integers or slices, not str\n",
      "Error processing row 2700: list indices must be integers or slices, not str\n",
      "Error processing row 2701: list indices must be integers or slices, not str\n",
      "Error processing row 2702: list indices must be integers or slices, not str\n",
      "Error processing row 2703: list indices must be integers or slices, not str\n",
      "Error processing row 2704: list indices must be integers or slices, not str\n",
      "Error processing row 2705: list indices must be integers or slices, not str\n",
      "Error processing row 2706: list indices must be integers or slices, not str\n",
      "Error processing row 2707: list indices must be integers or slices, not str\n",
      "Error processing row 2708: list indices must be integers or slices, not str\n",
      "Error processing row 2709: list indices must be integers or slices, not str\n",
      "Error processing row 2710: list indices must be integers or slices, not str\n",
      "Error processing row 2711: list indices must be integers or slices, not str\n",
      "Error processing row 2712: list indices must be integers or slices, not str\n",
      "Error processing row 2713: list indices must be integers or slices, not str\n",
      "Error processing row 2714: list indices must be integers or slices, not str\n",
      "Error processing row 2715: list indices must be integers or slices, not str\n",
      "Error processing row 2716: list indices must be integers or slices, not str\n",
      "Error processing row 2717: list indices must be integers or slices, not str\n",
      "Error processing row 2718: list indices must be integers or slices, not str\n",
      "Error processing row 2719: list indices must be integers or slices, not str\n",
      "Error processing row 2720: list indices must be integers or slices, not str\n",
      "Error processing row 2721: list indices must be integers or slices, not str\n",
      "Error processing row 2722: list indices must be integers or slices, not str\n",
      "Error processing row 2723: list indices must be integers or slices, not str\n"
     ]
    },
    {
     "name": "stderr",
     "output_type": "stream",
     "text": [
      "Processing Rows:  19%|█▉        | 3758/20000 [08:49<43:58,  6.15it/s]  "
     ]
    },
    {
     "name": "stdout",
     "output_type": "stream",
     "text": [
      "Error processing row 3758: list indices must be integers or slices, not str\n",
      "Error processing row 3759: list indices must be integers or slices, not str\n",
      "Error processing row 3760: list indices must be integers or slices, not str\n",
      "Error processing row 3761: list indices must be integers or slices, not str\n",
      "Error processing row 3762: list indices must be integers or slices, not str\n",
      "Error processing row 3763: list indices must be integers or slices, not str\n",
      "Error processing row 3764: list indices must be integers or slices, not str\n",
      "Error processing row 3765: list indices must be integers or slices, not str\n",
      "Error processing row 3766: list indices must be integers or slices, not str\n",
      "Error processing row 3767: list indices must be integers or slices, not str\n",
      "Error processing row 3768: list indices must be integers or slices, not str\n",
      "Error processing row 3769: list indices must be integers or slices, not str\n"
     ]
    },
    {
     "name": "stderr",
     "output_type": "stream",
     "text": [
      "Processing Rows:  20%|█▉        | 3978/20000 [09:14<02:31, 105.50it/s] "
     ]
    },
    {
     "name": "stdout",
     "output_type": "stream",
     "text": [
      "Error processing row 3926: list indices must be integers or slices, not str\n",
      "Error processing row 3927: list indices must be integers or slices, not str\n",
      "Error processing row 3928: list indices must be integers or slices, not str\n",
      "Error processing row 3929: list indices must be integers or slices, not str\n",
      "Error processing row 3930: list indices must be integers or slices, not str\n",
      "Error processing row 3931: list indices must be integers or slices, not str\n",
      "Error processing row 3932: list indices must be integers or slices, not str\n",
      "Error processing row 3933: list indices must be integers or slices, not str\n",
      "Error processing row 3934: list indices must be integers or slices, not str\n",
      "Error processing row 3935: list indices must be integers or slices, not str\n",
      "Error processing row 3936: list indices must be integers or slices, not str\n",
      "Error processing row 3937: list indices must be integers or slices, not str\n",
      "Error processing row 3938: list indices must be integers or slices, not str\n",
      "Error processing row 3939: list indices must be integers or slices, not str\n",
      "Error processing row 3940: list indices must be integers or slices, not str\n",
      "Error processing row 3941: list indices must be integers or slices, not str\n",
      "Error processing row 3942: list indices must be integers or slices, not str\n",
      "Error processing row 3943: list indices must be integers or slices, not str\n",
      "Error processing row 3944: list indices must be integers or slices, not str\n",
      "Error processing row 3945: list indices must be integers or slices, not str\n",
      "Error processing row 3946: list indices must be integers or slices, not str\n",
      "Error processing row 3947: list indices must be integers or slices, not str\n",
      "Error processing row 3948: list indices must be integers or slices, not str\n",
      "Error processing row 3949: list indices must be integers or slices, not str\n",
      "Error processing row 3950: list indices must be integers or slices, not str\n",
      "Error processing row 3951: list indices must be integers or slices, not str\n",
      "Error processing row 3952: list indices must be integers or slices, not str\n",
      "Error processing row 3953: list indices must be integers or slices, not str\n",
      "Error processing row 3954: list indices must be integers or slices, not str\n",
      "Error processing row 3955: list indices must be integers or slices, not str\n",
      "Error processing row 3956: list indices must be integers or slices, not str\n",
      "Error processing row 3957: list indices must be integers or slices, not str\n",
      "Error processing row 3958: list indices must be integers or slices, not str\n",
      "Error processing row 3959: list indices must be integers or slices, not str\n",
      "Error processing row 3960: list indices must be integers or slices, not str\n",
      "Error processing row 3961: list indices must be integers or slices, not str\n",
      "Error processing row 3962: list indices must be integers or slices, not str\n",
      "Error processing row 3963: list indices must be integers or slices, not str\n",
      "Error processing row 3964: list indices must be integers or slices, not str\n",
      "Error processing row 3965: list indices must be integers or slices, not str\n",
      "Error processing row 3966: list indices must be integers or slices, not str\n",
      "Error processing row 3967: list indices must be integers or slices, not str\n",
      "Error processing row 3968: list indices must be integers or slices, not str\n",
      "Error processing row 3969: list indices must be integers or slices, not str\n",
      "Error processing row 3970: list indices must be integers or slices, not str\n",
      "Error processing row 3971: list indices must be integers or slices, not str\n",
      "Error processing row 3972: list indices must be integers or slices, not str\n",
      "Error processing row 3973: list indices must be integers or slices, not str\n",
      "Error processing row 3974: list indices must be integers or slices, not str\n",
      "Error processing row 3975: list indices must be integers or slices, not str\n",
      "Error processing row 3976: list indices must be integers or slices, not str\n",
      "Error processing row 3984: list indices must be integers or slices, not str\n"
     ]
    },
    {
     "name": "stderr",
     "output_type": "stream",
     "text": [
      "Processing Rows:  20%|██        | 4030/20000 [09:23<35:29,  7.50it/s] "
     ]
    },
    {
     "name": "stdout",
     "output_type": "stream",
     "text": [
      "Error processing row 4028: list indices must be integers or slices, not str\n"
     ]
    },
    {
     "name": "stderr",
     "output_type": "stream",
     "text": [
      "Processing Rows:  20%|██        | 4050/20000 [09:27<43:04,  6.17it/s]  "
     ]
    },
    {
     "name": "stdout",
     "output_type": "stream",
     "text": [
      "Error processing row 4050: list indices must be integers or slices, not str\n"
     ]
    },
    {
     "name": "stderr",
     "output_type": "stream",
     "text": [
      "Processing Rows:  21%|██▏       | 4259/20000 [10:01<23:19, 11.25it/s]  "
     ]
    },
    {
     "name": "stdout",
     "output_type": "stream",
     "text": [
      "Error processing row 4257: list indices must be integers or slices, not str\n"
     ]
    },
    {
     "name": "stderr",
     "output_type": "stream",
     "text": [
      "Processing Rows:  23%|██▎       | 4644/20000 [11:17<49:42,  5.15it/s]  "
     ]
    },
    {
     "name": "stdout",
     "output_type": "stream",
     "text": [
      "Error processing row 4644: list indices must be integers or slices, not str\n",
      "Error processing row 4645: list indices must be integers or slices, not str\n",
      "Error processing row 4646: list indices must be integers or slices, not str\n",
      "Error processing row 4647: list indices must be integers or slices, not str\n",
      "Error processing row 4648: list indices must be integers or slices, not str\n",
      "Error processing row 4649: list indices must be integers or slices, not str\n",
      "Error processing row 4650: list indices must be integers or slices, not str\n",
      "Error processing row 4651: list indices must be integers or slices, not str\n",
      "Error processing row 4652: list indices must be integers or slices, not str\n",
      "Error processing row 4653: list indices must be integers or slices, not str\n",
      "Error processing row 4654: list indices must be integers or slices, not str\n",
      "Error processing row 4655: list indices must be integers or slices, not str\n",
      "Error processing row 4656: list indices must be integers or slices, not str\n",
      "Error processing row 4657: list indices must be integers or slices, not str\n",
      "Error processing row 4658: list indices must be integers or slices, not str\n",
      "Error processing row 4659: list indices must be integers or slices, not str\n",
      "Error processing row 4660: list indices must be integers or slices, not str\n",
      "Error processing row 4661: list indices must be integers or slices, not str\n",
      "Error processing row 4662: list indices must be integers or slices, not str\n",
      "Error processing row 4663: list indices must be integers or slices, not str\n",
      "Error processing row 4664: list indices must be integers or slices, not str\n",
      "Error processing row 4665: list indices must be integers or slices, not str\n",
      "Error processing row 4666: list indices must be integers or slices, not str\n",
      "Error processing row 4667: list indices must be integers or slices, not str\n",
      "Error processing row 4668: list indices must be integers or slices, not str\n",
      "Error processing row 4669: list indices must be integers or slices, not str\n",
      "Error processing row 4670: list indices must be integers or slices, not str\n",
      "Error processing row 4671: list indices must be integers or slices, not str\n",
      "Error processing row 4672: list indices must be integers or slices, not str\n",
      "Error processing row 4673: list indices must be integers or slices, not str\n",
      "Error processing row 4674: list indices must be integers or slices, not str\n",
      "Error processing row 4675: list indices must be integers or slices, not str\n",
      "Error processing row 4676: list indices must be integers or slices, not str\n",
      "Error processing row 4677: list indices must be integers or slices, not str\n",
      "Error processing row 4678: list indices must be integers or slices, not str\n",
      "Error processing row 4679: list indices must be integers or slices, not str\n",
      "Error processing row 4680: list indices must be integers or slices, not str\n",
      "Error processing row 4681: list indices must be integers or slices, not str\n",
      "Error processing row 4682: list indices must be integers or slices, not str\n",
      "Error processing row 4683: list indices must be integers or slices, not str\n",
      "Error processing row 4684: list indices must be integers or slices, not str\n",
      "Error processing row 4685: list indices must be integers or slices, not str\n",
      "Error processing row 4686: list indices must be integers or slices, not str\n",
      "Error processing row 4687: list indices must be integers or slices, not str\n",
      "Error processing row 4688: list indices must be integers or slices, not str\n",
      "Error processing row 4689: list indices must be integers or slices, not str\n",
      "Error processing row 4690: list indices must be integers or slices, not str\n",
      "Error processing row 4691: list indices must be integers or slices, not str\n",
      "Error processing row 4692: list indices must be integers or slices, not str\n",
      "Error processing row 4693: list indices must be integers or slices, not str\n",
      "Error processing row 4694: list indices must be integers or slices, not str\n",
      "Error processing row 4695: list indices must be integers or slices, not str\n",
      "Error processing row 4696: list indices must be integers or slices, not str\n",
      "Error processing row 4697: list indices must be integers or slices, not str\n",
      "Error processing row 4698: list indices must be integers or slices, not str\n"
     ]
    },
    {
     "name": "stderr",
     "output_type": "stream",
     "text": [
      "Processing Rows:  24%|██▎       | 4706/20000 [11:17<05:20, 47.65it/s]"
     ]
    },
    {
     "name": "stdout",
     "output_type": "stream",
     "text": [
      "Error processing row 4703: list indices must be integers or slices, not str\n",
      "Error processing row 4704: list indices must be integers or slices, not str\n",
      "Error processing row 4705: list indices must be integers or slices, not str\n",
      "Error processing row 4706: list indices must be integers or slices, not str\n",
      "Error processing row 4707: list indices must be integers or slices, not str\n"
     ]
    },
    {
     "name": "stderr",
     "output_type": "stream",
     "text": [
      "Processing Rows:  32%|███▏      | 6349/20000 [16:01<35:53,  6.34it/s]  "
     ]
    },
    {
     "name": "stdout",
     "output_type": "stream",
     "text": [
      "Error processing row 6349: list indices must be integers or slices, not str\n",
      "Error processing row 6350: list indices must be integers or slices, not str\n",
      "Error processing row 6351: list indices must be integers or slices, not str\n",
      "Error processing row 6352: list indices must be integers or slices, not str\n",
      "Error processing row 6353: list indices must be integers or slices, not str\n",
      "Error processing row 6354: list indices must be integers or slices, not str\n",
      "Error processing row 6355: list indices must be integers or slices, not str\n"
     ]
    },
    {
     "name": "stderr",
     "output_type": "stream",
     "text": [
      "Processing Rows:  32%|███▏      | 6357/20000 [16:01<18:58, 11.98it/s]"
     ]
    },
    {
     "name": "stdout",
     "output_type": "stream",
     "text": [
      "Error processing row 6357: list indices must be integers or slices, not str\n",
      "Error processing row 6358: list indices must be integers or slices, not str\n",
      "Error processing row 6359: list indices must be integers or slices, not str\n",
      "Error processing row 6360: list indices must be integers or slices, not str\n",
      "Error processing row 6361: list indices must be integers or slices, not str\n",
      "Error processing row 6362: list indices must be integers or slices, not str\n",
      "Error processing row 6363: list indices must be integers or slices, not str\n",
      "Error processing row 6364: list indices must be integers or slices, not str\n",
      "Error processing row 6365: list indices must be integers or slices, not str\n"
     ]
    },
    {
     "name": "stderr",
     "output_type": "stream",
     "text": [
      "Processing Rows:  32%|███▏      | 6376/20000 [16:02<10:23, 21.85it/s]"
     ]
    },
    {
     "name": "stdout",
     "output_type": "stream",
     "text": [
      "Error processing row 6368: list indices must be integers or slices, not str\n",
      "Error processing row 6369: list indices must be integers or slices, not str\n",
      "Error processing row 6370: list indices must be integers or slices, not str\n",
      "Error processing row 6371: list indices must be integers or slices, not str\n",
      "Error processing row 6372: list indices must be integers or slices, not str\n",
      "Error processing row 6373: list indices must be integers or slices, not str\n",
      "Error processing row 6374: list indices must be integers or slices, not str\n"
     ]
    },
    {
     "name": "stderr",
     "output_type": "stream",
     "text": [
      "Processing Rows:  32%|███▏      | 6379/20000 [16:02<10:54, 20.80it/s]"
     ]
    },
    {
     "name": "stdout",
     "output_type": "stream",
     "text": [
      "Error processing row 6378: list indices must be integers or slices, not str\n",
      "Error processing row 6379: list indices must be integers or slices, not str\n",
      "Error processing row 6380: list indices must be integers or slices, not str\n",
      "Error processing row 6381: list indices must be integers or slices, not str\n",
      "Error processing row 6382: list indices must be integers or slices, not str\n",
      "Error processing row 6383: list indices must be integers or slices, not str\n"
     ]
    },
    {
     "name": "stderr",
     "output_type": "stream",
     "text": [
      "Processing Rows:  32%|███▏      | 6388/20000 [16:03<13:10, 17.21it/s]"
     ]
    },
    {
     "name": "stdout",
     "output_type": "stream",
     "text": [
      "Error processing row 6387: list indices must be integers or slices, not str\n",
      "Error processing row 6388: list indices must be integers or slices, not str\n",
      "Error processing row 6389: list indices must be integers or slices, not str\n",
      "Error processing row 6390: list indices must be integers or slices, not str\n",
      "Error processing row 6391: list indices must be integers or slices, not str\n",
      "Error processing row 6392: list indices must be integers or slices, not str\n"
     ]
    },
    {
     "name": "stderr",
     "output_type": "stream",
     "text": [
      "Processing Rows:  32%|███▏      | 6404/20000 [16:03<09:47, 23.13it/s]"
     ]
    },
    {
     "name": "stdout",
     "output_type": "stream",
     "text": [
      "Error processing row 6397: list indices must be integers or slices, not str\n",
      "Error processing row 6398: list indices must be integers or slices, not str\n",
      "Error processing row 6399: list indices must be integers or slices, not str\n",
      "Error processing row 6400: list indices must be integers or slices, not str\n",
      "Error processing row 6401: list indices must be integers or slices, not str\n"
     ]
    },
    {
     "name": "stderr",
     "output_type": "stream",
     "text": [
      "Processing Rows:  32%|███▏      | 6407/20000 [16:04<15:38, 14.49it/s]"
     ]
    },
    {
     "name": "stdout",
     "output_type": "stream",
     "text": [
      "Error processing row 6405: list indices must be integers or slices, not str\n",
      "Error processing row 6406: list indices must be integers or slices, not str\n",
      "Error processing row 6407: list indices must be integers or slices, not str\n",
      "Error processing row 6408: list indices must be integers or slices, not str\n",
      "Error processing row 6409: list indices must be integers or slices, not str\n",
      "Error processing row 6410: list indices must be integers or slices, not str\n"
     ]
    },
    {
     "name": "stderr",
     "output_type": "stream",
     "text": [
      "Processing Rows:  32%|███▏      | 6421/20000 [16:05<15:55, 14.22it/s]"
     ]
    },
    {
     "name": "stdout",
     "output_type": "stream",
     "text": [
      "Error processing row 6417: list indices must be integers or slices, not str\n",
      "Error processing row 6418: list indices must be integers or slices, not str\n",
      "Error processing row 6419: list indices must be integers or slices, not str\n"
     ]
    },
    {
     "name": "stderr",
     "output_type": "stream",
     "text": [
      "Processing Rows:  32%|███▏      | 6430/20000 [16:05<14:53, 15.19it/s]"
     ]
    },
    {
     "name": "stdout",
     "output_type": "stream",
     "text": [
      "Error processing row 6426: list indices must be integers or slices, not str\n",
      "Error processing row 6427: list indices must be integers or slices, not str\n",
      "Error processing row 6428: list indices must be integers or slices, not str\n"
     ]
    },
    {
     "name": "stderr",
     "output_type": "stream",
     "text": [
      "Processing Rows:  32%|███▏      | 6436/20000 [16:06<20:55, 10.81it/s]"
     ]
    },
    {
     "name": "stdout",
     "output_type": "stream",
     "text": [
      "Error processing row 6437: list indices must be integers or slices, not str\n"
     ]
    },
    {
     "name": "stderr",
     "output_type": "stream",
     "text": [
      "Processing Rows:  32%|███▏      | 6446/20000 [16:08<41:18,  5.47it/s]"
     ]
    },
    {
     "name": "stdout",
     "output_type": "stream",
     "text": [
      "Error processing row 6446: list indices must be integers or slices, not str\n"
     ]
    },
    {
     "name": "stderr",
     "output_type": "stream",
     "text": [
      "Processing Rows:  32%|███▏      | 6454/20000 [16:09<41:48,  5.40it/s]"
     ]
    },
    {
     "name": "stdout",
     "output_type": "stream",
     "text": [
      "Error processing row 6454: list indices must be integers or slices, not str\n",
      "Error processing row 6455: list indices must be integers or slices, not str\n"
     ]
    },
    {
     "name": "stderr",
     "output_type": "stream",
     "text": [
      "Processing Rows:  32%|███▏      | 6462/20000 [16:10<26:28,  8.52it/s]"
     ]
    },
    {
     "name": "stdout",
     "output_type": "stream",
     "text": [
      "Error processing row 6463: list indices must be integers or slices, not str\n",
      "Error processing row 6464: list indices must be integers or slices, not str\n"
     ]
    },
    {
     "name": "stderr",
     "output_type": "stream",
     "text": [
      "Processing Rows:  35%|███▍      | 6904/20000 [17:42<1:10:56,  3.08it/s]"
     ]
    },
    {
     "name": "stdout",
     "output_type": "stream",
     "text": [
      "Error processing row 6904: list indices must be integers or slices, not str\n",
      "Error processing row 6905: list indices must be integers or slices, not str\n",
      "Error processing row 6906: list indices must be integers or slices, not str\n",
      "Error processing row 6907: list indices must be integers or slices, not str\n",
      "Error processing row 6908: list indices must be integers or slices, not str\n",
      "Error processing row 6909: list indices must be integers or slices, not str\n",
      "Error processing row 6910: list indices must be integers or slices, not str\n",
      "Error processing row 6911: list indices must be integers or slices, not str\n",
      "Error processing row 6912: list indices must be integers or slices, not str\n",
      "Error processing row 6913: list indices must be integers or slices, not str\n",
      "Error processing row 6914: list indices must be integers or slices, not str\n",
      "Error processing row 6915: list indices must be integers or slices, not str\n",
      "Error processing row 6916: list indices must be integers or slices, not str\n",
      "Error processing row 6917: list indices must be integers or slices, not str\n",
      "Error processing row 6918: list indices must be integers or slices, not str\n",
      "Error processing row 6919: list indices must be integers or slices, not str\n",
      "Error processing row 6920: list indices must be integers or slices, not str\n",
      "Error processing row 6921: list indices must be integers or slices, not str\n",
      "Error processing row 6922: list indices must be integers or slices, not str\n",
      "Error processing row 6923: list indices must be integers or slices, not str\n",
      "Error processing row 6924: list indices must be integers or slices, not str\n",
      "Error processing row 6925: list indices must be integers or slices, not str\n",
      "Error processing row 6926: list indices must be integers or slices, not str\n",
      "Error processing row 6927: list indices must be integers or slices, not str\n",
      "Error processing row 6928: list indices must be integers or slices, not str\n",
      "Error processing row 6929: list indices must be integers or slices, not str\n",
      "Error processing row 6930: list indices must be integers or slices, not str\n",
      "Error processing row 6931: list indices must be integers or slices, not str\n",
      "Error processing row 6932: list indices must be integers or slices, not str\n",
      "Error processing row 6933: list indices must be integers or slices, not str\n",
      "Error processing row 6934: list indices must be integers or slices, not str\n",
      "Error processing row 6935: list indices must be integers or slices, not str\n",
      "Error processing row 6936: list indices must be integers or slices, not str\n",
      "Error processing row 6937: list indices must be integers or slices, not str\n",
      "Error processing row 6938: list indices must be integers or slices, not str\n",
      "Error processing row 6939: list indices must be integers or slices, not str\n",
      "Error processing row 6940: list indices must be integers or slices, not str\n",
      "Error processing row 6941: list indices must be integers or slices, not str\n",
      "Error processing row 6942: list indices must be integers or slices, not str\n",
      "Error processing row 6943: list indices must be integers or slices, not str\n",
      "Error processing row 6944: list indices must be integers or slices, not str\n",
      "Error processing row 6945: list indices must be integers or slices, not str\n",
      "Error processing row 6946: list indices must be integers or slices, not str\n",
      "Error processing row 6947: list indices must be integers or slices, not str\n",
      "Error processing row 6948: list indices must be integers or slices, not str\n",
      "Error processing row 6949: list indices must be integers or slices, not str\n",
      "Error processing row 6950: list indices must be integers or slices, not str\n",
      "Error processing row 6951: list indices must be integers or slices, not str\n",
      "Error processing row 6952: list indices must be integers or slices, not str\n",
      "Error processing row 6953: list indices must be integers or slices, not str\n",
      "Error processing row 6954: list indices must be integers or slices, not str\n",
      "Error processing row 6955: list indices must be integers or slices, not str\n",
      "Error processing row 6956: list indices must be integers or slices, not str\n",
      "Error processing row 6957: list indices must be integers or slices, not str\n",
      "Error processing row 6958: list indices must be integers or slices, not str\n",
      "Error processing row 6959: list indices must be integers or slices, not str\n",
      "Error processing row 6960: list indices must be integers or slices, not str\n",
      "Error processing row 6961: list indices must be integers or slices, not str\n",
      "Error processing row 6962: list indices must be integers or slices, not str\n",
      "Error processing row 6963: list indices must be integers or slices, not str\n",
      "Error processing row 6964: list indices must be integers or slices, not str\n",
      "Error processing row 6965: list indices must be integers or slices, not str\n",
      "Error processing row 6966: list indices must be integers or slices, not str\n",
      "Error processing row 6967: list indices must be integers or slices, not str\n",
      "Error processing row 6968: list indices must be integers or slices, not str\n"
     ]
    },
    {
     "name": "stderr",
     "output_type": "stream",
     "text": [
      "Processing Rows:  35%|███▌      | 7042/20000 [17:58<10:00, 21.57it/s]  "
     ]
    },
    {
     "name": "stdout",
     "output_type": "stream",
     "text": [
      "Error processing row 7032: list indices must be integers or slices, not str\n",
      "Error processing row 7033: list indices must be integers or slices, not str\n",
      "Error processing row 7034: list indices must be integers or slices, not str\n",
      "Error processing row 7035: list indices must be integers or slices, not str\n",
      "Error processing row 7036: list indices must be integers or slices, not str\n",
      "Error processing row 7037: list indices must be integers or slices, not str\n",
      "Error processing row 7038: list indices must be integers or slices, not str\n",
      "Error processing row 7039: list indices must be integers or slices, not str\n",
      "Error processing row 7040: list indices must be integers or slices, not str\n"
     ]
    },
    {
     "name": "stderr",
     "output_type": "stream",
     "text": [
      "Processing Rows:  35%|███▌      | 7045/20000 [17:58<13:49, 15.61it/s]"
     ]
    },
    {
     "name": "stdout",
     "output_type": "stream",
     "text": [
      "Error processing row 7045: list indices must be integers or slices, not str\n",
      "Error processing row 7046: list indices must be integers or slices, not str\n",
      "Error processing row 7047: list indices must be integers or slices, not str\n",
      "Error processing row 7048: list indices must be integers or slices, not str\n",
      "Error processing row 7049: list indices must be integers or slices, not str\n"
     ]
    },
    {
     "name": "stderr",
     "output_type": "stream",
     "text": [
      "Processing Rows:  35%|███▌      | 7057/20000 [17:59<20:32, 10.50it/s]"
     ]
    },
    {
     "name": "stdout",
     "output_type": "stream",
     "text": [
      "Error processing row 7057: list indices must be integers or slices, not str\n",
      "Error processing row 7058: list indices must be integers or slices, not str\n"
     ]
    },
    {
     "name": "stderr",
     "output_type": "stream",
     "text": [
      "Processing Rows:  36%|███▌      | 7120/20000 [18:13<49:48,  4.31it/s]  "
     ]
    },
    {
     "name": "stdout",
     "output_type": "stream",
     "text": [
      "Error processing row 7120: list indices must be integers or slices, not str\n",
      "Error processing row 7121: list indices must be integers or slices, not str\n",
      "Error processing row 7122: list indices must be integers or slices, not str\n"
     ]
    },
    {
     "name": "stderr",
     "output_type": "stream",
     "text": [
      "Processing Rows:  36%|███▌      | 7226/20000 [18:31<40:41,  5.23it/s]  "
     ]
    },
    {
     "name": "stdout",
     "output_type": "stream",
     "text": [
      "Error processing row 7227: list indices must be integers or slices, not str\n",
      "Error processing row 7228: list indices must be integers or slices, not str\n"
     ]
    },
    {
     "name": "stderr",
     "output_type": "stream",
     "text": [
      "Processing Rows:  36%|███▌      | 7233/20000 [18:32<26:26,  8.05it/s]"
     ]
    },
    {
     "name": "stdout",
     "output_type": "stream",
     "text": [
      "Error processing row 7233: list indices must be integers or slices, not str\n",
      "Error processing row 7234: list indices must be integers or slices, not str\n",
      "Error processing row 7235: list indices must be integers or slices, not str\n",
      "Error processing row 7236: list indices must be integers or slices, not str\n",
      "Error processing row 7237: list indices must be integers or slices, not str\n"
     ]
    },
    {
     "name": "stderr",
     "output_type": "stream",
     "text": [
      "Processing Rows:  37%|███▋      | 7342/20000 [18:50<51:34,  4.09it/s]"
     ]
    },
    {
     "name": "stdout",
     "output_type": "stream",
     "text": [
      "Error processing row 7342: list indices must be integers or slices, not str\n",
      "Error processing row 7343: list indices must be integers or slices, not str\n",
      "Error processing row 7344: list indices must be integers or slices, not str\n",
      "Error processing row 7345: list indices must be integers or slices, not str\n",
      "Error processing row 7346: list indices must be integers or slices, not str\n",
      "Error processing row 7347: list indices must be integers or slices, not str\n",
      "Error processing row 7348: list indices must be integers or slices, not str\n",
      "Error processing row 7349: list indices must be integers or slices, not str\n",
      "Error processing row 7350: list indices must be integers or slices, not str\n",
      "Error processing row 7351: list indices must be integers or slices, not str\n",
      "Error processing row 7352: list indices must be integers or slices, not str\n",
      "Error processing row 7353: list indices must be integers or slices, not str\n",
      "Error processing row 7354: list indices must be integers or slices, not str\n",
      "Error processing row 7355: list indices must be integers or slices, not str\n",
      "Error processing row 7356: list indices must be integers or slices, not str\n",
      "Error processing row 7357: list indices must be integers or slices, not str\n",
      "Error processing row 7358: list indices must be integers or slices, not str\n",
      "Error processing row 7359: list indices must be integers or slices, not str\n",
      "Error processing row 7360: list indices must be integers or slices, not str\n",
      "Error processing row 7361: list indices must be integers or slices, not str\n",
      "Error processing row 7362: list indices must be integers or slices, not str\n",
      "Error processing row 7363: list indices must be integers or slices, not str\n",
      "Error processing row 7364: list indices must be integers or slices, not str\n",
      "Error processing row 7365: list indices must be integers or slices, not str\n",
      "Error processing row 7366: list indices must be integers or slices, not str\n",
      "Error processing row 7367: list indices must be integers or slices, not str\n",
      "Error processing row 7368: list indices must be integers or slices, not str\n",
      "Error processing row 7369: list indices must be integers or slices, not str\n",
      "Error processing row 7370: list indices must be integers or slices, not str\n",
      "Error processing row 7371: list indices must be integers or slices, not str\n",
      "Error processing row 7372: list indices must be integers or slices, not str\n",
      "Error processing row 7373: list indices must be integers or slices, not str\n",
      "Error processing row 7374: list indices must be integers or slices, not str\n",
      "Error processing row 7375: list indices must be integers or slices, not str\n",
      "Error processing row 7376: list indices must be integers or slices, not str\n",
      "Error processing row 7377: list indices must be integers or slices, not str\n",
      "Error processing row 7378: list indices must be integers or slices, not str\n",
      "Error processing row 7379: list indices must be integers or slices, not str\n",
      "Error processing row 7380: list indices must be integers or slices, not str\n",
      "Error processing row 7381: list indices must be integers or slices, not str\n",
      "Error processing row 7382: list indices must be integers or slices, not str\n",
      "Error processing row 7383: list indices must be integers or slices, not str\n"
     ]
    },
    {
     "name": "stderr",
     "output_type": "stream",
     "text": [
      "Processing Rows:  37%|███▋      | 7392/20000 [18:51<07:46, 27.05it/s]"
     ]
    },
    {
     "name": "stdout",
     "output_type": "stream",
     "text": [
      "Error processing row 7391: list indices must be integers or slices, not str\n",
      "Error processing row 7392: list indices must be integers or slices, not str\n"
     ]
    },
    {
     "name": "stderr",
     "output_type": "stream",
     "text": [
      "Processing Rows:  39%|███▉      | 7791/20000 [19:54<51:54,  3.92it/s]  "
     ]
    },
    {
     "name": "stdout",
     "output_type": "stream",
     "text": [
      "Error processing row 7791: list indices must be integers or slices, not str\n",
      "Error processing row 7792: list indices must be integers or slices, not str\n",
      "Error processing row 7793: list indices must be integers or slices, not str\n",
      "Error processing row 7794: list indices must be integers or slices, not str\n",
      "Error processing row 7795: list indices must be integers or slices, not str\n",
      "Error processing row 7796: list indices must be integers or slices, not str\n",
      "Error processing row 7797: list indices must be integers or slices, not str\n",
      "Error processing row 7798: list indices must be integers or slices, not str\n",
      "Error processing row 7799: list indices must be integers or slices, not str\n",
      "Error processing row 7800: list indices must be integers or slices, not str\n",
      "Error processing row 7801: list indices must be integers or slices, not str\n",
      "Error processing row 7802: list indices must be integers or slices, not str\n",
      "Error processing row 7803: list indices must be integers or slices, not str\n",
      "Error processing row 7804: list indices must be integers or slices, not str\n",
      "Error processing row 7805: list indices must be integers or slices, not str\n",
      "Error processing row 7806: list indices must be integers or slices, not str\n",
      "Error processing row 7807: list indices must be integers or slices, not str\n",
      "Error processing row 7808: list indices must be integers or slices, not str\n",
      "Error processing row 7809: list indices must be integers or slices, not str\n",
      "Error processing row 7810: list indices must be integers or slices, not str\n",
      "Error processing row 7811: list indices must be integers or slices, not str\n",
      "Error processing row 7812: list indices must be integers or slices, not str\n",
      "Error processing row 7813: list indices must be integers or slices, not str\n",
      "Error processing row 7814: list indices must be integers or slices, not str\n",
      "Error processing row 7815: list indices must be integers or slices, not str\n",
      "Error processing row 7816: list indices must be integers or slices, not str\n",
      "Error processing row 7817: list indices must be integers or slices, not str\n",
      "Error processing row 7818: list indices must be integers or slices, not str\n",
      "Error processing row 7819: list indices must be integers or slices, not str\n",
      "Error processing row 7820: list indices must be integers or slices, not str\n",
      "Error processing row 7821: list indices must be integers or slices, not str\n",
      "Error processing row 7822: list indices must be integers or slices, not str\n",
      "Error processing row 7823: list indices must be integers or slices, not str\n",
      "Error processing row 7824: list indices must be integers or slices, not str\n",
      "Error processing row 7825: list indices must be integers or slices, not str\n",
      "Error processing row 7826: list indices must be integers or slices, not str\n",
      "Error processing row 7827: list indices must be integers or slices, not str\n",
      "Error processing row 7828: list indices must be integers or slices, not str\n",
      "Error processing row 7829: list indices must be integers or slices, not str\n",
      "Error processing row 7830: list indices must be integers or slices, not str\n",
      "Error processing row 7831: list indices must be integers or slices, not str\n",
      "Error processing row 7832: list indices must be integers or slices, not str\n",
      "Error processing row 7833: list indices must be integers or slices, not str\n",
      "Error processing row 7834: list indices must be integers or slices, not str\n",
      "Error processing row 7835: list indices must be integers or slices, not str\n",
      "Error processing row 7836: list indices must be integers or slices, not str\n",
      "Error processing row 7837: list indices must be integers or slices, not str\n",
      "Error processing row 7838: list indices must be integers or slices, not str\n",
      "Error processing row 7839: list indices must be integers or slices, not str\n",
      "Error processing row 7840: list indices must be integers or slices, not str\n",
      "Error processing row 7841: list indices must be integers or slices, not str\n",
      "Error processing row 7842: list indices must be integers or slices, not str\n",
      "Error processing row 7843: list indices must be integers or slices, not str\n",
      "Error processing row 7844: list indices must be integers or slices, not str\n",
      "Error processing row 7845: list indices must be integers or slices, not str\n",
      "Error processing row 7846: list indices must be integers or slices, not str\n",
      "Error processing row 7847: list indices must be integers or slices, not str\n",
      "Error processing row 7848: list indices must be integers or slices, not str\n"
     ]
    },
    {
     "name": "stderr",
     "output_type": "stream",
     "text": [
      "Processing Rows:  40%|████      | 8006/20000 [20:22<12:26, 16.06it/s]  "
     ]
    },
    {
     "name": "stdout",
     "output_type": "stream",
     "text": [
      "Error processing row 8000: list indices must be integers or slices, not str\n",
      "Error processing row 8001: list indices must be integers or slices, not str\n",
      "Error processing row 8002: list indices must be integers or slices, not str\n",
      "Error processing row 8003: list indices must be integers or slices, not str\n",
      "Error processing row 8004: list indices must be integers or slices, not str\n"
     ]
    },
    {
     "name": "stderr",
     "output_type": "stream",
     "text": [
      "Processing Rows:  40%|████      | 8027/20000 [20:25<34:41,  5.75it/s]"
     ]
    },
    {
     "name": "stdout",
     "output_type": "stream",
     "text": [
      "Error processing row 8028: list indices must be integers or slices, not str\n",
      "Error processing row 8029: list indices must be integers or slices, not str\n",
      "Error processing row 8030: list indices must be integers or slices, not str\n",
      "Error processing row 8031: list indices must be integers or slices, not str\n"
     ]
    },
    {
     "name": "stderr",
     "output_type": "stream",
     "text": [
      "Processing Rows:  40%|████      | 8060/20000 [20:28<13:54, 14.31it/s]"
     ]
    },
    {
     "name": "stdout",
     "output_type": "stream",
     "text": [
      "Error processing row 8054: list indices must be integers or slices, not str\n",
      "Error processing row 8055: list indices must be integers or slices, not str\n",
      "Error processing row 8056: list indices must be integers or slices, not str\n",
      "Error processing row 8057: list indices must be integers or slices, not str\n",
      "Error processing row 8058: list indices must be integers or slices, not str\n"
     ]
    },
    {
     "name": "stderr",
     "output_type": "stream",
     "text": [
      "Processing Rows:  40%|████      | 8085/20000 [20:33<40:29,  4.91it/s]"
     ]
    },
    {
     "name": "stdout",
     "output_type": "stream",
     "text": [
      "Error processing row 8085: list indices must be integers or slices, not str\n"
     ]
    },
    {
     "name": "stderr",
     "output_type": "stream",
     "text": [
      "Processing Rows:  41%|████      | 8112/20000 [20:36<08:16, 23.94it/s]"
     ]
    },
    {
     "name": "stdout",
     "output_type": "stream",
     "text": [
      "Error processing row 8101: list indices must be integers or slices, not str\n",
      "Error processing row 8102: list indices must be integers or slices, not str\n",
      "Error processing row 8103: list indices must be integers or slices, not str\n",
      "Error processing row 8104: list indices must be integers or slices, not str\n",
      "Error processing row 8105: list indices must be integers or slices, not str\n",
      "Error processing row 8106: list indices must be integers or slices, not str\n",
      "Error processing row 8107: list indices must be integers or slices, not str\n",
      "Error processing row 8108: list indices must be integers or slices, not str\n",
      "Error processing row 8109: list indices must be integers or slices, not str\n",
      "Error processing row 8110: list indices must be integers or slices, not str\n",
      "Error processing row 8112: list indices must be integers or slices, not str\n",
      "Error processing row 8113: list indices must be integers or slices, not str\n",
      "Error processing row 8114: list indices must be integers or slices, not str\n",
      "Error processing row 8115: list indices must be integers or slices, not str\n",
      "Error processing row 8116: list indices must be integers or slices, not str\n",
      "Error processing row 8117: list indices must be integers or slices, not str\n",
      "Error processing row 8118: list indices must be integers or slices, not str\n",
      "Error processing row 8119: list indices must be integers or slices, not str\n"
     ]
    },
    {
     "name": "stderr",
     "output_type": "stream",
     "text": [
      "Processing Rows:  41%|████      | 8139/20000 [20:36<03:30, 56.31it/s]"
     ]
    },
    {
     "name": "stdout",
     "output_type": "stream",
     "text": [
      "Error processing row 8121: list indices must be integers or slices, not str\n",
      "Error processing row 8122: list indices must be integers or slices, not str\n",
      "Error processing row 8123: list indices must be integers or slices, not str\n",
      "Error processing row 8124: list indices must be integers or slices, not str\n",
      "Error processing row 8125: list indices must be integers or slices, not str\n",
      "Error processing row 8126: list indices must be integers or slices, not str\n",
      "Error processing row 8127: list indices must be integers or slices, not str\n",
      "Error processing row 8128: list indices must be integers or slices, not str\n",
      "Error processing row 8129: list indices must be integers or slices, not str\n",
      "Error processing row 8130: list indices must be integers or slices, not str\n",
      "Error processing row 8131: list indices must be integers or slices, not str\n",
      "Error processing row 8132: list indices must be integers or slices, not str\n",
      "Error processing row 8133: list indices must be integers or slices, not str\n",
      "Error processing row 8134: list indices must be integers or slices, not str\n",
      "Error processing row 8135: list indices must be integers or slices, not str\n",
      "Error processing row 8136: list indices must be integers or slices, not str\n",
      "Error processing row 8137: list indices must be integers or slices, not str\n"
     ]
    },
    {
     "name": "stderr",
     "output_type": "stream",
     "text": [
      "Processing Rows:  41%|████      | 8146/20000 [20:36<04:17, 45.99it/s]"
     ]
    },
    {
     "name": "stdout",
     "output_type": "stream",
     "text": [
      "Error processing row 8141: list indices must be integers or slices, not str\n",
      "Error processing row 8142: list indices must be integers or slices, not str\n",
      "Error processing row 8143: list indices must be integers or slices, not str\n",
      "Error processing row 8144: list indices must be integers or slices, not str\n",
      "Error processing row 8145: list indices must be integers or slices, not str\n",
      "Error processing row 8146: list indices must be integers or slices, not str\n"
     ]
    },
    {
     "name": "stderr",
     "output_type": "stream",
     "text": [
      "Processing Rows:  41%|████      | 8152/20000 [20:37<07:46, 25.40it/s]"
     ]
    },
    {
     "name": "stdout",
     "output_type": "stream",
     "text": [
      "Error processing row 8152: list indices must be integers or slices, not str\n",
      "Error processing row 8153: list indices must be integers or slices, not str\n",
      "Error processing row 8154: list indices must be integers or slices, not str\n",
      "Error processing row 8155: list indices must be integers or slices, not str\n"
     ]
    },
    {
     "name": "stderr",
     "output_type": "stream",
     "text": [
      "Processing Rows:  41%|████      | 8160/20000 [20:38<17:32, 11.25it/s]"
     ]
    },
    {
     "name": "stdout",
     "output_type": "stream",
     "text": [
      "Error processing row 8160: list indices must be integers or slices, not str\n",
      "Error processing row 8161: list indices must be integers or slices, not str\n",
      "Error processing row 8162: list indices must be integers or slices, not str\n",
      "Error processing row 8163: list indices must be integers or slices, not str\n",
      "Error processing row 8164: list indices must be integers or slices, not str\n"
     ]
    },
    {
     "name": "stderr",
     "output_type": "stream",
     "text": [
      "Processing Rows:  41%|████      | 8171/20000 [20:39<16:58, 11.61it/s]"
     ]
    },
    {
     "name": "stdout",
     "output_type": "stream",
     "text": [
      "Error processing row 8170: list indices must be integers or slices, not str\n",
      "Error processing row 8171: list indices must be integers or slices, not str\n",
      "Error processing row 8172: list indices must be integers or slices, not str\n",
      "Error processing row 8173: list indices must be integers or slices, not str\n"
     ]
    },
    {
     "name": "stderr",
     "output_type": "stream",
     "text": [
      "Processing Rows:  41%|████      | 8179/20000 [20:41<28:57,  6.80it/s]"
     ]
    },
    {
     "name": "stdout",
     "output_type": "stream",
     "text": [
      "Error processing row 8179: list indices must be integers or slices, not str\n",
      "Error processing row 8180: list indices must be integers or slices, not str\n",
      "Error processing row 8181: list indices must be integers or slices, not str\n",
      "Error processing row 8182: list indices must be integers or slices, not str\n"
     ]
    },
    {
     "name": "stderr",
     "output_type": "stream",
     "text": [
      "Processing Rows:  41%|████      | 8191/20000 [20:42<23:36,  8.34it/s]"
     ]
    },
    {
     "name": "stdout",
     "output_type": "stream",
     "text": [
      "Error processing row 8191: list indices must be integers or slices, not str\n"
     ]
    },
    {
     "name": "stderr",
     "output_type": "stream",
     "text": [
      "Processing Rows:  41%|████      | 8197/20000 [20:43<26:30,  7.42it/s]"
     ]
    },
    {
     "name": "stdout",
     "output_type": "stream",
     "text": [
      "Error processing row 8198: list indices must be integers or slices, not str\n",
      "Error processing row 8199: list indices must be integers or slices, not str\n",
      "Error processing row 8200: list indices must be integers or slices, not str\n"
     ]
    },
    {
     "name": "stderr",
     "output_type": "stream",
     "text": [
      "Processing Rows:  43%|████▎     | 8651/20000 [22:10<43:29,  4.35it/s]  "
     ]
    },
    {
     "name": "stdout",
     "output_type": "stream",
     "text": [
      "Error processing row 8651: list indices must be integers or slices, not str\n",
      "Error processing row 8652: list indices must be integers or slices, not str\n",
      "Error processing row 8653: list indices must be integers or slices, not str\n",
      "Error processing row 8654: list indices must be integers or slices, not str\n",
      "Error processing row 8655: list indices must be integers or slices, not str\n",
      "Error processing row 8656: list indices must be integers or slices, not str\n",
      "Error processing row 8657: list indices must be integers or slices, not str\n",
      "Error processing row 8658: list indices must be integers or slices, not str\n",
      "Error processing row 8659: list indices must be integers or slices, not str\n",
      "Error processing row 8660: list indices must be integers or slices, not str\n",
      "Error processing row 8661: list indices must be integers or slices, not str\n",
      "Error processing row 8662: list indices must be integers or slices, not str\n",
      "Error processing row 8663: list indices must be integers or slices, not str\n",
      "Error processing row 8664: list indices must be integers or slices, not str\n",
      "Error processing row 8665: list indices must be integers or slices, not str\n",
      "Error processing row 8666: list indices must be integers or slices, not str\n",
      "Error processing row 8667: list indices must be integers or slices, not str\n",
      "Error processing row 8668: list indices must be integers or slices, not str\n",
      "Error processing row 8669: list indices must be integers or slices, not str\n",
      "Error processing row 8670: list indices must be integers or slices, not str\n",
      "Error processing row 8671: list indices must be integers or slices, not str\n",
      "Error processing row 8672: list indices must be integers or slices, not str\n",
      "Error processing row 8673: list indices must be integers or slices, not str\n",
      "Error processing row 8674: list indices must be integers or slices, not str\n",
      "Error processing row 8675: list indices must be integers or slices, not str\n",
      "Error processing row 8676: list indices must be integers or slices, not str\n",
      "Error processing row 8677: list indices must be integers or slices, not str\n",
      "Error processing row 8678: list indices must be integers or slices, not str\n",
      "Error processing row 8679: list indices must be integers or slices, not str\n",
      "Error processing row 8680: list indices must be integers or slices, not str\n",
      "Error processing row 8681: list indices must be integers or slices, not str\n",
      "Error processing row 8682: list indices must be integers or slices, not str\n",
      "Error processing row 8683: list indices must be integers or slices, not str\n",
      "Error processing row 8684: list indices must be integers or slices, not str\n",
      "Error processing row 8685: list indices must be integers or slices, not str\n",
      "Error processing row 8686: list indices must be integers or slices, not str\n",
      "Error processing row 8687: list indices must be integers or slices, not str\n",
      "Error processing row 8688: list indices must be integers or slices, not str\n",
      "Error processing row 8689: list indices must be integers or slices, not str\n",
      "Error processing row 8690: list indices must be integers or slices, not str\n",
      "Error processing row 8691: list indices must be integers or slices, not str\n",
      "Error processing row 8692: list indices must be integers or slices, not str\n",
      "Error processing row 8693: list indices must be integers or slices, not str\n",
      "Error processing row 8694: list indices must be integers or slices, not str\n",
      "Error processing row 8695: list indices must be integers or slices, not str\n",
      "Error processing row 8696: list indices must be integers or slices, not str\n",
      "Error processing row 8697: list indices must be integers or slices, not str\n",
      "Error processing row 8698: list indices must be integers or slices, not str\n",
      "Error processing row 8699: list indices must be integers or slices, not str\n",
      "Error processing row 8700: list indices must be integers or slices, not str\n",
      "Error processing row 8701: list indices must be integers or slices, not str\n",
      "Error processing row 8702: list indices must be integers or slices, not str\n",
      "Error processing row 8703: list indices must be integers or slices, not str\n",
      "Error processing row 8704: list indices must be integers or slices, not str\n",
      "Error processing row 8705: list indices must be integers or slices, not str\n",
      "Error processing row 8706: list indices must be integers or slices, not str\n",
      "Error processing row 8707: list indices must be integers or slices, not str\n",
      "Error processing row 8708: list indices must be integers or slices, not str\n",
      "Error processing row 8709: list indices must be integers or slices, not str\n",
      "Error processing row 8710: list indices must be integers or slices, not str\n",
      "Error processing row 8711: list indices must be integers or slices, not str\n",
      "Error processing row 8712: list indices must be integers or slices, not str\n",
      "Error processing row 8713: list indices must be integers or slices, not str\n"
     ]
    },
    {
     "name": "stderr",
     "output_type": "stream",
     "text": [
      "Processing Rows:  44%|████▍     | 8796/20000 [22:24<38:22,  4.87it/s]  "
     ]
    },
    {
     "name": "stdout",
     "output_type": "stream",
     "text": [
      "Error processing row 8796: list indices must be integers or slices, not str\n",
      "Error processing row 8797: list indices must be integers or slices, not str\n",
      "Error processing row 8798: list indices must be integers or slices, not str\n",
      "Error processing row 8799: list indices must be integers or slices, not str\n"
     ]
    },
    {
     "name": "stderr",
     "output_type": "stream",
     "text": [
      "Processing Rows:  51%|█████▏    | 10263/20000 [26:30<01:34, 102.86it/s]"
     ]
    },
    {
     "name": "stdout",
     "output_type": "stream",
     "text": [
      "Error processing row 10190: list indices must be integers or slices, not str\n",
      "Error processing row 10191: list indices must be integers or slices, not str\n",
      "Error processing row 10192: list indices must be integers or slices, not str\n",
      "Error processing row 10193: list indices must be integers or slices, not str\n",
      "Error processing row 10194: list indices must be integers or slices, not str\n",
      "Error processing row 10195: list indices must be integers or slices, not str\n",
      "Error processing row 10196: list indices must be integers or slices, not str\n",
      "Error processing row 10197: list indices must be integers or slices, not str\n",
      "Error processing row 10198: list indices must be integers or slices, not str\n",
      "Error processing row 10199: list indices must be integers or slices, not str\n",
      "Error processing row 10200: list indices must be integers or slices, not str\n",
      "Error processing row 10201: list indices must be integers or slices, not str\n",
      "Error processing row 10202: list indices must be integers or slices, not str\n",
      "Error processing row 10203: list indices must be integers or slices, not str\n",
      "Error processing row 10204: list indices must be integers or slices, not str\n",
      "Error processing row 10205: list indices must be integers or slices, not str\n",
      "Error processing row 10206: list indices must be integers or slices, not str\n",
      "Error processing row 10207: list indices must be integers or slices, not str\n",
      "Error processing row 10208: list indices must be integers or slices, not str\n",
      "Error processing row 10209: list indices must be integers or slices, not str\n",
      "Error processing row 10210: list indices must be integers or slices, not str\n",
      "Error processing row 10211: list indices must be integers or slices, not str\n",
      "Error processing row 10212: list indices must be integers or slices, not str\n",
      "Error processing row 10213: list indices must be integers or slices, not str\n",
      "Error processing row 10214: list indices must be integers or slices, not str\n",
      "Error processing row 10215: list indices must be integers or slices, not str\n",
      "Error processing row 10216: list indices must be integers or slices, not str\n",
      "Error processing row 10217: list indices must be integers or slices, not str\n",
      "Error processing row 10218: list indices must be integers or slices, not str\n",
      "Error processing row 10219: list indices must be integers or slices, not str\n",
      "Error processing row 10220: list indices must be integers or slices, not str\n",
      "Error processing row 10221: list indices must be integers or slices, not str\n",
      "Error processing row 10222: list indices must be integers or slices, not str\n",
      "Error processing row 10223: list indices must be integers or slices, not str\n",
      "Error processing row 10224: list indices must be integers or slices, not str\n",
      "Error processing row 10225: list indices must be integers or slices, not str\n",
      "Error processing row 10226: list indices must be integers or slices, not str\n",
      "Error processing row 10227: list indices must be integers or slices, not str\n",
      "Error processing row 10228: list indices must be integers or slices, not str\n",
      "Error processing row 10229: list indices must be integers or slices, not str\n",
      "Error processing row 10230: list indices must be integers or slices, not str\n",
      "Error processing row 10231: list indices must be integers or slices, not str\n",
      "Error processing row 10232: list indices must be integers or slices, not str\n",
      "Error processing row 10233: list indices must be integers or slices, not str\n",
      "Error processing row 10234: list indices must be integers or slices, not str\n",
      "Error processing row 10235: list indices must be integers or slices, not str\n",
      "Error processing row 10236: list indices must be integers or slices, not str\n",
      "Error processing row 10237: list indices must be integers or slices, not str\n",
      "Error processing row 10238: list indices must be integers or slices, not str\n",
      "Error processing row 10239: list indices must be integers or slices, not str\n",
      "Error processing row 10240: list indices must be integers or slices, not str\n",
      "Error processing row 10241: list indices must be integers or slices, not str\n",
      "Error processing row 10242: list indices must be integers or slices, not str\n",
      "Error processing row 10243: list indices must be integers or slices, not str\n",
      "Error processing row 10244: list indices must be integers or slices, not str\n",
      "Error processing row 10245: list indices must be integers or slices, not str\n",
      "Error processing row 10246: list indices must be integers or slices, not str\n",
      "Error processing row 10247: list indices must be integers or slices, not str\n",
      "Error processing row 10248: list indices must be integers or slices, not str\n",
      "Error processing row 10249: list indices must be integers or slices, not str\n",
      "Error processing row 10250: list indices must be integers or slices, not str\n",
      "Error processing row 10251: list indices must be integers or slices, not str\n",
      "Error processing row 10252: list indices must be integers or slices, not str\n",
      "Error processing row 10253: list indices must be integers or slices, not str\n",
      "Error processing row 10254: list indices must be integers or slices, not str\n",
      "Error processing row 10255: list indices must be integers or slices, not str\n",
      "Error processing row 10256: list indices must be integers or slices, not str\n",
      "Error processing row 10257: list indices must be integers or slices, not str\n",
      "Error processing row 10258: list indices must be integers or slices, not str\n",
      "Error processing row 10259: list indices must be integers or slices, not str\n",
      "Error processing row 10260: list indices must be integers or slices, not str\n",
      "Error processing row 10261: list indices must be integers or slices, not str\n"
     ]
    },
    {
     "name": "stderr",
     "output_type": "stream",
     "text": [
      "Processing Rows:  52%|█████▏    | 10317/20000 [26:33<05:58, 26.99it/s] "
     ]
    },
    {
     "name": "stdout",
     "output_type": "stream",
     "text": [
      "Error processing row 10289: list indices must be integers or slices, not str\n",
      "Error processing row 10290: list indices must be integers or slices, not str\n",
      "Error processing row 10291: list indices must be integers or slices, not str\n",
      "Error processing row 10292: list indices must be integers or slices, not str\n",
      "Error processing row 10293: list indices must be integers or slices, not str\n",
      "Error processing row 10294: list indices must be integers or slices, not str\n",
      "Error processing row 10295: list indices must be integers or slices, not str\n",
      "Error processing row 10296: list indices must be integers or slices, not str\n",
      "Error processing row 10297: list indices must be integers or slices, not str\n",
      "Error processing row 10298: list indices must be integers or slices, not str\n",
      "Error processing row 10299: list indices must be integers or slices, not str\n",
      "Error processing row 10300: list indices must be integers or slices, not str\n",
      "Error processing row 10301: list indices must be integers or slices, not str\n",
      "Error processing row 10302: list indices must be integers or slices, not str\n",
      "Error processing row 10303: list indices must be integers or slices, not str\n",
      "Error processing row 10304: list indices must be integers or slices, not str\n",
      "Error processing row 10305: list indices must be integers or slices, not str\n",
      "Error processing row 10306: list indices must be integers or slices, not str\n",
      "Error processing row 10307: list indices must be integers or slices, not str\n",
      "Error processing row 10308: list indices must be integers or slices, not str\n",
      "Error processing row 10309: list indices must be integers or slices, not str\n",
      "Error processing row 10310: list indices must be integers or slices, not str\n",
      "Error processing row 10311: list indices must be integers or slices, not str\n",
      "Error processing row 10312: list indices must be integers or slices, not str\n",
      "Error processing row 10313: list indices must be integers or slices, not str\n",
      "Error processing row 10314: list indices must be integers or slices, not str\n",
      "Error processing row 10315: list indices must be integers or slices, not str\n"
     ]
    },
    {
     "name": "stderr",
     "output_type": "stream",
     "text": [
      "Processing Rows:  53%|█████▎    | 10575/20000 [27:00<01:00, 154.58it/s]"
     ]
    },
    {
     "name": "stdout",
     "output_type": "stream",
     "text": [
      "Error processing row 10506: list indices must be integers or slices, not str\n",
      "Error processing row 10507: list indices must be integers or slices, not str\n",
      "Error processing row 10508: list indices must be integers or slices, not str\n",
      "Error processing row 10509: list indices must be integers or slices, not str\n",
      "Error processing row 10510: list indices must be integers or slices, not str\n",
      "Error processing row 10511: list indices must be integers or slices, not str\n",
      "Error processing row 10512: list indices must be integers or slices, not str\n",
      "Error processing row 10513: list indices must be integers or slices, not str\n",
      "Error processing row 10514: list indices must be integers or slices, not str\n",
      "Error processing row 10515: list indices must be integers or slices, not str\n",
      "Error processing row 10516: list indices must be integers or slices, not str\n",
      "Error processing row 10517: list indices must be integers or slices, not str\n",
      "Error processing row 10518: list indices must be integers or slices, not str\n",
      "Error processing row 10519: list indices must be integers or slices, not str\n",
      "Error processing row 10520: list indices must be integers or slices, not str\n",
      "Error processing row 10521: list indices must be integers or slices, not str\n",
      "Error processing row 10522: list indices must be integers or slices, not str\n",
      "Error processing row 10523: list indices must be integers or slices, not str\n",
      "Error processing row 10524: list indices must be integers or slices, not str\n",
      "Error processing row 10525: list indices must be integers or slices, not str\n",
      "Error processing row 10526: list indices must be integers or slices, not str\n",
      "Error processing row 10527: list indices must be integers or slices, not str\n",
      "Error processing row 10528: list indices must be integers or slices, not str\n",
      "Error processing row 10529: list indices must be integers or slices, not str\n",
      "Error processing row 10530: list indices must be integers or slices, not str\n",
      "Error processing row 10531: list indices must be integers or slices, not str\n",
      "Error processing row 10532: list indices must be integers or slices, not str\n",
      "Error processing row 10533: list indices must be integers or slices, not str\n",
      "Error processing row 10534: list indices must be integers or slices, not str\n",
      "Error processing row 10535: list indices must be integers or slices, not str\n",
      "Error processing row 10536: list indices must be integers or slices, not str\n",
      "Error processing row 10537: list indices must be integers or slices, not str\n",
      "Error processing row 10538: list indices must be integers or slices, not str\n",
      "Error processing row 10539: list indices must be integers or slices, not str\n",
      "Error processing row 10540: list indices must be integers or slices, not str\n",
      "Error processing row 10541: list indices must be integers or slices, not str\n",
      "Error processing row 10542: list indices must be integers or slices, not str\n",
      "Error processing row 10543: list indices must be integers or slices, not str\n",
      "Error processing row 10544: list indices must be integers or slices, not str\n",
      "Error processing row 10545: list indices must be integers or slices, not str\n",
      "Error processing row 10546: list indices must be integers or slices, not str\n",
      "Error processing row 10547: list indices must be integers or slices, not str\n",
      "Error processing row 10548: list indices must be integers or slices, not str\n",
      "Error processing row 10549: list indices must be integers or slices, not str\n",
      "Error processing row 10550: list indices must be integers or slices, not str\n",
      "Error processing row 10551: list indices must be integers or slices, not str\n",
      "Error processing row 10552: list indices must be integers or slices, not str\n",
      "Error processing row 10553: list indices must be integers or slices, not str\n",
      "Error processing row 10554: list indices must be integers or slices, not str\n",
      "Error processing row 10555: list indices must be integers or slices, not str\n",
      "Error processing row 10556: list indices must be integers or slices, not str\n",
      "Error processing row 10557: list indices must be integers or slices, not str\n",
      "Error processing row 10558: list indices must be integers or slices, not str\n",
      "Error processing row 10559: list indices must be integers or slices, not str\n",
      "Error processing row 10560: list indices must be integers or slices, not str\n",
      "Error processing row 10561: list indices must be integers or slices, not str\n",
      "Error processing row 10562: list indices must be integers or slices, not str\n",
      "Error processing row 10563: list indices must be integers or slices, not str\n",
      "Error processing row 10564: list indices must be integers or slices, not str\n",
      "Error processing row 10565: list indices must be integers or slices, not str\n",
      "Error processing row 10566: list indices must be integers or slices, not str\n",
      "Error processing row 10567: list indices must be integers or slices, not str\n",
      "Error processing row 10568: list indices must be integers or slices, not str\n",
      "Error processing row 10569: list indices must be integers or slices, not str\n",
      "Error processing row 10570: list indices must be integers or slices, not str\n",
      "Error processing row 10571: list indices must be integers or slices, not str\n",
      "Error processing row 10572: list indices must be integers or slices, not str\n",
      "Error processing row 10573: list indices must be integers or slices, not str\n"
     ]
    },
    {
     "name": "stderr",
     "output_type": "stream",
     "text": [
      "Processing Rows:  53%|█████▎    | 10638/20000 [27:05<07:02, 22.16it/s] "
     ]
    },
    {
     "name": "stdout",
     "output_type": "stream",
     "text": [
      "Error processing row 10610: list indices must be integers or slices, not str\n",
      "Error processing row 10611: list indices must be integers or slices, not str\n",
      "Error processing row 10612: list indices must be integers or slices, not str\n",
      "Error processing row 10613: list indices must be integers or slices, not str\n",
      "Error processing row 10614: list indices must be integers or slices, not str\n",
      "Error processing row 10615: list indices must be integers or slices, not str\n",
      "Error processing row 10616: list indices must be integers or slices, not str\n",
      "Error processing row 10617: list indices must be integers or slices, not str\n",
      "Error processing row 10618: list indices must be integers or slices, not str\n",
      "Error processing row 10619: list indices must be integers or slices, not str\n",
      "Error processing row 10620: list indices must be integers or slices, not str\n",
      "Error processing row 10621: list indices must be integers or slices, not str\n",
      "Error processing row 10622: list indices must be integers or slices, not str\n",
      "Error processing row 10623: list indices must be integers or slices, not str\n",
      "Error processing row 10624: list indices must be integers or slices, not str\n",
      "Error processing row 10625: list indices must be integers or slices, not str\n",
      "Error processing row 10626: list indices must be integers or slices, not str\n",
      "Error processing row 10627: list indices must be integers or slices, not str\n",
      "Error processing row 10628: list indices must be integers or slices, not str\n",
      "Error processing row 10629: list indices must be integers or slices, not str\n",
      "Error processing row 10630: list indices must be integers or slices, not str\n",
      "Error processing row 10631: list indices must be integers or slices, not str\n",
      "Error processing row 10632: list indices must be integers or slices, not str\n",
      "Error processing row 10633: list indices must be integers or slices, not str\n",
      "Error processing row 10634: list indices must be integers or slices, not str\n",
      "Error processing row 10635: list indices must be integers or slices, not str\n",
      "Error processing row 10636: list indices must be integers or slices, not str\n"
     ]
    },
    {
     "name": "stderr",
     "output_type": "stream",
     "text": [
      "Processing Rows:  54%|█████▍    | 10891/20000 [27:33<01:16, 119.41it/s]"
     ]
    },
    {
     "name": "stdout",
     "output_type": "stream",
     "text": [
      "Error processing row 10826: list indices must be integers or slices, not str\n",
      "Error processing row 10827: list indices must be integers or slices, not str\n",
      "Error processing row 10828: list indices must be integers or slices, not str\n",
      "Error processing row 10829: list indices must be integers or slices, not str\n",
      "Error processing row 10830: list indices must be integers or slices, not str\n",
      "Error processing row 10831: list indices must be integers or slices, not str\n",
      "Error processing row 10832: list indices must be integers or slices, not str\n",
      "Error processing row 10833: list indices must be integers or slices, not str\n",
      "Error processing row 10834: list indices must be integers or slices, not str\n",
      "Error processing row 10835: list indices must be integers or slices, not str\n",
      "Error processing row 10836: list indices must be integers or slices, not str\n",
      "Error processing row 10837: list indices must be integers or slices, not str\n",
      "Error processing row 10838: list indices must be integers or slices, not str\n",
      "Error processing row 10839: list indices must be integers or slices, not str\n",
      "Error processing row 10840: list indices must be integers or slices, not str\n",
      "Error processing row 10841: list indices must be integers or slices, not str\n",
      "Error processing row 10842: list indices must be integers or slices, not str\n",
      "Error processing row 10843: list indices must be integers or slices, not str\n",
      "Error processing row 10844: list indices must be integers or slices, not str\n",
      "Error processing row 10845: list indices must be integers or slices, not str\n",
      "Error processing row 10846: list indices must be integers or slices, not str\n",
      "Error processing row 10847: list indices must be integers or slices, not str\n",
      "Error processing row 10848: list indices must be integers or slices, not str\n",
      "Error processing row 10849: list indices must be integers or slices, not str\n",
      "Error processing row 10850: list indices must be integers or slices, not str\n",
      "Error processing row 10851: list indices must be integers or slices, not str\n",
      "Error processing row 10852: list indices must be integers or slices, not str\n",
      "Error processing row 10853: list indices must be integers or slices, not str\n",
      "Error processing row 10854: list indices must be integers or slices, not str\n",
      "Error processing row 10855: list indices must be integers or slices, not str\n",
      "Error processing row 10856: list indices must be integers or slices, not str\n",
      "Error processing row 10857: list indices must be integers or slices, not str\n",
      "Error processing row 10858: list indices must be integers or slices, not str\n",
      "Error processing row 10859: list indices must be integers or slices, not str\n",
      "Error processing row 10860: list indices must be integers or slices, not str\n",
      "Error processing row 10861: list indices must be integers or slices, not str\n",
      "Error processing row 10862: list indices must be integers or slices, not str\n",
      "Error processing row 10863: list indices must be integers or slices, not str\n",
      "Error processing row 10864: list indices must be integers or slices, not str\n",
      "Error processing row 10865: list indices must be integers or slices, not str\n",
      "Error processing row 10866: list indices must be integers or slices, not str\n",
      "Error processing row 10867: list indices must be integers or slices, not str\n",
      "Error processing row 10868: list indices must be integers or slices, not str\n",
      "Error processing row 10869: list indices must be integers or slices, not str\n",
      "Error processing row 10870: list indices must be integers or slices, not str\n",
      "Error processing row 10871: list indices must be integers or slices, not str\n",
      "Error processing row 10872: list indices must be integers or slices, not str\n",
      "Error processing row 10873: list indices must be integers or slices, not str\n",
      "Error processing row 10874: list indices must be integers or slices, not str\n",
      "Error processing row 10875: list indices must be integers or slices, not str\n",
      "Error processing row 10876: list indices must be integers or slices, not str\n",
      "Error processing row 10877: list indices must be integers or slices, not str\n",
      "Error processing row 10878: list indices must be integers or slices, not str\n",
      "Error processing row 10879: list indices must be integers or slices, not str\n",
      "Error processing row 10880: list indices must be integers or slices, not str\n",
      "Error processing row 10881: list indices must be integers or slices, not str\n",
      "Error processing row 10882: list indices must be integers or slices, not str\n",
      "Error processing row 10883: list indices must be integers or slices, not str\n",
      "Error processing row 10884: list indices must be integers or slices, not str\n",
      "Error processing row 10885: list indices must be integers or slices, not str\n",
      "Error processing row 10886: list indices must be integers or slices, not str\n",
      "Error processing row 10887: list indices must be integers or slices, not str\n",
      "Error processing row 10888: list indices must be integers or slices, not str\n",
      "Error processing row 10895: list indices must be integers or slices, not str\n",
      "Error processing row 10896: list indices must be integers or slices, not str\n",
      "Error processing row 10897: list indices must be integers or slices, not str\n"
     ]
    },
    {
     "name": "stderr",
     "output_type": "stream",
     "text": [
      "Processing Rows:  55%|█████▌    | 11031/20000 [27:39<02:35, 57.70it/s] "
     ]
    },
    {
     "name": "stdout",
     "output_type": "stream",
     "text": [
      "Error processing row 10927: list indices must be integers or slices, not str\n",
      "Error processing row 10928: list indices must be integers or slices, not str\n",
      "Error processing row 10929: list indices must be integers or slices, not str\n",
      "Error processing row 10930: list indices must be integers or slices, not str\n",
      "Error processing row 10931: list indices must be integers or slices, not str\n",
      "Error processing row 10932: list indices must be integers or slices, not str\n",
      "Error processing row 10933: list indices must be integers or slices, not str\n",
      "Error processing row 10934: list indices must be integers or slices, not str\n",
      "Error processing row 10935: list indices must be integers or slices, not str\n",
      "Error processing row 10936: list indices must be integers or slices, not str\n",
      "Error processing row 10937: list indices must be integers or slices, not str\n",
      "Error processing row 10938: list indices must be integers or slices, not str\n",
      "Error processing row 10939: list indices must be integers or slices, not str\n",
      "Error processing row 10940: list indices must be integers or slices, not str\n",
      "Error processing row 10941: list indices must be integers or slices, not str\n",
      "Error processing row 10942: list indices must be integers or slices, not str\n",
      "Error processing row 10943: list indices must be integers or slices, not str\n",
      "Error processing row 10944: list indices must be integers or slices, not str\n",
      "Error processing row 10945: list indices must be integers or slices, not str\n",
      "Error processing row 10946: list indices must be integers or slices, not str\n",
      "Error processing row 10947: list indices must be integers or slices, not str\n",
      "Error processing row 10948: list indices must be integers or slices, not str\n",
      "Error processing row 10949: list indices must be integers or slices, not str\n",
      "Error processing row 10950: list indices must be integers or slices, not str\n",
      "Error processing row 10951: list indices must be integers or slices, not str\n",
      "Error processing row 10952: list indices must be integers or slices, not str\n",
      "Error processing row 10953: list indices must be integers or slices, not str\n",
      "Error processing row 10954: list indices must be integers or slices, not str\n",
      "Error processing row 10955: list indices must be integers or slices, not str\n",
      "Error processing row 10956: list indices must be integers or slices, not str\n",
      "Error processing row 10957: list indices must be integers or slices, not str\n",
      "Error processing row 10958: list indices must be integers or slices, not str\n",
      "Error processing row 10959: list indices must be integers or slices, not str\n",
      "Error processing row 10960: list indices must be integers or slices, not str\n",
      "Error processing row 10961: list indices must be integers or slices, not str\n",
      "Error processing row 10962: list indices must be integers or slices, not str\n",
      "Error processing row 10963: list indices must be integers or slices, not str\n",
      "Error processing row 10964: list indices must be integers or slices, not str\n",
      "Error processing row 10965: list indices must be integers or slices, not str\n",
      "Error processing row 10966: list indices must be integers or slices, not str\n",
      "Error processing row 10967: list indices must be integers or slices, not str\n",
      "Error processing row 10968: list indices must be integers or slices, not str\n",
      "Error processing row 10969: list indices must be integers or slices, not str\n",
      "Error processing row 10970: list indices must be integers or slices, not str\n",
      "Error processing row 10971: list indices must be integers or slices, not str\n",
      "Error processing row 10972: list indices must be integers or slices, not str\n",
      "Error processing row 10973: list indices must be integers or slices, not str\n",
      "Error processing row 10974: list indices must be integers or slices, not str\n",
      "Error processing row 10975: list indices must be integers or slices, not str\n",
      "Error processing row 10976: list indices must be integers or slices, not str\n",
      "Error processing row 10977: list indices must be integers or slices, not str\n",
      "Error processing row 10978: list indices must be integers or slices, not str\n",
      "Error processing row 10979: list indices must be integers or slices, not str\n",
      "Error processing row 10980: list indices must be integers or slices, not str\n",
      "Error processing row 10981: list indices must be integers or slices, not str\n",
      "Error processing row 10982: list indices must be integers or slices, not str\n",
      "Error processing row 10983: list indices must be integers or slices, not str\n",
      "Error processing row 10984: list indices must be integers or slices, not str\n",
      "Error processing row 10985: list indices must be integers or slices, not str\n",
      "Error processing row 10986: list indices must be integers or slices, not str\n",
      "Error processing row 10987: list indices must be integers or slices, not str\n",
      "Error processing row 10988: list indices must be integers or slices, not str\n",
      "Error processing row 10989: list indices must be integers or slices, not str\n",
      "Error processing row 10990: list indices must be integers or slices, not str\n",
      "Error processing row 10991: list indices must be integers or slices, not str\n",
      "Error processing row 10992: list indices must be integers or slices, not str\n",
      "Error processing row 10993: list indices must be integers or slices, not str\n",
      "Error processing row 10994: list indices must be integers or slices, not str\n",
      "Error processing row 10995: list indices must be integers or slices, not str\n",
      "Error processing row 10996: list indices must be integers or slices, not str\n",
      "Error processing row 10997: list indices must be integers or slices, not str\n",
      "Error processing row 10998: list indices must be integers or slices, not str\n",
      "Error processing row 10999: list indices must be integers or slices, not str\n",
      "Error processing row 11000: list indices must be integers or slices, not str\n",
      "Error processing row 11001: list indices must be integers or slices, not str\n",
      "Error processing row 11002: list indices must be integers or slices, not str\n",
      "Error processing row 11003: list indices must be integers or slices, not str\n",
      "Error processing row 11004: list indices must be integers or slices, not str\n",
      "Error processing row 11005: list indices must be integers or slices, not str\n",
      "Error processing row 11006: list indices must be integers or slices, not str\n",
      "Error processing row 11007: list indices must be integers or slices, not str\n",
      "Error processing row 11008: list indices must be integers or slices, not str\n",
      "Error processing row 11009: list indices must be integers or slices, not str\n",
      "Error processing row 11010: list indices must be integers or slices, not str\n",
      "Error processing row 11011: list indices must be integers or slices, not str\n",
      "Error processing row 11012: list indices must be integers or slices, not str\n",
      "Error processing row 11013: list indices must be integers or slices, not str\n",
      "Error processing row 11014: list indices must be integers or slices, not str\n",
      "Error processing row 11015: list indices must be integers or slices, not str\n",
      "Error processing row 11016: list indices must be integers or slices, not str\n",
      "Error processing row 11017: list indices must be integers or slices, not str\n",
      "Error processing row 11018: list indices must be integers or slices, not str\n",
      "Error processing row 11019: list indices must be integers or slices, not str\n",
      "Error processing row 11020: list indices must be integers or slices, not str\n",
      "Error processing row 11021: list indices must be integers or slices, not str\n",
      "Error processing row 11022: list indices must be integers or slices, not str\n",
      "Error processing row 11023: list indices must be integers or slices, not str\n",
      "Error processing row 11024: list indices must be integers or slices, not str\n",
      "Error processing row 11025: list indices must be integers or slices, not str\n",
      "Error processing row 11026: list indices must be integers or slices, not str\n",
      "Error processing row 11027: list indices must be integers or slices, not str\n",
      "Error processing row 11028: list indices must be integers or slices, not str\n",
      "Error processing row 11029: list indices must be integers or slices, not str\n",
      "Error processing row 11035: list indices must be integers or slices, not str\n",
      "Error processing row 11036: list indices must be integers or slices, not str\n",
      "Error processing row 11037: list indices must be integers or slices, not str\n",
      "Error processing row 11038: list indices must be integers or slices, not str\n",
      "Error processing row 11047: list indices must be integers or slices, not str\n"
     ]
    },
    {
     "name": "stderr",
     "output_type": "stream",
     "text": [
      "Processing Rows:  55%|█████▌    | 11084/20000 [27:46<10:31, 14.12it/s]"
     ]
    },
    {
     "name": "stdout",
     "output_type": "stream",
     "text": [
      "Error processing row 11091: list indices must be integers or slices, not str\n",
      "Error processing row 11092: list indices must be integers or slices, not str\n"
     ]
    },
    {
     "name": "stderr",
     "output_type": "stream",
     "text": [
      "Processing Rows:  56%|█████▌    | 11100/20000 [27:48<11:36, 12.78it/s]"
     ]
    },
    {
     "name": "stdout",
     "output_type": "stream",
     "text": [
      "Error processing row 11101: list indices must be integers or slices, not str\n"
     ]
    },
    {
     "name": "stderr",
     "output_type": "stream",
     "text": [
      "Processing Rows:  56%|█████▌    | 11172/20000 [27:59<21:25,  6.87it/s]"
     ]
    },
    {
     "name": "stdout",
     "output_type": "stream",
     "text": [
      "Error processing row 11172: list indices must be integers or slices, not str\n",
      "Error processing row 11173: list indices must be integers or slices, not str\n"
     ]
    },
    {
     "name": "stderr",
     "output_type": "stream",
     "text": [
      "Processing Rows:  56%|█████▌    | 11181/20000 [28:00<15:43,  9.35it/s]"
     ]
    },
    {
     "name": "stdout",
     "output_type": "stream",
     "text": [
      "Error processing row 11181: list indices must be integers or slices, not str\n",
      "Error processing row 11182: list indices must be integers or slices, not str\n"
     ]
    },
    {
     "name": "stderr",
     "output_type": "stream",
     "text": [
      "Processing Rows:  57%|█████▋    | 11463/20000 [28:42<14:35,  9.75it/s]"
     ]
    },
    {
     "name": "stdout",
     "output_type": "stream",
     "text": [
      "Error processing row 11460: list indices must be integers or slices, not str\n"
     ]
    },
    {
     "name": "stderr",
     "output_type": "stream",
     "text": [
      "Processing Rows:  57%|█████▋    | 11481/20000 [28:44<13:08, 10.81it/s]"
     ]
    },
    {
     "name": "stdout",
     "output_type": "stream",
     "text": [
      "Error processing row 11478: list indices must be integers or slices, not str\n"
     ]
    },
    {
     "name": "stderr",
     "output_type": "stream",
     "text": [
      "Processing Rows:  57%|█████▋    | 11487/20000 [28:45<16:49,  8.43it/s]"
     ]
    },
    {
     "name": "stdout",
     "output_type": "stream",
     "text": [
      "Error processing row 11487: list indices must be integers or slices, not str\n"
     ]
    },
    {
     "name": "stderr",
     "output_type": "stream",
     "text": [
      "Processing Rows:  58%|█████▊    | 11544/20000 [28:53<11:46, 11.97it/s]"
     ]
    },
    {
     "name": "stdout",
     "output_type": "stream",
     "text": [
      "Error processing row 11540: list indices must be integers or slices, not str\n",
      "Error processing row 11541: list indices must be integers or slices, not str\n",
      "Error processing row 11542: list indices must be integers or slices, not str\n"
     ]
    },
    {
     "name": "stderr",
     "output_type": "stream",
     "text": [
      "Processing Rows:  59%|█████▉    | 11821/20000 [29:34<18:43,  7.28it/s]"
     ]
    },
    {
     "name": "stdout",
     "output_type": "stream",
     "text": [
      "Error processing row 11821: list indices must be integers or slices, not str\n"
     ]
    },
    {
     "name": "stderr",
     "output_type": "stream",
     "text": [
      "Processing Rows:  60%|█████▉    | 11968/20000 [29:53<07:12, 18.59it/s]"
     ]
    },
    {
     "name": "stdout",
     "output_type": "stream",
     "text": [
      "Error processing row 11961: list indices must be integers or slices, not str\n",
      "Error processing row 11962: list indices must be integers or slices, not str\n",
      "Error processing row 11963: list indices must be integers or slices, not str\n",
      "Error processing row 11964: list indices must be integers or slices, not str\n",
      "Error processing row 11965: list indices must be integers or slices, not str\n"
     ]
    },
    {
     "name": "stderr",
     "output_type": "stream",
     "text": [
      "Processing Rows:  60%|█████▉    | 11970/20000 [29:54<08:22, 15.99it/s]"
     ]
    },
    {
     "name": "stdout",
     "output_type": "stream",
     "text": [
      "Error processing row 11969: list indices must be integers or slices, not str\n",
      "Error processing row 11970: list indices must be integers or slices, not str\n",
      "Error processing row 11971: list indices must be integers or slices, not str\n",
      "Error processing row 11972: list indices must be integers or slices, not str\n",
      "Error processing row 11973: list indices must be integers or slices, not str\n",
      "Error processing row 11974: list indices must be integers or slices, not str\n"
     ]
    },
    {
     "name": "stderr",
     "output_type": "stream",
     "text": [
      "Processing Rows:  60%|██████    | 12013/20000 [29:58<05:49, 22.83it/s]"
     ]
    },
    {
     "name": "stdout",
     "output_type": "stream",
     "text": [
      "Error processing row 12003: list indices must be integers or slices, not str\n",
      "Error processing row 12004: list indices must be integers or slices, not str\n",
      "Error processing row 12005: list indices must be integers or slices, not str\n",
      "Error processing row 12006: list indices must be integers or slices, not str\n",
      "Error processing row 12007: list indices must be integers or slices, not str\n",
      "Error processing row 12008: list indices must be integers or slices, not str\n",
      "Error processing row 12009: list indices must be integers or slices, not str\n",
      "Error processing row 12010: list indices must be integers or slices, not str\n"
     ]
    },
    {
     "name": "stderr",
     "output_type": "stream",
     "text": [
      "Processing Rows:  60%|██████    | 12021/20000 [29:58<08:15, 16.09it/s]"
     ]
    },
    {
     "name": "stdout",
     "output_type": "stream",
     "text": [
      "Error processing row 12018: list indices must be integers or slices, not str\n",
      "Error processing row 12019: list indices must be integers or slices, not str\n",
      "Error processing row 12021: list indices must be integers or slices, not str\n",
      "Error processing row 12022: list indices must be integers or slices, not str\n",
      "Error processing row 12023: list indices must be integers or slices, not str\n",
      "Error processing row 12024: list indices must be integers or slices, not str\n",
      "Error processing row 12025: list indices must be integers or slices, not str\n",
      "Error processing row 12026: list indices must be integers or slices, not str\n",
      "Error processing row 12027: list indices must be integers or slices, not str\n",
      "Error processing row 12028: list indices must be integers or slices, not str\n"
     ]
    },
    {
     "name": "stderr",
     "output_type": "stream",
     "text": [
      "Processing Rows:  60%|██████    | 12048/20000 [30:00<07:24, 17.88it/s]"
     ]
    },
    {
     "name": "stdout",
     "output_type": "stream",
     "text": [
      "Error processing row 12042: list indices must be integers or slices, not str\n",
      "Error processing row 12043: list indices must be integers or slices, not str\n",
      "Error processing row 12044: list indices must be integers or slices, not str\n",
      "Error processing row 12045: list indices must be integers or slices, not str\n",
      "Error processing row 12046: list indices must be integers or slices, not str\n"
     ]
    },
    {
     "name": "stderr",
     "output_type": "stream",
     "text": [
      "Processing Rows:  61%|██████    | 12102/20000 [30:07<08:35, 15.34it/s]"
     ]
    },
    {
     "name": "stdout",
     "output_type": "stream",
     "text": [
      "Error processing row 12096: list indices must be integers or slices, not str\n",
      "Error processing row 12097: list indices must be integers or slices, not str\n",
      "Error processing row 12098: list indices must be integers or slices, not str\n",
      "Error processing row 12099: list indices must be integers or slices, not str\n",
      "Error processing row 12100: list indices must be integers or slices, not str\n"
     ]
    },
    {
     "name": "stderr",
     "output_type": "stream",
     "text": [
      "Processing Rows:  61%|██████    | 12111/20000 [30:08<08:25, 15.61it/s]"
     ]
    },
    {
     "name": "stdout",
     "output_type": "stream",
     "text": [
      "Error processing row 12106: list indices must be integers or slices, not str\n",
      "Error processing row 12107: list indices must be integers or slices, not str\n",
      "Error processing row 12108: list indices must be integers or slices, not str\n",
      "Error processing row 12109: list indices must be integers or slices, not str\n"
     ]
    },
    {
     "name": "stderr",
     "output_type": "stream",
     "text": [
      "Processing Rows:  61%|██████    | 12116/20000 [30:09<11:17, 11.63it/s]"
     ]
    },
    {
     "name": "stdout",
     "output_type": "stream",
     "text": [
      "Error processing row 12117: list indices must be integers or slices, not str\n",
      "Error processing row 12118: list indices must be integers or slices, not str\n"
     ]
    },
    {
     "name": "stderr",
     "output_type": "stream",
     "text": [
      "Processing Rows:  61%|██████    | 12120/20000 [30:09<10:40, 12.31it/s]"
     ]
    },
    {
     "name": "stdout",
     "output_type": "stream",
     "text": [
      "Error processing row 12120: list indices must be integers or slices, not str\n",
      "Error processing row 12121: list indices must be integers or slices, not str\n",
      "Error processing row 12122: list indices must be integers or slices, not str\n",
      "Error processing row 12123: list indices must be integers or slices, not str\n",
      "Error processing row 12124: list indices must be integers or slices, not str\n",
      "Error processing row 12125: list indices must be integers or slices, not str\n",
      "Error processing row 12126: list indices must be integers or slices, not str\n",
      "Error processing row 12127: list indices must be integers or slices, not str\n"
     ]
    },
    {
     "name": "stderr",
     "output_type": "stream",
     "text": [
      "Processing Rows:  61%|██████    | 12139/20000 [30:10<06:28, 20.25it/s]"
     ]
    },
    {
     "name": "stdout",
     "output_type": "stream",
     "text": [
      "Error processing row 12131: list indices must be integers or slices, not str\n",
      "Error processing row 12132: list indices must be integers or slices, not str\n",
      "Error processing row 12133: list indices must be integers or slices, not str\n",
      "Error processing row 12134: list indices must be integers or slices, not str\n",
      "Error processing row 12135: list indices must be integers or slices, not str\n",
      "Error processing row 12136: list indices must be integers or slices, not str\n"
     ]
    },
    {
     "name": "stderr",
     "output_type": "stream",
     "text": [
      "Processing Rows:  61%|██████    | 12176/20000 [30:16<15:59,  8.15it/s]"
     ]
    },
    {
     "name": "stdout",
     "output_type": "stream",
     "text": [
      "Error processing row 12176: list indices must be integers or slices, not str\n",
      "Error processing row 12177: list indices must be integers or slices, not str\n",
      "Error processing row 12178: list indices must be integers or slices, not str\n",
      "Error processing row 12179: list indices must be integers or slices, not str\n",
      "Error processing row 12180: list indices must be integers or slices, not str\n",
      "Error processing row 12181: list indices must be integers or slices, not str\n"
     ]
    },
    {
     "name": "stderr",
     "output_type": "stream",
     "text": [
      "Processing Rows:  61%|██████    | 12185/20000 [30:16<11:30, 11.32it/s]"
     ]
    },
    {
     "name": "stdout",
     "output_type": "stream",
     "text": [
      "Error processing row 12185: list indices must be integers or slices, not str\n",
      "Error processing row 12186: list indices must be integers or slices, not str\n",
      "Error processing row 12187: list indices must be integers or slices, not str\n",
      "Error processing row 12188: list indices must be integers or slices, not str\n",
      "Error processing row 12189: list indices must be integers or slices, not str\n",
      "Error processing row 12190: list indices must be integers or slices, not str\n"
     ]
    },
    {
     "name": "stderr",
     "output_type": "stream",
     "text": [
      "Processing Rows:  61%|██████    | 12201/20000 [30:17<06:14, 20.85it/s]"
     ]
    },
    {
     "name": "stdout",
     "output_type": "stream",
     "text": [
      "Error processing row 12194: list indices must be integers or slices, not str\n",
      "Error processing row 12195: list indices must be integers or slices, not str\n",
      "Error processing row 12196: list indices must be integers or slices, not str\n",
      "Error processing row 12197: list indices must be integers or slices, not str\n",
      "Error processing row 12198: list indices must be integers or slices, not str\n",
      "Error processing row 12199: list indices must be integers or slices, not str\n"
     ]
    },
    {
     "name": "stderr",
     "output_type": "stream",
     "text": [
      "Processing Rows:  61%|██████    | 12210/20000 [30:18<11:08, 11.65it/s]"
     ]
    },
    {
     "name": "stdout",
     "output_type": "stream",
     "text": [
      "Error processing row 12208: list indices must be integers or slices, not str\n"
     ]
    },
    {
     "name": "stderr",
     "output_type": "stream",
     "text": [
      "Processing Rows:  61%|██████    | 12219/20000 [30:19<07:35, 17.10it/s]"
     ]
    },
    {
     "name": "stdout",
     "output_type": "stream",
     "text": [
      "Error processing row 12213: list indices must be integers or slices, not str\n",
      "Error processing row 12214: list indices must be integers or slices, not str\n",
      "Error processing row 12215: list indices must be integers or slices, not str\n",
      "Error processing row 12216: list indices must be integers or slices, not str\n",
      "Error processing row 12217: list indices must be integers or slices, not str\n"
     ]
    },
    {
     "name": "stderr",
     "output_type": "stream",
     "text": [
      "Processing Rows:  61%|██████▏   | 12271/20000 [30:26<05:04, 25.35it/s]"
     ]
    },
    {
     "name": "stdout",
     "output_type": "stream",
     "text": [
      "Error processing row 12261: list indices must be integers or slices, not str\n",
      "Error processing row 12262: list indices must be integers or slices, not str\n",
      "Error processing row 12263: list indices must be integers or slices, not str\n",
      "Error processing row 12264: list indices must be integers or slices, not str\n",
      "Error processing row 12265: list indices must be integers or slices, not str\n",
      "Error processing row 12267: list indices must be integers or slices, not str\n",
      "Error processing row 12268: list indices must be integers or slices, not str\n",
      "Error processing row 12269: list indices must be integers or slices, not str\n",
      "Error processing row 12270: list indices must be integers or slices, not str\n",
      "Error processing row 12271: list indices must be integers or slices, not str\n",
      "Error processing row 12272: list indices must be integers or slices, not str\n",
      "Error processing row 12273: list indices must be integers or slices, not str\n",
      "Error processing row 12274: list indices must be integers or slices, not str\n"
     ]
    },
    {
     "name": "stderr",
     "output_type": "stream",
     "text": [
      "Processing Rows:  61%|██████▏   | 12285/20000 [30:27<11:57, 10.76it/s]"
     ]
    },
    {
     "name": "stdout",
     "output_type": "stream",
     "text": [
      "Error processing row 12283: list indices must be integers or slices, not str\n"
     ]
    },
    {
     "name": "stderr",
     "output_type": "stream",
     "text": [
      "Processing Rows:  61%|██████▏   | 12287/20000 [30:27<11:16, 11.40it/s]"
     ]
    },
    {
     "name": "stdout",
     "output_type": "stream",
     "text": [
      "Error processing row 12286: list indices must be integers or slices, not str\n",
      "Error processing row 12287: list indices must be integers or slices, not str\n",
      "Error processing row 12288: list indices must be integers or slices, not str\n",
      "Error processing row 12289: list indices must be integers or slices, not str\n",
      "Error processing row 12290: list indices must be integers or slices, not str\n",
      "Error processing row 12291: list indices must be integers or slices, not str\n",
      "Error processing row 12292: list indices must be integers or slices, not str\n"
     ]
    },
    {
     "name": "stderr",
     "output_type": "stream",
     "text": [
      "Processing Rows:  62%|██████▏   | 12339/20000 [30:35<07:36, 16.77it/s]"
     ]
    },
    {
     "name": "stdout",
     "output_type": "stream",
     "text": [
      "Error processing row 12334: list indices must be integers or slices, not str\n",
      "Error processing row 12335: list indices must be integers or slices, not str\n",
      "Error processing row 12336: list indices must be integers or slices, not str\n",
      "Error processing row 12337: list indices must be integers or slices, not str\n"
     ]
    },
    {
     "name": "stderr",
     "output_type": "stream",
     "text": [
      "Processing Rows:  62%|██████▏   | 12347/20000 [30:36<12:34, 10.14it/s]"
     ]
    },
    {
     "name": "stdout",
     "output_type": "stream",
     "text": [
      "Error processing row 12346: list indices must be integers or slices, not str\n"
     ]
    },
    {
     "name": "stderr",
     "output_type": "stream",
     "text": [
      "Processing Rows:  62%|██████▏   | 12367/20000 [30:37<04:00, 31.67it/s]"
     ]
    },
    {
     "name": "stdout",
     "output_type": "stream",
     "text": [
      "Error processing row 12350: list indices must be integers or slices, not str\n",
      "Error processing row 12351: list indices must be integers or slices, not str\n",
      "Error processing row 12352: list indices must be integers or slices, not str\n",
      "Error processing row 12353: list indices must be integers or slices, not str\n",
      "Error processing row 12354: list indices must be integers or slices, not str\n",
      "Error processing row 12355: list indices must be integers or slices, not str\n",
      "Error processing row 12356: list indices must be integers or slices, not str\n",
      "Error processing row 12357: list indices must be integers or slices, not str\n",
      "Error processing row 12358: list indices must be integers or slices, not str\n",
      "Error processing row 12359: list indices must be integers or slices, not str\n",
      "Error processing row 12360: list indices must be integers or slices, not str\n",
      "Error processing row 12361: list indices must be integers or slices, not str\n",
      "Error processing row 12362: list indices must be integers or slices, not str\n",
      "Error processing row 12363: list indices must be integers or slices, not str\n",
      "Error processing row 12364: list indices must be integers or slices, not str\n",
      "Error processing row 12367: list indices must be integers or slices, not str\n",
      "Error processing row 12368: list indices must be integers or slices, not str\n",
      "Error processing row 12369: list indices must be integers or slices, not str\n",
      "Error processing row 12370: list indices must be integers or slices, not str\n",
      "Error processing row 12371: list indices must be integers or slices, not str\n",
      "Error processing row 12372: list indices must be integers or slices, not str\n",
      "Error processing row 12373: list indices must be integers or slices, not str\n"
     ]
    },
    {
     "name": "stderr",
     "output_type": "stream",
     "text": [
      "Processing Rows:  62%|██████▏   | 12420/20000 [30:42<05:13, 24.15it/s]"
     ]
    },
    {
     "name": "stdout",
     "output_type": "stream",
     "text": [
      "Error processing row 12410: list indices must be integers or slices, not str\n",
      "Error processing row 12411: list indices must be integers or slices, not str\n",
      "Error processing row 12412: list indices must be integers or slices, not str\n",
      "Error processing row 12413: list indices must be integers or slices, not str\n",
      "Error processing row 12414: list indices must be integers or slices, not str\n",
      "Error processing row 12415: list indices must be integers or slices, not str\n",
      "Error processing row 12416: list indices must be integers or slices, not str\n",
      "Error processing row 12417: list indices must be integers or slices, not str\n",
      "Error processing row 12418: list indices must be integers or slices, not str\n"
     ]
    },
    {
     "name": "stderr",
     "output_type": "stream",
     "text": [
      "Processing Rows:  62%|██████▏   | 12438/20000 [30:43<03:15, 38.76it/s]"
     ]
    },
    {
     "name": "stdout",
     "output_type": "stream",
     "text": [
      "Error processing row 12423: list indices must be integers or slices, not str\n",
      "Error processing row 12424: list indices must be integers or slices, not str\n",
      "Error processing row 12425: list indices must be integers or slices, not str\n",
      "Error processing row 12426: list indices must be integers or slices, not str\n",
      "Error processing row 12427: list indices must be integers or slices, not str\n",
      "Error processing row 12428: list indices must be integers or slices, not str\n",
      "Error processing row 12429: list indices must be integers or slices, not str\n",
      "Error processing row 12430: list indices must be integers or slices, not str\n",
      "Error processing row 12431: list indices must be integers or slices, not str\n",
      "Error processing row 12432: list indices must be integers or slices, not str\n",
      "Error processing row 12433: list indices must be integers or slices, not str\n",
      "Error processing row 12434: list indices must be integers or slices, not str\n",
      "Error processing row 12435: list indices must be integers or slices, not str\n",
      "Error processing row 12436: list indices must be integers or slices, not str\n"
     ]
    },
    {
     "name": "stderr",
     "output_type": "stream",
     "text": [
      "Processing Rows:  62%|██████▏   | 12456/20000 [30:45<09:53, 12.70it/s]"
     ]
    },
    {
     "name": "stdout",
     "output_type": "stream",
     "text": [
      "Error processing row 12451: list indices must be integers or slices, not str\n",
      "Error processing row 12452: list indices must be integers or slices, not str\n",
      "Error processing row 12453: list indices must be integers or slices, not str\n",
      "Error processing row 12454: list indices must be integers or slices, not str\n"
     ]
    },
    {
     "name": "stderr",
     "output_type": "stream",
     "text": [
      "Processing Rows:  62%|██████▏   | 12466/20000 [30:46<10:28, 11.98it/s]"
     ]
    },
    {
     "name": "stdout",
     "output_type": "stream",
     "text": [
      "Error processing row 12463: list indices must be integers or slices, not str\n"
     ]
    },
    {
     "name": "stderr",
     "output_type": "stream",
     "text": [
      "Processing Rows:  63%|██████▎   | 12503/20000 [30:50<08:41, 14.38it/s]"
     ]
    },
    {
     "name": "stdout",
     "output_type": "stream",
     "text": [
      "Error processing row 12498: list indices must be integers or slices, not str\n",
      "Error processing row 12499: list indices must be integers or slices, not str\n",
      "Error processing row 12500: list indices must be integers or slices, not str\n",
      "Error processing row 12501: list indices must be integers or slices, not str\n",
      "Error processing row 12503: list indices must be integers or slices, not str\n",
      "Error processing row 12504: list indices must be integers or slices, not str\n",
      "Error processing row 12505: list indices must be integers or slices, not str\n",
      "Error processing row 12506: list indices must be integers or slices, not str\n",
      "Error processing row 12507: list indices must be integers or slices, not str\n",
      "Error processing row 12508: list indices must be integers or slices, not str\n",
      "Error processing row 12509: list indices must be integers or slices, not str\n",
      "Error processing row 12510: list indices must be integers or slices, not str\n"
     ]
    },
    {
     "name": "stderr",
     "output_type": "stream",
     "text": [
      "Processing Rows:  63%|██████▎   | 12521/20000 [30:51<08:19, 14.98it/s]"
     ]
    },
    {
     "name": "stdout",
     "output_type": "stream",
     "text": [
      "Error processing row 12517: list indices must be integers or slices, not str\n",
      "Error processing row 12518: list indices must be integers or slices, not str\n",
      "Error processing row 12519: list indices must be integers or slices, not str\n"
     ]
    },
    {
     "name": "stderr",
     "output_type": "stream",
     "text": [
      "Processing Rows:  63%|██████▎   | 12530/20000 [30:52<07:09, 17.39it/s]"
     ]
    },
    {
     "name": "stdout",
     "output_type": "stream",
     "text": [
      "Error processing row 12522: list indices must be integers or slices, not str\n",
      "Error processing row 12523: list indices must be integers or slices, not str\n",
      "Error processing row 12524: list indices must be integers or slices, not str\n",
      "Error processing row 12525: list indices must be integers or slices, not str\n",
      "Error processing row 12526: list indices must be integers or slices, not str\n",
      "Error processing row 12527: list indices must be integers or slices, not str\n",
      "Error processing row 12528: list indices must be integers or slices, not str\n"
     ]
    },
    {
     "name": "stderr",
     "output_type": "stream",
     "text": [
      "Processing Rows:  63%|██████▎   | 12575/20000 [30:59<08:24, 14.70it/s]"
     ]
    },
    {
     "name": "stdout",
     "output_type": "stream",
     "text": [
      "Error processing row 12571: list indices must be integers or slices, not str\n",
      "Error processing row 12572: list indices must be integers or slices, not str\n",
      "Error processing row 12573: list indices must be integers or slices, not str\n"
     ]
    },
    {
     "name": "stderr",
     "output_type": "stream",
     "text": [
      "Processing Rows:  63%|██████▎   | 12584/20000 [31:01<17:34,  7.03it/s]"
     ]
    },
    {
     "name": "stdout",
     "output_type": "stream",
     "text": [
      "Error processing row 12582: list indices must be integers or slices, not str\n",
      "Error processing row 12584: list indices must be integers or slices, not str\n",
      "Error processing row 12585: list indices must be integers or slices, not str\n",
      "Error processing row 12586: list indices must be integers or slices, not str\n",
      "Error processing row 12587: list indices must be integers or slices, not str\n",
      "Error processing row 12588: list indices must be integers or slices, not str\n",
      "Error processing row 12589: list indices must be integers or slices, not str\n",
      "Error processing row 12590: list indices must be integers or slices, not str\n",
      "Error processing row 12591: list indices must be integers or slices, not str\n"
     ]
    },
    {
     "name": "stderr",
     "output_type": "stream",
     "text": [
      "Processing Rows:  63%|██████▎   | 12600/20000 [31:02<18:06,  6.81it/s]"
     ]
    },
    {
     "name": "stdout",
     "output_type": "stream",
     "text": [
      "Error processing row 12601: list indices must be integers or slices, not str\n"
     ]
    },
    {
     "name": "stderr",
     "output_type": "stream",
     "text": [
      "Processing Rows:  63%|██████▎   | 12612/20000 [31:03<07:56, 15.52it/s]"
     ]
    },
    {
     "name": "stdout",
     "output_type": "stream",
     "text": [
      "Error processing row 12607: list indices must be integers or slices, not str\n",
      "Error processing row 12608: list indices must be integers or slices, not str\n",
      "Error processing row 12609: list indices must be integers or slices, not str\n",
      "Error processing row 12610: list indices must be integers or slices, not str\n"
     ]
    },
    {
     "name": "stderr",
     "output_type": "stream",
     "text": [
      "Processing Rows:  63%|██████▎   | 12645/20000 [31:08<22:15,  5.51it/s]"
     ]
    },
    {
     "name": "stdout",
     "output_type": "stream",
     "text": [
      "Error processing row 12646: list indices must be integers or slices, not str\n"
     ]
    },
    {
     "name": "stderr",
     "output_type": "stream",
     "text": [
      "Processing Rows:  63%|██████▎   | 12648/20000 [31:08<17:32,  6.99it/s]"
     ]
    },
    {
     "name": "stdout",
     "output_type": "stream",
     "text": [
      "Error processing row 12648: list indices must be integers or slices, not str\n",
      "Error processing row 12649: list indices must be integers or slices, not str\n",
      "Error processing row 12650: list indices must be integers or slices, not str\n",
      "Error processing row 12651: list indices must be integers or slices, not str\n",
      "Error processing row 12652: list indices must be integers or slices, not str\n",
      "Error processing row 12653: list indices must be integers or slices, not str\n",
      "Error processing row 12654: list indices must be integers or slices, not str\n",
      "Error processing row 12655: list indices must be integers or slices, not str\n"
     ]
    },
    {
     "name": "stderr",
     "output_type": "stream",
     "text": [
      "Processing Rows:  63%|██████▎   | 12666/20000 [31:09<07:36, 16.07it/s]"
     ]
    },
    {
     "name": "stdout",
     "output_type": "stream",
     "text": [
      "Error processing row 12660: list indices must be integers or slices, not str\n",
      "Error processing row 12661: list indices must be integers or slices, not str\n",
      "Error processing row 12662: list indices must be integers or slices, not str\n",
      "Error processing row 12663: list indices must be integers or slices, not str\n",
      "Error processing row 12664: list indices must be integers or slices, not str\n"
     ]
    },
    {
     "name": "stderr",
     "output_type": "stream",
     "text": [
      "Processing Rows:  63%|██████▎   | 12668/20000 [31:09<08:46, 13.93it/s]"
     ]
    },
    {
     "name": "stdout",
     "output_type": "stream",
     "text": [
      "Error processing row 12668: list indices must be integers or slices, not str\n",
      "Error processing row 12669: list indices must be integers or slices, not str\n",
      "Error processing row 12670: list indices must be integers or slices, not str\n",
      "Error processing row 12671: list indices must be integers or slices, not str\n",
      "Error processing row 12672: list indices must be integers or slices, not str\n",
      "Error processing row 12673: list indices must be integers or slices, not str\n"
     ]
    },
    {
     "name": "stderr",
     "output_type": "stream",
     "text": [
      "Processing Rows:  63%|██████▎   | 12686/20000 [31:11<10:28, 11.64it/s]"
     ]
    },
    {
     "name": "stdout",
     "output_type": "stream",
     "text": [
      "Error processing row 12683: list indices must be integers or slices, not str\n",
      "Error processing row 12684: list indices must be integers or slices, not str\n",
      "Error processing row 12686: list indices must be integers or slices, not str\n",
      "Error processing row 12687: list indices must be integers or slices, not str\n"
     ]
    },
    {
     "name": "stderr",
     "output_type": "stream",
     "text": [
      "Processing Rows:  63%|██████▎   | 12697/20000 [31:12<10:54, 11.16it/s]"
     ]
    },
    {
     "name": "stdout",
     "output_type": "stream",
     "text": [
      "Error processing row 12696: list indices must be integers or slices, not str\n"
     ]
    },
    {
     "name": "stderr",
     "output_type": "stream",
     "text": [
      "Processing Rows:  64%|██████▎   | 12705/20000 [31:13<12:45,  9.53it/s]"
     ]
    },
    {
     "name": "stdout",
     "output_type": "stream",
     "text": [
      "Error processing row 12705: list indices must be integers or slices, not str\n"
     ]
    },
    {
     "name": "stderr",
     "output_type": "stream",
     "text": [
      "Processing Rows:  64%|██████▎   | 12725/20000 [31:15<08:03, 15.04it/s]"
     ]
    },
    {
     "name": "stdout",
     "output_type": "stream",
     "text": [
      "Error processing row 12717: list indices must be integers or slices, not str\n",
      "Error processing row 12718: list indices must be integers or slices, not str\n",
      "Error processing row 12719: list indices must be integers or slices, not str\n",
      "Error processing row 12720: list indices must be integers or slices, not str\n",
      "Error processing row 12721: list indices must be integers or slices, not str\n",
      "Error processing row 12722: list indices must be integers or slices, not str\n",
      "Error processing row 12723: list indices must be integers or slices, not str\n"
     ]
    },
    {
     "name": "stderr",
     "output_type": "stream",
     "text": [
      "Processing Rows:  64%|██████▎   | 12734/20000 [31:16<09:39, 12.53it/s]"
     ]
    },
    {
     "name": "stdout",
     "output_type": "stream",
     "text": [
      "Error processing row 12728: list indices must be integers or slices, not str\n",
      "Error processing row 12729: list indices must be integers or slices, not str\n",
      "Error processing row 12730: list indices must be integers or slices, not str\n",
      "Error processing row 12731: list indices must be integers or slices, not str\n",
      "Error processing row 12732: list indices must be integers or slices, not str\n"
     ]
    },
    {
     "name": "stderr",
     "output_type": "stream",
     "text": [
      "Processing Rows:  64%|██████▎   | 12743/20000 [31:17<08:05, 14.93it/s]"
     ]
    },
    {
     "name": "stdout",
     "output_type": "stream",
     "text": [
      "Error processing row 12737: list indices must be integers or slices, not str\n",
      "Error processing row 12738: list indices must be integers or slices, not str\n",
      "Error processing row 12739: list indices must be integers or slices, not str\n",
      "Error processing row 12740: list indices must be integers or slices, not str\n",
      "Error processing row 12741: list indices must be integers or slices, not str\n"
     ]
    },
    {
     "name": "stderr",
     "output_type": "stream",
     "text": [
      "Processing Rows:  64%|██████▍   | 12752/20000 [31:18<09:28, 12.75it/s]"
     ]
    },
    {
     "name": "stdout",
     "output_type": "stream",
     "text": [
      "Error processing row 12747: list indices must be integers or slices, not str\n",
      "Error processing row 12748: list indices must be integers or slices, not str\n",
      "Error processing row 12749: list indices must be integers or slices, not str\n",
      "Error processing row 12750: list indices must be integers or slices, not str\n"
     ]
    },
    {
     "name": "stderr",
     "output_type": "stream",
     "text": [
      "Processing Rows:  64%|██████▍   | 12758/20000 [31:19<15:07,  7.98it/s]"
     ]
    },
    {
     "name": "stdout",
     "output_type": "stream",
     "text": [
      "Error processing row 12758: list indices must be integers or slices, not str\n",
      "Error processing row 12759: list indices must be integers or slices, not str\n"
     ]
    },
    {
     "name": "stderr",
     "output_type": "stream",
     "text": [
      "Processing Rows:  64%|██████▍   | 12779/20000 [31:21<08:36, 13.99it/s]"
     ]
    },
    {
     "name": "stdout",
     "output_type": "stream",
     "text": [
      "Error processing row 12775: list indices must be integers or slices, not str\n",
      "Error processing row 12776: list indices must be integers or slices, not str\n",
      "Error processing row 12777: list indices must be integers or slices, not str\n"
     ]
    },
    {
     "name": "stderr",
     "output_type": "stream",
     "text": [
      "Processing Rows:  64%|██████▍   | 12788/20000 [31:22<06:56, 17.30it/s]"
     ]
    },
    {
     "name": "stdout",
     "output_type": "stream",
     "text": [
      "Error processing row 12783: list indices must be integers or slices, not str\n",
      "Error processing row 12784: list indices must be integers or slices, not str\n",
      "Error processing row 12785: list indices must be integers or slices, not str\n",
      "Error processing row 12786: list indices must be integers or slices, not str\n"
     ]
    },
    {
     "name": "stderr",
     "output_type": "stream",
     "text": [
      "Processing Rows:  64%|██████▍   | 12797/20000 [31:22<04:30, 26.62it/s]"
     ]
    },
    {
     "name": "stdout",
     "output_type": "stream",
     "text": [
      "Error processing row 12789: list indices must be integers or slices, not str\n",
      "Error processing row 12790: list indices must be integers or slices, not str\n",
      "Error processing row 12791: list indices must be integers or slices, not str\n",
      "Error processing row 12792: list indices must be integers or slices, not str\n",
      "Error processing row 12793: list indices must be integers or slices, not str\n",
      "Error processing row 12794: list indices must be integers or slices, not str\n",
      "Error processing row 12795: list indices must be integers or slices, not str\n"
     ]
    },
    {
     "name": "stderr",
     "output_type": "stream",
     "text": [
      "Processing Rows:  64%|██████▍   | 12807/20000 [31:23<06:42, 17.85it/s]"
     ]
    },
    {
     "name": "stdout",
     "output_type": "stream",
     "text": [
      "Error processing row 12802: list indices must be integers or slices, not str\n",
      "Error processing row 12803: list indices must be integers or slices, not str\n",
      "Error processing row 12804: list indices must be integers or slices, not str\n"
     ]
    },
    {
     "name": "stderr",
     "output_type": "stream",
     "text": [
      "Processing Rows:  64%|██████▍   | 12815/20000 [31:23<05:25, 22.07it/s]"
     ]
    },
    {
     "name": "stdout",
     "output_type": "stream",
     "text": [
      "Error processing row 12809: list indices must be integers or slices, not str\n",
      "Error processing row 12810: list indices must be integers or slices, not str\n",
      "Error processing row 12811: list indices must be integers or slices, not str\n",
      "Error processing row 12812: list indices must be integers or slices, not str\n",
      "Error processing row 12813: list indices must be integers or slices, not str\n"
     ]
    },
    {
     "name": "stderr",
     "output_type": "stream",
     "text": [
      "Processing Rows:  64%|██████▍   | 12824/20000 [31:24<08:41, 13.75it/s]"
     ]
    },
    {
     "name": "stdout",
     "output_type": "stream",
     "text": [
      "Error processing row 12822: list indices must be integers or slices, not str\n"
     ]
    },
    {
     "name": "stderr",
     "output_type": "stream",
     "text": [
      "Processing Rows:  64%|██████▍   | 12860/20000 [31:28<06:55, 17.16it/s]"
     ]
    },
    {
     "name": "stdout",
     "output_type": "stream",
     "text": [
      "Error processing row 12854: list indices must be integers or slices, not str\n",
      "Error processing row 12855: list indices must be integers or slices, not str\n",
      "Error processing row 12856: list indices must be integers or slices, not str\n",
      "Error processing row 12857: list indices must be integers or slices, not str\n",
      "Error processing row 12858: list indices must be integers or slices, not str\n"
     ]
    },
    {
     "name": "stderr",
     "output_type": "stream",
     "text": [
      "Processing Rows:  64%|██████▍   | 12869/20000 [31:29<09:19, 12.73it/s]"
     ]
    },
    {
     "name": "stdout",
     "output_type": "stream",
     "text": [
      "Error processing row 12864: list indices must be integers or slices, not str\n",
      "Error processing row 12865: list indices must be integers or slices, not str\n",
      "Error processing row 12866: list indices must be integers or slices, not str\n",
      "Error processing row 12867: list indices must be integers or slices, not str\n"
     ]
    },
    {
     "name": "stderr",
     "output_type": "stream",
     "text": [
      "Processing Rows:  64%|██████▍   | 12878/20000 [31:30<09:03, 13.09it/s]"
     ]
    },
    {
     "name": "stdout",
     "output_type": "stream",
     "text": [
      "Error processing row 12874: list indices must be integers or slices, not str\n",
      "Error processing row 12875: list indices must be integers or slices, not str\n",
      "Error processing row 12876: list indices must be integers or slices, not str\n"
     ]
    },
    {
     "name": "stderr",
     "output_type": "stream",
     "text": [
      "Processing Rows:  64%|██████▍   | 12887/20000 [31:31<13:04,  9.07it/s]"
     ]
    },
    {
     "name": "stdout",
     "output_type": "stream",
     "text": [
      "Error processing row 12884: list indices must be integers or slices, not str\n",
      "Error processing row 12885: list indices must be integers or slices, not str\n"
     ]
    },
    {
     "name": "stderr",
     "output_type": "stream",
     "text": [
      "Processing Rows:  64%|██████▍   | 12896/20000 [31:32<07:04, 16.72it/s]"
     ]
    },
    {
     "name": "stdout",
     "output_type": "stream",
     "text": [
      "Error processing row 12889: list indices must be integers or slices, not str\n",
      "Error processing row 12890: list indices must be integers or slices, not str\n",
      "Error processing row 12891: list indices must be integers or slices, not str\n",
      "Error processing row 12892: list indices must be integers or slices, not str\n",
      "Error processing row 12893: list indices must be integers or slices, not str\n",
      "Error processing row 12894: list indices must be integers or slices, not str\n"
     ]
    },
    {
     "name": "stderr",
     "output_type": "stream",
     "text": [
      "Processing Rows:  65%|██████▍   | 12901/20000 [31:33<11:18, 10.47it/s]"
     ]
    },
    {
     "name": "stdout",
     "output_type": "stream",
     "text": [
      "Error processing row 12901: list indices must be integers or slices, not str\n",
      "Error processing row 12902: list indices must be integers or slices, not str\n",
      "Error processing row 12903: list indices must be integers or slices, not str\n"
     ]
    },
    {
     "name": "stderr",
     "output_type": "stream",
     "text": [
      "Processing Rows:  65%|██████▍   | 12914/20000 [31:33<07:36, 15.53it/s]"
     ]
    },
    {
     "name": "stdout",
     "output_type": "stream",
     "text": [
      "Error processing row 12908: list indices must be integers or slices, not str\n",
      "Error processing row 12909: list indices must be integers or slices, not str\n",
      "Error processing row 12910: list indices must be integers or slices, not str\n",
      "Error processing row 12911: list indices must be integers or slices, not str\n",
      "Error processing row 12912: list indices must be integers or slices, not str\n"
     ]
    },
    {
     "name": "stderr",
     "output_type": "stream",
     "text": [
      "Processing Rows:  65%|██████▍   | 12920/20000 [31:34<13:10,  8.96it/s]"
     ]
    },
    {
     "name": "stdout",
     "output_type": "stream",
     "text": [
      "Error processing row 12919: list indices must be integers or slices, not str\n",
      "Error processing row 12920: list indices must be integers or slices, not str\n",
      "Error processing row 12921: list indices must be integers or slices, not str\n"
     ]
    },
    {
     "name": "stderr",
     "output_type": "stream",
     "text": [
      "Processing Rows:  65%|██████▍   | 12933/20000 [31:35<06:52, 17.13it/s]"
     ]
    },
    {
     "name": "stdout",
     "output_type": "stream",
     "text": [
      "Error processing row 12926: list indices must be integers or slices, not str\n",
      "Error processing row 12927: list indices must be integers or slices, not str\n",
      "Error processing row 12928: list indices must be integers or slices, not str\n",
      "Error processing row 12929: list indices must be integers or slices, not str\n",
      "Error processing row 12930: list indices must be integers or slices, not str\n"
     ]
    },
    {
     "name": "stderr",
     "output_type": "stream",
     "text": [
      "Processing Rows:  65%|██████▍   | 12935/20000 [31:35<07:56, 14.84it/s]"
     ]
    },
    {
     "name": "stdout",
     "output_type": "stream",
     "text": [
      "Error processing row 12935: list indices must be integers or slices, not str\n",
      "Error processing row 12936: list indices must be integers or slices, not str\n",
      "Error processing row 12937: list indices must be integers or slices, not str\n",
      "Error processing row 12938: list indices must be integers or slices, not str\n",
      "Error processing row 12939: list indices must be integers or slices, not str\n"
     ]
    },
    {
     "name": "stderr",
     "output_type": "stream",
     "text": [
      "Processing Rows:  65%|██████▍   | 12947/20000 [31:36<09:59, 11.76it/s]"
     ]
    },
    {
     "name": "stdout",
     "output_type": "stream",
     "text": [
      "Error processing row 12947: list indices must be integers or slices, not str\n",
      "Error processing row 12948: list indices must be integers or slices, not str\n"
     ]
    },
    {
     "name": "stderr",
     "output_type": "stream",
     "text": [
      "Processing Rows:  65%|██████▍   | 12960/20000 [31:38<08:29, 13.82it/s]"
     ]
    },
    {
     "name": "stdout",
     "output_type": "stream",
     "text": [
      "Error processing row 12955: list indices must be integers or slices, not str\n",
      "Error processing row 12956: list indices must be integers or slices, not str\n",
      "Error processing row 12957: list indices must be integers or slices, not str\n"
     ]
    },
    {
     "name": "stderr",
     "output_type": "stream",
     "text": [
      "Processing Rows:  65%|██████▍   | 12964/20000 [31:38<10:31, 11.13it/s]"
     ]
    },
    {
     "name": "stdout",
     "output_type": "stream",
     "text": [
      "Error processing row 12964: list indices must be integers or slices, not str\n",
      "Error processing row 12965: list indices must be integers or slices, not str\n",
      "Error processing row 12966: list indices must be integers or slices, not str\n"
     ]
    },
    {
     "name": "stderr",
     "output_type": "stream",
     "text": [
      "Processing Rows:  65%|██████▍   | 12983/20000 [31:41<19:35,  5.97it/s]"
     ]
    },
    {
     "name": "stdout",
     "output_type": "stream",
     "text": [
      "Error processing row 12983: list indices must be integers or slices, not str\n",
      "Error processing row 12984: list indices must be integers or slices, not str\n"
     ]
    },
    {
     "name": "stderr",
     "output_type": "stream",
     "text": [
      "Processing Rows:  65%|██████▍   | 12990/20000 [31:42<14:28,  8.07it/s]"
     ]
    },
    {
     "name": "stdout",
     "output_type": "stream",
     "text": [
      "Error processing row 12990: list indices must be integers or slices, not str\n",
      "Error processing row 12991: list indices must be integers or slices, not str\n",
      "Error processing row 12992: list indices must be integers or slices, not str\n",
      "Error processing row 12993: list indices must be integers or slices, not str\n"
     ]
    },
    {
     "name": "stderr",
     "output_type": "stream",
     "text": [
      "Processing Rows:  65%|██████▌   | 13004/20000 [31:43<11:26, 10.19it/s]"
     ]
    },
    {
     "name": "stdout",
     "output_type": "stream",
     "text": [
      "Error processing row 13001: list indices must be integers or slices, not str\n",
      "Error processing row 13002: list indices must be integers or slices, not str\n"
     ]
    },
    {
     "name": "stderr",
     "output_type": "stream",
     "text": [
      "Processing Rows:  65%|██████▌   | 13013/20000 [31:44<10:55, 10.66it/s]"
     ]
    },
    {
     "name": "stdout",
     "output_type": "stream",
     "text": [
      "Error processing row 13010: list indices must be integers or slices, not str\n",
      "Error processing row 13011: list indices must be integers or slices, not str\n"
     ]
    },
    {
     "name": "stderr",
     "output_type": "stream",
     "text": [
      "Processing Rows:  65%|██████▌   | 13023/20000 [31:45<11:54,  9.76it/s]"
     ]
    },
    {
     "name": "stdout",
     "output_type": "stream",
     "text": [
      "Error processing row 13018: list indices must be integers or slices, not str\n",
      "Error processing row 13019: list indices must be integers or slices, not str\n",
      "Error processing row 13020: list indices must be integers or slices, not str\n"
     ]
    },
    {
     "name": "stderr",
     "output_type": "stream",
     "text": [
      "Processing Rows:  65%|██████▌   | 13027/20000 [31:46<14:38,  7.94it/s]"
     ]
    },
    {
     "name": "stdout",
     "output_type": "stream",
     "text": [
      "Error processing row 13026: list indices must be integers or slices, not str\n",
      "Error processing row 13027: list indices must be integers or slices, not str\n",
      "Error processing row 13028: list indices must be integers or slices, not str\n",
      "Error processing row 13029: list indices must be integers or slices, not str\n"
     ]
    },
    {
     "name": "stderr",
     "output_type": "stream",
     "text": [
      "Processing Rows:  65%|██████▌   | 13034/20000 [31:46<10:13, 11.35it/s]"
     ]
    },
    {
     "name": "stdout",
     "output_type": "stream",
     "text": [
      "Error processing row 13034: list indices must be integers or slices, not str\n",
      "Error processing row 13035: list indices must be integers or slices, not str\n",
      "Error processing row 13036: list indices must be integers or slices, not str\n",
      "Error processing row 13037: list indices must be integers or slices, not str\n",
      "Error processing row 13038: list indices must be integers or slices, not str\n"
     ]
    },
    {
     "name": "stderr",
     "output_type": "stream",
     "text": [
      "Processing Rows:  65%|██████▌   | 13049/20000 [31:47<07:02, 16.44it/s]"
     ]
    },
    {
     "name": "stdout",
     "output_type": "stream",
     "text": [
      "Error processing row 13044: list indices must be integers or slices, not str\n",
      "Error processing row 13045: list indices must be integers or slices, not str\n",
      "Error processing row 13046: list indices must be integers or slices, not str\n",
      "Error processing row 13047: list indices must be integers or slices, not str\n"
     ]
    },
    {
     "name": "stderr",
     "output_type": "stream",
     "text": [
      "Processing Rows:  65%|██████▌   | 13064/20000 [31:50<15:31,  7.45it/s]"
     ]
    },
    {
     "name": "stdout",
     "output_type": "stream",
     "text": [
      "Error processing row 13064: list indices must be integers or slices, not str\n",
      "Error processing row 13065: list indices must be integers or slices, not str\n"
     ]
    },
    {
     "name": "stderr",
     "output_type": "stream",
     "text": [
      "Processing Rows:  65%|██████▌   | 13076/20000 [31:51<07:50, 14.73it/s]"
     ]
    },
    {
     "name": "stdout",
     "output_type": "stream",
     "text": [
      "Error processing row 13071: list indices must be integers or slices, not str\n",
      "Error processing row 13072: list indices must be integers or slices, not str\n",
      "Error processing row 13073: list indices must be integers or slices, not str\n",
      "Error processing row 13074: list indices must be integers or slices, not str\n"
     ]
    },
    {
     "name": "stderr",
     "output_type": "stream",
     "text": [
      "Processing Rows:  65%|██████▌   | 13086/20000 [31:51<07:58, 14.45it/s]"
     ]
    },
    {
     "name": "stdout",
     "output_type": "stream",
     "text": [
      "Error processing row 13083: list indices must be integers or slices, not str\n",
      "Error processing row 13085: list indices must be integers or slices, not str\n",
      "Error processing row 13086: list indices must be integers or slices, not str\n",
      "Error processing row 13087: list indices must be integers or slices, not str\n",
      "Error processing row 13088: list indices must be integers or slices, not str\n",
      "Error processing row 13089: list indices must be integers or slices, not str\n",
      "Error processing row 13090: list indices must be integers or slices, not str\n",
      "Error processing row 13091: list indices must be integers or slices, not str\n",
      "Error processing row 13092: list indices must be integers or slices, not str\n"
     ]
    },
    {
     "name": "stderr",
     "output_type": "stream",
     "text": [
      "Processing Rows:  66%|██████▌   | 13104/20000 [31:53<08:50, 13.00it/s]"
     ]
    },
    {
     "name": "stdout",
     "output_type": "stream",
     "text": [
      "Error processing row 13101: list indices must be integers or slices, not str\n"
     ]
    },
    {
     "name": "stderr",
     "output_type": "stream",
     "text": [
      "Processing Rows:  66%|██████▌   | 13106/20000 [31:53<08:06, 14.16it/s]"
     ]
    },
    {
     "name": "stdout",
     "output_type": "stream",
     "text": [
      "Error processing row 13105: list indices must be integers or slices, not str\n",
      "Error processing row 13106: list indices must be integers or slices, not str\n",
      "Error processing row 13107: list indices must be integers or slices, not str\n",
      "Error processing row 13108: list indices must be integers or slices, not str\n",
      "Error processing row 13109: list indices must be integers or slices, not str\n",
      "Error processing row 13110: list indices must be integers or slices, not str\n"
     ]
    },
    {
     "name": "stderr",
     "output_type": "stream",
     "text": [
      "Processing Rows:  66%|██████▌   | 13121/20000 [31:53<06:18, 18.19it/s]"
     ]
    },
    {
     "name": "stdout",
     "output_type": "stream",
     "text": [
      "Error processing row 13117: list indices must be integers or slices, not str\n",
      "Error processing row 13118: list indices must be integers or slices, not str\n",
      "Error processing row 13119: list indices must be integers or slices, not str\n"
     ]
    },
    {
     "name": "stderr",
     "output_type": "stream",
     "text": [
      "Processing Rows:  66%|██████▌   | 13136/20000 [31:56<23:44,  4.82it/s]"
     ]
    },
    {
     "name": "stdout",
     "output_type": "stream",
     "text": [
      "Error processing row 13136: list indices must be integers or slices, not str\n",
      "Error processing row 13137: list indices must be integers or slices, not str\n"
     ]
    },
    {
     "name": "stderr",
     "output_type": "stream",
     "text": [
      "Processing Rows:  66%|██████▌   | 13149/20000 [31:57<07:06, 16.05it/s]"
     ]
    },
    {
     "name": "stdout",
     "output_type": "stream",
     "text": [
      "Error processing row 13143: list indices must be integers or slices, not str\n",
      "Error processing row 13144: list indices must be integers or slices, not str\n",
      "Error processing row 13145: list indices must be integers or slices, not str\n",
      "Error processing row 13146: list indices must be integers or slices, not str\n"
     ]
    },
    {
     "name": "stderr",
     "output_type": "stream",
     "text": [
      "Processing Rows:  66%|██████▌   | 13175/20000 [32:01<08:16, 13.74it/s]"
     ]
    },
    {
     "name": "stdout",
     "output_type": "stream",
     "text": [
      "Error processing row 13171: list indices must be integers or slices, not str\n",
      "Error processing row 13172: list indices must be integers or slices, not str\n",
      "Error processing row 13173: list indices must be integers or slices, not str\n"
     ]
    },
    {
     "name": "stderr",
     "output_type": "stream",
     "text": [
      "Processing Rows:  66%|██████▌   | 13184/20000 [32:02<05:22, 21.15it/s]"
     ]
    },
    {
     "name": "stdout",
     "output_type": "stream",
     "text": [
      "Error processing row 13176: list indices must be integers or slices, not str\n",
      "Error processing row 13177: list indices must be integers or slices, not str\n",
      "Error processing row 13178: list indices must be integers or slices, not str\n",
      "Error processing row 13179: list indices must be integers or slices, not str\n",
      "Error processing row 13180: list indices must be integers or slices, not str\n",
      "Error processing row 13181: list indices must be integers or slices, not str\n",
      "Error processing row 13182: list indices must be integers or slices, not str\n"
     ]
    },
    {
     "name": "stderr",
     "output_type": "stream",
     "text": [
      "Processing Rows:  66%|██████▌   | 13193/20000 [32:03<11:36,  9.77it/s]"
     ]
    },
    {
     "name": "stdout",
     "output_type": "stream",
     "text": [
      "Error processing row 13190: list indices must be integers or slices, not str\n",
      "Error processing row 13191: list indices must be integers or slices, not str\n"
     ]
    },
    {
     "name": "stderr",
     "output_type": "stream",
     "text": [
      "Processing Rows:  66%|██████▌   | 13201/20000 [32:04<12:42,  8.91it/s]"
     ]
    },
    {
     "name": "stdout",
     "output_type": "stream",
     "text": [
      "Error processing row 13200: list indices must be integers or slices, not str\n"
     ]
    },
    {
     "name": "stderr",
     "output_type": "stream",
     "text": [
      "Processing Rows:  66%|██████▌   | 13209/20000 [32:05<15:07,  7.48it/s]"
     ]
    },
    {
     "name": "stdout",
     "output_type": "stream",
     "text": [
      "Error processing row 13209: list indices must be integers or slices, not str\n"
     ]
    },
    {
     "name": "stderr",
     "output_type": "stream",
     "text": [
      "Processing Rows:  66%|██████▌   | 13229/20000 [32:07<08:40, 13.00it/s]"
     ]
    },
    {
     "name": "stdout",
     "output_type": "stream",
     "text": [
      "Error processing row 13225: list indices must be integers or slices, not str\n",
      "Error processing row 13226: list indices must be integers or slices, not str\n",
      "Error processing row 13227: list indices must be integers or slices, not str\n"
     ]
    },
    {
     "name": "stderr",
     "output_type": "stream",
     "text": [
      "Processing Rows:  66%|██████▌   | 13238/20000 [32:07<04:18, 26.11it/s]"
     ]
    },
    {
     "name": "stdout",
     "output_type": "stream",
     "text": [
      "Error processing row 13230: list indices must be integers or slices, not str\n",
      "Error processing row 13231: list indices must be integers or slices, not str\n",
      "Error processing row 13232: list indices must be integers or slices, not str\n",
      "Error processing row 13233: list indices must be integers or slices, not str\n",
      "Error processing row 13234: list indices must be integers or slices, not str\n",
      "Error processing row 13235: list indices must be integers or slices, not str\n",
      "Error processing row 13236: list indices must be integers or slices, not str\n",
      "Error processing row 13238: list indices must be integers or slices, not str\n",
      "Error processing row 13239: list indices must be integers or slices, not str\n",
      "Error processing row 13240: list indices must be integers or slices, not str\n",
      "Error processing row 13241: list indices must be integers or slices, not str\n",
      "Error processing row 13242: list indices must be integers or slices, not str\n",
      "Error processing row 13243: list indices must be integers or slices, not str\n",
      "Error processing row 13244: list indices must be integers or slices, not str\n",
      "Error processing row 13245: list indices must be integers or slices, not str\n"
     ]
    },
    {
     "name": "stderr",
     "output_type": "stream",
     "text": [
      "Processing Rows:  66%|██████▋   | 13254/20000 [32:09<08:40, 12.96it/s]"
     ]
    },
    {
     "name": "stdout",
     "output_type": "stream",
     "text": [
      "Error processing row 13252: list indices must be integers or slices, not str\n",
      "Error processing row 13253: list indices must be integers or slices, not str\n",
      "Error processing row 13254: list indices must be integers or slices, not str\n"
     ]
    },
    {
     "name": "stderr",
     "output_type": "stream",
     "text": [
      "Processing Rows:  66%|██████▋   | 13265/20000 [32:10<10:16, 10.93it/s]"
     ]
    },
    {
     "name": "stdout",
     "output_type": "stream",
     "text": [
      "Error processing row 13263: list indices must be integers or slices, not str\n"
     ]
    },
    {
     "name": "stderr",
     "output_type": "stream",
     "text": [
      "Processing Rows:  66%|██████▋   | 13284/20000 [32:13<11:07, 10.06it/s]"
     ]
    },
    {
     "name": "stdout",
     "output_type": "stream",
     "text": [
      "Error processing row 13280: list indices must be integers or slices, not str\n",
      "Error processing row 13281: list indices must be integers or slices, not str\n"
     ]
    },
    {
     "name": "stderr",
     "output_type": "stream",
     "text": [
      "Processing Rows:  66%|██████▋   | 13292/20000 [32:13<08:16, 13.52it/s]"
     ]
    },
    {
     "name": "stdout",
     "output_type": "stream",
     "text": [
      "Error processing row 13287: list indices must be integers or slices, not str\n",
      "Error processing row 13288: list indices must be integers or slices, not str\n",
      "Error processing row 13289: list indices must be integers or slices, not str\n",
      "Error processing row 13290: list indices must be integers or slices, not str\n"
     ]
    },
    {
     "name": "stderr",
     "output_type": "stream",
     "text": [
      "Processing Rows:  66%|██████▋   | 13296/20000 [32:14<16:17,  6.86it/s]"
     ]
    },
    {
     "name": "stdout",
     "output_type": "stream",
     "text": [
      "Error processing row 13295: list indices must be integers or slices, not str\n",
      "Error processing row 13296: list indices must be integers or slices, not str\n",
      "Error processing row 13297: list indices must be integers or slices, not str\n",
      "Error processing row 13298: list indices must be integers or slices, not str\n",
      "Error processing row 13299: list indices must be integers or slices, not str\n"
     ]
    },
    {
     "name": "stderr",
     "output_type": "stream",
     "text": [
      "Processing Rows:  67%|██████▋   | 13310/20000 [32:15<09:35, 11.63it/s]"
     ]
    },
    {
     "name": "stdout",
     "output_type": "stream",
     "text": [
      "Error processing row 13307: list indices must be integers or slices, not str\n",
      "Error processing row 13308: list indices must be integers or slices, not str\n"
     ]
    },
    {
     "name": "stderr",
     "output_type": "stream",
     "text": [
      "Processing Rows:  67%|██████▋   | 13320/20000 [32:16<09:03, 12.28it/s]"
     ]
    },
    {
     "name": "stdout",
     "output_type": "stream",
     "text": [
      "Error processing row 13313: list indices must be integers or slices, not str\n",
      "Error processing row 13314: list indices must be integers or slices, not str\n",
      "Error processing row 13315: list indices must be integers or slices, not str\n",
      "Error processing row 13316: list indices must be integers or slices, not str\n",
      "Error processing row 13317: list indices must be integers or slices, not str\n",
      "Error processing row 13320: list indices must be integers or slices, not str\n",
      "Error processing row 13321: list indices must be integers or slices, not str\n",
      "Error processing row 13322: list indices must be integers or slices, not str\n",
      "Error processing row 13323: list indices must be integers or slices, not str\n",
      "Error processing row 13324: list indices must be integers or slices, not str\n",
      "Error processing row 13325: list indices must be integers or slices, not str\n",
      "Error processing row 13326: list indices must be integers or slices, not str\n"
     ]
    },
    {
     "name": "stderr",
     "output_type": "stream",
     "text": [
      "Processing Rows:  67%|██████▋   | 13332/20000 [32:17<09:45, 11.40it/s]"
     ]
    },
    {
     "name": "stdout",
     "output_type": "stream",
     "text": [
      "Error processing row 13332: list indices must be integers or slices, not str\n",
      "Error processing row 13333: list indices must be integers or slices, not str\n",
      "Error processing row 13334: list indices must be integers or slices, not str\n",
      "Error processing row 13335: list indices must be integers or slices, not str\n"
     ]
    },
    {
     "name": "stderr",
     "output_type": "stream",
     "text": [
      "Processing Rows:  67%|██████▋   | 13346/20000 [32:18<07:28, 14.83it/s]"
     ]
    },
    {
     "name": "stdout",
     "output_type": "stream",
     "text": [
      "Error processing row 13341: list indices must be integers or slices, not str\n",
      "Error processing row 13342: list indices must be integers or slices, not str\n",
      "Error processing row 13343: list indices must be integers or slices, not str\n",
      "Error processing row 13344: list indices must be integers or slices, not str\n"
     ]
    },
    {
     "name": "stderr",
     "output_type": "stream",
     "text": [
      "Processing Rows:  67%|██████▋   | 13355/20000 [32:19<07:47, 14.20it/s]"
     ]
    },
    {
     "name": "stdout",
     "output_type": "stream",
     "text": [
      "Error processing row 13351: list indices must be integers or slices, not str\n",
      "Error processing row 13352: list indices must be integers or slices, not str\n",
      "Error processing row 13353: list indices must be integers or slices, not str\n",
      "Error processing row 13355: list indices must be integers or slices, not str\n",
      "Error processing row 13356: list indices must be integers or slices, not str\n",
      "Error processing row 13357: list indices must be integers or slices, not str\n",
      "Error processing row 13358: list indices must be integers or slices, not str\n",
      "Error processing row 13359: list indices must be integers or slices, not str\n",
      "Error processing row 13360: list indices must be integers or slices, not str\n",
      "Error processing row 13361: list indices must be integers or slices, not str\n"
     ]
    },
    {
     "name": "stderr",
     "output_type": "stream",
     "text": [
      "Processing Rows:  67%|██████▋   | 13370/20000 [32:20<06:54, 16.01it/s]"
     ]
    },
    {
     "name": "stdout",
     "output_type": "stream",
     "text": [
      "Error processing row 13369: list indices must be integers or slices, not str\n",
      "Error processing row 13370: list indices must be integers or slices, not str\n"
     ]
    },
    {
     "name": "stderr",
     "output_type": "stream",
     "text": [
      "Processing Rows:  67%|██████▋   | 13376/20000 [32:20<07:36, 14.50it/s]"
     ]
    },
    {
     "name": "stdout",
     "output_type": "stream",
     "text": [
      "Error processing row 13375: list indices must be integers or slices, not str\n",
      "Error processing row 13376: list indices must be integers or slices, not str\n",
      "Error processing row 13377: list indices must be integers or slices, not str\n",
      "Error processing row 13378: list indices must be integers or slices, not str\n",
      "Error processing row 13379: list indices must be integers or slices, not str\n"
     ]
    },
    {
     "name": "stderr",
     "output_type": "stream",
     "text": [
      "Processing Rows:  67%|██████▋   | 13390/20000 [32:21<04:09, 26.48it/s]"
     ]
    },
    {
     "name": "stdout",
     "output_type": "stream",
     "text": [
      "Error processing row 13381: list indices must be integers or slices, not str\n",
      "Error processing row 13382: list indices must be integers or slices, not str\n",
      "Error processing row 13383: list indices must be integers or slices, not str\n",
      "Error processing row 13384: list indices must be integers or slices, not str\n",
      "Error processing row 13385: list indices must be integers or slices, not str\n",
      "Error processing row 13386: list indices must be integers or slices, not str\n",
      "Error processing row 13387: list indices must be integers or slices, not str\n",
      "Error processing row 13388: list indices must be integers or slices, not str\n"
     ]
    },
    {
     "name": "stderr",
     "output_type": "stream",
     "text": [
      "Processing Rows:  67%|██████▋   | 13397/20000 [32:21<08:00, 13.74it/s]"
     ]
    },
    {
     "name": "stdout",
     "output_type": "stream",
     "text": [
      "Error processing row 13395: list indices must be integers or slices, not str\n",
      "Error processing row 13396: list indices must be integers or slices, not str\n",
      "Error processing row 13397: list indices must be integers or slices, not str\n"
     ]
    },
    {
     "name": "stderr",
     "output_type": "stream",
     "text": [
      "Processing Rows:  67%|██████▋   | 13409/20000 [32:22<06:11, 17.73it/s]"
     ]
    },
    {
     "name": "stdout",
     "output_type": "stream",
     "text": [
      "Error processing row 13402: list indices must be integers or slices, not str\n",
      "Error processing row 13403: list indices must be integers or slices, not str\n",
      "Error processing row 13404: list indices must be integers or slices, not str\n",
      "Error processing row 13405: list indices must be integers or slices, not str\n",
      "Error processing row 13406: list indices must be integers or slices, not str\n"
     ]
    },
    {
     "name": "stderr",
     "output_type": "stream",
     "text": [
      "Processing Rows:  67%|██████▋   | 13417/20000 [32:23<07:24, 14.81it/s]"
     ]
    },
    {
     "name": "stdout",
     "output_type": "stream",
     "text": [
      "Error processing row 13413: list indices must be integers or slices, not str\n",
      "Error processing row 13414: list indices must be integers or slices, not str\n",
      "Error processing row 13415: list indices must be integers or slices, not str\n"
     ]
    },
    {
     "name": "stderr",
     "output_type": "stream",
     "text": [
      "Processing Rows:  67%|██████▋   | 13426/20000 [32:23<06:50, 16.01it/s]"
     ]
    },
    {
     "name": "stdout",
     "output_type": "stream",
     "text": [
      "Error processing row 13421: list indices must be integers or slices, not str\n",
      "Error processing row 13422: list indices must be integers or slices, not str\n",
      "Error processing row 13423: list indices must be integers or slices, not str\n",
      "Error processing row 13424: list indices must be integers or slices, not str\n"
     ]
    },
    {
     "name": "stderr",
     "output_type": "stream",
     "text": [
      "Processing Rows:  67%|██████▋   | 13435/20000 [32:24<08:29, 12.88it/s]"
     ]
    },
    {
     "name": "stdout",
     "output_type": "stream",
     "text": [
      "Error processing row 13432: list indices must be integers or slices, not str\n",
      "Error processing row 13433: list indices must be integers or slices, not str\n"
     ]
    },
    {
     "name": "stderr",
     "output_type": "stream",
     "text": [
      "Processing Rows:  67%|██████▋   | 13441/20000 [32:25<10:21, 10.55it/s]"
     ]
    },
    {
     "name": "stdout",
     "output_type": "stream",
     "text": [
      "Error processing row 13440: list indices must be integers or slices, not str\n",
      "Error processing row 13441: list indices must be integers or slices, not str\n",
      "Error processing row 13442: list indices must be integers or slices, not str\n"
     ]
    },
    {
     "name": "stderr",
     "output_type": "stream",
     "text": [
      "Processing Rows:  67%|██████▋   | 13453/20000 [32:26<09:24, 11.61it/s]"
     ]
    },
    {
     "name": "stdout",
     "output_type": "stream",
     "text": [
      "Error processing row 13449: list indices must be integers or slices, not str\n",
      "Error processing row 13450: list indices must be integers or slices, not str\n",
      "Error processing row 13451: list indices must be integers or slices, not str\n"
     ]
    },
    {
     "name": "stderr",
     "output_type": "stream",
     "text": [
      "Processing Rows:  67%|██████▋   | 13471/20000 [32:28<05:21, 20.31it/s]"
     ]
    },
    {
     "name": "stdout",
     "output_type": "stream",
     "text": [
      "Error processing row 13459: list indices must be integers or slices, not str\n",
      "Error processing row 13460: list indices must be integers or slices, not str\n",
      "Error processing row 13462: list indices must be integers or slices, not str\n",
      "Error processing row 13463: list indices must be integers or slices, not str\n",
      "Error processing row 13464: list indices must be integers or slices, not str\n",
      "Error processing row 13465: list indices must be integers or slices, not str\n",
      "Error processing row 13466: list indices must be integers or slices, not str\n",
      "Error processing row 13467: list indices must be integers or slices, not str\n",
      "Error processing row 13468: list indices must be integers or slices, not str\n",
      "Error processing row 13469: list indices must be integers or slices, not str\n"
     ]
    },
    {
     "name": "stderr",
     "output_type": "stream",
     "text": [
      "Processing Rows:  67%|██████▋   | 13480/20000 [32:29<13:28,  8.07it/s]"
     ]
    },
    {
     "name": "stdout",
     "output_type": "stream",
     "text": [
      "Error processing row 13478: list indices must be integers or slices, not str\n"
     ]
    },
    {
     "name": "stderr",
     "output_type": "stream",
     "text": [
      "Processing Rows:  67%|██████▋   | 13489/20000 [32:30<07:01, 15.45it/s]"
     ]
    },
    {
     "name": "stdout",
     "output_type": "stream",
     "text": [
      "Error processing row 13482: list indices must be integers or slices, not str\n",
      "Error processing row 13483: list indices must be integers or slices, not str\n",
      "Error processing row 13484: list indices must be integers or slices, not str\n",
      "Error processing row 13485: list indices must be integers or slices, not str\n",
      "Error processing row 13486: list indices must be integers or slices, not str\n",
      "Error processing row 13487: list indices must be integers or slices, not str\n"
     ]
    },
    {
     "name": "stderr",
     "output_type": "stream",
     "text": [
      "Processing Rows:  67%|██████▋   | 13499/20000 [32:30<08:13, 13.18it/s]"
     ]
    },
    {
     "name": "stdout",
     "output_type": "stream",
     "text": [
      "Error processing row 13495: list indices must be integers or slices, not str\n",
      "Error processing row 13496: list indices must be integers or slices, not str\n"
     ]
    },
    {
     "name": "stderr",
     "output_type": "stream",
     "text": [
      "Processing Rows:  68%|██████▊   | 13507/20000 [32:31<09:25, 11.49it/s]"
     ]
    },
    {
     "name": "stdout",
     "output_type": "stream",
     "text": [
      "Error processing row 13504: list indices must be integers or slices, not str\n",
      "Error processing row 13505: list indices must be integers or slices, not str\n"
     ]
    },
    {
     "name": "stderr",
     "output_type": "stream",
     "text": [
      "Processing Rows:  68%|██████▊   | 13525/20000 [32:33<05:22, 20.09it/s]"
     ]
    },
    {
     "name": "stdout",
     "output_type": "stream",
     "text": [
      "Error processing row 13517: list indices must be integers or slices, not str\n",
      "Error processing row 13518: list indices must be integers or slices, not str\n",
      "Error processing row 13519: list indices must be integers or slices, not str\n",
      "Error processing row 13520: list indices must be integers or slices, not str\n",
      "Error processing row 13521: list indices must be integers or slices, not str\n",
      "Error processing row 13522: list indices must be integers or slices, not str\n",
      "Error processing row 13523: list indices must be integers or slices, not str\n"
     ]
    },
    {
     "name": "stderr",
     "output_type": "stream",
     "text": [
      "Processing Rows:  68%|██████▊   | 13534/20000 [32:33<03:43, 28.87it/s]"
     ]
    },
    {
     "name": "stdout",
     "output_type": "stream",
     "text": [
      "Error processing row 13526: list indices must be integers or slices, not str\n",
      "Error processing row 13527: list indices must be integers or slices, not str\n",
      "Error processing row 13528: list indices must be integers or slices, not str\n",
      "Error processing row 13529: list indices must be integers or slices, not str\n",
      "Error processing row 13530: list indices must be integers or slices, not str\n",
      "Error processing row 13531: list indices must be integers or slices, not str\n",
      "Error processing row 13532: list indices must be integers or slices, not str\n"
     ]
    },
    {
     "name": "stderr",
     "output_type": "stream",
     "text": [
      "Processing Rows:  68%|██████▊   | 13543/20000 [32:33<03:55, 27.41it/s]"
     ]
    },
    {
     "name": "stdout",
     "output_type": "stream",
     "text": [
      "Error processing row 13536: list indices must be integers or slices, not str\n",
      "Error processing row 13537: list indices must be integers or slices, not str\n",
      "Error processing row 13538: list indices must be integers or slices, not str\n",
      "Error processing row 13539: list indices must be integers or slices, not str\n",
      "Error processing row 13540: list indices must be integers or slices, not str\n",
      "Error processing row 13541: list indices must be integers or slices, not str\n"
     ]
    },
    {
     "name": "stderr",
     "output_type": "stream",
     "text": [
      "Processing Rows:  68%|██████▊   | 13553/20000 [32:34<06:58, 15.40it/s]"
     ]
    },
    {
     "name": "stdout",
     "output_type": "stream",
     "text": [
      "Error processing row 13550: list indices must be integers or slices, not str\n"
     ]
    },
    {
     "name": "stderr",
     "output_type": "stream",
     "text": [
      "Processing Rows:  68%|██████▊   | 13559/20000 [32:35<08:56, 12.01it/s]"
     ]
    },
    {
     "name": "stdout",
     "output_type": "stream",
     "text": [
      "Error processing row 13559: list indices must be integers or slices, not str\n"
     ]
    },
    {
     "name": "stderr",
     "output_type": "stream",
     "text": [
      "Processing Rows:  68%|██████▊   | 13570/20000 [32:36<13:07,  8.16it/s]"
     ]
    },
    {
     "name": "stdout",
     "output_type": "stream",
     "text": [
      "Error processing row 13567: list indices must be integers or slices, not str\n",
      "Error processing row 13568: list indices must be integers or slices, not str\n"
     ]
    },
    {
     "name": "stderr",
     "output_type": "stream",
     "text": [
      "Processing Rows:  68%|██████▊   | 13576/20000 [32:38<30:22,  3.53it/s]"
     ]
    },
    {
     "name": "stdout",
     "output_type": "stream",
     "text": [
      "Error processing row 13576: list indices must be integers or slices, not str\n",
      "Error processing row 13577: list indices must be integers or slices, not str\n"
     ]
    },
    {
     "name": "stderr",
     "output_type": "stream",
     "text": [
      "Processing Rows:  68%|██████▊   | 13593/20000 [32:41<15:01,  7.10it/s]"
     ]
    },
    {
     "name": "stdout",
     "output_type": "stream",
     "text": [
      "Error processing row 13593: list indices must be integers or slices, not str\n",
      "Error processing row 13594: list indices must be integers or slices, not str\n",
      "Error processing row 13595: list indices must be integers or slices, not str\n"
     ]
    },
    {
     "name": "stderr",
     "output_type": "stream",
     "text": [
      "Processing Rows:  68%|██████▊   | 13633/20000 [32:45<07:15, 14.62it/s]"
     ]
    },
    {
     "name": "stdout",
     "output_type": "stream",
     "text": [
      "Error processing row 13625: list indices must be integers or slices, not str\n",
      "Error processing row 13626: list indices must be integers or slices, not str\n",
      "Error processing row 13627: list indices must be integers or slices, not str\n",
      "Error processing row 13628: list indices must be integers or slices, not str\n",
      "Error processing row 13629: list indices must be integers or slices, not str\n",
      "Error processing row 13630: list indices must be integers or slices, not str\n",
      "Error processing row 13631: list indices must be integers or slices, not str\n"
     ]
    },
    {
     "name": "stderr",
     "output_type": "stream",
     "text": [
      "Processing Rows:  68%|██████▊   | 13647/20000 [32:48<15:29,  6.83it/s]"
     ]
    },
    {
     "name": "stdout",
     "output_type": "stream",
     "text": [
      "Error processing row 13647: list indices must be integers or slices, not str\n",
      "Error processing row 13648: list indices must be integers or slices, not str\n",
      "Error processing row 13649: list indices must be integers or slices, not str\n"
     ]
    },
    {
     "name": "stderr",
     "output_type": "stream",
     "text": [
      "Processing Rows:  68%|██████▊   | 13687/20000 [32:52<04:08, 25.39it/s]"
     ]
    },
    {
     "name": "stdout",
     "output_type": "stream",
     "text": [
      "Error processing row 13678: list indices must be integers or slices, not str\n",
      "Error processing row 13679: list indices must be integers or slices, not str\n",
      "Error processing row 13680: list indices must be integers or slices, not str\n",
      "Error processing row 13681: list indices must be integers or slices, not str\n",
      "Error processing row 13682: list indices must be integers or slices, not str\n",
      "Error processing row 13683: list indices must be integers or slices, not str\n",
      "Error processing row 13684: list indices must be integers or slices, not str\n",
      "Error processing row 13685: list indices must be integers or slices, not str\n"
     ]
    },
    {
     "name": "stderr",
     "output_type": "stream",
     "text": [
      "Processing Rows:  68%|██████▊   | 13696/20000 [32:52<03:41, 28.41it/s]"
     ]
    },
    {
     "name": "stdout",
     "output_type": "stream",
     "text": [
      "Error processing row 13689: list indices must be integers or slices, not str\n",
      "Error processing row 13690: list indices must be integers or slices, not str\n",
      "Error processing row 13691: list indices must be integers or slices, not str\n",
      "Error processing row 13692: list indices must be integers or slices, not str\n",
      "Error processing row 13693: list indices must be integers or slices, not str\n",
      "Error processing row 13694: list indices must be integers or slices, not str\n"
     ]
    },
    {
     "name": "stderr",
     "output_type": "stream",
     "text": [
      "Processing Rows:  69%|██████▊   | 13706/20000 [32:53<06:46, 15.47it/s]"
     ]
    },
    {
     "name": "stdout",
     "output_type": "stream",
     "text": [
      "Error processing row 13699: list indices must be integers or slices, not str\n",
      "Error processing row 13700: list indices must be integers or slices, not str\n",
      "Error processing row 13701: list indices must be integers or slices, not str\n",
      "Error processing row 13702: list indices must be integers or slices, not str\n",
      "Error processing row 13703: list indices must be integers or slices, not str\n"
     ]
    },
    {
     "name": "stderr",
     "output_type": "stream",
     "text": [
      "Processing Rows:  69%|██████▊   | 13721/20000 [32:56<18:53,  5.54it/s]"
     ]
    },
    {
     "name": "stdout",
     "output_type": "stream",
     "text": [
      "Error processing row 13721: list indices must be integers or slices, not str\n"
     ]
    },
    {
     "name": "stderr",
     "output_type": "stream",
     "text": [
      "Processing Rows:  69%|██████▊   | 13738/20000 [32:58<11:08,  9.37it/s]"
     ]
    },
    {
     "name": "stdout",
     "output_type": "stream",
     "text": [
      "Error processing row 13735: list indices must be integers or slices, not str\n",
      "Error processing row 13736: list indices must be integers or slices, not str\n"
     ]
    },
    {
     "name": "stderr",
     "output_type": "stream",
     "text": [
      "Processing Rows:  69%|██████▊   | 13748/20000 [33:00<09:15, 11.26it/s]"
     ]
    },
    {
     "name": "stdout",
     "output_type": "stream",
     "text": [
      "Error processing row 13743: list indices must be integers or slices, not str\n",
      "Error processing row 13744: list indices must be integers or slices, not str\n",
      "Error processing row 13745: list indices must be integers or slices, not str\n"
     ]
    },
    {
     "name": "stderr",
     "output_type": "stream",
     "text": [
      "Processing Rows:  69%|██████▉   | 13756/20000 [33:00<09:01, 11.53it/s]"
     ]
    },
    {
     "name": "stdout",
     "output_type": "stream",
     "text": [
      "Error processing row 13752: list indices must be integers or slices, not str\n",
      "Error processing row 13753: list indices must be integers or slices, not str\n",
      "Error processing row 13754: list indices must be integers or slices, not str\n"
     ]
    },
    {
     "name": "stderr",
     "output_type": "stream",
     "text": [
      "Processing Rows:  69%|██████▉   | 13765/20000 [33:01<05:09, 20.16it/s]"
     ]
    },
    {
     "name": "stdout",
     "output_type": "stream",
     "text": [
      "Error processing row 13758: list indices must be integers or slices, not str\n",
      "Error processing row 13759: list indices must be integers or slices, not str\n",
      "Error processing row 13760: list indices must be integers or slices, not str\n",
      "Error processing row 13761: list indices must be integers or slices, not str\n",
      "Error processing row 13762: list indices must be integers or slices, not str\n",
      "Error processing row 13763: list indices must be integers or slices, not str\n"
     ]
    },
    {
     "name": "stderr",
     "output_type": "stream",
     "text": [
      "Processing Rows:  69%|██████▉   | 13771/20000 [33:01<08:11, 12.68it/s]"
     ]
    },
    {
     "name": "stdout",
     "output_type": "stream",
     "text": [
      "Error processing row 13770: list indices must be integers or slices, not str\n",
      "Error processing row 13771: list indices must be integers or slices, not str\n",
      "Error processing row 13772: list indices must be integers or slices, not str\n"
     ]
    },
    {
     "name": "stderr",
     "output_type": "stream",
     "text": [
      "Processing Rows:  69%|██████▉   | 13783/20000 [33:03<09:08, 11.34it/s]"
     ]
    },
    {
     "name": "stdout",
     "output_type": "stream",
     "text": [
      "Error processing row 13779: list indices must be integers or slices, not str\n",
      "Error processing row 13780: list indices must be integers or slices, not str\n",
      "Error processing row 13781: list indices must be integers or slices, not str\n"
     ]
    },
    {
     "name": "stderr",
     "output_type": "stream",
     "text": [
      "Processing Rows:  69%|██████▉   | 13801/20000 [33:06<14:20,  7.20it/s]"
     ]
    },
    {
     "name": "stdout",
     "output_type": "stream",
     "text": [
      "Error processing row 13799: list indices must be integers or slices, not str\n"
     ]
    },
    {
     "name": "stderr",
     "output_type": "stream",
     "text": [
      "Processing Rows:  69%|██████▉   | 13804/20000 [33:06<16:16,  6.35it/s]"
     ]
    },
    {
     "name": "stdout",
     "output_type": "stream",
     "text": [
      "Error processing row 13804: list indices must be integers or slices, not str\n",
      "Error processing row 13805: list indices must be integers or slices, not str\n",
      "Error processing row 13806: list indices must be integers or slices, not str\n",
      "Error processing row 13807: list indices must be integers or slices, not str\n",
      "Error processing row 13808: list indices must be integers or slices, not str\n"
     ]
    },
    {
     "name": "stderr",
     "output_type": "stream",
     "text": [
      "Processing Rows:  69%|██████▉   | 13819/20000 [33:07<04:51, 21.17it/s]"
     ]
    },
    {
     "name": "stdout",
     "output_type": "stream",
     "text": [
      "Error processing row 13812: list indices must be integers or slices, not str\n",
      "Error processing row 13813: list indices must be integers or slices, not str\n",
      "Error processing row 13814: list indices must be integers or slices, not str\n",
      "Error processing row 13815: list indices must be integers or slices, not str\n",
      "Error processing row 13816: list indices must be integers or slices, not str\n",
      "Error processing row 13817: list indices must be integers or slices, not str\n",
      "Error processing row 13819: list indices must be integers or slices, not str\n",
      "Error processing row 13820: list indices must be integers or slices, not str\n",
      "Error processing row 13821: list indices must be integers or slices, not str\n",
      "Error processing row 13822: list indices must be integers or slices, not str\n",
      "Error processing row 13823: list indices must be integers or slices, not str\n",
      "Error processing row 13824: list indices must be integers or slices, not str\n",
      "Error processing row 13825: list indices must be integers or slices, not str\n",
      "Error processing row 13826: list indices must be integers or slices, not str\n"
     ]
    },
    {
     "name": "stderr",
     "output_type": "stream",
     "text": [
      "Processing Rows:  69%|██████▉   | 13837/20000 [33:07<03:29, 29.49it/s]"
     ]
    },
    {
     "name": "stdout",
     "output_type": "stream",
     "text": [
      "Error processing row 13831: list indices must be integers or slices, not str\n",
      "Error processing row 13832: list indices must be integers or slices, not str\n",
      "Error processing row 13833: list indices must be integers or slices, not str\n",
      "Error processing row 13834: list indices must be integers or slices, not str\n",
      "Error processing row 13835: list indices must be integers or slices, not str\n"
     ]
    },
    {
     "name": "stderr",
     "output_type": "stream",
     "text": [
      "Processing Rows:  69%|██████▉   | 13846/20000 [33:08<04:34, 22.40it/s]"
     ]
    },
    {
     "name": "stdout",
     "output_type": "stream",
     "text": [
      "Error processing row 13840: list indices must be integers or slices, not str\n",
      "Error processing row 13841: list indices must be integers or slices, not str\n",
      "Error processing row 13842: list indices must be integers or slices, not str\n",
      "Error processing row 13843: list indices must be integers or slices, not str\n",
      "Error processing row 13844: list indices must be integers or slices, not str\n"
     ]
    },
    {
     "name": "stderr",
     "output_type": "stream",
     "text": [
      "Processing Rows:  69%|██████▉   | 13855/20000 [33:09<06:25, 15.95it/s]"
     ]
    },
    {
     "name": "stdout",
     "output_type": "stream",
     "text": [
      "Error processing row 13851: list indices must be integers or slices, not str\n",
      "Error processing row 13852: list indices must be integers or slices, not str\n",
      "Error processing row 13853: list indices must be integers or slices, not str\n"
     ]
    },
    {
     "name": "stderr",
     "output_type": "stream",
     "text": [
      "Processing Rows:  69%|██████▉   | 13864/20000 [33:10<07:11, 14.21it/s]"
     ]
    },
    {
     "name": "stdout",
     "output_type": "stream",
     "text": [
      "Error processing row 13861: list indices must be integers or slices, not str\n",
      "Error processing row 13862: list indices must be integers or slices, not str\n"
     ]
    },
    {
     "name": "stderr",
     "output_type": "stream",
     "text": [
      "Processing Rows:  69%|██████▉   | 13874/20000 [33:10<05:55, 17.23it/s]"
     ]
    },
    {
     "name": "stdout",
     "output_type": "stream",
     "text": [
      "Error processing row 13867: list indices must be integers or slices, not str\n",
      "Error processing row 13868: list indices must be integers or slices, not str\n",
      "Error processing row 13869: list indices must be integers or slices, not str\n",
      "Error processing row 13870: list indices must be integers or slices, not str\n",
      "Error processing row 13871: list indices must be integers or slices, not str\n"
     ]
    },
    {
     "name": "stderr",
     "output_type": "stream",
     "text": [
      "Processing Rows:  69%|██████▉   | 13882/20000 [33:11<05:48, 17.57it/s]"
     ]
    },
    {
     "name": "stdout",
     "output_type": "stream",
     "text": [
      "Error processing row 13877: list indices must be integers or slices, not str\n",
      "Error processing row 13878: list indices must be integers or slices, not str\n",
      "Error processing row 13879: list indices must be integers or slices, not str\n",
      "Error processing row 13880: list indices must be integers or slices, not str\n"
     ]
    },
    {
     "name": "stderr",
     "output_type": "stream",
     "text": [
      "Processing Rows:  69%|██████▉   | 13892/20000 [33:12<06:36, 15.40it/s]"
     ]
    },
    {
     "name": "stdout",
     "output_type": "stream",
     "text": [
      "Error processing row 13885: list indices must be integers or slices, not str\n",
      "Error processing row 13886: list indices must be integers or slices, not str\n",
      "Error processing row 13887: list indices must be integers or slices, not str\n",
      "Error processing row 13888: list indices must be integers or slices, not str\n",
      "Error processing row 13889: list indices must be integers or slices, not str\n"
     ]
    },
    {
     "name": "stderr",
     "output_type": "stream",
     "text": [
      "Processing Rows:  69%|██████▉   | 13895/20000 [33:12<08:42, 11.68it/s]"
     ]
    },
    {
     "name": "stdout",
     "output_type": "stream",
     "text": [
      "Error processing row 13895: list indices must be integers or slices, not str\n",
      "Error processing row 13896: list indices must be integers or slices, not str\n",
      "Error processing row 13897: list indices must be integers or slices, not str\n",
      "Error processing row 13898: list indices must be integers or slices, not str\n"
     ]
    },
    {
     "name": "stderr",
     "output_type": "stream",
     "text": [
      "Processing Rows:  70%|██████▉   | 13918/20000 [33:14<08:11, 12.38it/s]"
     ]
    },
    {
     "name": "stdout",
     "output_type": "stream",
     "text": [
      "Error processing row 13915: list indices must be integers or slices, not str\n",
      "Error processing row 13916: list indices must be integers or slices, not str\n",
      "Error processing row 13918: list indices must be integers or slices, not str\n",
      "Error processing row 13919: list indices must be integers or slices, not str\n",
      "Error processing row 13920: list indices must be integers or slices, not str\n",
      "Error processing row 13921: list indices must be integers or slices, not str\n",
      "Error processing row 13922: list indices must be integers or slices, not str\n",
      "Error processing row 13923: list indices must be integers or slices, not str\n",
      "Error processing row 13924: list indices must be integers or slices, not str\n",
      "Error processing row 13925: list indices must be integers or slices, not str\n"
     ]
    },
    {
     "name": "stderr",
     "output_type": "stream",
     "text": [
      "Processing Rows:  70%|██████▉   | 13936/20000 [33:15<04:11, 24.16it/s]"
     ]
    },
    {
     "name": "stdout",
     "output_type": "stream",
     "text": [
      "Error processing row 13929: list indices must be integers or slices, not str\n",
      "Error processing row 13930: list indices must be integers or slices, not str\n",
      "Error processing row 13931: list indices must be integers or slices, not str\n",
      "Error processing row 13932: list indices must be integers or slices, not str\n",
      "Error processing row 13933: list indices must be integers or slices, not str\n",
      "Error processing row 13934: list indices must be integers or slices, not str\n"
     ]
    },
    {
     "name": "stderr",
     "output_type": "stream",
     "text": [
      "Processing Rows:  70%|██████▉   | 13946/20000 [33:15<06:28, 15.58it/s]"
     ]
    },
    {
     "name": "stdout",
     "output_type": "stream",
     "text": [
      "Error processing row 13941: list indices must be integers or slices, not str\n",
      "Error processing row 13942: list indices must be integers or slices, not str\n",
      "Error processing row 13943: list indices must be integers or slices, not str\n"
     ]
    },
    {
     "name": "stderr",
     "output_type": "stream",
     "text": [
      "Processing Rows:  70%|██████▉   | 13950/20000 [33:16<08:13, 12.27it/s]"
     ]
    },
    {
     "name": "stdout",
     "output_type": "stream",
     "text": [
      "Error processing row 13950: list indices must be integers or slices, not str\n",
      "Error processing row 13951: list indices must be integers or slices, not str\n",
      "Error processing row 13952: list indices must be integers or slices, not str\n"
     ]
    },
    {
     "name": "stderr",
     "output_type": "stream",
     "text": [
      "Processing Rows:  70%|██████▉   | 13963/20000 [33:17<05:52, 17.15it/s]"
     ]
    },
    {
     "name": "stdout",
     "output_type": "stream",
     "text": [
      "Error processing row 13959: list indices must be integers or slices, not str\n",
      "Error processing row 13960: list indices must be integers or slices, not str\n",
      "Error processing row 13961: list indices must be integers or slices, not str\n"
     ]
    },
    {
     "name": "stderr",
     "output_type": "stream",
     "text": [
      "Processing Rows:  70%|██████▉   | 13981/20000 [33:17<03:23, 29.60it/s]"
     ]
    },
    {
     "name": "stdout",
     "output_type": "stream",
     "text": [
      "Error processing row 13968: list indices must be integers or slices, not str\n",
      "Error processing row 13969: list indices must be integers or slices, not str\n",
      "Error processing row 13970: list indices must be integers or slices, not str\n",
      "Error processing row 13971: list indices must be integers or slices, not str\n",
      "Error processing row 13972: list indices must be integers or slices, not str\n",
      "Error processing row 13973: list indices must be integers or slices, not str\n",
      "Error processing row 13974: list indices must be integers or slices, not str\n",
      "Error processing row 13975: list indices must be integers or slices, not str\n",
      "Error processing row 13976: list indices must be integers or slices, not str\n",
      "Error processing row 13977: list indices must be integers or slices, not str\n",
      "Error processing row 13978: list indices must be integers or slices, not str\n",
      "Error processing row 13979: list indices must be integers or slices, not str\n"
     ]
    },
    {
     "name": "stderr",
     "output_type": "stream",
     "text": [
      "Processing Rows:  70%|██████▉   | 13988/20000 [33:18<05:27, 18.37it/s]"
     ]
    },
    {
     "name": "stdout",
     "output_type": "stream",
     "text": [
      "Error processing row 13987: list indices must be integers or slices, not str\n",
      "Error processing row 13988: list indices must be integers or slices, not str\n"
     ]
    },
    {
     "name": "stderr",
     "output_type": "stream",
     "text": [
      "Processing Rows:  70%|██████▉   | 13999/20000 [33:19<06:19, 15.80it/s]"
     ]
    },
    {
     "name": "stdout",
     "output_type": "stream",
     "text": [
      "Error processing row 13995: list indices must be integers or slices, not str\n",
      "Error processing row 13996: list indices must be integers or slices, not str\n",
      "Error processing row 13997: list indices must be integers or slices, not str\n"
     ]
    },
    {
     "name": "stderr",
     "output_type": "stream",
     "text": [
      "Processing Rows:  70%|███████   | 14005/20000 [33:19<09:53, 10.11it/s]"
     ]
    },
    {
     "name": "stdout",
     "output_type": "stream",
     "text": [
      "Error processing row 14005: list indices must be integers or slices, not str\n",
      "Error processing row 14006: list indices must be integers or slices, not str\n"
     ]
    },
    {
     "name": "stderr",
     "output_type": "stream",
     "text": [
      "Processing Rows:  70%|███████   | 14017/20000 [33:20<07:02, 14.17it/s]"
     ]
    },
    {
     "name": "stdout",
     "output_type": "stream",
     "text": [
      "Error processing row 14013: list indices must be integers or slices, not str\n",
      "Error processing row 14014: list indices must be integers or slices, not str\n",
      "Error processing row 14015: list indices must be integers or slices, not str\n"
     ]
    },
    {
     "name": "stderr",
     "output_type": "stream",
     "text": [
      "Processing Rows:  70%|███████   | 14021/20000 [33:21<11:44,  8.49it/s]"
     ]
    },
    {
     "name": "stdout",
     "output_type": "stream",
     "text": [
      "Error processing row 14020: list indices must be integers or slices, not str\n",
      "Error processing row 14021: list indices must be integers or slices, not str\n",
      "Error processing row 14022: list indices must be integers or slices, not str\n",
      "Error processing row 14023: list indices must be integers or slices, not str\n",
      "Error processing row 14024: list indices must be integers or slices, not str\n"
     ]
    },
    {
     "name": "stderr",
     "output_type": "stream",
     "text": [
      "Processing Rows:  83%|████████▎ | 16672/20000 [40:26<04:46, 11.62it/s]"
     ]
    },
    {
     "name": "stdout",
     "output_type": "stream",
     "text": [
      "Error processing row 16670: list indices must be integers or slices, not str\n"
     ]
    },
    {
     "name": "stderr",
     "output_type": "stream",
     "text": [
      "Processing Rows:  84%|████████▎ | 16724/20000 [40:33<07:10,  7.60it/s]"
     ]
    },
    {
     "name": "stdout",
     "output_type": "stream",
     "text": [
      "Error processing row 16724: list indices must be integers or slices, not str\n"
     ]
    },
    {
     "name": "stderr",
     "output_type": "stream",
     "text": [
      "Processing Rows:  84%|████████▎ | 16744/20000 [40:35<04:11, 12.96it/s]"
     ]
    },
    {
     "name": "stdout",
     "output_type": "stream",
     "text": [
      "Error processing row 16740: list indices must be integers or slices, not str\n",
      "Error processing row 16741: list indices must be integers or slices, not str\n",
      "Error processing row 16742: list indices must be integers or slices, not str\n"
     ]
    },
    {
     "name": "stderr",
     "output_type": "stream",
     "text": [
      "Processing Rows:  84%|████████▍ | 16753/20000 [40:36<02:25, 22.27it/s]"
     ]
    },
    {
     "name": "stdout",
     "output_type": "stream",
     "text": [
      "Error processing row 16746: list indices must be integers or slices, not str\n",
      "Error processing row 16747: list indices must be integers or slices, not str\n",
      "Error processing row 16748: list indices must be integers or slices, not str\n",
      "Error processing row 16749: list indices must be integers or slices, not str\n",
      "Error processing row 16750: list indices must be integers or slices, not str\n",
      "Error processing row 16751: list indices must be integers or slices, not str\n"
     ]
    },
    {
     "name": "stderr",
     "output_type": "stream",
     "text": [
      "Processing Rows:  84%|████████▍ | 16762/20000 [40:36<02:19, 23.17it/s]"
     ]
    },
    {
     "name": "stdout",
     "output_type": "stream",
     "text": [
      "Error processing row 16756: list indices must be integers or slices, not str\n",
      "Error processing row 16757: list indices must be integers or slices, not str\n",
      "Error processing row 16758: list indices must be integers or slices, not str\n",
      "Error processing row 16759: list indices must be integers or slices, not str\n",
      "Error processing row 16760: list indices must be integers or slices, not str\n"
     ]
    },
    {
     "name": "stderr",
     "output_type": "stream",
     "text": [
      "Processing Rows:  84%|████████▍ | 16771/20000 [40:37<02:05, 25.81it/s]"
     ]
    },
    {
     "name": "stdout",
     "output_type": "stream",
     "text": [
      "Error processing row 16764: list indices must be integers or slices, not str\n",
      "Error processing row 16765: list indices must be integers or slices, not str\n",
      "Error processing row 16766: list indices must be integers or slices, not str\n",
      "Error processing row 16767: list indices must be integers or slices, not str\n",
      "Error processing row 16768: list indices must be integers or slices, not str\n",
      "Error processing row 16769: list indices must be integers or slices, not str\n"
     ]
    },
    {
     "name": "stderr",
     "output_type": "stream",
     "text": [
      "Processing Rows:  84%|████████▍ | 16775/20000 [40:37<01:55, 27.93it/s]"
     ]
    },
    {
     "name": "stdout",
     "output_type": "stream",
     "text": [
      "Error processing row 16772: list indices must be integers or slices, not str\n",
      "Error processing row 16773: list indices must be integers or slices, not str\n",
      "Error processing row 16774: list indices must be integers or slices, not str\n",
      "Error processing row 16775: list indices must be integers or slices, not str\n",
      "Error processing row 16776: list indices must be integers or slices, not str\n",
      "Error processing row 16777: list indices must be integers or slices, not str\n",
      "Error processing row 16778: list indices must be integers or slices, not str\n"
     ]
    },
    {
     "name": "stderr",
     "output_type": "stream",
     "text": [
      "Processing Rows:  84%|████████▍ | 16789/20000 [40:37<02:24, 22.20it/s]"
     ]
    },
    {
     "name": "stdout",
     "output_type": "stream",
     "text": [
      "Error processing row 16784: list indices must be integers or slices, not str\n",
      "Error processing row 16785: list indices must be integers or slices, not str\n",
      "Error processing row 16786: list indices must be integers or slices, not str\n",
      "Error processing row 16787: list indices must be integers or slices, not str\n"
     ]
    },
    {
     "name": "stderr",
     "output_type": "stream",
     "text": [
      "Processing Rows:  84%|████████▍ | 16804/20000 [40:40<06:46,  7.86it/s]"
     ]
    },
    {
     "name": "stdout",
     "output_type": "stream",
     "text": [
      "Error processing row 16804: list indices must be integers or slices, not str\n"
     ]
    },
    {
     "name": "stderr",
     "output_type": "stream",
     "text": [
      "Processing Rows:  85%|████████▍ | 16905/20000 [40:43<00:19, 159.14it/s]"
     ]
    },
    {
     "name": "stdout",
     "output_type": "stream",
     "text": [
      "Error processing row 16824: list indices must be integers or slices, not str\n",
      "Error processing row 16825: list indices must be integers or slices, not str\n",
      "Error processing row 16826: list indices must be integers or slices, not str\n",
      "Error processing row 16827: list indices must be integers or slices, not str\n",
      "Error processing row 16828: list indices must be integers or slices, not str\n",
      "Error processing row 16829: list indices must be integers or slices, not str\n",
      "Error processing row 16830: list indices must be integers or slices, not str\n",
      "Error processing row 16831: list indices must be integers or slices, not str\n",
      "Error processing row 16832: list indices must be integers or slices, not str\n",
      "Error processing row 16833: list indices must be integers or slices, not str\n",
      "Error processing row 16834: list indices must be integers or slices, not str\n",
      "Error processing row 16835: list indices must be integers or slices, not str\n",
      "Error processing row 16836: list indices must be integers or slices, not str\n",
      "Error processing row 16837: list indices must be integers or slices, not str\n",
      "Error processing row 16838: list indices must be integers or slices, not str\n",
      "Error processing row 16839: list indices must be integers or slices, not str\n",
      "Error processing row 16840: list indices must be integers or slices, not str\n",
      "Error processing row 16841: list indices must be integers or slices, not str\n",
      "Error processing row 16842: list indices must be integers or slices, not str\n",
      "Error processing row 16843: list indices must be integers or slices, not str\n",
      "Error processing row 16844: list indices must be integers or slices, not str\n",
      "Error processing row 16845: list indices must be integers or slices, not str\n",
      "Error processing row 16846: list indices must be integers or slices, not str\n",
      "Error processing row 16847: list indices must be integers or slices, not str\n",
      "Error processing row 16848: list indices must be integers or slices, not str\n",
      "Error processing row 16849: list indices must be integers or slices, not str\n",
      "Error processing row 16850: list indices must be integers or slices, not str\n",
      "Error processing row 16851: list indices must be integers or slices, not str\n",
      "Error processing row 16852: list indices must be integers or slices, not str\n",
      "Error processing row 16853: list indices must be integers or slices, not str\n",
      "Error processing row 16854: list indices must be integers or slices, not str\n",
      "Error processing row 16855: list indices must be integers or slices, not str\n",
      "Error processing row 16856: list indices must be integers or slices, not str\n",
      "Error processing row 16857: list indices must be integers or slices, not str\n",
      "Error processing row 16858: list indices must be integers or slices, not str\n",
      "Error processing row 16859: list indices must be integers or slices, not str\n",
      "Error processing row 16860: list indices must be integers or slices, not str\n",
      "Error processing row 16861: list indices must be integers or slices, not str\n",
      "Error processing row 16862: list indices must be integers or slices, not str\n",
      "Error processing row 16863: list indices must be integers or slices, not str\n",
      "Error processing row 16864: list indices must be integers or slices, not str\n",
      "Error processing row 16865: list indices must be integers or slices, not str\n",
      "Error processing row 16866: list indices must be integers or slices, not str\n",
      "Error processing row 16867: list indices must be integers or slices, not str\n",
      "Error processing row 16868: list indices must be integers or slices, not str\n",
      "Error processing row 16869: list indices must be integers or slices, not str\n",
      "Error processing row 16870: list indices must be integers or slices, not str\n",
      "Error processing row 16871: list indices must be integers or slices, not str\n",
      "Error processing row 16872: list indices must be integers or slices, not str\n",
      "Error processing row 16873: list indices must be integers or slices, not str\n",
      "Error processing row 16874: list indices must be integers or slices, not str\n",
      "Error processing row 16875: list indices must be integers or slices, not str\n",
      "Error processing row 16876: list indices must be integers or slices, not str\n",
      "Error processing row 16877: list indices must be integers or slices, not str\n",
      "Error processing row 16878: list indices must be integers or slices, not str\n",
      "Error processing row 16879: list indices must be integers or slices, not str\n",
      "Error processing row 16880: list indices must be integers or slices, not str\n",
      "Error processing row 16881: list indices must be integers or slices, not str\n",
      "Error processing row 16882: list indices must be integers or slices, not str\n",
      "Error processing row 16883: list indices must be integers or slices, not str\n",
      "Error processing row 16884: list indices must be integers or slices, not str\n",
      "Error processing row 16885: list indices must be integers or slices, not str\n",
      "Error processing row 16886: list indices must be integers or slices, not str\n",
      "Error processing row 16887: list indices must be integers or slices, not str\n",
      "Error processing row 16888: list indices must be integers or slices, not str\n",
      "Error processing row 16889: list indices must be integers or slices, not str\n",
      "Error processing row 16890: list indices must be integers or slices, not str\n",
      "Error processing row 16891: list indices must be integers or slices, not str\n",
      "Error processing row 16892: list indices must be integers or slices, not str\n",
      "Error processing row 16893: list indices must be integers or slices, not str\n",
      "Error processing row 16894: list indices must be integers or slices, not str\n",
      "Error processing row 16895: list indices must be integers or slices, not str\n",
      "Error processing row 16896: list indices must be integers or slices, not str\n",
      "Error processing row 16897: list indices must be integers or slices, not str\n",
      "Error processing row 16898: list indices must be integers or slices, not str\n",
      "Error processing row 16899: list indices must be integers or slices, not str\n",
      "Error processing row 16900: list indices must be integers or slices, not str\n",
      "Error processing row 16901: list indices must be integers or slices, not str\n",
      "Error processing row 16902: list indices must be integers or slices, not str\n",
      "Error processing row 16903: list indices must be integers or slices, not str\n",
      "Error processing row 16906: list indices must be integers or slices, not str\n",
      "Error processing row 16907: list indices must be integers or slices, not str\n",
      "Error processing row 16908: list indices must be integers or slices, not str\n",
      "Error processing row 16909: list indices must be integers or slices, not str\n",
      "Error processing row 16910: list indices must be integers or slices, not str\n",
      "Error processing row 16911: list indices must be integers or slices, not str\n",
      "Error processing row 16912: list indices must be integers or slices, not str\n",
      "Error processing row 16914: list indices must be integers or slices, not str\n",
      "Error processing row 16915: list indices must be integers or slices, not str\n",
      "Error processing row 16916: list indices must be integers or slices, not str\n",
      "Error processing row 16917: list indices must be integers or slices, not str\n",
      "Error processing row 16918: list indices must be integers or slices, not str\n",
      "Error processing row 16919: list indices must be integers or slices, not str\n",
      "Error processing row 16920: list indices must be integers or slices, not str\n",
      "Error processing row 16921: list indices must be integers or slices, not str\n"
     ]
    },
    {
     "name": "stderr",
     "output_type": "stream",
     "text": [
      "Processing Rows:  85%|████████▍ | 16925/20000 [40:43<00:32, 93.50it/s] "
     ]
    },
    {
     "name": "stdout",
     "output_type": "stream",
     "text": [
      "Error processing row 16923: list indices must be integers or slices, not str\n",
      "Error processing row 16924: list indices must be integers or slices, not str\n",
      "Error processing row 16925: list indices must be integers or slices, not str\n",
      "Error processing row 16926: list indices must be integers or slices, not str\n",
      "Error processing row 16927: list indices must be integers or slices, not str\n",
      "Error processing row 16928: list indices must be integers or slices, not str\n",
      "Error processing row 16929: list indices must be integers or slices, not str\n",
      "Error processing row 16930: list indices must be integers or slices, not str\n",
      "Error processing row 16931: list indices must be integers or slices, not str\n",
      "Error processing row 16932: list indices must be integers or slices, not str\n",
      "Error processing row 16933: list indices must be integers or slices, not str\n",
      "Error processing row 16934: list indices must be integers or slices, not str\n",
      "Error processing row 16935: list indices must be integers or slices, not str\n",
      "Error processing row 16936: list indices must be integers or slices, not str\n",
      "Error processing row 16937: list indices must be integers or slices, not str\n",
      "Error processing row 16938: list indices must be integers or slices, not str\n",
      "Error processing row 16939: list indices must be integers or slices, not str\n",
      "Error processing row 16940: list indices must be integers or slices, not str\n",
      "Error processing row 16941: list indices must be integers or slices, not str\n",
      "Error processing row 16942: list indices must be integers or slices, not str\n",
      "Error processing row 16943: list indices must be integers or slices, not str\n",
      "Error processing row 16944: list indices must be integers or slices, not str\n",
      "Error processing row 16945: list indices must be integers or slices, not str\n",
      "Error processing row 16946: list indices must be integers or slices, not str\n",
      "Error processing row 16947: list indices must be integers or slices, not str\n",
      "Error processing row 16948: list indices must be integers or slices, not str\n",
      "Error processing row 16949: list indices must be integers or slices, not str\n",
      "Error processing row 16950: list indices must be integers or slices, not str\n",
      "Error processing row 16951: list indices must be integers or slices, not str\n",
      "Error processing row 16952: list indices must be integers or slices, not str\n",
      "Error processing row 16953: list indices must be integers or slices, not str\n",
      "Error processing row 16954: list indices must be integers or slices, not str\n",
      "Error processing row 16955: list indices must be integers or slices, not str\n",
      "Error processing row 16956: list indices must be integers or slices, not str\n",
      "Error processing row 16957: list indices must be integers or slices, not str\n",
      "Error processing row 16958: list indices must be integers or slices, not str\n",
      "Error processing row 16959: list indices must be integers or slices, not str\n",
      "Error processing row 16960: list indices must be integers or slices, not str\n",
      "Error processing row 16961: list indices must be integers or slices, not str\n",
      "Error processing row 16962: list indices must be integers or slices, not str\n",
      "Error processing row 16963: list indices must be integers or slices, not str\n",
      "Error processing row 16964: list indices must be integers or slices, not str\n",
      "Error processing row 16965: list indices must be integers or slices, not str\n",
      "Error processing row 16966: list indices must be integers or slices, not str\n",
      "Error processing row 16967: list indices must be integers or slices, not str\n",
      "Error processing row 16968: list indices must be integers or slices, not str\n",
      "Error processing row 16969: list indices must be integers or slices, not str\n",
      "Error processing row 16970: list indices must be integers or slices, not str\n",
      "Error processing row 16971: list indices must be integers or slices, not str\n",
      "Error processing row 16972: list indices must be integers or slices, not str\n",
      "Error processing row 16973: list indices must be integers or slices, not str\n",
      "Error processing row 16974: list indices must be integers or slices, not str\n",
      "Error processing row 16975: list indices must be integers or slices, not str\n",
      "Error processing row 16976: list indices must be integers or slices, not str\n",
      "Error processing row 16977: list indices must be integers or slices, not str\n",
      "Error processing row 16978: list indices must be integers or slices, not str\n",
      "Error processing row 16979: list indices must be integers or slices, not str\n",
      "Error processing row 16980: list indices must be integers or slices, not str\n",
      "Error processing row 16981: list indices must be integers or slices, not str\n",
      "Error processing row 16982: list indices must be integers or slices, not str\n",
      "Error processing row 16983: list indices must be integers or slices, not str\n",
      "Error processing row 16984: list indices must be integers or slices, not str\n",
      "Error processing row 16985: list indices must be integers or slices, not str\n",
      "Error processing row 16986: list indices must be integers or slices, not str\n",
      "Error processing row 16987: list indices must be integers or slices, not str\n",
      "Error processing row 16988: list indices must be integers or slices, not str\n",
      "Error processing row 16989: list indices must be integers or slices, not str\n",
      "Error processing row 16990: list indices must be integers or slices, not str\n",
      "Error processing row 16991: list indices must be integers or slices, not str\n",
      "Error processing row 16992: list indices must be integers or slices, not str\n",
      "Error processing row 16993: list indices must be integers or slices, not str\n",
      "Error processing row 16994: list indices must be integers or slices, not str\n",
      "Error processing row 16995: list indices must be integers or slices, not str\n",
      "Error processing row 16996: list indices must be integers or slices, not str\n",
      "Error processing row 16997: list indices must be integers or slices, not str\n",
      "Error processing row 16998: list indices must be integers or slices, not str\n",
      "Error processing row 16999: list indices must be integers or slices, not str\n",
      "Error processing row 17000: list indices must be integers or slices, not str\n",
      "Error processing row 17001: list indices must be integers or slices, not str\n",
      "Error processing row 17002: list indices must be integers or slices, not str\n",
      "Error processing row 17003: list indices must be integers or slices, not str\n",
      "Error processing row 17004: list indices must be integers or slices, not str\n",
      "Error processing row 17005: list indices must be integers or slices, not str\n",
      "Error processing row 17006: list indices must be integers or slices, not str\n",
      "Error processing row 17007: list indices must be integers or slices, not str\n",
      "Error processing row 17008: list indices must be integers or slices, not str\n",
      "Error processing row 17009: list indices must be integers or slices, not str\n",
      "Error processing row 17010: list indices must be integers or slices, not str\n",
      "Error processing row 17011: list indices must be integers or slices, not str\n",
      "Error processing row 17012: list indices must be integers or slices, not str\n",
      "Error processing row 17013: list indices must be integers or slices, not str\n",
      "Error processing row 17014: list indices must be integers or slices, not str\n",
      "Error processing row 17015: list indices must be integers or slices, not str\n",
      "Error processing row 17016: list indices must be integers or slices, not str\n",
      "Error processing row 17017: list indices must be integers or slices, not str\n",
      "Error processing row 17018: list indices must be integers or slices, not str\n",
      "Error processing row 17019: list indices must be integers or slices, not str\n",
      "Error processing row 17020: list indices must be integers or slices, not str\n",
      "Error processing row 17021: list indices must be integers or slices, not str\n",
      "Error processing row 17022: list indices must be integers or slices, not str\n",
      "Error processing row 17023: list indices must be integers or slices, not str\n",
      "Error processing row 17024: list indices must be integers or slices, not str\n",
      "Error processing row 17025: list indices must be integers or slices, not str\n",
      "Error processing row 17026: list indices must be integers or slices, not str\n",
      "Error processing row 17027: list indices must be integers or slices, not str\n",
      "Error processing row 17028: list indices must be integers or slices, not str\n",
      "Error processing row 17029: list indices must be integers or slices, not str\n",
      "Error processing row 17030: list indices must be integers or slices, not str\n",
      "Error processing row 17031: list indices must be integers or slices, not str\n",
      "Error processing row 17032: list indices must be integers or slices, not str\n",
      "Error processing row 17033: list indices must be integers or slices, not str\n",
      "Error processing row 17034: list indices must be integers or slices, not str\n",
      "Error processing row 17035: list indices must be integers or slices, not str\n",
      "Error processing row 17036: list indices must be integers or slices, not str\n",
      "Error processing row 17037: list indices must be integers or slices, not str\n",
      "Error processing row 17038: list indices must be integers or slices, not str\n"
     ]
    },
    {
     "name": "stderr",
     "output_type": "stream",
     "text": [
      "Processing Rows:  85%|████████▌ | 17067/20000 [40:44<00:19, 147.35it/s]"
     ]
    },
    {
     "name": "stdout",
     "output_type": "stream",
     "text": [
      "Error processing row 17040: list indices must be integers or slices, not str\n",
      "Error processing row 17041: list indices must be integers or slices, not str\n",
      "Error processing row 17042: list indices must be integers or slices, not str\n",
      "Error processing row 17043: list indices must be integers or slices, not str\n",
      "Error processing row 17044: list indices must be integers or slices, not str\n",
      "Error processing row 17045: list indices must be integers or slices, not str\n",
      "Error processing row 17046: list indices must be integers or slices, not str\n",
      "Error processing row 17047: list indices must be integers or slices, not str\n",
      "Error processing row 17048: list indices must be integers or slices, not str\n",
      "Error processing row 17049: list indices must be integers or slices, not str\n",
      "Error processing row 17050: list indices must be integers or slices, not str\n",
      "Error processing row 17051: list indices must be integers or slices, not str\n",
      "Error processing row 17052: list indices must be integers or slices, not str\n",
      "Error processing row 17053: list indices must be integers or slices, not str\n",
      "Error processing row 17054: list indices must be integers or slices, not str\n",
      "Error processing row 17055: list indices must be integers or slices, not str\n",
      "Error processing row 17056: list indices must be integers or slices, not str\n",
      "Error processing row 17057: list indices must be integers or slices, not str\n",
      "Error processing row 17058: list indices must be integers or slices, not str\n",
      "Error processing row 17059: list indices must be integers or slices, not str\n",
      "Error processing row 17060: list indices must be integers or slices, not str\n",
      "Error processing row 17061: list indices must be integers or slices, not str\n",
      "Error processing row 17062: list indices must be integers or slices, not str\n",
      "Error processing row 17063: list indices must be integers or slices, not str\n",
      "Error processing row 17064: list indices must be integers or slices, not str\n",
      "Error processing row 17065: list indices must be integers or slices, not str\n",
      "Error processing row 17068: list indices must be integers or slices, not str\n",
      "Error processing row 17069: list indices must be integers or slices, not str\n",
      "Error processing row 17070: list indices must be integers or slices, not str\n",
      "Error processing row 17071: list indices must be integers or slices, not str\n",
      "Error processing row 17072: list indices must be integers or slices, not str\n",
      "Error processing row 17073: list indices must be integers or slices, not str\n",
      "Error processing row 17074: list indices must be integers or slices, not str\n"
     ]
    },
    {
     "name": "stderr",
     "output_type": "stream",
     "text": [
      "Processing Rows:  86%|████████▌ | 17157/20000 [40:57<04:45,  9.97it/s] "
     ]
    },
    {
     "name": "stdout",
     "output_type": "stream",
     "text": [
      "Error processing row 17155: list indices must be integers or slices, not str\n"
     ]
    },
    {
     "name": "stderr",
     "output_type": "stream",
     "text": [
      "Processing Rows:  86%|████████▌ | 17184/20000 [41:00<04:23, 10.68it/s]"
     ]
    },
    {
     "name": "stdout",
     "output_type": "stream",
     "text": [
      "Error processing row 17182: list indices must be integers or slices, not str\n"
     ]
    },
    {
     "name": "stderr",
     "output_type": "stream",
     "text": [
      "Processing Rows:  86%|████████▌ | 17209/20000 [41:03<05:13,  8.90it/s]"
     ]
    },
    {
     "name": "stdout",
     "output_type": "stream",
     "text": [
      "Error processing row 17209: list indices must be integers or slices, not str\n"
     ]
    },
    {
     "name": "stderr",
     "output_type": "stream",
     "text": [
      "Processing Rows:  86%|████████▌ | 17229/20000 [41:06<04:07, 11.20it/s]"
     ]
    },
    {
     "name": "stdout",
     "output_type": "stream",
     "text": [
      "Error processing row 17225: list indices must be integers or slices, not str\n",
      "Error processing row 17226: list indices must be integers or slices, not str\n",
      "Error processing row 17227: list indices must be integers or slices, not str\n"
     ]
    },
    {
     "name": "stderr",
     "output_type": "stream",
     "text": [
      "Processing Rows:  86%|████████▌ | 17239/20000 [41:07<04:00, 11.49it/s]"
     ]
    },
    {
     "name": "stdout",
     "output_type": "stream",
     "text": [
      "Error processing row 17235: list indices must be integers or slices, not str\n",
      "Error processing row 17236: list indices must be integers or slices, not str\n"
     ]
    },
    {
     "name": "stderr",
     "output_type": "stream",
     "text": [
      "Processing Rows:  86%|████████▌ | 17247/20000 [41:07<02:19, 19.73it/s]"
     ]
    },
    {
     "name": "stdout",
     "output_type": "stream",
     "text": [
      "Error processing row 17240: list indices must be integers or slices, not str\n",
      "Error processing row 17241: list indices must be integers or slices, not str\n",
      "Error processing row 17242: list indices must be integers or slices, not str\n",
      "Error processing row 17243: list indices must be integers or slices, not str\n",
      "Error processing row 17244: list indices must be integers or slices, not str\n",
      "Error processing row 17245: list indices must be integers or slices, not str\n"
     ]
    },
    {
     "name": "stderr",
     "output_type": "stream",
     "text": [
      "Processing Rows:  86%|████████▋ | 17257/20000 [41:08<02:39, 17.24it/s]"
     ]
    },
    {
     "name": "stdout",
     "output_type": "stream",
     "text": [
      "Error processing row 17251: list indices must be integers or slices, not str\n",
      "Error processing row 17252: list indices must be integers or slices, not str\n",
      "Error processing row 17253: list indices must be integers or slices, not str\n",
      "Error processing row 17254: list indices must be integers or slices, not str\n"
     ]
    },
    {
     "name": "stderr",
     "output_type": "stream",
     "text": [
      "Processing Rows:  86%|████████▋ | 17259/20000 [41:08<03:32, 12.89it/s]"
     ]
    },
    {
     "name": "stdout",
     "output_type": "stream",
     "text": [
      "Error processing row 17259: list indices must be integers or slices, not str\n",
      "Error processing row 17260: list indices must be integers or slices, not str\n",
      "Error processing row 17261: list indices must be integers or slices, not str\n",
      "Error processing row 17262: list indices must be integers or slices, not str\n",
      "Error processing row 17263: list indices must be integers or slices, not str\n"
     ]
    },
    {
     "name": "stderr",
     "output_type": "stream",
     "text": [
      "Processing Rows:  86%|████████▋ | 17274/20000 [41:09<02:21, 19.20it/s]"
     ]
    },
    {
     "name": "stdout",
     "output_type": "stream",
     "text": [
      "Error processing row 17268: list indices must be integers or slices, not str\n",
      "Error processing row 17269: list indices must be integers or slices, not str\n",
      "Error processing row 17270: list indices must be integers or slices, not str\n",
      "Error processing row 17271: list indices must be integers or slices, not str\n",
      "Error processing row 17272: list indices must be integers or slices, not str\n"
     ]
    },
    {
     "name": "stderr",
     "output_type": "stream",
     "text": [
      "Processing Rows:  86%|████████▋ | 17292/20000 [41:11<04:30, 10.00it/s]"
     ]
    },
    {
     "name": "stdout",
     "output_type": "stream",
     "text": [
      "Error processing row 17290: list indices must be integers or slices, not str\n"
     ]
    },
    {
     "name": "stderr",
     "output_type": "stream",
     "text": [
      "Processing Rows:  87%|████████▋ | 17364/20000 [41:12<00:17, 147.65it/s]"
     ]
    },
    {
     "name": "stdout",
     "output_type": "stream",
     "text": [
      "Error processing row 17293: list indices must be integers or slices, not str\n",
      "Error processing row 17294: list indices must be integers or slices, not str\n",
      "Error processing row 17295: list indices must be integers or slices, not str\n",
      "Error processing row 17296: list indices must be integers or slices, not str\n",
      "Error processing row 17297: list indices must be integers or slices, not str\n",
      "Error processing row 17298: list indices must be integers or slices, not str\n",
      "Error processing row 17299: list indices must be integers or slices, not str\n",
      "Error processing row 17300: list indices must be integers or slices, not str\n",
      "Error processing row 17301: list indices must be integers or slices, not str\n",
      "Error processing row 17302: list indices must be integers or slices, not str\n",
      "Error processing row 17303: list indices must be integers or slices, not str\n",
      "Error processing row 17304: list indices must be integers or slices, not str\n",
      "Error processing row 17305: list indices must be integers or slices, not str\n",
      "Error processing row 17306: list indices must be integers or slices, not str\n",
      "Error processing row 17307: list indices must be integers or slices, not str\n",
      "Error processing row 17308: list indices must be integers or slices, not str\n",
      "Error processing row 17309: list indices must be integers or slices, not str\n",
      "Error processing row 17310: list indices must be integers or slices, not str\n",
      "Error processing row 17311: list indices must be integers or slices, not str\n",
      "Error processing row 17312: list indices must be integers or slices, not str\n",
      "Error processing row 17313: list indices must be integers or slices, not str\n",
      "Error processing row 17314: list indices must be integers or slices, not str\n",
      "Error processing row 17315: list indices must be integers or slices, not str\n",
      "Error processing row 17316: list indices must be integers or slices, not str\n",
      "Error processing row 17317: list indices must be integers or slices, not str\n",
      "Error processing row 17318: list indices must be integers or slices, not str\n",
      "Error processing row 17319: list indices must be integers or slices, not str\n",
      "Error processing row 17320: list indices must be integers or slices, not str\n",
      "Error processing row 17321: list indices must be integers or slices, not str\n",
      "Error processing row 17322: list indices must be integers or slices, not str\n",
      "Error processing row 17323: list indices must be integers or slices, not str\n",
      "Error processing row 17324: list indices must be integers or slices, not str\n",
      "Error processing row 17325: list indices must be integers or slices, not str\n",
      "Error processing row 17326: list indices must be integers or slices, not str\n",
      "Error processing row 17327: list indices must be integers or slices, not str\n",
      "Error processing row 17328: list indices must be integers or slices, not str\n",
      "Error processing row 17329: list indices must be integers or slices, not str\n",
      "Error processing row 17330: list indices must be integers or slices, not str\n",
      "Error processing row 17331: list indices must be integers or slices, not str\n",
      "Error processing row 17332: list indices must be integers or slices, not str\n",
      "Error processing row 17333: list indices must be integers or slices, not str\n",
      "Error processing row 17334: list indices must be integers or slices, not str\n",
      "Error processing row 17335: list indices must be integers or slices, not str\n",
      "Error processing row 17336: list indices must be integers or slices, not str\n",
      "Error processing row 17337: list indices must be integers or slices, not str\n",
      "Error processing row 17338: list indices must be integers or slices, not str\n",
      "Error processing row 17339: list indices must be integers or slices, not str\n",
      "Error processing row 17340: list indices must be integers or slices, not str\n",
      "Error processing row 17341: list indices must be integers or slices, not str\n",
      "Error processing row 17342: list indices must be integers or slices, not str\n",
      "Error processing row 17343: list indices must be integers or slices, not str\n",
      "Error processing row 17344: list indices must be integers or slices, not str\n",
      "Error processing row 17345: list indices must be integers or slices, not str\n",
      "Error processing row 17346: list indices must be integers or slices, not str\n",
      "Error processing row 17347: list indices must be integers or slices, not str\n",
      "Error processing row 17348: list indices must be integers or slices, not str\n",
      "Error processing row 17349: list indices must be integers or slices, not str\n",
      "Error processing row 17350: list indices must be integers or slices, not str\n",
      "Error processing row 17351: list indices must be integers or slices, not str\n",
      "Error processing row 17352: list indices must be integers or slices, not str\n",
      "Error processing row 17353: list indices must be integers or slices, not str\n",
      "Error processing row 17354: list indices must be integers or slices, not str\n",
      "Error processing row 17355: list indices must be integers or slices, not str\n",
      "Error processing row 17356: list indices must be integers or slices, not str\n",
      "Error processing row 17357: list indices must be integers or slices, not str\n",
      "Error processing row 17358: list indices must be integers or slices, not str\n",
      "Error processing row 17359: list indices must be integers or slices, not str\n",
      "Error processing row 17360: list indices must be integers or slices, not str\n",
      "Error processing row 17361: list indices must be integers or slices, not str\n",
      "Error processing row 17362: list indices must be integers or slices, not str\n",
      "Error processing row 17364: list indices must be integers or slices, not str\n",
      "Error processing row 17365: list indices must be integers or slices, not str\n",
      "Error processing row 17366: list indices must be integers or slices, not str\n",
      "Error processing row 17367: list indices must be integers or slices, not str\n",
      "Error processing row 17368: list indices must be integers or slices, not str\n",
      "Error processing row 17369: list indices must be integers or slices, not str\n",
      "Error processing row 17370: list indices must be integers or slices, not str\n",
      "Error processing row 17371: list indices must be integers or slices, not str\n"
     ]
    },
    {
     "name": "stderr",
     "output_type": "stream",
     "text": [
      "Processing Rows:  87%|████████▋ | 17383/20000 [41:12<00:21, 123.55it/s]"
     ]
    },
    {
     "name": "stdout",
     "output_type": "stream",
     "text": [
      "Error processing row 17373: list indices must be integers or slices, not str\n",
      "Error processing row 17374: list indices must be integers or slices, not str\n",
      "Error processing row 17375: list indices must be integers or slices, not str\n",
      "Error processing row 17376: list indices must be integers or slices, not str\n",
      "Error processing row 17377: list indices must be integers or slices, not str\n",
      "Error processing row 17378: list indices must be integers or slices, not str\n",
      "Error processing row 17379: list indices must be integers or slices, not str\n",
      "Error processing row 17380: list indices must be integers or slices, not str\n",
      "Error processing row 17382: list indices must be integers or slices, not str\n",
      "Error processing row 17383: list indices must be integers or slices, not str\n",
      "Error processing row 17384: list indices must be integers or slices, not str\n",
      "Error processing row 17385: list indices must be integers or slices, not str\n",
      "Error processing row 17386: list indices must be integers or slices, not str\n",
      "Error processing row 17387: list indices must be integers or slices, not str\n",
      "Error processing row 17388: list indices must be integers or slices, not str\n",
      "Error processing row 17389: list indices must be integers or slices, not str\n",
      "Error processing row 17390: list indices must be integers or slices, not str\n",
      "Error processing row 17391: list indices must be integers or slices, not str\n",
      "Error processing row 17392: list indices must be integers or slices, not str\n",
      "Error processing row 17393: list indices must be integers or slices, not str\n",
      "Error processing row 17394: list indices must be integers or slices, not str\n",
      "Error processing row 17395: list indices must be integers or slices, not str\n",
      "Error processing row 17396: list indices must be integers or slices, not str\n",
      "Error processing row 17397: list indices must be integers or slices, not str\n",
      "Error processing row 17398: list indices must be integers or slices, not str\n"
     ]
    },
    {
     "name": "stderr",
     "output_type": "stream",
     "text": [
      "Processing Rows:  88%|████████▊ | 17510/20000 [41:12<00:07, 351.62it/s]"
     ]
    },
    {
     "name": "stdout",
     "output_type": "stream",
     "text": [
      "Error processing row 17400: list indices must be integers or slices, not str\n",
      "Error processing row 17401: list indices must be integers or slices, not str\n",
      "Error processing row 17402: list indices must be integers or slices, not str\n",
      "Error processing row 17403: list indices must be integers or slices, not str\n",
      "Error processing row 17404: list indices must be integers or slices, not str\n",
      "Error processing row 17405: list indices must be integers or slices, not str\n",
      "Error processing row 17406: list indices must be integers or slices, not str\n",
      "Error processing row 17407: list indices must be integers or slices, not str\n",
      "Error processing row 17408: list indices must be integers or slices, not str\n",
      "Error processing row 17409: list indices must be integers or slices, not str\n",
      "Error processing row 17410: list indices must be integers or slices, not str\n",
      "Error processing row 17411: list indices must be integers or slices, not str\n",
      "Error processing row 17412: list indices must be integers or slices, not str\n",
      "Error processing row 17413: list indices must be integers or slices, not str\n",
      "Error processing row 17414: list indices must be integers or slices, not str\n",
      "Error processing row 17415: list indices must be integers or slices, not str\n",
      "Error processing row 17416: list indices must be integers or slices, not str\n",
      "Error processing row 17417: list indices must be integers or slices, not str\n",
      "Error processing row 17418: list indices must be integers or slices, not str\n",
      "Error processing row 17419: list indices must be integers or slices, not str\n",
      "Error processing row 17420: list indices must be integers or slices, not str\n",
      "Error processing row 17421: list indices must be integers or slices, not str\n",
      "Error processing row 17422: list indices must be integers or slices, not str\n",
      "Error processing row 17423: list indices must be integers or slices, not str\n",
      "Error processing row 17424: list indices must be integers or slices, not str\n",
      "Error processing row 17425: list indices must be integers or slices, not str\n",
      "Error processing row 17426: list indices must be integers or slices, not str\n",
      "Error processing row 17427: list indices must be integers or slices, not str\n",
      "Error processing row 17428: list indices must be integers or slices, not str\n",
      "Error processing row 17429: list indices must be integers or slices, not str\n",
      "Error processing row 17430: list indices must be integers or slices, not str\n",
      "Error processing row 17431: list indices must be integers or slices, not str\n",
      "Error processing row 17432: list indices must be integers or slices, not str\n",
      "Error processing row 17433: list indices must be integers or slices, not str\n",
      "Error processing row 17434: list indices must be integers or slices, not str\n",
      "Error processing row 17435: list indices must be integers or slices, not str\n",
      "Error processing row 17436: list indices must be integers or slices, not str\n",
      "Error processing row 17437: list indices must be integers or slices, not str\n",
      "Error processing row 17438: list indices must be integers or slices, not str\n",
      "Error processing row 17439: list indices must be integers or slices, not str\n",
      "Error processing row 17440: list indices must be integers or slices, not str\n",
      "Error processing row 17441: list indices must be integers or slices, not str\n",
      "Error processing row 17442: list indices must be integers or slices, not str\n",
      "Error processing row 17443: list indices must be integers or slices, not str\n",
      "Error processing row 17444: list indices must be integers or slices, not str\n",
      "Error processing row 17445: list indices must be integers or slices, not str\n",
      "Error processing row 17446: list indices must be integers or slices, not str\n",
      "Error processing row 17447: list indices must be integers or slices, not str\n",
      "Error processing row 17448: list indices must be integers or slices, not str\n",
      "Error processing row 17449: list indices must be integers or slices, not str\n",
      "Error processing row 17450: list indices must be integers or slices, not str\n",
      "Error processing row 17451: list indices must be integers or slices, not str\n",
      "Error processing row 17452: list indices must be integers or slices, not str\n",
      "Error processing row 17453: list indices must be integers or slices, not str\n",
      "Error processing row 17454: list indices must be integers or slices, not str\n",
      "Error processing row 17455: list indices must be integers or slices, not str\n",
      "Error processing row 17456: list indices must be integers or slices, not str\n",
      "Error processing row 17457: list indices must be integers or slices, not str\n",
      "Error processing row 17458: list indices must be integers or slices, not str\n",
      "Error processing row 17459: list indices must be integers or slices, not str\n",
      "Error processing row 17460: list indices must be integers or slices, not str\n",
      "Error processing row 17461: list indices must be integers or slices, not str\n",
      "Error processing row 17462: list indices must be integers or slices, not str\n",
      "Error processing row 17463: list indices must be integers or slices, not str\n",
      "Error processing row 17464: list indices must be integers or slices, not str\n",
      "Error processing row 17465: list indices must be integers or slices, not str\n",
      "Error processing row 17466: list indices must be integers or slices, not str\n",
      "Error processing row 17467: list indices must be integers or slices, not str\n",
      "Error processing row 17468: list indices must be integers or slices, not str\n",
      "Error processing row 17469: list indices must be integers or slices, not str\n",
      "Error processing row 17470: list indices must be integers or slices, not str\n",
      "Error processing row 17471: list indices must be integers or slices, not str\n",
      "Error processing row 17472: list indices must be integers or slices, not str\n",
      "Error processing row 17473: list indices must be integers or slices, not str\n",
      "Error processing row 17474: list indices must be integers or slices, not str\n",
      "Error processing row 17475: list indices must be integers or slices, not str\n",
      "Error processing row 17476: list indices must be integers or slices, not str\n",
      "Error processing row 17477: list indices must be integers or slices, not str\n",
      "Error processing row 17478: list indices must be integers or slices, not str\n",
      "Error processing row 17479: list indices must be integers or slices, not str\n",
      "Error processing row 17480: list indices must be integers or slices, not str\n",
      "Error processing row 17481: list indices must be integers or slices, not str\n",
      "Error processing row 17482: list indices must be integers or slices, not str\n",
      "Error processing row 17483: list indices must be integers or slices, not str\n",
      "Error processing row 17484: list indices must be integers or slices, not str\n",
      "Error processing row 17485: list indices must be integers or slices, not str\n",
      "Error processing row 17486: list indices must be integers or slices, not str\n",
      "Error processing row 17487: list indices must be integers or slices, not str\n",
      "Error processing row 17488: list indices must be integers or slices, not str\n",
      "Error processing row 17489: list indices must be integers or slices, not str\n",
      "Error processing row 17490: list indices must be integers or slices, not str\n",
      "Error processing row 17491: list indices must be integers or slices, not str\n",
      "Error processing row 17492: list indices must be integers or slices, not str\n",
      "Error processing row 17493: list indices must be integers or slices, not str\n",
      "Error processing row 17494: list indices must be integers or slices, not str\n",
      "Error processing row 17495: list indices must be integers or slices, not str\n",
      "Error processing row 17496: list indices must be integers or slices, not str\n",
      "Error processing row 17497: list indices must be integers or slices, not str\n",
      "Error processing row 17498: list indices must be integers or slices, not str\n",
      "Error processing row 17499: list indices must be integers or slices, not str\n",
      "Error processing row 17500: list indices must be integers or slices, not str\n",
      "Error processing row 17501: list indices must be integers or slices, not str\n",
      "Error processing row 17502: list indices must be integers or slices, not str\n",
      "Error processing row 17503: list indices must be integers or slices, not str\n",
      "Error processing row 17504: list indices must be integers or slices, not str\n",
      "Error processing row 17505: list indices must be integers or slices, not str\n",
      "Error processing row 17506: list indices must be integers or slices, not str\n",
      "Error processing row 17507: list indices must be integers or slices, not str\n",
      "Error processing row 17508: list indices must be integers or slices, not str\n",
      "Error processing row 17509: list indices must be integers or slices, not str\n",
      "Error processing row 17510: list indices must be integers or slices, not str\n",
      "Error processing row 17511: list indices must be integers or slices, not str\n",
      "Error processing row 17512: list indices must be integers or slices, not str\n",
      "Error processing row 17513: list indices must be integers or slices, not str\n",
      "Error processing row 17514: list indices must be integers or slices, not str\n",
      "Error processing row 17515: list indices must be integers or slices, not str\n",
      "Error processing row 17517: list indices must be integers or slices, not str\n",
      "Error processing row 17518: list indices must be integers or slices, not str\n",
      "Error processing row 17519: list indices must be integers or slices, not str\n",
      "Error processing row 17520: list indices must be integers or slices, not str\n",
      "Error processing row 17521: list indices must be integers or slices, not str\n",
      "Error processing row 17522: list indices must be integers or slices, not str\n",
      "Error processing row 17523: list indices must be integers or slices, not str\n",
      "Error processing row 17524: list indices must be integers or slices, not str\n",
      "Error processing row 17525: list indices must be integers or slices, not str\n",
      "Error processing row 17526: list indices must be integers or slices, not str\n",
      "Error processing row 17527: list indices must be integers or slices, not str\n",
      "Error processing row 17528: list indices must be integers or slices, not str\n",
      "Error processing row 17529: list indices must be integers or slices, not str\n",
      "Error processing row 17530: list indices must be integers or slices, not str\n",
      "Error processing row 17531: list indices must be integers or slices, not str\n",
      "Error processing row 17532: list indices must be integers or slices, not str\n",
      "Error processing row 17533: list indices must be integers or slices, not str\n",
      "Error processing row 17534: list indices must be integers or slices, not str\n",
      "Error processing row 17535: list indices must be integers or slices, not str\n",
      "Error processing row 17536: list indices must be integers or slices, not str\n",
      "Error processing row 17537: list indices must be integers or slices, not str\n",
      "Error processing row 17538: list indices must be integers or slices, not str\n",
      "Error processing row 17539: list indices must be integers or slices, not str\n",
      "Error processing row 17540: list indices must be integers or slices, not str\n",
      "Error processing row 17541: list indices must be integers or slices, not str\n",
      "Error processing row 17542: list indices must be integers or slices, not str\n",
      "Error processing row 17546: list indices must be integers or slices, not str\n",
      "Error processing row 17547: list indices must be integers or slices, not str\n",
      "Error processing row 17548: list indices must be integers or slices, not str\n",
      "Error processing row 17549: list indices must be integers or slices, not str\n",
      "Error processing row 17550: list indices must be integers or slices, not str\n",
      "Error processing row 17551: list indices must be integers or slices, not str\n"
     ]
    },
    {
     "name": "stderr",
     "output_type": "stream",
     "text": [
      "Processing Rows:  88%|████████▊ | 17595/20000 [41:19<01:45, 22.78it/s] "
     ]
    },
    {
     "name": "stdout",
     "output_type": "stream",
     "text": [
      "Error processing row 17605: list indices must be integers or slices, not str\n"
     ]
    },
    {
     "name": "stderr",
     "output_type": "stream",
     "text": [
      "Processing Rows:  88%|████████▊ | 17677/20000 [41:29<03:27, 11.21it/s]"
     ]
    },
    {
     "name": "stdout",
     "output_type": "stream",
     "text": [
      "Error processing row 17675: list indices must be integers or slices, not str\n",
      "Error processing row 17676: list indices must be integers or slices, not str\n",
      "Error processing row 17677: list indices must be integers or slices, not str\n"
     ]
    },
    {
     "name": "stderr",
     "output_type": "stream",
     "text": [
      "Processing Rows:  88%|████████▊ | 17697/20000 [41:32<03:32, 10.83it/s]"
     ]
    },
    {
     "name": "stdout",
     "output_type": "stream",
     "text": [
      "Error processing row 17694: list indices must be integers or slices, not str\n",
      "Error processing row 17695: list indices must be integers or slices, not str\n"
     ]
    },
    {
     "name": "stderr",
     "output_type": "stream",
     "text": [
      "Processing Rows:  89%|████████▊ | 17706/20000 [41:32<01:53, 20.28it/s]"
     ]
    },
    {
     "name": "stdout",
     "output_type": "stream",
     "text": [
      "Error processing row 17698: list indices must be integers or slices, not str\n",
      "Error processing row 17699: list indices must be integers or slices, not str\n",
      "Error processing row 17700: list indices must be integers or slices, not str\n",
      "Error processing row 17701: list indices must be integers or slices, not str\n",
      "Error processing row 17702: list indices must be integers or slices, not str\n",
      "Error processing row 17703: list indices must be integers or slices, not str\n",
      "Error processing row 17704: list indices must be integers or slices, not str\n"
     ]
    },
    {
     "name": "stderr",
     "output_type": "stream",
     "text": [
      "Processing Rows:  89%|████████▊ | 17715/20000 [41:33<01:34, 24.05it/s]"
     ]
    },
    {
     "name": "stdout",
     "output_type": "stream",
     "text": [
      "Error processing row 17708: list indices must be integers or slices, not str\n",
      "Error processing row 17709: list indices must be integers or slices, not str\n",
      "Error processing row 17710: list indices must be integers or slices, not str\n",
      "Error processing row 17711: list indices must be integers or slices, not str\n",
      "Error processing row 17712: list indices must be integers or slices, not str\n",
      "Error processing row 17713: list indices must be integers or slices, not str\n"
     ]
    },
    {
     "name": "stderr",
     "output_type": "stream",
     "text": [
      "Processing Rows:  89%|████████▊ | 17725/20000 [41:34<02:16, 16.72it/s]"
     ]
    },
    {
     "name": "stdout",
     "output_type": "stream",
     "text": [
      "Error processing row 17720: list indices must be integers or slices, not str\n",
      "Error processing row 17721: list indices must be integers or slices, not str\n",
      "Error processing row 17722: list indices must be integers or slices, not str\n"
     ]
    },
    {
     "name": "stderr",
     "output_type": "stream",
     "text": [
      "Processing Rows:  89%|████████▊ | 17733/20000 [41:34<01:50, 20.47it/s]"
     ]
    },
    {
     "name": "stdout",
     "output_type": "stream",
     "text": [
      "Error processing row 17727: list indices must be integers or slices, not str\n",
      "Error processing row 17728: list indices must be integers or slices, not str\n",
      "Error processing row 17729: list indices must be integers or slices, not str\n",
      "Error processing row 17730: list indices must be integers or slices, not str\n",
      "Error processing row 17731: list indices must be integers or slices, not str\n"
     ]
    },
    {
     "name": "stderr",
     "output_type": "stream",
     "text": [
      "Processing Rows:  89%|████████▊ | 17738/20000 [41:35<03:29, 10.79it/s]"
     ]
    },
    {
     "name": "stdout",
     "output_type": "stream",
     "text": [
      "Error processing row 17738: list indices must be integers or slices, not str\n",
      "Error processing row 17739: list indices must be integers or slices, not str\n",
      "Error processing row 17740: list indices must be integers or slices, not str\n"
     ]
    },
    {
     "name": "stderr",
     "output_type": "stream",
     "text": [
      "Processing Rows:  89%|████████▉ | 17751/20000 [41:36<02:49, 13.23it/s]"
     ]
    },
    {
     "name": "stdout",
     "output_type": "stream",
     "text": [
      "Error processing row 17745: list indices must be integers or slices, not str\n",
      "Error processing row 17746: list indices must be integers or slices, not str\n",
      "Error processing row 17747: list indices must be integers or slices, not str\n",
      "Error processing row 17748: list indices must be integers or slices, not str\n",
      "Error processing row 17749: list indices must be integers or slices, not str\n"
     ]
    },
    {
     "name": "stderr",
     "output_type": "stream",
     "text": [
      "Processing Rows:  89%|████████▉ | 17876/20000 [41:43<00:13, 152.49it/s]"
     ]
    },
    {
     "name": "stdout",
     "output_type": "stream",
     "text": [
      "Error processing row 17797: list indices must be integers or slices, not str\n",
      "Error processing row 17798: list indices must be integers or slices, not str\n",
      "Error processing row 17799: list indices must be integers or slices, not str\n",
      "Error processing row 17800: list indices must be integers or slices, not str\n",
      "Error processing row 17801: list indices must be integers or slices, not str\n",
      "Error processing row 17802: list indices must be integers or slices, not str\n",
      "Error processing row 17803: list indices must be integers or slices, not str\n",
      "Error processing row 17804: list indices must be integers or slices, not str\n",
      "Error processing row 17805: list indices must be integers or slices, not str\n",
      "Error processing row 17806: list indices must be integers or slices, not str\n",
      "Error processing row 17807: list indices must be integers or slices, not str\n",
      "Error processing row 17808: list indices must be integers or slices, not str\n",
      "Error processing row 17809: list indices must be integers or slices, not str\n",
      "Error processing row 17810: list indices must be integers or slices, not str\n",
      "Error processing row 17811: list indices must be integers or slices, not str\n",
      "Error processing row 17812: list indices must be integers or slices, not str\n",
      "Error processing row 17813: list indices must be integers or slices, not str\n",
      "Error processing row 17814: list indices must be integers or slices, not str\n",
      "Error processing row 17815: list indices must be integers or slices, not str\n",
      "Error processing row 17816: list indices must be integers or slices, not str\n",
      "Error processing row 17817: list indices must be integers or slices, not str\n",
      "Error processing row 17818: list indices must be integers or slices, not str\n",
      "Error processing row 17819: list indices must be integers or slices, not str\n",
      "Error processing row 17820: list indices must be integers or slices, not str\n",
      "Error processing row 17821: list indices must be integers or slices, not str\n",
      "Error processing row 17822: list indices must be integers or slices, not str\n",
      "Error processing row 17823: list indices must be integers or slices, not str\n",
      "Error processing row 17824: list indices must be integers or slices, not str\n",
      "Error processing row 17825: list indices must be integers or slices, not str\n",
      "Error processing row 17826: list indices must be integers or slices, not str\n",
      "Error processing row 17827: list indices must be integers or slices, not str\n",
      "Error processing row 17828: list indices must be integers or slices, not str\n",
      "Error processing row 17829: list indices must be integers or slices, not str\n",
      "Error processing row 17830: list indices must be integers or slices, not str\n",
      "Error processing row 17831: list indices must be integers or slices, not str\n",
      "Error processing row 17832: list indices must be integers or slices, not str\n",
      "Error processing row 17833: list indices must be integers or slices, not str\n",
      "Error processing row 17834: list indices must be integers or slices, not str\n",
      "Error processing row 17835: list indices must be integers or slices, not str\n",
      "Error processing row 17836: list indices must be integers or slices, not str\n",
      "Error processing row 17837: list indices must be integers or slices, not str\n",
      "Error processing row 17838: list indices must be integers or slices, not str\n",
      "Error processing row 17839: list indices must be integers or slices, not str\n",
      "Error processing row 17840: list indices must be integers or slices, not str\n",
      "Error processing row 17841: list indices must be integers or slices, not str\n",
      "Error processing row 17842: list indices must be integers or slices, not str\n",
      "Error processing row 17843: list indices must be integers or slices, not str\n",
      "Error processing row 17844: list indices must be integers or slices, not str\n",
      "Error processing row 17845: list indices must be integers or slices, not str\n",
      "Error processing row 17846: list indices must be integers or slices, not str\n",
      "Error processing row 17847: list indices must be integers or slices, not str\n",
      "Error processing row 17848: list indices must be integers or slices, not str\n",
      "Error processing row 17849: list indices must be integers or slices, not str\n",
      "Error processing row 17850: list indices must be integers or slices, not str\n",
      "Error processing row 17851: list indices must be integers or slices, not str\n",
      "Error processing row 17852: list indices must be integers or slices, not str\n",
      "Error processing row 17853: list indices must be integers or slices, not str\n",
      "Error processing row 17854: list indices must be integers or slices, not str\n",
      "Error processing row 17855: list indices must be integers or slices, not str\n",
      "Error processing row 17856: list indices must be integers or slices, not str\n",
      "Error processing row 17857: list indices must be integers or slices, not str\n",
      "Error processing row 17858: list indices must be integers or slices, not str\n",
      "Error processing row 17859: list indices must be integers or slices, not str\n",
      "Error processing row 17860: list indices must be integers or slices, not str\n",
      "Error processing row 17861: list indices must be integers or slices, not str\n",
      "Error processing row 17862: list indices must be integers or slices, not str\n",
      "Error processing row 17863: list indices must be integers or slices, not str\n",
      "Error processing row 17864: list indices must be integers or slices, not str\n",
      "Error processing row 17865: list indices must be integers or slices, not str\n",
      "Error processing row 17867: list indices must be integers or slices, not str\n",
      "Error processing row 17868: list indices must be integers or slices, not str\n",
      "Error processing row 17869: list indices must be integers or slices, not str\n",
      "Error processing row 17870: list indices must be integers or slices, not str\n",
      "Error processing row 17871: list indices must be integers or slices, not str\n",
      "Error processing row 17872: list indices must be integers or slices, not str\n",
      "Error processing row 17873: list indices must be integers or slices, not str\n",
      "Error processing row 17874: list indices must be integers or slices, not str\n",
      "Error processing row 17876: list indices must be integers or slices, not str\n",
      "Error processing row 17877: list indices must be integers or slices, not str\n",
      "Error processing row 17878: list indices must be integers or slices, not str\n",
      "Error processing row 17879: list indices must be integers or slices, not str\n",
      "Error processing row 17880: list indices must be integers or slices, not str\n",
      "Error processing row 17881: list indices must be integers or slices, not str\n",
      "Error processing row 17882: list indices must be integers or slices, not str\n",
      "Error processing row 17883: list indices must be integers or slices, not str\n"
     ]
    },
    {
     "name": "stderr",
     "output_type": "stream",
     "text": [
      "Processing Rows:  90%|████████▉ | 17903/20000 [41:43<00:17, 118.25it/s]"
     ]
    },
    {
     "name": "stdout",
     "output_type": "stream",
     "text": [
      "Error processing row 17886: list indices must be integers or slices, not str\n",
      "Error processing row 17887: list indices must be integers or slices, not str\n",
      "Error processing row 17888: list indices must be integers or slices, not str\n",
      "Error processing row 17889: list indices must be integers or slices, not str\n",
      "Error processing row 17890: list indices must be integers or slices, not str\n",
      "Error processing row 17891: list indices must be integers or slices, not str\n",
      "Error processing row 17892: list indices must be integers or slices, not str\n",
      "Error processing row 17893: list indices must be integers or slices, not str\n",
      "Error processing row 17894: list indices must be integers or slices, not str\n",
      "Error processing row 17895: list indices must be integers or slices, not str\n",
      "Error processing row 17896: list indices must be integers or slices, not str\n",
      "Error processing row 17897: list indices must be integers or slices, not str\n",
      "Error processing row 17898: list indices must be integers or slices, not str\n",
      "Error processing row 17899: list indices must be integers or slices, not str\n",
      "Error processing row 17900: list indices must be integers or slices, not str\n",
      "Error processing row 17901: list indices must be integers or slices, not str\n",
      "Error processing row 17903: list indices must be integers or slices, not str\n",
      "Error processing row 17904: list indices must be integers or slices, not str\n",
      "Error processing row 17905: list indices must be integers or slices, not str\n",
      "Error processing row 17906: list indices must be integers or slices, not str\n",
      "Error processing row 17907: list indices must be integers or slices, not str\n",
      "Error processing row 17908: list indices must be integers or slices, not str\n",
      "Error processing row 17909: list indices must be integers or slices, not str\n",
      "Error processing row 17910: list indices must be integers or slices, not str\n",
      "Error processing row 17911: list indices must be integers or slices, not str\n",
      "Error processing row 17912: list indices must be integers or slices, not str\n",
      "Error processing row 17913: list indices must be integers or slices, not str\n",
      "Error processing row 17914: list indices must be integers or slices, not str\n",
      "Error processing row 17915: list indices must be integers or slices, not str\n",
      "Error processing row 17916: list indices must be integers or slices, not str\n",
      "Error processing row 17917: list indices must be integers or slices, not str\n",
      "Error processing row 17918: list indices must be integers or slices, not str\n",
      "Error processing row 17919: list indices must be integers or slices, not str\n",
      "Error processing row 17920: list indices must be integers or slices, not str\n",
      "Error processing row 17921: list indices must be integers or slices, not str\n",
      "Error processing row 17922: list indices must be integers or slices, not str\n",
      "Error processing row 17923: list indices must be integers or slices, not str\n",
      "Error processing row 17924: list indices must be integers or slices, not str\n",
      "Error processing row 17925: list indices must be integers or slices, not str\n",
      "Error processing row 17926: list indices must be integers or slices, not str\n",
      "Error processing row 17927: list indices must be integers or slices, not str\n",
      "Error processing row 17928: list indices must be integers or slices, not str\n",
      "Error processing row 17929: list indices must be integers or slices, not str\n",
      "Error processing row 17930: list indices must be integers or slices, not str\n",
      "Error processing row 17931: list indices must be integers or slices, not str\n",
      "Error processing row 17932: list indices must be integers or slices, not str\n",
      "Error processing row 17933: list indices must be integers or slices, not str\n",
      "Error processing row 17934: list indices must be integers or slices, not str\n",
      "Error processing row 17935: list indices must be integers or slices, not str\n",
      "Error processing row 17936: list indices must be integers or slices, not str\n",
      "Error processing row 17937: list indices must be integers or slices, not str\n",
      "Error processing row 17938: list indices must be integers or slices, not str\n",
      "Error processing row 17939: list indices must be integers or slices, not str\n",
      "Error processing row 17940: list indices must be integers or slices, not str\n",
      "Error processing row 17941: list indices must be integers or slices, not str\n",
      "Error processing row 17942: list indices must be integers or slices, not str\n",
      "Error processing row 17943: list indices must be integers or slices, not str\n",
      "Error processing row 17944: list indices must be integers or slices, not str\n",
      "Error processing row 17945: list indices must be integers or slices, not str\n",
      "Error processing row 17946: list indices must be integers or slices, not str\n",
      "Error processing row 17947: list indices must be integers or slices, not str\n",
      "Error processing row 17948: list indices must be integers or slices, not str\n",
      "Error processing row 17949: list indices must be integers or slices, not str\n",
      "Error processing row 17950: list indices must be integers or slices, not str\n",
      "Error processing row 17951: list indices must be integers or slices, not str\n",
      "Error processing row 17952: list indices must be integers or slices, not str\n",
      "Error processing row 17953: list indices must be integers or slices, not str\n",
      "Error processing row 17954: list indices must be integers or slices, not str\n",
      "Error processing row 17955: list indices must be integers or slices, not str\n",
      "Error processing row 17956: list indices must be integers or slices, not str\n",
      "Error processing row 17957: list indices must be integers or slices, not str\n",
      "Error processing row 17958: list indices must be integers or slices, not str\n",
      "Error processing row 17959: list indices must be integers or slices, not str\n",
      "Error processing row 17960: list indices must be integers or slices, not str\n",
      "Error processing row 17961: list indices must be integers or slices, not str\n",
      "Error processing row 17962: list indices must be integers or slices, not str\n",
      "Error processing row 17963: list indices must be integers or slices, not str\n",
      "Error processing row 17964: list indices must be integers or slices, not str\n",
      "Error processing row 17965: list indices must be integers or slices, not str\n",
      "Error processing row 17966: list indices must be integers or slices, not str\n",
      "Error processing row 17967: list indices must be integers or slices, not str\n",
      "Error processing row 17968: list indices must be integers or slices, not str\n",
      "Error processing row 17969: list indices must be integers or slices, not str\n",
      "Error processing row 17970: list indices must be integers or slices, not str\n",
      "Error processing row 17971: list indices must be integers or slices, not str\n",
      "Error processing row 17972: list indices must be integers or slices, not str\n",
      "Error processing row 17973: list indices must be integers or slices, not str\n",
      "Error processing row 17974: list indices must be integers or slices, not str\n",
      "Error processing row 17975: list indices must be integers or slices, not str\n",
      "Error processing row 17976: list indices must be integers or slices, not str\n",
      "Error processing row 17977: list indices must be integers or slices, not str\n",
      "Error processing row 17978: list indices must be integers or slices, not str\n",
      "Error processing row 17979: list indices must be integers or slices, not str\n",
      "Error processing row 17980: list indices must be integers or slices, not str\n",
      "Error processing row 17981: list indices must be integers or slices, not str\n",
      "Error processing row 17982: list indices must be integers or slices, not str\n",
      "Error processing row 17983: list indices must be integers or slices, not str\n",
      "Error processing row 17984: list indices must be integers or slices, not str\n",
      "Error processing row 17985: list indices must be integers or slices, not str\n",
      "Error processing row 17986: list indices must be integers or slices, not str\n",
      "Error processing row 17987: list indices must be integers or slices, not str\n",
      "Error processing row 17988: list indices must be integers or slices, not str\n",
      "Error processing row 17989: list indices must be integers or slices, not str\n",
      "Error processing row 17990: list indices must be integers or slices, not str\n",
      "Error processing row 17991: list indices must be integers or slices, not str\n",
      "Error processing row 17992: list indices must be integers or slices, not str\n",
      "Error processing row 17993: list indices must be integers or slices, not str\n",
      "Error processing row 17994: list indices must be integers or slices, not str\n",
      "Error processing row 17995: list indices must be integers or slices, not str\n",
      "Error processing row 17996: list indices must be integers or slices, not str\n",
      "Error processing row 17997: list indices must be integers or slices, not str\n",
      "Error processing row 17998: list indices must be integers or slices, not str\n",
      "Error processing row 17999: list indices must be integers or slices, not str\n",
      "Error processing row 18000: list indices must be integers or slices, not str\n",
      "Error processing row 18001: list indices must be integers or slices, not str\n",
      "Error processing row 18002: list indices must be integers or slices, not str\n",
      "Error processing row 18003: list indices must be integers or slices, not str\n",
      "Error processing row 18004: list indices must be integers or slices, not str\n",
      "Error processing row 18005: list indices must be integers or slices, not str\n",
      "Error processing row 18006: list indices must be integers or slices, not str\n",
      "Error processing row 18007: list indices must be integers or slices, not str\n",
      "Error processing row 18008: list indices must be integers or slices, not str\n",
      "Error processing row 18009: list indices must be integers or slices, not str\n",
      "Error processing row 18010: list indices must be integers or slices, not str\n",
      "Error processing row 18011: list indices must be integers or slices, not str\n",
      "Error processing row 18012: list indices must be integers or slices, not str\n",
      "Error processing row 18013: list indices must be integers or slices, not str\n",
      "Error processing row 18014: list indices must be integers or slices, not str\n",
      "Error processing row 18015: list indices must be integers or slices, not str\n",
      "Error processing row 18016: list indices must be integers or slices, not str\n",
      "Error processing row 18017: list indices must be integers or slices, not str\n",
      "Error processing row 18018: list indices must be integers or slices, not str\n"
     ]
    },
    {
     "name": "stderr",
     "output_type": "stream",
     "text": [
      "Processing Rows:  90%|█████████ | 18020/20000 [41:43<00:05, 336.67it/s]"
     ]
    },
    {
     "name": "stdout",
     "output_type": "stream",
     "text": [
      "Error processing row 18020: list indices must be integers or slices, not str\n",
      "Error processing row 18021: list indices must be integers or slices, not str\n",
      "Error processing row 18022: list indices must be integers or slices, not str\n",
      "Error processing row 18023: list indices must be integers or slices, not str\n",
      "Error processing row 18024: list indices must be integers or slices, not str\n",
      "Error processing row 18025: list indices must be integers or slices, not str\n",
      "Error processing row 18026: list indices must be integers or slices, not str\n",
      "Error processing row 18027: list indices must be integers or slices, not str\n",
      "Error processing row 18031: list indices must be integers or slices, not str\n",
      "Error processing row 18032: list indices must be integers or slices, not str\n",
      "Error processing row 18033: list indices must be integers or slices, not str\n",
      "Error processing row 18034: list indices must be integers or slices, not str\n",
      "Error processing row 18035: list indices must be integers or slices, not str\n",
      "Error processing row 18036: list indices must be integers or slices, not str\n",
      "Error processing row 18039: list indices must be integers or slices, not str\n",
      "Error processing row 18040: list indices must be integers or slices, not str\n",
      "Error processing row 18041: list indices must be integers or slices, not str\n",
      "Error processing row 18042: list indices must be integers or slices, not str\n",
      "Error processing row 18043: list indices must be integers or slices, not str\n",
      "Error processing row 18044: list indices must be integers or slices, not str\n",
      "Error processing row 18045: list indices must be integers or slices, not str\n",
      "Error processing row 18050: list indices must be integers or slices, not str\n",
      "Error processing row 18051: list indices must be integers or slices, not str\n",
      "Error processing row 18052: list indices must be integers or slices, not str\n",
      "Error processing row 18053: list indices must be integers or slices, not str\n",
      "Error processing row 18054: list indices must be integers or slices, not str\n"
     ]
    },
    {
     "name": "stderr",
     "output_type": "stream",
     "text": [
      "Processing Rows: 100%|██████████| 20000/20000 [46:48<00:00,  7.12it/s] "
     ]
    },
    {
     "name": "stdout",
     "output_type": "stream",
     "text": [
      "Total descriptors processed: 9796\n"
     ]
    },
    {
     "name": "stderr",
     "output_type": "stream",
     "text": [
      "\n"
     ]
    }
   ],
   "source": [
    "import json\n",
    "from tqdm import tqdm\n",
    "\n",
    "target = {}\n",
    "descriptors = {}\n",
    "\n",
    "calc = mace_mp(model=\"medium\", dispersion=False, default_dtype='float64', device='cpu')\n",
    "\n",
    "# Specify the file name\n",
    "file_name = \"reference_MACE.json\"\n",
    "\n",
    "# Read the JSON file into a dictionary\n",
    "with open(file_name, 'r') as json_file:\n",
    "    ref = json.load(json_file)\n",
    "\n",
    "# Open the JSON file in append/update mode\n",
    "output_file = 'descriptors_mace.json'\n",
    "try:\n",
    "    # Load existing data if the file already exists\n",
    "    with open(output_file, 'r') as file:\n",
    "        data = json.load(file)\n",
    "except (FileNotFoundError, json.JSONDecodeError):\n",
    "    # If the file doesn't exist or is empty, initialize an empty dictionary\n",
    "    data = {}\n",
    "\n",
    "# Loop through the DataFrame and process each row\n",
    "for index, row in tqdm(df.iterrows(), total=len(df), desc=\"Processing Rows\"):\n",
    "    try:\n",
    "        formula = row['formula']\n",
    "        (_, _, _, e_f, e_mlp) = get_properties(row, ref)\n",
    "        target[formula] = e_f\n",
    "        # descriptor_values = calculate_descriptors(formula)\n",
    "        # descriptor_values += [e_mlp]\n",
    "        descriptor_values = [index, e_mlp]\n",
    "        descriptors[formula] = descriptor_values\n",
    "\n",
    "        # Store the descriptor and e_f in the desired format\n",
    "        data[formula] = [descriptor_values, e_f]\n",
    "        \n",
    "        # Save to JSON file after each entry (or periodically for large datasets)\n",
    "        with open(output_file, 'w') as file:\n",
    "            json.dump(data, file, indent=4)\n",
    "            \n",
    "    except Exception as e:\n",
    "        print(f\"Error processing row {index}: {e}\")\n",
    "        pass\n",
    "\n",
    "# Optionally, print the final number of descriptors processed\n",
    "print(\"Total descriptors processed:\", len(descriptors.keys()))\n"
   ]
  },
  {
   "cell_type": "code",
   "execution_count": null,
   "metadata": {},
   "outputs": [],
   "source": []
  }
 ],
 "metadata": {
  "kernelspec": {
   "display_name": "jupyter",
   "language": "python",
   "name": "python3"
  },
  "language_info": {
   "codemirror_mode": {
    "name": "ipython",
    "version": 3
   },
   "file_extension": ".py",
   "mimetype": "text/x-python",
   "name": "python",
   "nbconvert_exporter": "python",
   "pygments_lexer": "ipython3",
   "version": "3.10.14"
  }
 },
 "nbformat": 4,
 "nbformat_minor": 2
}
