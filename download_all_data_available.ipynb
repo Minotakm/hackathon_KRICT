{
 "cells": [
  {
   "cell_type": "code",
   "execution_count": 21,
   "metadata": {},
   "outputs": [],
   "source": [
    "import json\n",
    "import requests\n",
    "import csv\n",
    "import pandas as pd "
   ]
  },
  {
   "cell_type": "code",
   "execution_count": 24,
   "metadata": {},
   "outputs": [
    {
     "name": "stdout",
     "output_type": "stream",
     "text": [
      "Data fetched successfully! for  Unary\n",
      "Total entries: 0\n",
      "Data fetched successfully! for  Binary\n",
      "Total entries: 10000\n",
      "Data fetched successfully! for  Ternary\n",
      "Total entries: 10000\n",
      "Data fetched successfully! for  Quaternary\n",
      "Total entries: 0\n",
      "Data fetched successfully! for  Quinary\n",
      "Total entries: 0\n",
      "Data fetched successfully! for  Sexiary\n",
      "Total entries: 0\n",
      "Data fetched successfully! for  Septenary\n",
      "Total entries: 0\n",
      "Data fetched successfully! for  Octanary\n",
      "Total entries: 0\n",
      "Data fetched successfully! for  Nonary\n",
      "Total entries: 0\n",
      "Data fetched successfully! for  Decinary\n",
      "Total entries: 0\n"
     ]
    }
   ],
   "source": [
    "type_of_compound = [\n",
    "                    'Unary', 'Binary', 'Ternary', 'Quaternary',\n",
    "                    'Quinary', 'Sexiary', 'Septenary', 'Octanary', 'Nonary', 'Decinary' \n",
    "                    ]\n",
    "\n",
    "# Define base URL and endpoint\n",
    "KRICTDB_URL = \"https://materials.chemdx.org\"\n",
    "api_command = \"/api/download/property\"\n",
    "\n",
    "# Set headers for the request\n",
    "headers = {\n",
    "    'Content-Type': 'application/json'\n",
    "}\n",
    "for compositional_arity in type_of_compound:\n",
    "    # Define query parameters for the API request\n",
    "    property_calculation = \"Formation energy\"\n",
    "\n",
    "    # Construct the full API URL with query parameters\n",
    "    api_url = f\"{KRICTDB_URL}{api_command}?compositional_arity={compositional_arity}&property_calculation={property_calculation}\"\n",
    "\n",
    "    # Set a very large size to attempt to download all data at once\n",
    "    option = json.dumps({\n",
    "        \"from\": 1,\n",
    "        \"size\": 10000  # Adjust size as needed if the API has a maximum limit per request\n",
    "    })\n",
    "\n",
    "\n",
    "    response = requests.post(api_url, data=option, headers=headers)\n",
    "\n",
    "    if response.status_code == 200:\n",
    "        data = response.json()\n",
    "        print(\"Data fetched successfully! for \", compositional_arity)\n",
    "        print(\"Total entries:\", len(data))\n",
    "        \n",
    "        if len(data) > 0:\n",
    "            \n",
    "            df = pd.DataFrame(data)\n",
    "            df.to_csv(f\"./Data/MatDX_nomad_EF_{compositional_arity}.csv\", index=False)\n",
    "    else:\n",
    "        print(f\"Failed to fetch data. Status code: {response.status_code}\")\n",
    "\n"
   ]
  },
  {
   "cell_type": "code",
   "execution_count": 19,
   "metadata": {},
   "outputs": [
    {
     "data": {
      "text/plain": [
       "[]"
      ]
     },
     "execution_count": 19,
     "metadata": {},
     "output_type": "execute_result"
    }
   ],
   "source": []
  },
  {
   "cell_type": "code",
   "execution_count": null,
   "metadata": {},
   "outputs": [],
   "source": []
  }
 ],
 "metadata": {
  "kernelspec": {
   "display_name": "base",
   "language": "python",
   "name": "python3"
  },
  "language_info": {
   "codemirror_mode": {
    "name": "ipython",
    "version": 3
   },
   "file_extension": ".py",
   "mimetype": "text/x-python",
   "name": "python",
   "nbconvert_exporter": "python",
   "pygments_lexer": "ipython3",
   "version": "3.8.8"
  }
 },
 "nbformat": 4,
 "nbformat_minor": 2
}
