{
 "cells": [
  {
   "cell_type": "code",
   "execution_count": 2,
   "metadata": {},
   "outputs": [],
   "source": [
    "\n",
    "from mendeleev import element\n",
    "import numpy as np\n",
    "import re\n",
    "import pandas as pd\n",
    "import ast\n",
    "from pymatgen.symmetry.groups import SpaceGroup\n",
    "\n",
    "# Define the function to calculate descriptors\n",
    "def calculate_descriptors(formula):\n",
    "    # Parse the formula and count the elements and their stoichiometric ratios\n",
    "    pattern = re.compile(r\"([A-Z][a-z]*)(\\d*)\")\n",
    "    elements = pattern.findall(formula)\n",
    "\n",
    "    # Convert elements list into a dictionary with counts as integers\n",
    "    element_counts = {}\n",
    "    for symbol, count in elements:\n",
    "        count = int(count) if count else 1\n",
    "        element_counts[symbol] = count\n",
    "\n",
    "    # Retrieve each element's atomic properties\n",
    "    atomic_numbers = []\n",
    "    electronegativities = []\n",
    "    atomic_radii = []\n",
    "    atomic_masses = []\n",
    "    valence_electrons = []\n",
    "\n",
    "    for symbol, count in element_counts.items():\n",
    "        elem = element(symbol)\n",
    "        atomic_numbers.extend([elem.atomic_number] * count)\n",
    "        electronegativities.extend([elem.en_pauling] * count)\n",
    "        atomic_radii.extend([elem.atomic_radius] * count)\n",
    "        atomic_masses.extend([elem.atomic_weight] * count)\n",
    "        valence_electrons.extend([elem.nvalence()] * count)\n",
    "\n",
    "    # Calculate descriptors\n",
    "\n",
    "    # Elemental Properties\n",
    "    mean_electronegativity = np.mean(electronegativities)\n",
    "    atomic_number_diff = max(atomic_numbers) - min(atomic_numbers)\n",
    "    avg_atomic_radius = np.mean(atomic_radii)\n",
    "\n",
    "    # Compositional Features\n",
    "    avg_atomic_mass = np.mean(atomic_masses)\n",
    "\n",
    "    # Statistical Measures of Elemental Properties\n",
    "    std_electronegativity = np.std(electronegativities)\n",
    "    min_atomic_radius = np.min(atomic_radii)\n",
    "    max_atomic_radius = np.max(atomic_radii)\n",
    "\n",
    "    # Heuristic Quantities\n",
    "    electronegativity_diff = max(electronegativities) - min(electronegativities)\n",
    "    mean_valence_electron_count = np.mean(valence_electrons)\n",
    "\n",
    "    # Organize descriptors into a vector\n",
    "    feature_vector = [\n",
    "        mean_electronegativity,        # 1. Mean Electronegativity\n",
    "        atomic_number_diff,            # 2. Atomic Number Difference\n",
    "        avg_atomic_radius,             # 3. Average Atomic Radius\n",
    "        avg_atomic_mass,               # 4. Average Atomic Mass\n",
    "        std_electronegativity,         # 5. Standard Deviation of Electronegativity\n",
    "        min_atomic_radius,             # 6. Minimum Atomic Radius\n",
    "        max_atomic_radius,             # 7. Maximum Atomic Radius\n",
    "        electronegativity_diff,        # 8. Electronegativity Difference\n",
    "        mean_valence_electron_count    # 9. Mean Valence Electron Count\n",
    "    ]\n",
    "\n",
    "    return feature_vector\n",
    "\n",
    "\n",
    "\n",
    "def get_properties(row):\n",
    "\n",
    "    \n",
    "    data = ast.literal_eval(row['structure'])\n",
    "    \n",
    "    lattice_data = data[0]['data']\n",
    "    \n",
    "    lat_a, lat_b, lat_c = lattice_data['a'], lattice_data['b'], lattice_data['c']\n",
    "    \n",
    "    volume = abs(np.dot(lat_a, np.cross(lat_b, lat_c))) * 1e30\n",
    "    e_f = ast.literal_eval(row['formation_energy'])['value']\n",
    "    \n",
    "    \n",
    "    sg = SpaceGroup(row['space_group']).int_number\n",
    "    \n",
    "    return (volume, len(lattice_data['atoms']), sg, e_f)"
   ]
  },
  {
   "cell_type": "code",
   "execution_count": 3,
   "metadata": {},
   "outputs": [],
   "source": [
    "df1 = pd.read_csv('./Data/1_MatDX/MatDX_nomad_EF_Binary.csv')\n",
    "df2 = pd.read_csv('./Data/1_MatDX/MatDX_nomad_EF_Ternary.csv')\n",
    "\n",
    "# Concatenate the DataFrames\n",
    "df = pd.concat([df1, df2], ignore_index=True)"
   ]
  },
  {
   "cell_type": "code",
   "execution_count": 5,
   "metadata": {},
   "outputs": [
    {
     "name": "stderr",
     "output_type": "stream",
     "text": [
      "Processing Rows:   0%|          | 50/20000 [00:36<3:53:51,  1.42it/s]"
     ]
    },
    {
     "name": "stdout",
     "output_type": "stream",
     "text": [
      "Error processing row 49: unsupported operand type(s) for +: 'float' and 'NoneType'\n"
     ]
    },
    {
     "name": "stderr",
     "output_type": "stream",
     "text": [
      "Processing Rows:   1%|          | 127/20000 [01:30<4:07:22,  1.34it/s]"
     ]
    },
    {
     "name": "stdout",
     "output_type": "stream",
     "text": [
      "Error processing row 126: unsupported operand type(s) for +: 'NoneType' and 'float'\n"
     ]
    },
    {
     "name": "stderr",
     "output_type": "stream",
     "text": [
      "Processing Rows:   1%|          | 182/20000 [02:09<3:50:12,  1.43it/s]"
     ]
    },
    {
     "name": "stdout",
     "output_type": "stream",
     "text": [
      "Error processing row 181: unsupported operand type(s) for +: 'float' and 'NoneType'\n"
     ]
    },
    {
     "name": "stderr",
     "output_type": "stream",
     "text": [
      "Processing Rows:   2%|▏         | 378/20000 [04:28<3:41:26,  1.48it/s]"
     ]
    },
    {
     "name": "stdout",
     "output_type": "stream",
     "text": [
      "Error processing row 378: list indices must be integers or slices, not str\n",
      "Error processing row 379: list indices must be integers or slices, not str\n",
      "Error processing row 380: list indices must be integers or slices, not str\n",
      "Error processing row 381: list indices must be integers or slices, not str\n",
      "Error processing row 382: list indices must be integers or slices, not str\n",
      "Error processing row 383: list indices must be integers or slices, not str\n",
      "Error processing row 384: list indices must be integers or slices, not str\n",
      "Error processing row 385: list indices must be integers or slices, not str\n",
      "Error processing row 386: list indices must be integers or slices, not str\n",
      "Error processing row 387: list indices must be integers or slices, not str\n",
      "Error processing row 388: list indices must be integers or slices, not str\n",
      "Error processing row 389: list indices must be integers or slices, not str\n",
      "Error processing row 390: list indices must be integers or slices, not str\n",
      "Error processing row 391: list indices must be integers or slices, not str\n",
      "Error processing row 392: list indices must be integers or slices, not str\n",
      "Error processing row 393: list indices must be integers or slices, not str\n",
      "Error processing row 394: list indices must be integers or slices, not str\n",
      "Error processing row 395: list indices must be integers or slices, not str\n",
      "Error processing row 396: list indices must be integers or slices, not str\n",
      "Error processing row 397: list indices must be integers or slices, not str\n",
      "Error processing row 398: list indices must be integers or slices, not str\n",
      "Error processing row 399: list indices must be integers or slices, not str\n",
      "Error processing row 400: list indices must be integers or slices, not str\n",
      "Error processing row 401: list indices must be integers or slices, not str\n",
      "Error processing row 402: list indices must be integers or slices, not str\n",
      "Error processing row 403: list indices must be integers or slices, not str\n",
      "Error processing row 404: list indices must be integers or slices, not str\n",
      "Error processing row 405: list indices must be integers or slices, not str\n",
      "Error processing row 406: list indices must be integers or slices, not str\n",
      "Error processing row 407: list indices must be integers or slices, not str\n",
      "Error processing row 408: list indices must be integers or slices, not str\n",
      "Error processing row 409: list indices must be integers or slices, not str\n",
      "Error processing row 410: list indices must be integers or slices, not str\n",
      "Error processing row 411: list indices must be integers or slices, not str\n",
      "Error processing row 412: list indices must be integers or slices, not str\n",
      "Error processing row 413: list indices must be integers or slices, not str\n",
      "Error processing row 414: list indices must be integers or slices, not str\n",
      "Error processing row 415: list indices must be integers or slices, not str\n",
      "Error processing row 416: list indices must be integers or slices, not str\n",
      "Error processing row 417: list indices must be integers or slices, not str\n",
      "Error processing row 418: list indices must be integers or slices, not str\n",
      "Error processing row 419: list indices must be integers or slices, not str\n",
      "Error processing row 420: list indices must be integers or slices, not str\n",
      "Error processing row 421: list indices must be integers or slices, not str\n",
      "Error processing row 422: list indices must be integers or slices, not str\n",
      "Error processing row 423: list indices must be integers or slices, not str\n",
      "Error processing row 424: list indices must be integers or slices, not str\n",
      "Error processing row 425: list indices must be integers or slices, not str\n",
      "Error processing row 426: list indices must be integers or slices, not str\n",
      "Error processing row 427: list indices must be integers or slices, not str\n",
      "Error processing row 428: list indices must be integers or slices, not str\n",
      "Error processing row 429: list indices must be integers or slices, not str\n",
      "Error processing row 430: list indices must be integers or slices, not str\n",
      "Error processing row 431: list indices must be integers or slices, not str\n",
      "Error processing row 432: list indices must be integers or slices, not str\n",
      "Error processing row 433: list indices must be integers or slices, not str\n",
      "Error processing row 434: list indices must be integers or slices, not str\n",
      "Error processing row 435: list indices must be integers or slices, not str\n"
     ]
    },
    {
     "name": "stderr",
     "output_type": "stream",
     "text": [
      "Processing Rows:   2%|▏         | 440/20000 [04:29<16:17, 20.01it/s]  "
     ]
    },
    {
     "name": "stdout",
     "output_type": "stream",
     "text": [
      "Error processing row 437: unsupported operand type(s) for +: 'float' and 'NoneType'\n",
      "Error processing row 438: list indices must be integers or slices, not str\n",
      "Error processing row 439: list indices must be integers or slices, not str\n",
      "Error processing row 440: list indices must be integers or slices, not str\n",
      "Error processing row 441: list indices must be integers or slices, not str\n",
      "Error processing row 442: list indices must be integers or slices, not str\n",
      "Error processing row 443: list indices must be integers or slices, not str\n",
      "Error processing row 444: list indices must be integers or slices, not str\n",
      "Error processing row 445: list indices must be integers or slices, not str\n",
      "Error processing row 446: list indices must be integers or slices, not str\n",
      "Error processing row 447: list indices must be integers or slices, not str\n",
      "Error processing row 448: list indices must be integers or slices, not str\n",
      "Error processing row 449: list indices must be integers or slices, not str\n",
      "Error processing row 450: list indices must be integers or slices, not str\n",
      "Error processing row 451: list indices must be integers or slices, not str\n",
      "Error processing row 452: list indices must be integers or slices, not str\n",
      "Error processing row 453: list indices must be integers or slices, not str\n",
      "Error processing row 454: list indices must be integers or slices, not str\n",
      "Error processing row 455: list indices must be integers or slices, not str\n",
      "Error processing row 456: list indices must be integers or slices, not str\n",
      "Error processing row 457: list indices must be integers or slices, not str\n",
      "Error processing row 458: list indices must be integers or slices, not str\n",
      "Error processing row 459: list indices must be integers or slices, not str\n",
      "Error processing row 460: list indices must be integers or slices, not str\n",
      "Error processing row 461: list indices must be integers or slices, not str\n",
      "Error processing row 462: list indices must be integers or slices, not str\n"
     ]
    },
    {
     "name": "stderr",
     "output_type": "stream",
     "text": [
      "Processing Rows:   2%|▏         | 464/20000 [04:30<14:01, 23.20it/s]"
     ]
    },
    {
     "name": "stdout",
     "output_type": "stream",
     "text": [
      "Error processing row 465: unsupported operand type(s) for +: 'float' and 'NoneType'\n"
     ]
    },
    {
     "name": "stderr",
     "output_type": "stream",
     "text": [
      "Processing Rows:   2%|▏         | 467/20000 [04:32<28:16, 11.51it/s]"
     ]
    },
    {
     "name": "stdout",
     "output_type": "stream",
     "text": [
      "Error processing row 467: list indices must be integers or slices, not str\n",
      "Error processing row 468: list indices must be integers or slices, not str\n",
      "Error processing row 469: list indices must be integers or slices, not str\n",
      "Error processing row 470: list indices must be integers or slices, not str\n",
      "Error processing row 471: list indices must be integers or slices, not str\n"
     ]
    },
    {
     "name": "stderr",
     "output_type": "stream",
     "text": [
      "Processing Rows:   2%|▏         | 475/20000 [04:34<44:31,  7.31it/s]"
     ]
    },
    {
     "name": "stdout",
     "output_type": "stream",
     "text": [
      "Error processing row 475: list indices must be integers or slices, not str\n",
      "Error processing row 476: list indices must be integers or slices, not str\n",
      "Error processing row 477: list indices must be integers or slices, not str\n",
      "Error processing row 478: list indices must be integers or slices, not str\n",
      "Error processing row 479: list indices must be integers or slices, not str\n",
      "Error processing row 480: list indices must be integers or slices, not str\n"
     ]
    },
    {
     "name": "stderr",
     "output_type": "stream",
     "text": [
      "Processing Rows:   2%|▏         | 482/20000 [04:35<41:00,  7.93it/s]"
     ]
    },
    {
     "name": "stdout",
     "output_type": "stream",
     "text": [
      "Error processing row 482: list indices must be integers or slices, not str\n",
      "Error processing row 483: list indices must be integers or slices, not str\n",
      "Error processing row 484: list indices must be integers or slices, not str\n",
      "Error processing row 485: list indices must be integers or slices, not str\n",
      "Error processing row 486: list indices must be integers or slices, not str\n",
      "Error processing row 487: list indices must be integers or slices, not str\n",
      "Error processing row 488: list indices must be integers or slices, not str\n",
      "Error processing row 489: list indices must be integers or slices, not str\n"
     ]
    },
    {
     "name": "stderr",
     "output_type": "stream",
     "text": [
      "Processing Rows:   2%|▏         | 492/20000 [04:36<48:57,  6.64it/s]"
     ]
    },
    {
     "name": "stdout",
     "output_type": "stream",
     "text": [
      "Error processing row 492: list indices must be integers or slices, not str\n",
      "Error processing row 493: list indices must be integers or slices, not str\n",
      "Error processing row 494: list indices must be integers or slices, not str\n",
      "Error processing row 495: list indices must be integers or slices, not str\n",
      "Error processing row 496: list indices must be integers or slices, not str\n",
      "Error processing row 497: list indices must be integers or slices, not str\n",
      "Error processing row 498: list indices must be integers or slices, not str\n"
     ]
    },
    {
     "name": "stderr",
     "output_type": "stream",
     "text": [
      "Processing Rows:   3%|▎         | 505/20000 [04:41<2:18:05,  2.35it/s]"
     ]
    },
    {
     "name": "stdout",
     "output_type": "stream",
     "text": [
      "Error processing row 505: list indices must be integers or slices, not str\n",
      "Error processing row 506: list indices must be integers or slices, not str\n",
      "Error processing row 507: list indices must be integers or slices, not str\n"
     ]
    },
    {
     "name": "stderr",
     "output_type": "stream",
     "text": [
      "Processing Rows:   3%|▎         | 512/20000 [04:44<2:31:53,  2.14it/s]"
     ]
    },
    {
     "name": "stdout",
     "output_type": "stream",
     "text": [
      "Error processing row 512: list indices must be integers or slices, not str\n",
      "Error processing row 513: list indices must be integers or slices, not str\n",
      "Error processing row 514: list indices must be integers or slices, not str\n",
      "Error processing row 515: list indices must be integers or slices, not str\n",
      "Error processing row 516: list indices must be integers or slices, not str\n"
     ]
    },
    {
     "name": "stderr",
     "output_type": "stream",
     "text": [
      "Processing Rows:   3%|▎         | 522/20000 [04:47<2:36:20,  2.08it/s]"
     ]
    },
    {
     "name": "stdout",
     "output_type": "stream",
     "text": [
      "Error processing row 522: list indices must be integers or slices, not str\n",
      "Error processing row 523: list indices must be integers or slices, not str\n",
      "Error processing row 524: list indices must be integers or slices, not str\n",
      "Error processing row 525: list indices must be integers or slices, not str\n"
     ]
    },
    {
     "name": "stderr",
     "output_type": "stream",
     "text": [
      "Processing Rows:   3%|▎         | 533/20000 [04:52<3:18:51,  1.63it/s]"
     ]
    },
    {
     "name": "stdout",
     "output_type": "stream",
     "text": [
      "Error processing row 533: list indices must be integers or slices, not str\n",
      "Error processing row 534: list indices must be integers or slices, not str\n"
     ]
    },
    {
     "name": "stderr",
     "output_type": "stream",
     "text": [
      "Processing Rows:   3%|▎         | 539/20000 [04:55<3:08:30,  1.72it/s]"
     ]
    },
    {
     "name": "stdout",
     "output_type": "stream",
     "text": [
      "Error processing row 539: list indices must be integers or slices, not str\n",
      "Error processing row 540: list indices must be integers or slices, not str\n",
      "Error processing row 541: list indices must be integers or slices, not str\n",
      "Error processing row 542: list indices must be integers or slices, not str\n",
      "Error processing row 543: list indices must be integers or slices, not str\n"
     ]
    },
    {
     "name": "stderr",
     "output_type": "stream",
     "text": [
      "Processing Rows:   3%|▎         | 552/20000 [05:00<3:17:13,  1.64it/s]"
     ]
    },
    {
     "name": "stdout",
     "output_type": "stream",
     "text": [
      "Error processing row 552: list indices must be integers or slices, not str\n"
     ]
    },
    {
     "name": "stderr",
     "output_type": "stream",
     "text": [
      "Processing Rows:   3%|▎         | 559/20000 [05:05<3:29:27,  1.55it/s]"
     ]
    },
    {
     "name": "stdout",
     "output_type": "stream",
     "text": [
      "Error processing row 559: list indices must be integers or slices, not str\n",
      "Error processing row 560: list indices must be integers or slices, not str\n",
      "Error processing row 561: list indices must be integers or slices, not str\n"
     ]
    },
    {
     "name": "stderr",
     "output_type": "stream",
     "text": [
      "Processing Rows:   3%|▎         | 588/20000 [05:23<3:37:51,  1.49it/s]"
     ]
    },
    {
     "name": "stdout",
     "output_type": "stream",
     "text": [
      "Error processing row 588: list indices must be integers or slices, not str\n"
     ]
    },
    {
     "name": "stderr",
     "output_type": "stream",
     "text": [
      "Processing Rows:   3%|▎         | 597/20000 [05:28<3:49:21,  1.41it/s]"
     ]
    },
    {
     "name": "stdout",
     "output_type": "stream",
     "text": [
      "Error processing row 597: list indices must be integers or slices, not str\n"
     ]
    },
    {
     "name": "stderr",
     "output_type": "stream",
     "text": [
      "Processing Rows:   3%|▎         | 606/20000 [05:34<3:33:34,  1.51it/s]"
     ]
    },
    {
     "name": "stdout",
     "output_type": "stream",
     "text": [
      "Error processing row 606: list indices must be integers or slices, not str\n"
     ]
    },
    {
     "name": "stderr",
     "output_type": "stream",
     "text": [
      "Processing Rows:   3%|▎         | 657/20000 [06:10<3:45:54,  1.43it/s]"
     ]
    },
    {
     "name": "stdout",
     "output_type": "stream",
     "text": [
      "Error processing row 656: unsupported operand type(s) for +: 'float' and 'NoneType'\n"
     ]
    },
    {
     "name": "stderr",
     "output_type": "stream",
     "text": [
      "Processing Rows:   4%|▍         | 768/20000 [07:30<3:51:05,  1.39it/s]"
     ]
    },
    {
     "name": "stdout",
     "output_type": "stream",
     "text": [
      "Error processing row 767: unsupported operand type(s) for +: 'float' and 'NoneType'\n"
     ]
    },
    {
     "name": "stderr",
     "output_type": "stream",
     "text": [
      "Processing Rows:   4%|▍         | 788/20000 [07:43<3:41:52,  1.44it/s]"
     ]
    },
    {
     "name": "stdout",
     "output_type": "stream",
     "text": [
      "Error processing row 787: unsupported operand type(s) for +: 'float' and 'NoneType'\n"
     ]
    },
    {
     "name": "stderr",
     "output_type": "stream",
     "text": [
      "Processing Rows:   4%|▍         | 789/20000 [07:44<3:38:07,  1.47it/s]"
     ]
    },
    {
     "name": "stdout",
     "output_type": "stream",
     "text": [
      "Error processing row 788: unsupported operand type(s) for +: 'NoneType' and 'NoneType'\n"
     ]
    },
    {
     "name": "stderr",
     "output_type": "stream",
     "text": [
      "Processing Rows:   4%|▍         | 895/20000 [09:01<3:39:10,  1.45it/s]"
     ]
    },
    {
     "name": "stdout",
     "output_type": "stream",
     "text": [
      "Error processing row 895: list indices must be integers or slices, not str\n",
      "Error processing row 896: list indices must be integers or slices, not str\n",
      "Error processing row 897: list indices must be integers or slices, not str\n",
      "Error processing row 898: list indices must be integers or slices, not str\n",
      "Error processing row 899: list indices must be integers or slices, not str\n",
      "Error processing row 900: list indices must be integers or slices, not str\n",
      "Error processing row 901: list indices must be integers or slices, not str\n",
      "Error processing row 902: list indices must be integers or slices, not str\n",
      "Error processing row 903: list indices must be integers or slices, not str\n",
      "Error processing row 904: list indices must be integers or slices, not str\n",
      "Error processing row 905: list indices must be integers or slices, not str\n",
      "Error processing row 906: list indices must be integers or slices, not str\n",
      "Error processing row 907: list indices must be integers or slices, not str\n",
      "Error processing row 908: list indices must be integers or slices, not str\n",
      "Error processing row 909: list indices must be integers or slices, not str\n",
      "Error processing row 910: list indices must be integers or slices, not str\n",
      "Error processing row 911: list indices must be integers or slices, not str\n",
      "Error processing row 912: list indices must be integers or slices, not str\n",
      "Error processing row 913: list indices must be integers or slices, not str\n",
      "Error processing row 914: list indices must be integers or slices, not str\n",
      "Error processing row 915: list indices must be integers or slices, not str\n",
      "Error processing row 916: list indices must be integers or slices, not str\n",
      "Error processing row 917: list indices must be integers or slices, not str\n",
      "Error processing row 918: list indices must be integers or slices, not str\n",
      "Error processing row 919: list indices must be integers or slices, not str\n",
      "Error processing row 920: list indices must be integers or slices, not str\n",
      "Error processing row 921: list indices must be integers or slices, not str\n",
      "Error processing row 922: list indices must be integers or slices, not str\n",
      "Error processing row 923: list indices must be integers or slices, not str\n",
      "Error processing row 924: list indices must be integers or slices, not str\n",
      "Error processing row 925: list indices must be integers or slices, not str\n",
      "Error processing row 926: list indices must be integers or slices, not str\n",
      "Error processing row 927: list indices must be integers or slices, not str\n",
      "Error processing row 928: list indices must be integers or slices, not str\n",
      "Error processing row 929: list indices must be integers or slices, not str\n",
      "Error processing row 930: list indices must be integers or slices, not str\n",
      "Error processing row 931: list indices must be integers or slices, not str\n",
      "Error processing row 932: list indices must be integers or slices, not str\n",
      "Error processing row 933: list indices must be integers or slices, not str\n",
      "Error processing row 934: list indices must be integers or slices, not str\n",
      "Error processing row 935: list indices must be integers or slices, not str\n",
      "Error processing row 936: list indices must be integers or slices, not str\n",
      "Error processing row 937: list indices must be integers or slices, not str\n",
      "Error processing row 938: list indices must be integers or slices, not str\n",
      "Error processing row 939: list indices must be integers or slices, not str\n",
      "Error processing row 940: list indices must be integers or slices, not str\n",
      "Error processing row 941: list indices must be integers or slices, not str\n",
      "Error processing row 942: list indices must be integers or slices, not str\n",
      "Error processing row 943: list indices must be integers or slices, not str\n",
      "Error processing row 944: list indices must be integers or slices, not str\n",
      "Error processing row 945: list indices must be integers or slices, not str\n",
      "Error processing row 946: list indices must be integers or slices, not str\n",
      "Error processing row 947: list indices must be integers or slices, not str\n",
      "Error processing row 948: list indices must be integers or slices, not str\n",
      "Error processing row 949: list indices must be integers or slices, not str\n",
      "Error processing row 950: list indices must be integers or slices, not str\n",
      "Error processing row 951: list indices must be integers or slices, not str\n",
      "Error processing row 952: list indices must be integers or slices, not str\n",
      "Error processing row 953: list indices must be integers or slices, not str\n",
      "Error processing row 954: list indices must be integers or slices, not str\n",
      "Error processing row 955: list indices must be integers or slices, not str\n",
      "Error processing row 956: list indices must be integers or slices, not str\n",
      "Error processing row 957: list indices must be integers or slices, not str\n",
      "Error processing row 958: list indices must be integers or slices, not str\n",
      "Error processing row 959: list indices must be integers or slices, not str\n",
      "Error processing row 960: list indices must be integers or slices, not str\n",
      "Error processing row 961: list indices must be integers or slices, not str\n",
      "Error processing row 962: list indices must be integers or slices, not str\n",
      "Error processing row 963: list indices must be integers or slices, not str\n",
      "Error processing row 964: list indices must be integers or slices, not str\n",
      "Error processing row 965: list indices must be integers or slices, not str\n"
     ]
    },
    {
     "name": "stderr",
     "output_type": "stream",
     "text": [
      "Processing Rows:   5%|▍         | 976/20000 [09:07<48:02,  6.60it/s]  "
     ]
    },
    {
     "name": "stdout",
     "output_type": "stream",
     "text": [
      "Error processing row 975: unsupported operand type(s) for +: 'float' and 'NoneType'\n"
     ]
    },
    {
     "name": "stderr",
     "output_type": "stream",
     "text": [
      "Processing Rows:   6%|▌         | 1145/20000 [11:03<3:26:28,  1.52it/s]"
     ]
    },
    {
     "name": "stdout",
     "output_type": "stream",
     "text": [
      "Error processing row 1144: unsupported operand type(s) for +: 'float' and 'NoneType'\n"
     ]
    },
    {
     "name": "stderr",
     "output_type": "stream",
     "text": [
      "Processing Rows:   6%|▋         | 1254/20000 [12:21<3:22:40,  1.54it/s]"
     ]
    },
    {
     "name": "stdout",
     "output_type": "stream",
     "text": [
      "Error processing row 1253: unsupported operand type(s) for +: 'NoneType' and 'float'\n"
     ]
    },
    {
     "name": "stderr",
     "output_type": "stream",
     "text": [
      "Processing Rows:   6%|▋         | 1265/20000 [12:28<3:36:47,  1.44it/s]"
     ]
    },
    {
     "name": "stdout",
     "output_type": "stream",
     "text": [
      "Error processing row 1264: unsupported operand type(s) for +: 'NoneType' and 'float'\n"
     ]
    },
    {
     "name": "stderr",
     "output_type": "stream",
     "text": [
      "Processing Rows:   7%|▋         | 1318/20000 [13:06<3:39:30,  1.42it/s]"
     ]
    },
    {
     "name": "stdout",
     "output_type": "stream",
     "text": [
      "Error processing row 1317: unsupported operand type(s) for +: 'float' and 'NoneType'\n"
     ]
    },
    {
     "name": "stderr",
     "output_type": "stream",
     "text": [
      "Processing Rows:   7%|▋         | 1352/20000 [13:31<3:49:11,  1.36it/s]"
     ]
    },
    {
     "name": "stdout",
     "output_type": "stream",
     "text": [
      "Error processing row 1351: unsupported operand type(s) for +: 'float' and 'NoneType'\n"
     ]
    },
    {
     "name": "stderr",
     "output_type": "stream",
     "text": [
      "Processing Rows:   7%|▋         | 1384/20000 [13:54<3:42:33,  1.39it/s]"
     ]
    },
    {
     "name": "stdout",
     "output_type": "stream",
     "text": [
      "Error processing row 1383: unsupported operand type(s) for +: 'NoneType' and 'NoneType'\n"
     ]
    },
    {
     "name": "stderr",
     "output_type": "stream",
     "text": [
      "Processing Rows:   7%|▋         | 1445/20000 [14:37<3:43:42,  1.38it/s]"
     ]
    },
    {
     "name": "stdout",
     "output_type": "stream",
     "text": [
      "Error processing row 1445: list indices must be integers or slices, not str\n"
     ]
    },
    {
     "name": "stderr",
     "output_type": "stream",
     "text": [
      "Processing Rows:   7%|▋         | 1469/20000 [14:54<3:48:57,  1.35it/s]"
     ]
    },
    {
     "name": "stdout",
     "output_type": "stream",
     "text": [
      "Error processing row 1468: unsupported operand type(s) for +: 'float' and 'NoneType'\n"
     ]
    },
    {
     "name": "stderr",
     "output_type": "stream",
     "text": [
      "Processing Rows:   7%|▋         | 1472/20000 [14:56<3:50:47,  1.34it/s]"
     ]
    },
    {
     "name": "stdout",
     "output_type": "stream",
     "text": [
      "Error processing row 1472: list indices must be integers or slices, not str\n"
     ]
    },
    {
     "name": "stderr",
     "output_type": "stream",
     "text": [
      "Processing Rows:   7%|▋         | 1490/20000 [15:09<3:34:58,  1.44it/s]"
     ]
    },
    {
     "name": "stdout",
     "output_type": "stream",
     "text": [
      "Error processing row 1490: list indices must be integers or slices, not str\n"
     ]
    },
    {
     "name": "stderr",
     "output_type": "stream",
     "text": [
      "Processing Rows:   8%|▊         | 1545/20000 [15:48<3:43:23,  1.38it/s]"
     ]
    },
    {
     "name": "stdout",
     "output_type": "stream",
     "text": [
      "Error processing row 1544: unsupported operand type(s) for +: 'float' and 'NoneType'\n"
     ]
    },
    {
     "name": "stderr",
     "output_type": "stream",
     "text": [
      "Processing Rows:   8%|▊         | 1698/20000 [17:41<3:57:11,  1.29it/s]"
     ]
    }
   ],
   "source": [
    "import json\n",
    "from tqdm import tqdm\n",
    "\n",
    "target = {}\n",
    "descriptors = {}\n",
    "\n",
    "# Open the JSON file in append/update mode\n",
    "output_file = 'descriptors.json'\n",
    "try:\n",
    "    # Load existing data if the file already exists\n",
    "    with open(output_file, 'r') as file:\n",
    "        data = json.load(file)\n",
    "except (FileNotFoundError, json.JSONDecodeError):\n",
    "    # If the file doesn't exist or is empty, initialize an empty dictionary\n",
    "    data = {}\n",
    "\n",
    "# Loop through the DataFrame and process each row\n",
    "for index, row in tqdm(df.iterrows(), total=len(df), desc=\"Processing Rows\"):\n",
    "    try:\n",
    "        formula = row['formula']\n",
    "        (_, _, _, e_f) = get_properties(row)\n",
    "        target[formula] = e_f\n",
    "        descriptor_values = calculate_descriptors(formula)\n",
    "        descriptors[formula] = descriptor_values\n",
    "\n",
    "        # Store the descriptor and e_f in the desired format\n",
    "        data[formula] = [descriptor_values, e_f]\n",
    "        \n",
    "        # Save to JSON file after each entry (or periodically for large datasets)\n",
    "        with open(output_file, 'w') as file:\n",
    "            json.dump(data, file, indent=4)\n",
    "            \n",
    "    except Exception as e:\n",
    "        print(f\"Error processing row {index}: {e}\")\n",
    "        pass\n",
    "\n",
    "# Optionally, print the final number of descriptors processed\n",
    "print(\"Total descriptors processed:\", len(descriptors.keys()))\n"
   ]
  },
  {
   "cell_type": "code",
   "execution_count": null,
   "metadata": {},
   "outputs": [],
   "source": [
    "descriptors"
   ]
  },
  {
   "cell_type": "code",
   "execution_count": null,
   "metadata": {},
   "outputs": [],
   "source": [
    "from sklearn.linear_model import LinearRegression, Ridge, Lasso\n",
    "from sklearn.tree import DecisionTreeRegressor\n",
    "from sklearn.ensemble import RandomForestRegressor, GradientBoostingRegressor\n",
    "from sklearn.svm import SVR\n",
    "from sklearn.neighbors import KNeighborsRegressor\n",
    "\n",
    "# Assuming target_property and descriptors are defined\n",
    "df_target = pd.Series(target_property, name='target')\n",
    "df_descriptors = pd.DataFrame(descriptors).T\n",
    "\n",
    "df = df_descriptors.join(df_target, how='inner')\n",
    "\n",
    "# Split data into features (X) and target (y)\n",
    "X = df.drop(columns='target')\n",
    "y = df['target']\n",
    "\n",
    "# Split the data into training and testing sets (70% train, 30% test)\n",
    "X_train, X_test, y_train, y_test = train_test_split(X, y, test_size=0.3, random_state=42)\n",
    "\n",
    "# List of models to evaluate\n",
    "models = {\n",
    "    \"Linear Regression\": LinearRegression(),\n",
    "    \"Ridge Regression\": Ridge(),\n",
    "    \"Lasso Regression\": Lasso(),\n",
    "    \"Decision Tree\": DecisionTreeRegressor(max_depth=10),\n",
    "    \"Random Forest\": RandomForestRegressor(n_estimators=50, max_depth=10, random_state=42),\n",
    "    \"Gradient Boosting\": GradientBoostingRegressor(n_estimators=50, max_depth=3, random_state=42),\n",
    "    \"Support Vector Regressor\": SVR(kernel=\"linear\"),\n",
    "    \"k-Nearest Neighbors\": KNeighborsRegressor(n_neighbors=5)\n",
    "}\n",
    "\n",
    "# Store results\n",
    "results = {}\n",
    "\n",
    "# Iterate over models\n",
    "for model_name, model in models.items():\n",
    "    # Optional: Use PCA for dimensionality reduction if needed\n",
    "    pipeline = Pipeline([\n",
    "        ('pca', PCA(n_components=5)),  # Adjust n_components based on explained variance\n",
    "        ('regressor', model)\n",
    "    ])\n",
    "    \n",
    "    # Train the model\n",
    "    pipeline.fit(X_train, y_train)\n",
    "    \n",
    "    # Predict on the test set\n",
    "    y_pred = pipeline.predict(X_test)\n",
    "    \n",
    "    # Calculate the R-squared score\n",
    "    r2_test = r2_score(y_test, y_pred)\n",
    "    r2_train = r2_score(y_train, pipeline.predict(X_train))\n",
    "    \n",
    "    # Store the results\n",
    "    results[model_name] = r2\n",
    "    print(f\"{model_name} R-squared: {r2_test:.2f} (Test), {r2_train:.2f} (Train)\")   "
   ]
  },
  {
   "cell_type": "code",
   "execution_count": 11,
   "metadata": {},
   "outputs": [
    {
     "ename": "TypeError",
     "evalue": "unsupported operand type(s) for +: 'method' and 'method'",
     "output_type": "error",
     "traceback": [
      "\u001b[0;31m---------------------------------------------------------------------------\u001b[0m",
      "\u001b[0;31mTypeError\u001b[0m                                 Traceback (most recent call last)",
      "\u001b[0;32m<ipython-input-11-ef8c5ffdca62>\u001b[0m in \u001b[0;36m<module>\u001b[0;34m\u001b[0m\n\u001b[1;32m     95\u001b[0m \u001b[0;31m# Example Usage\u001b[0m\u001b[0;34m\u001b[0m\u001b[0;34m\u001b[0m\u001b[0;34m\u001b[0m\u001b[0m\n\u001b[1;32m     96\u001b[0m \u001b[0mcompound_formula\u001b[0m \u001b[0;34m=\u001b[0m \u001b[0;34m'H2O3Ge2'\u001b[0m\u001b[0;34m\u001b[0m\u001b[0;34m\u001b[0m\u001b[0m\n\u001b[0;32m---> 97\u001b[0;31m \u001b[0mdescriptor_vector\u001b[0m \u001b[0;34m=\u001b[0m \u001b[0mgenerate_descriptor\u001b[0m\u001b[0;34m(\u001b[0m\u001b[0mcompound_formula\u001b[0m\u001b[0;34m)\u001b[0m\u001b[0;34m\u001b[0m\u001b[0;34m\u001b[0m\u001b[0m\n\u001b[0m\u001b[1;32m     98\u001b[0m \u001b[0mprint\u001b[0m\u001b[0;34m(\u001b[0m\u001b[0;34mf\"Descriptor vector for {compound_formula}:\"\u001b[0m\u001b[0;34m)\u001b[0m\u001b[0;34m\u001b[0m\u001b[0;34m\u001b[0m\u001b[0m\n\u001b[1;32m     99\u001b[0m \u001b[0mprint\u001b[0m\u001b[0;34m(\u001b[0m\u001b[0mdescriptor_vector\u001b[0m\u001b[0;34m)\u001b[0m\u001b[0;34m\u001b[0m\u001b[0;34m\u001b[0m\u001b[0m\n",
      "\u001b[0;32m<ipython-input-11-ef8c5ffdca62>\u001b[0m in \u001b[0;36mgenerate_descriptor\u001b[0;34m(formula)\u001b[0m\n\u001b[1;32m     59\u001b[0m         \u001b[0;34m'min_atomic_radius'\u001b[0m\u001b[0;34m:\u001b[0m \u001b[0mnp\u001b[0m\u001b[0;34m.\u001b[0m\u001b[0mmin\u001b[0m\u001b[0;34m(\u001b[0m\u001b[0matomic_radii\u001b[0m\u001b[0;34m)\u001b[0m\u001b[0;34m,\u001b[0m\u001b[0;34m\u001b[0m\u001b[0;34m\u001b[0m\u001b[0m\n\u001b[1;32m     60\u001b[0m         \u001b[0;34m'max_atomic_radius'\u001b[0m\u001b[0;34m:\u001b[0m \u001b[0mnp\u001b[0m\u001b[0;34m.\u001b[0m\u001b[0mmax\u001b[0m\u001b[0;34m(\u001b[0m\u001b[0matomic_radii\u001b[0m\u001b[0;34m)\u001b[0m\u001b[0;34m,\u001b[0m\u001b[0;34m\u001b[0m\u001b[0;34m\u001b[0m\u001b[0m\n\u001b[0;32m---> 61\u001b[0;31m         \u001b[0;34m'mean_valence_electrons'\u001b[0m\u001b[0;34m:\u001b[0m \u001b[0mnp\u001b[0m\u001b[0;34m.\u001b[0m\u001b[0mmean\u001b[0m\u001b[0;34m(\u001b[0m\u001b[0mvalence_electrons\u001b[0m\u001b[0;34m)\u001b[0m\u001b[0;34m,\u001b[0m\u001b[0;34m\u001b[0m\u001b[0;34m\u001b[0m\u001b[0m\n\u001b[0m\u001b[1;32m     62\u001b[0m         \u001b[0;34m'std_valence_electrons'\u001b[0m\u001b[0;34m:\u001b[0m \u001b[0mnp\u001b[0m\u001b[0;34m.\u001b[0m\u001b[0mstd\u001b[0m\u001b[0;34m(\u001b[0m\u001b[0mvalence_electrons\u001b[0m\u001b[0;34m)\u001b[0m\u001b[0;34m,\u001b[0m\u001b[0;34m\u001b[0m\u001b[0;34m\u001b[0m\u001b[0m\n\u001b[1;32m     63\u001b[0m         \u001b[0;34m'min_valence_electrons'\u001b[0m\u001b[0;34m:\u001b[0m \u001b[0mnp\u001b[0m\u001b[0;34m.\u001b[0m\u001b[0mmin\u001b[0m\u001b[0;34m(\u001b[0m\u001b[0mvalence_electrons\u001b[0m\u001b[0;34m)\u001b[0m\u001b[0;34m,\u001b[0m\u001b[0;34m\u001b[0m\u001b[0;34m\u001b[0m\u001b[0m\n",
      "\u001b[0;32m~/anaconda3/lib/python3.8/site-packages/numpy/core/overrides.py\u001b[0m in \u001b[0;36mmean\u001b[0;34m(*args, **kwargs)\u001b[0m\n",
      "\u001b[0;32m~/anaconda3/lib/python3.8/site-packages/numpy/core/fromnumeric.py\u001b[0m in \u001b[0;36mmean\u001b[0;34m(a, axis, dtype, out, keepdims, where)\u001b[0m\n\u001b[1;32m   3472\u001b[0m             \u001b[0;32mreturn\u001b[0m \u001b[0mmean\u001b[0m\u001b[0;34m(\u001b[0m\u001b[0maxis\u001b[0m\u001b[0;34m=\u001b[0m\u001b[0maxis\u001b[0m\u001b[0;34m,\u001b[0m \u001b[0mdtype\u001b[0m\u001b[0;34m=\u001b[0m\u001b[0mdtype\u001b[0m\u001b[0;34m,\u001b[0m \u001b[0mout\u001b[0m\u001b[0;34m=\u001b[0m\u001b[0mout\u001b[0m\u001b[0;34m,\u001b[0m \u001b[0;34m**\u001b[0m\u001b[0mkwargs\u001b[0m\u001b[0;34m)\u001b[0m\u001b[0;34m\u001b[0m\u001b[0;34m\u001b[0m\u001b[0m\n\u001b[1;32m   3473\u001b[0m \u001b[0;34m\u001b[0m\u001b[0m\n\u001b[0;32m-> 3474\u001b[0;31m     return _methods._mean(a, axis=axis, dtype=dtype,\n\u001b[0m\u001b[1;32m   3475\u001b[0m                           out=out, **kwargs)\n\u001b[1;32m   3476\u001b[0m \u001b[0;34m\u001b[0m\u001b[0m\n",
      "\u001b[0;32m~/anaconda3/lib/python3.8/site-packages/numpy/core/_methods.py\u001b[0m in \u001b[0;36m_mean\u001b[0;34m(a, axis, dtype, out, keepdims, where)\u001b[0m\n\u001b[1;32m    177\u001b[0m             \u001b[0mis_float16_result\u001b[0m \u001b[0;34m=\u001b[0m \u001b[0;32mTrue\u001b[0m\u001b[0;34m\u001b[0m\u001b[0;34m\u001b[0m\u001b[0m\n\u001b[1;32m    178\u001b[0m \u001b[0;34m\u001b[0m\u001b[0m\n\u001b[0;32m--> 179\u001b[0;31m     \u001b[0mret\u001b[0m \u001b[0;34m=\u001b[0m \u001b[0mumr_sum\u001b[0m\u001b[0;34m(\u001b[0m\u001b[0marr\u001b[0m\u001b[0;34m,\u001b[0m \u001b[0maxis\u001b[0m\u001b[0;34m,\u001b[0m \u001b[0mdtype\u001b[0m\u001b[0;34m,\u001b[0m \u001b[0mout\u001b[0m\u001b[0;34m,\u001b[0m \u001b[0mkeepdims\u001b[0m\u001b[0;34m,\u001b[0m \u001b[0mwhere\u001b[0m\u001b[0;34m=\u001b[0m\u001b[0mwhere\u001b[0m\u001b[0;34m)\u001b[0m\u001b[0;34m\u001b[0m\u001b[0;34m\u001b[0m\u001b[0m\n\u001b[0m\u001b[1;32m    180\u001b[0m     \u001b[0;32mif\u001b[0m \u001b[0misinstance\u001b[0m\u001b[0;34m(\u001b[0m\u001b[0mret\u001b[0m\u001b[0;34m,\u001b[0m \u001b[0mmu\u001b[0m\u001b[0;34m.\u001b[0m\u001b[0mndarray\u001b[0m\u001b[0;34m)\u001b[0m\u001b[0;34m:\u001b[0m\u001b[0;34m\u001b[0m\u001b[0;34m\u001b[0m\u001b[0m\n\u001b[1;32m    181\u001b[0m         ret = um.true_divide(\n",
      "\u001b[0;31mTypeError\u001b[0m: unsupported operand type(s) for +: 'method' and 'method'"
     ]
    }
   ],
   "source": [
    "from mendeleev import element\n",
    "import numpy as np\n",
    "import re\n",
    "\n",
    "# Function to parse compound formula (e.g., AxByCz)\n",
    "def parse_formula(formula):\n",
    "    pattern = re.compile(r\"([A-Z][a-z]*)(\\d*)\")\n",
    "    elements = pattern.findall(formula)\n",
    "    return {el: int(num) if num else 1 for el, num in elements}\n",
    "\n",
    "# Function to retrieve basic properties of each element\n",
    "def get_element_properties(element_symbol):\n",
    "    elem = element(element_symbol)\n",
    "    return {\n",
    "        'atomic_number': elem.atomic_number,\n",
    "        'electronegativity': elem.en_pauling or 0.0,\n",
    "        'atomic_radius': elem.atomic_radius or 0.0,\n",
    "        'valence_electrons': elem.nvalence if elem.nvalence else 0\n",
    "    }\n",
    "\n",
    "# Descriptor function\n",
    "def generate_descriptor(formula):\n",
    "    composition = parse_formula(formula)\n",
    "    elements = list(composition.keys())\n",
    "    \n",
    "    # Initialize dictionaries to store properties\n",
    "    atomic_numbers = []\n",
    "    electronegativities = []\n",
    "    atomic_radii = []\n",
    "    valence_electrons = []\n",
    "    atomic_masses = []\n",
    "    \n",
    "    # Gather elemental properties\n",
    "    for element_symbol, count in composition.items():\n",
    "        props = get_element_properties(element_symbol)\n",
    "        atomic_numbers.extend([props['atomic_number']] * count)\n",
    "        electronegativities.extend([props['electronegativity']] * count)\n",
    "        atomic_radii.extend([props['atomic_radius']] * count)\n",
    "        valence_electrons.extend([props['valence_electrons']] * count)\n",
    "        atomic_masses.extend([element(element_symbol).atomic_weight] * count)\n",
    "    \n",
    "    # Compositional features\n",
    "    total_atoms = sum(composition.values())\n",
    "    stoichiometric_ratios = [composition[el] / total_atoms for el in elements]\n",
    "    average_atomic_mass = np.mean(atomic_masses)\n",
    "    \n",
    "    # Statistical measures for elemental properties\n",
    "    stats = {\n",
    "        'mean_atomic_number': np.mean(atomic_numbers),\n",
    "        'std_atomic_number': np.std(atomic_numbers),\n",
    "        'min_atomic_number': np.min(atomic_numbers),\n",
    "        'max_atomic_number': np.max(atomic_numbers),\n",
    "        'mean_electronegativity': np.mean(electronegativities),\n",
    "        'std_electronegativity': np.std(electronegativities),\n",
    "        'min_electronegativity': np.min(electronegativities),\n",
    "        'max_electronegativity': np.max(electronegativities),\n",
    "        'mean_atomic_radius': np.mean(atomic_radii),\n",
    "        'std_atomic_radius': np.std(atomic_radii),\n",
    "        'min_atomic_radius': np.min(atomic_radii),\n",
    "        'max_atomic_radius': np.max(atomic_radii),\n",
    "        'mean_valence_electrons': np.mean(valence_electrons),\n",
    "        'std_valence_electrons': np.std(valence_electrons),\n",
    "        'min_valence_electrons': np.min(valence_electrons),\n",
    "        'max_valence_electrons': np.max(valence_electrons),\n",
    "    }\n",
    "    \n",
    "    # Heuristic quantities\n",
    "    # Differences in electronegativity between neighboring atoms\n",
    "    electronegativity_diffs = []\n",
    "    for i, el1 in enumerate(elements):\n",
    "        for el2 in elements[i + 1:]:\n",
    "            diff = abs(get_element_properties(el1)['electronegativity'] - get_element_properties(el2)['electronegativity'])\n",
    "            electronegativity_diffs.append(diff)\n",
    "    mean_electronegativity_diff = np.mean(electronegativity_diffs) if electronegativity_diffs else 0.0\n",
    "\n",
    "    # Atomic packing fraction placeholder (assuming crystal structure details are unknown)\n",
    "    # For a rough estimate, we'll use the approximate atomic volume based on atomic radii\n",
    "    if atomic_radii:\n",
    "        atomic_volumes = [(4 / 3) * np.pi * (r ** 3) for r in atomic_radii]\n",
    "        packing_fraction = np.sum(atomic_volumes) / total_atoms  # A rough average\n",
    "    else:\n",
    "        packing_fraction = 0.0\n",
    "\n",
    "    # Descriptor vector\n",
    "    descriptor_vector = [\n",
    "        *stoichiometric_ratios,               # Compositional stoichiometric ratios\n",
    "        average_atomic_mass,                  # Average atomic mass\n",
    "        mean_electronegativity_diff,          # Mean electronegativity difference\n",
    "        packing_fraction,                     # Estimated atomic packing fraction\n",
    "        *stats.values()                       # Statistical measures\n",
    "    ]\n",
    "    \n",
    "    return descriptor_vector\n",
    "\n",
    "# Example Usage\n",
    "compound_formula = 'H2O3Ge2'\n",
    "descriptor_vector = generate_descriptor(compound_formula)\n",
    "print(f\"Descriptor vector for {compound_formula}:\")\n",
    "print(descriptor_vector)\n"
   ]
  },
  {
   "cell_type": "code",
   "execution_count": null,
   "metadata": {},
   "outputs": [],
   "source": []
  }
 ],
 "metadata": {
  "kernelspec": {
   "display_name": "base",
   "language": "python",
   "name": "python3"
  },
  "language_info": {
   "codemirror_mode": {
    "name": "ipython",
    "version": 3
   },
   "file_extension": ".py",
   "mimetype": "text/x-python",
   "name": "python",
   "nbconvert_exporter": "python",
   "pygments_lexer": "ipython3",
   "version": "3.8.8"
  }
 },
 "nbformat": 4,
 "nbformat_minor": 2
}
