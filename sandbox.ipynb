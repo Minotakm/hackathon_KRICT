{
 "cells": [
  {
   "cell_type": "code",
   "execution_count": 7,
   "metadata": {},
   "outputs": [],
   "source": [
    "from matminer.featurizers.composition import ElementFraction\n",
    "from pymatgen.symmetry.groups import SpaceGroup\n",
    "from pymatgen.core import Composition\n",
    "import pandas as pd"
   ]
  },
  {
   "cell_type": "markdown",
   "metadata": {},
   "source": [
    "---- \n",
    "Initial Tests for getting compositional descriptors and Spacegroup Numbers."
   ]
  },
  {
   "cell_type": "code",
   "execution_count": 11,
   "metadata": {},
   "outputs": [
    {
     "data": {
      "text/plain": [
       "formula                                                        Ni4Ta6\n",
       "space_group                                                      R-3c\n",
       "structure           [{'data': {'a': [-6.910143e-10, 0, 0], 'b': [3...\n",
       "id                                PN_MCKVEQNTJFRUHOURCR2HCEB35KDFRETL\n",
       "formation_energy    {'reference': {'Ni': 'https://nomad-lab.eu/pro...\n",
       "Name: 0, dtype: object"
      ]
     },
     "execution_count": 11,
     "metadata": {},
     "output_type": "execute_result"
    }
   ],
   "source": [
    "df = pd.read_csv('./Data/1_MatDX/MatDX_EF.csv')\n",
    "\n",
    "structure_1 = df.iloc[0]\n",
    "structure_1"
   ]
  },
  {
   "cell_type": "code",
   "execution_count": 3,
   "metadata": {},
   "outputs": [],
   "source": [
    "def concatenate_lists(*lists):\n",
    "    concatenated_list = [item for lst in lists for item in lst]\n",
    "    return concatenated_list"
   ]
  },
  {
   "cell_type": "code",
   "execution_count": 6,
   "metadata": {},
   "outputs": [
    {
     "name": "stdout",
     "output_type": "stream",
     "text": [
      "The new vector is [0, 0, 0, 0, 0, 0, 0, 0, 0, 0, 0, 0, 0.42857142857142855, 0, 0, 0, 0, 0, 0, 0, 0, 0, 0, 0, 0, 0, 0, 0, 0, 0, 0.5714285714285714, 0, 0, 0, 0, 0, 0, 0, 0, 0, 0, 0, 0, 0, 0, 0, 0, 0, 0, 0, 0, 0, 0, 0, 0, 0, 0, 0, 0, 0, 0, 0, 0, 0, 0, 0, 0, 0, 0, 0, 0, 0, 0, 0, 0, 0, 0, 0, 0, 0, 0, 0, 0, 0, 0, 0, 0, 0, 0, 0, 0, 0, 0, 0, 0, 0, 0, 0, 0, 0, 0, 0, 0, 167, 30]\n",
      "Descriptor: [0, 0, 0, 0, 0, 0, 0, 0, 0, 0, 0, 0, 0.42857142857142855, 0, 0, 0, 0, 0, 0, 0, 0, 0, 0, 0, 0, 0, 0, 0, 0, 0, 0.5714285714285714, 0, 0, 0, 0, 0, 0, 0, 0, 0, 0, 0, 0, 0, 0, 0, 0, 0, 0, 0, 0, 0, 0, 0, 0, 0, 0, 0, 0, 0, 0, 0, 0, 0, 0, 0, 0, 0, 0, 0, 0, 0, 0, 0, 0, 0, 0, 0, 0, 0, 0, 0, 0, 0, 0, 0, 0, 0, 0, 0, 0, 0, 0, 0, 0, 0, 0, 0, 0, 0, 0, 0, 0]\n",
      "Space group: [167]\n",
      "Volume: [30]\n"
     ]
    }
   ],
   "source": [
    "formula = \"Al3Ga4\"\n",
    "symbol = 'R-3c'\n",
    "\n",
    "featurizer = ElementFraction()\n",
    "\n",
    "sg = [SpaceGroup(symbol).int_number]\n",
    "vol = [30]\n",
    "composition = Composition(formula)\n",
    "\n",
    "descriptor = featurizer.featurize(composition)\n",
    "\n",
    "\n",
    "print(\"The new vector is\", concatenate_lists(descriptor, sg, vol))\n",
    "print(\"Descriptor:\", descriptor)\n",
    "print(\"Space group:\", sg)\n",
    "print('Volume:', vol)"
   ]
  },
  {
   "cell_type": "code",
   "execution_count": null,
   "metadata": {},
   "outputs": [],
   "source": []
  }
 ],
 "metadata": {
  "kernelspec": {
   "display_name": "base",
   "language": "python",
   "name": "python3"
  },
  "language_info": {
   "codemirror_mode": {
    "name": "ipython",
    "version": 3
   },
   "file_extension": ".py",
   "mimetype": "text/x-python",
   "name": "python",
   "nbconvert_exporter": "python",
   "pygments_lexer": "ipython3",
   "version": "3.8.8"
  }
 },
 "nbformat": 4,
 "nbformat_minor": 2
}
