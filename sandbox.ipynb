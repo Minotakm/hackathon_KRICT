{
 "cells": [
  {
   "cell_type": "code",
   "execution_count": 2,
   "metadata": {},
   "outputs": [],
   "source": [
    "from matminer.featurizers.composition import ElementFraction\n",
    "from pymatgen.symmetry.groups import SpaceGroup\n",
    "from pymatgen.core import Composition\n",
    "import pandas as pd\n",
    "import numpy as np \n",
    "import matplotlib.pyplot as plt\n",
    "\n",
    "import ast \n",
    "\n",
    "from sklearn.ensemble import RandomForestRegressor\n",
    "from sklearn.model_selection import train_test_split\n",
    "from sklearn.metrics import mean_squared_error\n",
    "\n",
    "import optuna"
   ]
  },
  {
   "cell_type": "markdown",
   "metadata": {},
   "source": [
    "---- \n",
    "Initial Tests for getting compositional descriptors and Spacegroup Numbers."
   ]
  },
  {
   "cell_type": "code",
   "execution_count": 3,
   "metadata": {},
   "outputs": [
    {
     "data": {
      "text/html": [
       "<div>\n",
       "<style scoped>\n",
       "    .dataframe tbody tr th:only-of-type {\n",
       "        vertical-align: middle;\n",
       "    }\n",
       "\n",
       "    .dataframe tbody tr th {\n",
       "        vertical-align: top;\n",
       "    }\n",
       "\n",
       "    .dataframe thead th {\n",
       "        text-align: right;\n",
       "    }\n",
       "</style>\n",
       "<table border=\"1\" class=\"dataframe\">\n",
       "  <thead>\n",
       "    <tr style=\"text-align: right;\">\n",
       "      <th></th>\n",
       "      <th>formula</th>\n",
       "      <th>space_group</th>\n",
       "      <th>structure</th>\n",
       "      <th>id</th>\n",
       "      <th>formation_energy</th>\n",
       "    </tr>\n",
       "  </thead>\n",
       "  <tbody>\n",
       "    <tr>\n",
       "      <th>0</th>\n",
       "      <td>Ni4Ta6</td>\n",
       "      <td>R-3c</td>\n",
       "      <td>[{'data': {'a': [-6.910143e-10, 0, 0], 'b': [3...</td>\n",
       "      <td>PN_MCKVEQNTJFRUHOURCR2HCEB35KDFRETL</td>\n",
       "      <td>{'reference': {'Ni': 'https://nomad-lab.eu/pro...</td>\n",
       "    </tr>\n",
       "    <tr>\n",
       "      <th>1</th>\n",
       "      <td>Mn4Sb2</td>\n",
       "      <td>I4_1/amd</td>\n",
       "      <td>[{'data': {'a': [-1.87778212e-10, 1.87604249e-...</td>\n",
       "      <td>PN_FGGHB2NFWUCYD3YZO4FWN3QVOKCTVI6K</td>\n",
       "      <td>{'reference': {'Mn': 'https://nomad-lab.eu/pro...</td>\n",
       "    </tr>\n",
       "    <tr>\n",
       "      <th>2</th>\n",
       "      <td>Ir2Na2</td>\n",
       "      <td>Imma</td>\n",
       "      <td>[{'data': {'a': [-1.36776653e-10, 2.60817299e-...</td>\n",
       "      <td>PN_BAO7ZSBZZCMA7PH7QMR7WLDI72GOELND</td>\n",
       "      <td>{'reference': {'Na': 'https://nomad-lab.eu/pro...</td>\n",
       "    </tr>\n",
       "    <tr>\n",
       "      <th>3</th>\n",
       "      <td>MoSm</td>\n",
       "      <td>R-3m</td>\n",
       "      <td>[{'data': {'a': [1.65820251e-10, 9.57363439999...</td>\n",
       "      <td>PN_4YR2JLVZHJLC3F2TYPTOVDBJJ52C6XIE</td>\n",
       "      <td>{'reference': {'Mo': 'https://nomad-lab.eu/pro...</td>\n",
       "    </tr>\n",
       "    <tr>\n",
       "      <th>4</th>\n",
       "      <td>Sn17P12</td>\n",
       "      <td>I-43m</td>\n",
       "      <td>[{'data': {'a': [-5.563178910000001e-10, 5.563...</td>\n",
       "      <td>PN_H6P36AVAKDU244QNQGGCJ7YLC4A4F2YE</td>\n",
       "      <td>{'reference': {'P': 'https://nomad-lab.eu/prod...</td>\n",
       "    </tr>\n",
       "  </tbody>\n",
       "</table>\n",
       "</div>"
      ],
      "text/plain": [
       "   formula space_group                                          structure  \\\n",
       "0   Ni4Ta6        R-3c  [{'data': {'a': [-6.910143e-10, 0, 0], 'b': [3...   \n",
       "1   Mn4Sb2    I4_1/amd  [{'data': {'a': [-1.87778212e-10, 1.87604249e-...   \n",
       "2   Ir2Na2        Imma  [{'data': {'a': [-1.36776653e-10, 2.60817299e-...   \n",
       "3     MoSm        R-3m  [{'data': {'a': [1.65820251e-10, 9.57363439999...   \n",
       "4  Sn17P12       I-43m  [{'data': {'a': [-5.563178910000001e-10, 5.563...   \n",
       "\n",
       "                                    id  \\\n",
       "0  PN_MCKVEQNTJFRUHOURCR2HCEB35KDFRETL   \n",
       "1  PN_FGGHB2NFWUCYD3YZO4FWN3QVOKCTVI6K   \n",
       "2  PN_BAO7ZSBZZCMA7PH7QMR7WLDI72GOELND   \n",
       "3  PN_4YR2JLVZHJLC3F2TYPTOVDBJJ52C6XIE   \n",
       "4  PN_H6P36AVAKDU244QNQGGCJ7YLC4A4F2YE   \n",
       "\n",
       "                                    formation_energy  \n",
       "0  {'reference': {'Ni': 'https://nomad-lab.eu/pro...  \n",
       "1  {'reference': {'Mn': 'https://nomad-lab.eu/pro...  \n",
       "2  {'reference': {'Na': 'https://nomad-lab.eu/pro...  \n",
       "3  {'reference': {'Mo': 'https://nomad-lab.eu/pro...  \n",
       "4  {'reference': {'P': 'https://nomad-lab.eu/prod...  "
      ]
     },
     "execution_count": 3,
     "metadata": {},
     "output_type": "execute_result"
    }
   ],
   "source": [
    "df = pd.read_csv('./Data/1_MatDX/MatDX_EF.csv')\n",
    "\n",
    "df.head()"
   ]
  },
  {
   "cell_type": "code",
   "execution_count": 4,
   "metadata": {},
   "outputs": [],
   "source": [
    "def concatenate_lists(*lists):\n",
    "    \n",
    "    return  [item for lst in lists for item in lst]\n",
    "\n",
    "\n",
    "def get_properties(row):\n",
    "\n",
    "    data = ast.literal_eval(row['structure'])\n",
    "    lattice_data = data[0]['data']\n",
    "    \n",
    "    lat_a, lat_b, lat_c = lattice_data['a'], lattice_data['b'], lattice_data['c']\n",
    "    \n",
    "    volume = abs(np.dot(lat_a, np.cross(lat_b, lat_c))) * 1e30\n",
    "    e_f = ast.literal_eval(row['formation_energy'])['value']\n",
    "    \n",
    "    \n",
    "    sg = SpaceGroup(row['space_group']).int_number\n",
    "    \n",
    "    return (volume, len(lattice_data['atoms']), sg, e_f)\n",
    "\n",
    "\n",
    "def parity_plots(y_train, y_pred_train, y_test, y_pred):\n",
    "    # Set up a side-by-side plot with subplots\n",
    "    fig, (ax1, ax2) = plt.subplots(1, 2, figsize=(16, 8))\n",
    "    \n",
    "    # Define min and max for the perfect prediction line across both plots\n",
    "    min_val = min(y_train.min(), y_test.min())\n",
    "    max_val = max(y_train.max(), y_test.max())\n",
    "\n",
    "    # Training set parity plot\n",
    "    ax1.scatter(y_train, y_pred_train, alpha=0.6, color=\"blue\")\n",
    "    ax1.plot([min_val, max_val], [min_val, max_val], 'r--', lw=2)  # Perfect prediction line\n",
    "    ax1.set_xlabel(\"Actual Values (Training)\")\n",
    "    ax1.set_ylabel(\"Predicted Values (Training)\")\n",
    "    ax1.set_title(\"Training Set Parity Plot\")\n",
    "    ax1.grid(True)\n",
    "\n",
    "    # Test set parity plot\n",
    "    ax2.scatter(y_test, y_pred, alpha=0.6, color=\"green\")\n",
    "    ax2.plot([min_val, max_val], [min_val, max_val], 'r--', lw=2)  # Perfect prediction line\n",
    "    ax2.set_xlabel(\"Actual Values (Test)\")\n",
    "    ax2.set_ylabel(\"Predicted Values (Test)\")\n",
    "    ax2.set_title(\"Test Set Parity Plot\")\n",
    "    ax2.grid(True)\n",
    "\n",
    "    # Show the combined plot\n",
    "    plt.tight_layout()\n",
    "    plt.show()"
   ]
  },
  {
   "cell_type": "code",
   "execution_count": 5,
   "metadata": {},
   "outputs": [
    {
     "name": "stdout",
     "output_type": "stream",
     "text": [
      "The structure data are missing for : 2018\n"
     ]
    }
   ],
   "source": [
    "descriptors = {}\n",
    "target_property = {}\n",
    "\n",
    "featurizer = ElementFraction()\n",
    "\n",
    "for index, row in df.iterrows():\n",
    "    \n",
    "    try:\n",
    "        volume, num_atoms, sg, e_f = get_properties(row)\n",
    "        \n",
    "        formula = row['formula']\n",
    "        \n",
    "        composition = Composition(formula)\n",
    "        \n",
    "        descriptor = featurizer.featurize(composition)\n",
    "        \n",
    "        descriptors[formula] = concatenate_lists(descriptor, [volume, num_atoms, sg])\n",
    "        target_property[formula] = e_f\n",
    "        \n",
    "    except: \n",
    "        # print(row)\n",
    "        pass\n",
    "        \n",
    "print('The structure data are missing for :', df.count()['formula']- len(target_property.keys()))"
   ]
  },
  {
   "cell_type": "code",
   "execution_count": 6,
   "metadata": {},
   "outputs": [
    {
     "data": {
      "image/png": "[encoded data removed]",
      "text/plain": [
       "<Figure size 432x288 with 1 Axes>"
      ]
     },
     "metadata": {
      "needs_background": "light"
     },
     "output_type": "display_data"
    }
   ],
   "source": [
    "plt.figure()\n",
    "plt.hist(list(target_property.values()),bins=100)\n",
    "plt.xlabel('Formation Energy (eV)')\n",
    "\n",
    "plt.tight_layout()"
   ]
  },
  {
   "cell_type": "markdown",
   "metadata": {},
   "source": [
    "---- \n",
    "Too long descriptor. Let's shorten it. "
   ]
  },
  {
   "cell_type": "code",
   "execution_count": 95,
   "metadata": {},
   "outputs": [
    {
     "name": "stdout",
     "output_type": "stream",
     "text": [
      "Mean Squared Error: 72.30784018036208\n",
      "R^2: 0.08518394541521868\n"
     ]
    }
   ],
   "source": [
    "\n",
    "# Split data into features (X) and target (y)\n",
    "X = df.drop(columns='target')\n",
    "y = df['target']\n",
    "\n",
    "# Split the data into training and testing sets (70% train, 30% test)\n",
    "X_train, X_test, y_train, y_test = train_test_split(X, y, test_size=0.3, random_state=42)\n",
    "\n",
    "# Initialize and train the Random Forest model\n",
    "model = RandomForestRegressor(random_state=42)\n",
    "model.fit(X_train, y_train)\n",
    "\n",
    "# Make predictions on the test set\n",
    "y_pred = model.predict(X_test)\n",
    "y_pred_train = model.predict(X_train)\n",
    "\n",
    "# Evaluate the model\n",
    "mse = mean_squared_error(y_test, y_pred)\n",
    "print(\"Mean Squared Error:\", mse)\n",
    "\n",
    "r_sq = model.score(X_test, y_test)\n",
    "print(\"R^2:\", r_sq)\n"
   ]
  },
  {
   "cell_type": "code",
   "execution_count": null,
   "metadata": {},
   "outputs": [
    {
     "name": "stdout",
     "output_type": "stream",
     "text": [
      "Linear Regression Mean Squared Error: 77.88316739932915\n",
      "Ridge Regression Mean Squared Error: 77.92403456235887\n",
      "Lasso Regression Mean Squared Error: 78.09996077968344\n",
      "Decision Tree Mean Squared Error: 79.05546346380166\n",
      "Random Forest Mean Squared Error: 79.02290157793645\n",
      "Gradient Boosting Mean Squared Error: 74.73286659795586\n"
     ]
    }
   ],
   "source": [
    "import numpy as np\n",
    "import pandas as pd\n",
    "from sklearn.linear_model import LinearRegression, Ridge, Lasso\n",
    "from sklearn.tree import DecisionTreeRegressor\n",
    "from sklearn.ensemble import RandomForestRegressor, GradientBoostingRegressor\n",
    "from sklearn.svm import SVR\n",
    "from sklearn.neighbors import KNeighborsRegressor\n",
    "from sklearn.model_selection import train_test_split\n",
    "from sklearn.metrics import mean_squared_error\n",
    "from sklearn.decomposition import PCA\n",
    "from sklearn.pipeline import Pipeline\n",
    "\n",
    "df_target = pd.Series(target_property, name='target')\n",
    "df_descriptors = pd.DataFrame(descriptors).T\n",
    "\n",
    "df = df_descriptors.join(df_target, how='inner')\n",
    "\n",
    "# Split data into features (X) and target (y)\n",
    "X = df.drop(columns='target')\n",
    "y = df['target']\n",
    "\n",
    "# Split the data into training and testing sets (70% train, 30% test)\n",
    "X_train, X_test, y_train, y_test = train_test_split(X, y, test_size=0.3, random_state=42)\n",
    "\n",
    "# List of models to evaluate\n",
    "models = {\n",
    "    \"Linear Regression\": LinearRegression(),\n",
    "    \"Ridge Regression\": Ridge(),\n",
    "    \"Lasso Regression\": Lasso(),\n",
    "    \"Decision Tree\": DecisionTreeRegressor(max_depth=10),\n",
    "    \"Random Forest\": RandomForestRegressor(n_estimators=50, max_depth=10, random_state=42),\n",
    "    \"Gradient Boosting\": GradientBoostingRegressor(n_estimators=50, max_depth=3, random_state=42),\n",
    "    \"Support Vector Regressor\": SVR(kernel=\"linear\"),\n",
    "    \"k-Nearest Neighbors\": KNeighborsRegressor(n_neighbors=5)\n",
    "}\n",
    "\n",
    "# Store results\n",
    "results = {}\n",
    "\n",
    "# Iterate over models\n",
    "for model_name, model in models.items():\n",
    "    # Optional: Use PCA for dimensionality reduction if needed\n",
    "    pipeline = Pipeline([\n",
    "        ('pca', PCA(n_components=5)),  # Adjust n_components based on explained variance\n",
    "        ('regressor', model)\n",
    "    ])\n",
    "    \n",
    "    # Train the model\n",
    "    pipeline.fit(X_train, y_train)\n",
    "    \n",
    "    # Predict on the test set\n",
    "    y_pred = pipeline.predict(X_test)\n",
    "    \n",
    "    # Calculate the Mean Squared Error\n",
    "    mse = mean_squared_error(y_test, y_pred)\n",
    "    \n",
    "    # Store the results\n",
    "    results[model_name] = mse\n",
    "    print(f\"{model_name} Mean Squared Error: {mse}\")\n",
    "\n",
    "# Display results\n",
    "results_df = pd.DataFrame(list(results.items()), columns=[\"Model\", \"Mean Squared Error\"])\n",
    "results_df = results_df.sort_values(by=\"Mean Squared Error\", ascending=True)\n",
    "print(\"\\nModel Performance Comparison:\")\n",
    "print(results_df)\n"
   ]
  }
 ],
 "metadata": {
  "kernelspec": {
   "display_name": "base",
   "language": "python",
   "name": "python3"
  },
  "language_info": {
   "codemirror_mode": {
    "name": "ipython",
    "version": 3
   },
   "file_extension": ".py",
   "mimetype": "text/x-python",
   "name": "python",
   "nbconvert_exporter": "python",
   "pygments_lexer": "ipython3",
   "version": "3.8.8"
  }
 },
 "nbformat": 4,
 "nbformat_minor": 2
}
