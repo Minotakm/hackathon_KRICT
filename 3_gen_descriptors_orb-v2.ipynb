{
 "cells": [
  {
   "cell_type": "code",
   "execution_count": null,
   "metadata": {},
   "outputs": [],
   "source": [
    "from mendeleev import element\n",
    "import numpy as np\n",
    "import re\n",
    "import pandas as pd\n",
    "import ast\n",
    "from pymatgen.symmetry.groups import SpaceGroup\n",
    "# from mace.calculators import mace_mp\n",
    "from ase import Atoms\n",
    "import requests\n",
    "from collections import Counter\n",
    "\n",
    "# Define the function to calculate descriptors\n",
    "def calculate_descriptors(formula):\n",
    "    # Parse the formula and count the elements and their stoichiometric ratios\n",
    "    pattern = re.compile(r\"([A-Z][a-z]*)(\\d*)\")\n",
    "    elements = pattern.findall(formula)\n",
    "\n",
    "    # Convert elements list into a dictionary with counts as integers\n",
    "    element_counts = {}\n",
    "    for symbol, count in elements:\n",
    "        count = int(count) if count else 1\n",
    "        element_counts[symbol] = count\n",
    "\n",
    "    # Retrieve each element's atomic properties\n",
    "    atomic_numbers = []\n",
    "    electronegativities = []\n",
    "    atomic_radii = []\n",
    "    atomic_masses = []\n",
    "    valence_electrons = []\n",
    "\n",
    "    for symbol, count in element_counts.items():\n",
    "        elem = element(symbol)\n",
    "        atomic_numbers.extend([elem.atomic_number] * count)\n",
    "        electronegativities.extend([elem.en_pauling] * count)\n",
    "        atomic_radii.extend([elem.atomic_radius] * count)\n",
    "        atomic_masses.extend([elem.atomic_weight] * count)\n",
    "        valence_electrons.extend([elem.nvalence()] * count)\n",
    "\n",
    "    # Calculate descriptors\n",
    "\n",
    "    # Elemental Properties\n",
    "    mean_electronegativity = np.mean(electronegativities)\n",
    "    atomic_number_diff = max(atomic_numbers) - min(atomic_numbers)\n",
    "    avg_atomic_radius = np.mean(atomic_radii)\n",
    "\n",
    "    # Compositional Features\n",
    "    avg_atomic_mass = np.mean(atomic_masses)\n",
    "\n",
    "    # Statistical Measures of Elemental Properties\n",
    "    std_electronegativity = np.std(electronegativities)\n",
    "    min_atomic_radius = np.min(atomic_radii)\n",
    "    max_atomic_radius = np.max(atomic_radii)\n",
    "\n",
    "    # Heuristic Quantities\n",
    "    electronegativity_diff = max(electronegativities) - min(electronegativities)\n",
    "    mean_valence_electron_count = np.mean(valence_electrons)\n",
    "\n",
    "    # Organize descriptors into a vector\n",
    "    feature_vector = [\n",
    "        mean_electronegativity,        # 1. Mean Electronegativity\n",
    "        atomic_number_diff,            # 2. Atomic Number Difference\n",
    "        avg_atomic_radius,             # 3. Average Atomic Radius\n",
    "        avg_atomic_mass,               # 4. Average Atomic Mass\n",
    "        std_electronegativity,         # 5. Standard Deviation of Electronegativity\n",
    "        min_atomic_radius,             # 6. Minimum Atomic Radius\n",
    "        max_atomic_radius,             # 7. Maximum Atomic Radius\n",
    "        electronegativity_diff,        # 8. Electronegativity Difference\n",
    "        mean_valence_electron_count    # 9. Mean Valence Electron Count\n",
    "    ]\n",
    "\n",
    "    return feature_vector\n",
    "\n",
    "\n",
    "\n",
    "def get_properties(row, ref):\n",
    "\n",
    "    data = ast.literal_eval(row['structure'])\n",
    "    \n",
    "    lattice_data = data[0]['data']\n",
    "    \n",
    "    lat_a, lat_b, lat_c = lattice_data['a'], lattice_data['b'], lattice_data['c']\n",
    "    \n",
    "    volume = abs(np.dot(lat_a, np.cross(lat_b, lat_c))) * 1e30\n",
    "    e_f = ast.literal_eval(row['formation_energy'])['value']\n",
    "    \n",
    "    atoms_data = lattice_data['atoms']\n",
    "\n",
    "    # Create ASE Atoms object\n",
    "    atoms = Atoms(\n",
    "        symbols=[atom[\"element\"] for atom in atoms_data],\n",
    "        positions=[[atom[\"x\"], atom[\"y\"], atom[\"z\"]] for atom in atoms_data],\n",
    "        cell=[lat_a, lat_b, lat_c],\n",
    "        pbc=True\n",
    "    )\n",
    "\n",
    "    # print(atoms.get_positions())\n",
    "    atoms.set_cell(atoms.cell * 1e10)\n",
    "    atoms.set_positions(atoms.positions * 1e10)\n",
    "    # print(atoms.get_positions())\n",
    "\n",
    "    atoms.calc = calc\n",
    "    e_f_MLP = atoms.get_potential_energy()\n",
    "    chemical_symbols = list(set(atoms.get_chemical_symbols())) \n",
    "\n",
    "    element_counts = Counter(atoms.get_chemical_symbols())\n",
    "    for element in chemical_symbols:\n",
    "        # print(e_f_MLP)\n",
    "        e_f_MLP -= element_counts.get(element, 0) / ref[element][0] * ref[element][1]\n",
    "\n",
    "    sg = SpaceGroup(row['space_group']).int_number\n",
    "    \n",
    "    return (volume, len(lattice_data['atoms']), sg, e_f, e_f_MLP)"
   ]
  },
  {
   "cell_type": "code",
   "execution_count": 10,
   "metadata": {},
   "outputs": [],
   "source": [
    "# df = pd.read_csv('../Data/1_MatDX/MatDX_nomad_EF_Binary.csv')\n",
    "# df = df[:5000]\n",
    "df1 = pd.read_csv('../Data/1_MatDX/MatDX_nomad_EF_Binary.csv')\n",
    "df2 = pd.read_csv('../Data/1_MatDX/MatDX_nomad_EF_Ternary.csv')\n",
    "\n",
    "# Concatenate the DataFrames\n",
    "df = pd.concat([df1, df2], ignore_index=True)"
   ]
  },
  {
   "cell_type": "code",
   "execution_count": null,
   "metadata": {},
   "outputs": [
    {
     "name": "stdout",
     "output_type": "stream",
     "text": [
      "Using Materials Project MACE for MACECalculator with /Users/kisungkang/.cache/mace/5yyxdm76\n",
      "Using float64 for MACECalculator, which is slower but more accurate. Recommended for geometry optimization.\n"
     ]
    },
    {
     "name": "stderr",
     "output_type": "stream",
     "text": [
      "Processing Rows:   2%|▏         | 378/20000 [01:01<1:05:21,  5.00it/s]"
     ]
    },
    {
     "name": "stdout",
     "output_type": "stream",
     "text": [
      "Error processing row 378: list indices must be integers or slices, not str\n",
      "Error processing row 379: list indices must be integers or slices, not str\n",
      "Error processing row 380: list indices must be integers or slices, not str\n",
      "Error processing row 381: list indices must be integers or slices, not str\n",
      "Error processing row 382: list indices must be integers or slices, not str\n",
      "Error processing row 383: list indices must be integers or slices, not str\n",
      "Error processing row 384: list indices must be integers or slices, not str\n",
      "Error processing row 385: list indices must be integers or slices, not str\n",
      "Error processing row 386: list indices must be integers or slices, not str\n",
      "Error processing row 387: list indices must be integers or slices, not str\n",
      "Error processing row 388: list indices must be integers or slices, not str\n",
      "Error processing row 389: list indices must be integers or slices, not str\n",
      "Error processing row 390: list indices must be integers or slices, not str\n",
      "Error processing row 391: list indices must be integers or slices, not str\n",
      "Error processing row 392: list indices must be integers or slices, not str\n",
      "Error processing row 393: list indices must be integers or slices, not str\n",
      "Error processing row 394: list indices must be integers or slices, not str\n",
      "Error processing row 395: list indices must be integers or slices, not str\n",
      "Error processing row 396: list indices must be integers or slices, not str\n",
      "Error processing row 397: list indices must be integers or slices, not str\n",
      "Error processing row 398: list indices must be integers or slices, not str\n",
      "Error processing row 399: list indices must be integers or slices, not str\n",
      "Error processing row 400: list indices must be integers or slices, not str\n",
      "Error processing row 401: list indices must be integers or slices, not str\n",
      "Error processing row 402: list indices must be integers or slices, not str\n",
      "Error processing row 403: list indices must be integers or slices, not str\n",
      "Error processing row 404: list indices must be integers or slices, not str\n",
      "Error processing row 405: list indices must be integers or slices, not str\n",
      "Error processing row 406: list indices must be integers or slices, not str\n",
      "Error processing row 407: list indices must be integers or slices, not str\n",
      "Error processing row 408: list indices must be integers or slices, not str\n",
      "Error processing row 409: list indices must be integers or slices, not str\n",
      "Error processing row 410: list indices must be integers or slices, not str\n",
      "Error processing row 411: list indices must be integers or slices, not str\n",
      "Error processing row 412: list indices must be integers or slices, not str\n",
      "Error processing row 413: list indices must be integers or slices, not str\n",
      "Error processing row 414: list indices must be integers or slices, not str\n",
      "Error processing row 415: list indices must be integers or slices, not str\n",
      "Error processing row 416: list indices must be integers or slices, not str\n",
      "Error processing row 417: list indices must be integers or slices, not str\n",
      "Error processing row 418: list indices must be integers or slices, not str\n",
      "Error processing row 419: list indices must be integers or slices, not str\n",
      "Error processing row 420: list indices must be integers or slices, not str\n",
      "Error processing row 421: list indices must be integers or slices, not str\n",
      "Error processing row 422: list indices must be integers or slices, not str\n",
      "Error processing row 423: list indices must be integers or slices, not str\n",
      "Error processing row 424: list indices must be integers or slices, not str\n",
      "Error processing row 425: list indices must be integers or slices, not str\n",
      "Error processing row 426: list indices must be integers or slices, not str\n",
      "Error processing row 427: list indices must be integers or slices, not str\n",
      "Error processing row 428: list indices must be integers or slices, not str\n",
      "Error processing row 429: list indices must be integers or slices, not str\n",
      "Error processing row 430: list indices must be integers or slices, not str\n",
      "Error processing row 431: list indices must be integers or slices, not str\n",
      "Error processing row 432: list indices must be integers or slices, not str\n",
      "Error processing row 433: list indices must be integers or slices, not str\n",
      "Error processing row 434: list indices must be integers or slices, not str\n",
      "Error processing row 435: list indices must be integers or slices, not str\n"
     ]
    },
    {
     "name": "stderr",
     "output_type": "stream",
     "text": [
      "Processing Rows:   2%|▏         | 437/20000 [01:01<05:50, 55.85it/s]  "
     ]
    },
    {
     "name": "stdout",
     "output_type": "stream",
     "text": [
      "Error processing row 438: list indices must be integers or slices, not str\n",
      "Error processing row 439: list indices must be integers or slices, not str\n",
      "Error processing row 440: list indices must be integers or slices, not str\n",
      "Error processing row 441: list indices must be integers or slices, not str\n",
      "Error processing row 442: list indices must be integers or slices, not str\n",
      "Error processing row 443: list indices must be integers or slices, not str\n",
      "Error processing row 444: list indices must be integers or slices, not str\n",
      "Error processing row 445: list indices must be integers or slices, not str\n",
      "Error processing row 446: list indices must be integers or slices, not str\n",
      "Error processing row 447: list indices must be integers or slices, not str\n",
      "Error processing row 448: list indices must be integers or slices, not str\n",
      "Error processing row 449: list indices must be integers or slices, not str\n",
      "Error processing row 450: list indices must be integers or slices, not str\n",
      "Error processing row 451: list indices must be integers or slices, not str\n",
      "Error processing row 452: list indices must be integers or slices, not str\n",
      "Error processing row 453: list indices must be integers or slices, not str\n",
      "Error processing row 454: list indices must be integers or slices, not str\n",
      "Error processing row 455: list indices must be integers or slices, not str\n",
      "Error processing row 456: list indices must be integers or slices, not str\n",
      "Error processing row 457: list indices must be integers or slices, not str\n",
      "Error processing row 458: list indices must be integers or slices, not str\n",
      "Error processing row 459: list indices must be integers or slices, not str\n",
      "Error processing row 460: list indices must be integers or slices, not str\n",
      "Error processing row 461: list indices must be integers or slices, not str\n",
      "Error processing row 462: list indices must be integers or slices, not str\n"
     ]
    },
    {
     "name": "stderr",
     "output_type": "stream",
     "text": [
      "Processing Rows:   2%|▏         | 479/20000 [01:02<06:02, 53.87it/s]"
     ]
    },
    {
     "name": "stdout",
     "output_type": "stream",
     "text": [
      "Error processing row 467: list indices must be integers or slices, not str\n",
      "Error processing row 468: list indices must be integers or slices, not str\n",
      "Error processing row 469: list indices must be integers or slices, not str\n",
      "Error processing row 470: list indices must be integers or slices, not str\n",
      "Error processing row 471: list indices must be integers or slices, not str\n",
      "Error processing row 475: list indices must be integers or slices, not str\n",
      "Error processing row 476: list indices must be integers or slices, not str\n",
      "Error processing row 477: list indices must be integers or slices, not str\n",
      "Error processing row 478: list indices must be integers or slices, not str\n",
      "Error processing row 479: list indices must be integers or slices, not str\n",
      "Error processing row 480: list indices must be integers or slices, not str\n"
     ]
    },
    {
     "name": "stderr",
     "output_type": "stream",
     "text": [
      "Processing Rows:   2%|▏         | 491/20000 [01:02<05:28, 59.38it/s]"
     ]
    },
    {
     "name": "stdout",
     "output_type": "stream",
     "text": [
      "Error processing row 482: list indices must be integers or slices, not str\n",
      "Error processing row 483: list indices must be integers or slices, not str\n",
      "Error processing row 484: list indices must be integers or slices, not str\n",
      "Error processing row 485: list indices must be integers or slices, not str\n",
      "Error processing row 486: list indices must be integers or slices, not str\n",
      "Error processing row 487: list indices must be integers or slices, not str\n",
      "Error processing row 488: list indices must be integers or slices, not str\n",
      "Error processing row 489: list indices must be integers or slices, not str\n",
      "Error processing row 492: list indices must be integers or slices, not str\n",
      "Error processing row 493: list indices must be integers or slices, not str\n",
      "Error processing row 494: list indices must be integers or slices, not str\n",
      "Error processing row 495: list indices must be integers or slices, not str\n",
      "Error processing row 496: list indices must be integers or slices, not str\n",
      "Error processing row 497: list indices must be integers or slices, not str\n",
      "Error processing row 498: list indices must be integers or slices, not str\n"
     ]
    },
    {
     "name": "stderr",
     "output_type": "stream",
     "text": [
      "Processing Rows:   3%|▎         | 509/20000 [01:03<14:22, 22.61it/s]"
     ]
    },
    {
     "name": "stdout",
     "output_type": "stream",
     "text": [
      "Error processing row 505: list indices must be integers or slices, not str\n",
      "Error processing row 506: list indices must be integers or slices, not str\n",
      "Error processing row 507: list indices must be integers or slices, not str\n"
     ]
    },
    {
     "name": "stderr",
     "output_type": "stream",
     "text": [
      "Processing Rows:   3%|▎         | 513/20000 [01:04<16:55, 19.19it/s]"
     ]
    },
    {
     "name": "stdout",
     "output_type": "stream",
     "text": [
      "Error processing row 512: list indices must be integers or slices, not str\n",
      "Error processing row 513: list indices must be integers or slices, not str\n",
      "Error processing row 514: list indices must be integers or slices, not str\n",
      "Error processing row 515: list indices must be integers or slices, not str\n",
      "Error processing row 516: list indices must be integers or slices, not str\n"
     ]
    },
    {
     "name": "stderr",
     "output_type": "stream",
     "text": [
      "Processing Rows:   3%|▎         | 527/20000 [01:05<24:39, 13.16it/s]"
     ]
    },
    {
     "name": "stdout",
     "output_type": "stream",
     "text": [
      "Error processing row 522: list indices must be integers or slices, not str\n",
      "Error processing row 523: list indices must be integers or slices, not str\n",
      "Error processing row 524: list indices must be integers or slices, not str\n",
      "Error processing row 525: list indices must be integers or slices, not str\n"
     ]
    },
    {
     "name": "stderr",
     "output_type": "stream",
     "text": [
      "Processing Rows:   3%|▎         | 536/20000 [01:06<30:18, 10.70it/s]"
     ]
    },
    {
     "name": "stdout",
     "output_type": "stream",
     "text": [
      "Error processing row 533: list indices must be integers or slices, not str\n",
      "Error processing row 534: list indices must be integers or slices, not str\n"
     ]
    },
    {
     "name": "stderr",
     "output_type": "stream",
     "text": [
      "Processing Rows:   3%|▎         | 545/20000 [01:06<20:12, 16.05it/s]"
     ]
    },
    {
     "name": "stdout",
     "output_type": "stream",
     "text": [
      "Error processing row 539: list indices must be integers or slices, not str\n",
      "Error processing row 540: list indices must be integers or slices, not str\n",
      "Error processing row 541: list indices must be integers or slices, not str\n",
      "Error processing row 542: list indices must be integers or slices, not str\n",
      "Error processing row 543: list indices must be integers or slices, not str\n"
     ]
    },
    {
     "name": "stderr",
     "output_type": "stream",
     "text": [
      "Processing Rows:   3%|▎         | 554/20000 [01:08<32:38,  9.93it/s]"
     ]
    },
    {
     "name": "stdout",
     "output_type": "stream",
     "text": [
      "Error processing row 552: list indices must be integers or slices, not str\n"
     ]
    },
    {
     "name": "stderr",
     "output_type": "stream",
     "text": [
      "Processing Rows:   3%|▎         | 563/20000 [01:08<25:01, 12.95it/s]"
     ]
    },
    {
     "name": "stdout",
     "output_type": "stream",
     "text": [
      "Error processing row 559: list indices must be integers or slices, not str\n",
      "Error processing row 560: list indices must be integers or slices, not str\n",
      "Error processing row 561: list indices must be integers or slices, not str\n"
     ]
    },
    {
     "name": "stderr",
     "output_type": "stream",
     "text": [
      "Processing Rows:   3%|▎         | 589/20000 [01:12<30:18, 10.67it/s]  "
     ]
    },
    {
     "name": "stdout",
     "output_type": "stream",
     "text": [
      "Error processing row 588: list indices must be integers or slices, not str\n"
     ]
    },
    {
     "name": "stderr",
     "output_type": "stream",
     "text": [
      "Processing Rows:   3%|▎         | 596/20000 [01:14<1:02:19,  5.19it/s]"
     ]
    },
    {
     "name": "stdout",
     "output_type": "stream",
     "text": [
      "Error processing row 597: list indices must be integers or slices, not str\n"
     ]
    },
    {
     "name": "stderr",
     "output_type": "stream",
     "text": [
      "Processing Rows:   3%|▎         | 605/20000 [01:16<1:00:12,  5.37it/s]"
     ]
    },
    {
     "name": "stdout",
     "output_type": "stream",
     "text": [
      "Error processing row 606: list indices must be integers or slices, not str\n"
     ]
    },
    {
     "name": "stderr",
     "output_type": "stream",
     "text": [
      "Processing Rows:   4%|▍         | 895/20000 [01:59<30:15, 10.53it/s]  "
     ]
    },
    {
     "name": "stdout",
     "output_type": "stream",
     "text": [
      "Error processing row 895: list indices must be integers or slices, not str\n",
      "Error processing row 896: list indices must be integers or slices, not str\n",
      "Error processing row 897: list indices must be integers or slices, not str\n",
      "Error processing row 898: list indices must be integers or slices, not str\n",
      "Error processing row 899: list indices must be integers or slices, not str\n",
      "Error processing row 900: list indices must be integers or slices, not str\n",
      "Error processing row 901: list indices must be integers or slices, not str\n",
      "Error processing row 902: list indices must be integers or slices, not str\n",
      "Error processing row 903: list indices must be integers or slices, not str\n",
      "Error processing row 904: list indices must be integers or slices, not str\n",
      "Error processing row 905: list indices must be integers or slices, not str\n",
      "Error processing row 906: list indices must be integers or slices, not str\n",
      "Error processing row 907: list indices must be integers or slices, not str\n",
      "Error processing row 908: list indices must be integers or slices, not str\n",
      "Error processing row 909: list indices must be integers or slices, not str\n",
      "Error processing row 910: list indices must be integers or slices, not str\n",
      "Error processing row 911: list indices must be integers or slices, not str\n",
      "Error processing row 912: list indices must be integers or slices, not str\n",
      "Error processing row 913: list indices must be integers or slices, not str\n",
      "Error processing row 914: list indices must be integers or slices, not str\n",
      "Error processing row 915: list indices must be integers or slices, not str\n",
      "Error processing row 916: list indices must be integers or slices, not str\n",
      "Error processing row 917: list indices must be integers or slices, not str\n",
      "Error processing row 918: list indices must be integers or slices, not str\n",
      "Error processing row 919: list indices must be integers or slices, not str\n",
      "Error processing row 920: list indices must be integers or slices, not str\n",
      "Error processing row 921: list indices must be integers or slices, not str\n",
      "Error processing row 922: list indices must be integers or slices, not str\n",
      "Error processing row 923: list indices must be integers or slices, not str\n",
      "Error processing row 924: list indices must be integers or slices, not str\n",
      "Error processing row 925: list indices must be integers or slices, not str\n",
      "Error processing row 926: list indices must be integers or slices, not str\n",
      "Error processing row 927: list indices must be integers or slices, not str\n",
      "Error processing row 928: list indices must be integers or slices, not str\n",
      "Error processing row 929: list indices must be integers or slices, not str\n",
      "Error processing row 930: list indices must be integers or slices, not str\n",
      "Error processing row 931: list indices must be integers or slices, not str\n",
      "Error processing row 932: list indices must be integers or slices, not str\n",
      "Error processing row 933: list indices must be integers or slices, not str\n",
      "Error processing row 934: list indices must be integers or slices, not str\n",
      "Error processing row 935: list indices must be integers or slices, not str\n",
      "Error processing row 936: list indices must be integers or slices, not str\n",
      "Error processing row 937: list indices must be integers or slices, not str\n",
      "Error processing row 938: list indices must be integers or slices, not str\n",
      "Error processing row 939: list indices must be integers or slices, not str\n",
      "Error processing row 940: list indices must be integers or slices, not str\n",
      "Error processing row 941: list indices must be integers or slices, not str\n",
      "Error processing row 942: list indices must be integers or slices, not str\n",
      "Error processing row 943: list indices must be integers or slices, not str\n",
      "Error processing row 944: list indices must be integers or slices, not str\n",
      "Error processing row 945: list indices must be integers or slices, not str\n",
      "Error processing row 946: list indices must be integers or slices, not str\n",
      "Error processing row 947: list indices must be integers or slices, not str\n",
      "Error processing row 948: list indices must be integers or slices, not str\n",
      "Error processing row 949: list indices must be integers or slices, not str\n",
      "Error processing row 950: list indices must be integers or slices, not str\n",
      "Error processing row 951: list indices must be integers or slices, not str\n",
      "Error processing row 952: list indices must be integers or slices, not str\n",
      "Error processing row 953: list indices must be integers or slices, not str\n",
      "Error processing row 954: list indices must be integers or slices, not str\n",
      "Error processing row 955: list indices must be integers or slices, not str\n",
      "Error processing row 956: list indices must be integers or slices, not str\n",
      "Error processing row 957: list indices must be integers or slices, not str\n",
      "Error processing row 958: list indices must be integers or slices, not str\n",
      "Error processing row 959: list indices must be integers or slices, not str\n",
      "Error processing row 960: list indices must be integers or slices, not str\n",
      "Error processing row 961: list indices must be integers or slices, not str\n",
      "Error processing row 962: list indices must be integers or slices, not str\n",
      "Error processing row 963: list indices must be integers or slices, not str\n",
      "Error processing row 964: list indices must be integers or slices, not str\n",
      "Error processing row 965: list indices must be integers or slices, not str\n"
     ]
    },
    {
     "name": "stderr",
     "output_type": "stream",
     "text": [
      "Processing Rows:   7%|▋         | 1448/20000 [03:09<27:41, 11.16it/s]  "
     ]
    },
    {
     "name": "stdout",
     "output_type": "stream",
     "text": [
      "Error processing row 1445: list indices must be integers or slices, not str\n"
     ]
    },
    {
     "name": "stderr",
     "output_type": "stream",
     "text": [
      "Processing Rows:   7%|▋         | 1473/20000 [03:12<29:30, 10.46it/s]"
     ]
    },
    {
     "name": "stdout",
     "output_type": "stream",
     "text": [
      "Error processing row 1472: list indices must be integers or slices, not str\n"
     ]
    },
    {
     "name": "stderr",
     "output_type": "stream",
     "text": [
      "Processing Rows:   7%|▋         | 1492/20000 [03:15<30:56,  9.97it/s]  "
     ]
    },
    {
     "name": "stdout",
     "output_type": "stream",
     "text": [
      "Error processing row 1490: list indices must be integers or slices, not str\n"
     ]
    },
    {
     "name": "stderr",
     "output_type": "stream",
     "text": [
      "Processing Rows:   9%|▉         | 1775/20000 [04:07<34:19,  8.85it/s]  "
     ]
    },
    {
     "name": "stdout",
     "output_type": "stream",
     "text": [
      "Error processing row 1776: list indices must be integers or slices, not str\n",
      "Error processing row 1777: list indices must be integers or slices, not str\n",
      "Error processing row 1778: list indices must be integers or slices, not str\n",
      "Error processing row 1779: list indices must be integers or slices, not str\n",
      "Error processing row 1780: list indices must be integers or slices, not str\n",
      "Error processing row 1781: list indices must be integers or slices, not str\n",
      "Error processing row 1782: list indices must be integers or slices, not str\n",
      "Error processing row 1783: list indices must be integers or slices, not str\n",
      "Error processing row 1784: list indices must be integers or slices, not str\n",
      "Error processing row 1785: list indices must be integers or slices, not str\n",
      "Error processing row 1786: list indices must be integers or slices, not str\n",
      "Error processing row 1787: list indices must be integers or slices, not str\n",
      "Error processing row 1788: list indices must be integers or slices, not str\n",
      "Error processing row 1789: list indices must be integers or slices, not str\n",
      "Error processing row 1790: list indices must be integers or slices, not str\n",
      "Error processing row 1791: list indices must be integers or slices, not str\n",
      "Error processing row 1792: list indices must be integers or slices, not str\n",
      "Error processing row 1793: list indices must be integers or slices, not str\n",
      "Error processing row 1794: list indices must be integers or slices, not str\n",
      "Error processing row 1795: list indices must be integers or slices, not str\n",
      "Error processing row 1796: list indices must be integers or slices, not str\n",
      "Error processing row 1797: list indices must be integers or slices, not str\n",
      "Error processing row 1798: list indices must be integers or slices, not str\n",
      "Error processing row 1799: list indices must be integers or slices, not str\n",
      "Error processing row 1800: list indices must be integers or slices, not str\n",
      "Error processing row 1801: list indices must be integers or slices, not str\n",
      "Error processing row 1802: list indices must be integers or slices, not str\n",
      "Error processing row 1803: list indices must be integers or slices, not str\n",
      "Error processing row 1804: list indices must be integers or slices, not str\n",
      "Error processing row 1805: list indices must be integers or slices, not str\n",
      "Error processing row 1806: list indices must be integers or slices, not str\n",
      "Error processing row 1807: list indices must be integers or slices, not str\n",
      "Error processing row 1808: list indices must be integers or slices, not str\n",
      "Error processing row 1809: list indices must be integers or slices, not str\n",
      "Error processing row 1810: list indices must be integers or slices, not str\n",
      "Error processing row 1811: list indices must be integers or slices, not str\n",
      "Error processing row 1812: list indices must be integers or slices, not str\n",
      "Error processing row 1813: list indices must be integers or slices, not str\n",
      "Error processing row 1814: list indices must be integers or slices, not str\n",
      "Error processing row 1815: list indices must be integers or slices, not str\n",
      "Error processing row 1816: list indices must be integers or slices, not str\n",
      "Error processing row 1817: list indices must be integers or slices, not str\n",
      "Error processing row 1818: list indices must be integers or slices, not str\n",
      "Error processing row 1819: list indices must be integers or slices, not str\n",
      "Error processing row 1820: list indices must be integers or slices, not str\n",
      "Error processing row 1821: list indices must be integers or slices, not str\n",
      "Error processing row 1822: list indices must be integers or slices, not str\n",
      "Error processing row 1823: list indices must be integers or slices, not str\n",
      "Error processing row 1824: list indices must be integers or slices, not str\n",
      "Error processing row 1825: list indices must be integers or slices, not str\n",
      "Error processing row 1826: list indices must be integers or slices, not str\n",
      "Error processing row 1827: list indices must be integers or slices, not str\n",
      "Error processing row 1828: list indices must be integers or slices, not str\n",
      "Error processing row 1829: list indices must be integers or slices, not str\n",
      "Error processing row 1830: list indices must be integers or slices, not str\n",
      "Error processing row 1831: list indices must be integers or slices, not str\n",
      "Error processing row 1832: list indices must be integers or slices, not str\n",
      "Error processing row 1833: list indices must be integers or slices, not str\n"
     ]
    },
    {
     "name": "stderr",
     "output_type": "stream",
     "text": [
      "Processing Rows:  11%|█         | 2200/20000 [05:04<25:02, 11.85it/s]  "
     ]
    },
    {
     "name": "stdout",
     "output_type": "stream",
     "text": [
      "Error processing row 2200: list indices must be integers or slices, not str\n",
      "Error processing row 2201: list indices must be integers or slices, not str\n",
      "Error processing row 2202: list indices must be integers or slices, not str\n",
      "Error processing row 2203: list indices must be integers or slices, not str\n",
      "Error processing row 2204: list indices must be integers or slices, not str\n",
      "Error processing row 2205: list indices must be integers or slices, not str\n",
      "Error processing row 2206: list indices must be integers or slices, not str\n",
      "Error processing row 2207: list indices must be integers or slices, not str\n",
      "Error processing row 2208: list indices must be integers or slices, not str\n"
     ]
    },
    {
     "name": "stderr",
     "output_type": "stream",
     "text": [
      "Processing Rows:  11%|█         | 2220/20000 [05:04<10:54, 27.17it/s]"
     ]
    },
    {
     "name": "stdout",
     "output_type": "stream",
     "text": [
      "Error processing row 2210: list indices must be integers or slices, not str\n",
      "Error processing row 2211: list indices must be integers or slices, not str\n",
      "Error processing row 2212: list indices must be integers or slices, not str\n",
      "Error processing row 2213: list indices must be integers or slices, not str\n",
      "Error processing row 2214: list indices must be integers or slices, not str\n",
      "Error processing row 2215: list indices must be integers or slices, not str\n",
      "Error processing row 2216: list indices must be integers or slices, not str\n",
      "Error processing row 2217: list indices must be integers or slices, not str\n",
      "Error processing row 2220: list indices must be integers or slices, not str\n",
      "Error processing row 2221: list indices must be integers or slices, not str\n",
      "Error processing row 2222: list indices must be integers or slices, not str\n",
      "Error processing row 2223: list indices must be integers or slices, not str\n",
      "Error processing row 2224: list indices must be integers or slices, not str\n",
      "Error processing row 2225: list indices must be integers or slices, not str\n",
      "Error processing row 2226: list indices must be integers or slices, not str\n"
     ]
    },
    {
     "name": "stderr",
     "output_type": "stream",
     "text": [
      "Processing Rows:  11%|█         | 2238/20000 [05:05<09:15, 31.95it/s]"
     ]
    },
    {
     "name": "stdout",
     "output_type": "stream",
     "text": [
      "Error processing row 2230: list indices must be integers or slices, not str\n",
      "Error processing row 2231: list indices must be integers or slices, not str\n",
      "Error processing row 2232: list indices must be integers or slices, not str\n",
      "Error processing row 2233: list indices must be integers or slices, not str\n",
      "Error processing row 2234: list indices must be integers or slices, not str\n",
      "Error processing row 2235: list indices must be integers or slices, not str\n",
      "Error processing row 2239: list indices must be integers or slices, not str\n",
      "Error processing row 2240: list indices must be integers or slices, not str\n",
      "Error processing row 2241: list indices must be integers or slices, not str\n",
      "Error processing row 2242: list indices must be integers or slices, not str\n",
      "Error processing row 2243: list indices must be integers or slices, not str\n",
      "Error processing row 2244: list indices must be integers or slices, not str\n"
     ]
    },
    {
     "name": "stderr",
     "output_type": "stream",
     "text": [
      "Processing Rows:  11%|█         | 2246/20000 [05:06<15:22, 19.25it/s]"
     ]
    },
    {
     "name": "stdout",
     "output_type": "stream",
     "text": [
      "Error processing row 2246: list indices must be integers or slices, not str\n",
      "Error processing row 2247: list indices must be integers or slices, not str\n",
      "Error processing row 2248: list indices must be integers or slices, not str\n",
      "Error processing row 2249: list indices must be integers or slices, not str\n",
      "Error processing row 2250: list indices must be integers or slices, not str\n",
      "Error processing row 2251: list indices must be integers or slices, not str\n",
      "Error processing row 2252: list indices must be integers or slices, not str\n",
      "Error processing row 2253: list indices must be integers or slices, not str\n"
     ]
    },
    {
     "name": "stderr",
     "output_type": "stream",
     "text": [
      "Processing Rows:  11%|█▏        | 2259/20000 [05:06<16:23, 18.04it/s]"
     ]
    },
    {
     "name": "stdout",
     "output_type": "stream",
     "text": [
      "Error processing row 2259: list indices must be integers or slices, not str\n",
      "Error processing row 2260: list indices must be integers or slices, not str\n",
      "Error processing row 2261: list indices must be integers or slices, not str\n",
      "Error processing row 2262: list indices must be integers or slices, not str\n"
     ]
    },
    {
     "name": "stderr",
     "output_type": "stream",
     "text": [
      "Processing Rows:  11%|█▏        | 2273/20000 [05:07<17:06, 17.27it/s]"
     ]
    },
    {
     "name": "stdout",
     "output_type": "stream",
     "text": [
      "Error processing row 2268: list indices must be integers or slices, not str\n",
      "Error processing row 2269: list indices must be integers or slices, not str\n",
      "Error processing row 2270: list indices must be integers or slices, not str\n",
      "Error processing row 2271: list indices must be integers or slices, not str\n"
     ]
    },
    {
     "name": "stderr",
     "output_type": "stream",
     "text": [
      "Processing Rows:  11%|█▏        | 2275/20000 [05:07<18:46, 15.73it/s]"
     ]
    },
    {
     "name": "stdout",
     "output_type": "stream",
     "text": [
      "Error processing row 2276: list indices must be integers or slices, not str\n",
      "Error processing row 2277: list indices must be integers or slices, not str\n",
      "Error processing row 2278: list indices must be integers or slices, not str\n",
      "Error processing row 2279: list indices must be integers or slices, not str\n",
      "Error processing row 2280: list indices must be integers or slices, not str\n"
     ]
    },
    {
     "name": "stderr",
     "output_type": "stream",
     "text": [
      "Processing Rows:  11%|█▏        | 2288/20000 [05:08<22:22, 13.19it/s]"
     ]
    },
    {
     "name": "stdout",
     "output_type": "stream",
     "text": [
      "Error processing row 2288: list indices must be integers or slices, not str\n",
      "Error processing row 2289: list indices must be integers or slices, not str\n"
     ]
    },
    {
     "name": "stderr",
     "output_type": "stream",
     "text": [
      "Processing Rows:  12%|█▏        | 2306/20000 [05:11<32:17,  9.13it/s]"
     ]
    },
    {
     "name": "stdout",
     "output_type": "stream",
     "text": [
      "Error processing row 2306: list indices must be integers or slices, not str\n",
      "Error processing row 2307: list indices must be integers or slices, not str\n"
     ]
    },
    {
     "name": "stderr",
     "output_type": "stream",
     "text": [
      "Processing Rows:  12%|█▏        | 2324/20000 [05:13<45:22,  6.49it/s]"
     ]
    },
    {
     "name": "stdout",
     "output_type": "stream",
     "text": [
      "Error processing row 2324: list indices must be integers or slices, not str\n",
      "Error processing row 2325: list indices must be integers or slices, not str\n"
     ]
    },
    {
     "name": "stderr",
     "output_type": "stream",
     "text": [
      "Processing Rows:  14%|█▎        | 2725/20000 [06:07<02:08, 134.48it/s] "
     ]
    },
    {
     "name": "stdout",
     "output_type": "stream",
     "text": [
      "Error processing row 2652: list indices must be integers or slices, not str\n",
      "Error processing row 2653: list indices must be integers or slices, not str\n",
      "Error processing row 2654: list indices must be integers or slices, not str\n",
      "Error processing row 2655: list indices must be integers or slices, not str\n",
      "Error processing row 2656: list indices must be integers or slices, not str\n",
      "Error processing row 2657: list indices must be integers or slices, not str\n",
      "Error processing row 2658: list indices must be integers or slices, not str\n",
      "Error processing row 2659: list indices must be integers or slices, not str\n",
      "Error processing row 2660: list indices must be integers or slices, not str\n",
      "Error processing row 2661: list indices must be integers or slices, not str\n",
      "Error processing row 2662: list indices must be integers or slices, not str\n",
      "Error processing row 2663: list indices must be integers or slices, not str\n",
      "Error processing row 2664: list indices must be integers or slices, not str\n",
      "Error processing row 2665: list indices must be integers or slices, not str\n",
      "Error processing row 2666: list indices must be integers or slices, not str\n",
      "Error processing row 2667: list indices must be integers or slices, not str\n",
      "Error processing row 2668: list indices must be integers or slices, not str\n",
      "Error processing row 2669: list indices must be integers or slices, not str\n",
      "Error processing row 2670: list indices must be integers or slices, not str\n",
      "Error processing row 2671: list indices must be integers or slices, not str\n",
      "Error processing row 2672: list indices must be integers or slices, not str\n",
      "Error processing row 2673: list indices must be integers or slices, not str\n",
      "Error processing row 2674: list indices must be integers or slices, not str\n",
      "Error processing row 2675: list indices must be integers or slices, not str\n",
      "Error processing row 2676: list indices must be integers or slices, not str\n",
      "Error processing row 2677: list indices must be integers or slices, not str\n",
      "Error processing row 2678: list indices must be integers or slices, not str\n",
      "Error processing row 2679: list indices must be integers or slices, not str\n",
      "Error processing row 2680: list indices must be integers or slices, not str\n",
      "Error processing row 2681: list indices must be integers or slices, not str\n",
      "Error processing row 2682: list indices must be integers or slices, not str\n",
      "Error processing row 2683: list indices must be integers or slices, not str\n",
      "Error processing row 2684: list indices must be integers or slices, not str\n",
      "Error processing row 2685: list indices must be integers or slices, not str\n",
      "Error processing row 2686: list indices must be integers or slices, not str\n",
      "Error processing row 2687: list indices must be integers or slices, not str\n",
      "Error processing row 2688: list indices must be integers or slices, not str\n",
      "Error processing row 2689: list indices must be integers or slices, not str\n",
      "Error processing row 2690: list indices must be integers or slices, not str\n",
      "Error processing row 2691: list indices must be integers or slices, not str\n",
      "Error processing row 2692: list indices must be integers or slices, not str\n",
      "Error processing row 2693: list indices must be integers or slices, not str\n",
      "Error processing row 2694: list indices must be integers or slices, not str\n",
      "Error processing row 2695: list indices must be integers or slices, not str\n",
      "Error processing row 2696: list indices must be integers or slices, not str\n",
      "Error processing row 2697: list indices must be integers or slices, not str\n",
      "Error processing row 2698: list indices must be integers or slices, not str\n",
      "Error processing row 2699: list indices must be integers or slices, not str\n",
      "Error processing row 2700: list indices must be integers or slices, not str\n",
      "Error processing row 2701: list indices must be integers or slices, not str\n",
      "Error processing row 2702: list indices must be integers or slices, not str\n",
      "Error processing row 2703: list indices must be integers or slices, not str\n",
      "Error processing row 2704: list indices must be integers or slices, not str\n",
      "Error processing row 2705: list indices must be integers or slices, not str\n",
      "Error processing row 2706: list indices must be integers or slices, not str\n",
      "Error processing row 2707: list indices must be integers or slices, not str\n",
      "Error processing row 2708: list indices must be integers or slices, not str\n",
      "Error processing row 2709: list indices must be integers or slices, not str\n",
      "Error processing row 2710: list indices must be integers or slices, not str\n",
      "Error processing row 2711: list indices must be integers or slices, not str\n",
      "Error processing row 2712: list indices must be integers or slices, not str\n",
      "Error processing row 2713: list indices must be integers or slices, not str\n",
      "Error processing row 2714: list indices must be integers or slices, not str\n",
      "Error processing row 2715: list indices must be integers or slices, not str\n",
      "Error processing row 2716: list indices must be integers or slices, not str\n",
      "Error processing row 2717: list indices must be integers or slices, not str\n",
      "Error processing row 2718: list indices must be integers or slices, not str\n",
      "Error processing row 2719: list indices must be integers or slices, not str\n",
      "Error processing row 2720: list indices must be integers or slices, not str\n",
      "Error processing row 2721: list indices must be integers or slices, not str\n",
      "Error processing row 2722: list indices must be integers or slices, not str\n",
      "Error processing row 2723: list indices must be integers or slices, not str\n"
     ]
    },
    {
     "name": "stderr",
     "output_type": "stream",
     "text": [
      "Processing Rows:  19%|█▉        | 3758/20000 [08:49<43:58,  6.15it/s]  "
     ]
    },
    {
     "name": "stdout",
     "output_type": "stream",
     "text": [
      "Error processing row 3758: list indices must be integers or slices, not str\n",
      "Error processing row 3759: list indices must be integers or slices, not str\n",
      "Error processing row 3760: list indices must be integers or slices, not str\n",
      "Error processing row 3761: list indices must be integers or slices, not str\n",
      "Error processing row 3762: list indices must be integers or slices, not str\n",
      "Error processing row 3763: list indices must be integers or slices, not str\n",
      "Error processing row 3764: list indices must be integers or slices, not str\n",
      "Error processing row 3765: list indices must be integers or slices, not str\n",
      "Error processing row 3766: list indices must be integers or slices, not str\n",
      "Error processing row 3767: list indices must be integers or slices, not str\n",
      "Error processing row 3768: list indices must be integers or slices, not str\n",
      "Error processing row 3769: list indices must be integers or slices, not str\n"
     ]
    },
    {
     "name": "stderr",
     "output_type": "stream",
     "text": [
      "Processing Rows:  20%|█▉        | 3978/20000 [09:14<02:31, 105.50it/s] "
     ]
    },
    {
     "name": "stdout",
     "output_type": "stream",
     "text": [
      "Error processing row 3926: list indices must be integers or slices, not str\n",
      "Error processing row 3927: list indices must be integers or slices, not str\n",
      "Error processing row 3928: list indices must be integers or slices, not str\n",
      "Error processing row 3929: list indices must be integers or slices, not str\n",
      "Error processing row 3930: list indices must be integers or slices, not str\n",
      "Error processing row 3931: list indices must be integers or slices, not str\n",
      "Error processing row 3932: list indices must be integers or slices, not str\n",
      "Error processing row 3933: list indices must be integers or slices, not str\n",
      "Error processing row 3934: list indices must be integers or slices, not str\n",
      "Error processing row 3935: list indices must be integers or slices, not str\n",
      "Error processing row 3936: list indices must be integers or slices, not str\n",
      "Error processing row 3937: list indices must be integers or slices, not str\n",
      "Error processing row 3938: list indices must be integers or slices, not str\n",
      "Error processing row 3939: list indices must be integers or slices, not str\n",
      "Error processing row 3940: list indices must be integers or slices, not str\n",
      "Error processing row 3941: list indices must be integers or slices, not str\n",
      "Error processing row 3942: list indices must be integers or slices, not str\n",
      "Error processing row 3943: list indices must be integers or slices, not str\n",
      "Error processing row 3944: list indices must be integers or slices, not str\n",
      "Error processing row 3945: list indices must be integers or slices, not str\n",
      "Error processing row 3946: list indices must be integers or slices, not str\n",
      "Error processing row 3947: list indices must be integers or slices, not str\n",
      "Error processing row 3948: list indices must be integers or slices, not str\n",
      "Error processing row 3949: list indices must be integers or slices, not str\n",
      "Error processing row 3950: list indices must be integers or slices, not str\n",
      "Error processing row 3951: list indices must be integers or slices, not str\n",
      "Error processing row 3952: list indices must be integers or slices, not str\n",
      "Error processing row 3953: list indices must be integers or slices, not str\n",
      "Error processing row 3954: list indices must be integers or slices, not str\n",
      "Error processing row 3955: list indices must be integers or slices, not str\n",
      "Error processing row 3956: list indices must be integers or slices, not str\n",
      "Error processing row 3957: list indices must be integers or slices, not str\n",
      "Error processing row 3958: list indices must be integers or slices, not str\n",
      "Error processing row 3959: list indices must be integers or slices, not str\n",
      "Error processing row 3960: list indices must be integers or slices, not str\n",
      "Error processing row 3961: list indices must be integers or slices, not str\n",
      "Error processing row 3962: list indices must be integers or slices, not str\n",
      "Error processing row 3963: list indices must be integers or slices, not str\n",
      "Error processing row 3964: list indices must be integers or slices, not str\n",
      "Error processing row 3965: list indices must be integers or slices, not str\n",
      "Error processing row 3966: list indices must be integers or slices, not str\n",
      "Error processing row 3967: list indices must be integers or slices, not str\n",
      "Error processing row 3968: list indices must be integers or slices, not str\n",
      "Error processing row 3969: list indices must be integers or slices, not str\n",
      "Error processing row 3970: list indices must be integers or slices, not str\n",
      "Error processing row 3971: list indices must be integers or slices, not str\n",
      "Error processing row 3972: list indices must be integers or slices, not str\n",
      "Error processing row 3973: list indices must be integers or slices, not str\n",
      "Error processing row 3974: list indices must be integers or slices, not str\n",
      "Error processing row 3975: list indices must be integers or slices, not str\n",
      "Error processing row 3976: list indices must be integers or slices, not str\n",
      "Error processing row 3984: list indices must be integers or slices, not str\n"
     ]
    },
    {
     "name": "stderr",
     "output_type": "stream",
     "text": [
      "Processing Rows:  20%|██        | 4030/20000 [09:23<35:29,  7.50it/s] "
     ]
    },
    {
     "name": "stdout",
     "output_type": "stream",
     "text": [
      "Error processing row 4028: list indices must be integers or slices, not str\n"
     ]
    },
    {
     "name": "stderr",
     "output_type": "stream",
     "text": [
      "Processing Rows:  20%|██        | 4050/20000 [09:27<43:04,  6.17it/s]  "
     ]
    },
    {
     "name": "stdout",
     "output_type": "stream",
     "text": [
      "Error processing row 4050: list indices must be integers or slices, not str\n"
     ]
    },
    {
     "name": "stderr",
     "output_type": "stream",
     "text": [
      "Processing Rows:  21%|██▏       | 4259/20000 [10:01<23:19, 11.25it/s]  "
     ]
    },
    {
     "name": "stdout",
     "output_type": "stream",
     "text": [
      "Error processing row 4257: list indices must be integers or slices, not str\n"
     ]
    },
    {
     "name": "stderr",
     "output_type": "stream",
     "text": [
      "Processing Rows:  23%|██▎       | 4644/20000 [11:17<49:42,  5.15it/s]  "
     ]
    },
    {
     "name": "stdout",
     "output_type": "stream",
     "text": [
      "Error processing row 4644: list indices must be integers or slices, not str\n",
      "Error processing row 4645: list indices must be integers or slices, not str\n",
      "Error processing row 4646: list indices must be integers or slices, not str\n",
      "Error processing row 4647: list indices must be integers or slices, not str\n",
      "Error processing row 4648: list indices must be integers or slices, not str\n",
      "Error processing row 4649: list indices must be integers or slices, not str\n",
      "Error processing row 4650: list indices must be integers or slices, not str\n",
      "Error processing row 4651: list indices must be integers or slices, not str\n",
      "Error processing row 4652: list indices must be integers or slices, not str\n",
      "Error processing row 4653: list indices must be integers or slices, not str\n",
      "Error processing row 4654: list indices must be integers or slices, not str\n",
      "Error processing row 4655: list indices must be integers or slices, not str\n",
      "Error processing row 4656: list indices must be integers or slices, not str\n",
      "Error processing row 4657: list indices must be integers or slices, not str\n",
      "Error processing row 4658: list indices must be integers or slices, not str\n",
      "Error processing row 4659: list indices must be integers or slices, not str\n",
      "Error processing row 4660: list indices must be integers or slices, not str\n",
      "Error processing row 4661: list indices must be integers or slices, not str\n",
      "Error processing row 4662: list indices must be integers or slices, not str\n",
      "Error processing row 4663: list indices must be integers or slices, not str\n",
      "Error processing row 4664: list indices must be integers or slices, not str\n",
      "Error processing row 4665: list indices must be integers or slices, not str\n",
      "Error processing row 4666: list indices must be integers or slices, not str\n",
      "Error processing row 4667: list indices must be integers or slices, not str\n",
      "Error processing row 4668: list indices must be integers or slices, not str\n",
      "Error processing row 4669: list indices must be integers or slices, not str\n",
      "Error processing row 4670: list indices must be integers or slices, not str\n",
      "Error processing row 4671: list indices must be integers or slices, not str\n",
      "Error processing row 4672: list indices must be integers or slices, not str\n",
      "Error processing row 4673: list indices must be integers or slices, not str\n",
      "Error processing row 4674: list indices must be integers or slices, not str\n",
      "Error processing row 4675: list indices must be integers or slices, not str\n",
      "Error processing row 4676: list indices must be integers or slices, not str\n",
      "Error processing row 4677: list indices must be integers or slices, not str\n",
      "Error processing row 4678: list indices must be integers or slices, not str\n",
      "Error processing row 4679: list indices must be integers or slices, not str\n",
      "Error processing row 4680: list indices must be integers or slices, not str\n",
      "Error processing row 4681: list indices must be integers or slices, not str\n",
      "Error processing row 4682: list indices must be integers or slices, not str\n",
      "Error processing row 4683: list indices must be integers or slices, not str\n",
      "Error processing row 4684: list indices must be integers or slices, not str\n",
      "Error processing row 4685: list indices must be integers or slices, not str\n",
      "Error processing row 4686: list indices must be integers or slices, not str\n",
      "Error processing row 4687: list indices must be integers or slices, not str\n",
      "Error processing row 4688: list indices must be integers or slices, not str\n",
      "Error processing row 4689: list indices must be integers or slices, not str\n",
      "Error processing row 4690: list indices must be integers or slices, not str\n",
      "Error processing row 4691: list indices must be integers or slices, not str\n",
      "Error processing row 4692: list indices must be integers or slices, not str\n",
      "Error processing row 4693: list indices must be integers or slices, not str\n",
      "Error processing row 4694: list indices must be integers or slices, not str\n",
      "Error processing row 4695: list indices must be integers or slices, not str\n",
      "Error processing row 4696: list indices must be integers or slices, not str\n",
      "Error processing row 4697: list indices must be integers or slices, not str\n",
      "Error processing row 4698: list indices must be integers or slices, not str\n"
     ]
    },
    {
     "name": "stderr",
     "output_type": "stream",
     "text": [
      "Processing Rows:  24%|██▎       | 4706/20000 [11:17<05:20, 47.65it/s]"
     ]
    },
    {
     "name": "stdout",
     "output_type": "stream",
     "text": [
      "Error processing row 4703: list indices must be integers or slices, not str\n",
      "Error processing row 4704: list indices must be integers or slices, not str\n",
      "Error processing row 4705: list indices must be integers or slices, not str\n",
      "Error processing row 4706: list indices must be integers or slices, not str\n",
      "Error processing row 4707: list indices must be integers or slices, not str\n"
     ]
    },
    {
     "name": "stderr",
     "output_type": "stream",
     "text": [
      "Processing Rows:  32%|███▏      | 6349/20000 [16:01<35:53,  6.34it/s]  "
     ]
    },
    {
     "name": "stdout",
     "output_type": "stream",
     "text": [
      "Error processing row 6349: list indices must be integers or slices, not str\n",
      "Error processing row 6350: list indices must be integers or slices, not str\n",
      "Error processing row 6351: list indices must be integers or slices, not str\n",
      "Error processing row 6352: list indices must be integers or slices, not str\n",
      "Error processing row 6353: list indices must be integers or slices, not str\n",
      "Error processing row 6354: list indices must be integers or slices, not str\n",
      "Error processing row 6355: list indices must be integers or slices, not str\n"
     ]
    },
    {
     "name": "stderr",
     "output_type": "stream",
     "text": [
      "Processing Rows:  32%|███▏      | 6357/20000 [16:01<18:58, 11.98it/s]"
     ]
    },
    {
     "name": "stdout",
     "output_type": "stream",
     "text": [
      "Error processing row 6357: list indices must be integers or slices, not str\n",
      "Error processing row 6358: list indices must be integers or slices, not str\n",
      "Error processing row 6359: list indices must be integers or slices, not str\n",
      "Error processing row 6360: list indices must be integers or slices, not str\n",
      "Error processing row 6361: list indices must be integers or slices, not str\n",
      "Error processing row 6362: list indices must be integers or slices, not str\n",
      "Error processing row 6363: list indices must be integers or slices, not str\n",
      "Error processing row 6364: list indices must be integers or slices, not str\n",
      "Error processing row 6365: list indices must be integers or slices, not str\n"
     ]
    },
    {
     "name": "stderr",
     "output_type": "stream",
     "text": [
      "Processing Rows:  32%|███▏      | 6376/20000 [16:02<10:23, 21.85it/s]"
     ]
    },
    {
     "name": "stdout",
     "output_type": "stream",
     "text": [
      "Error processing row 6368: list indices must be integers or slices, not str\n",
      "Error processing row 6369: list indices must be integers or slices, not str\n",
      "Error processing row 6370: list indices must be integers or slices, not str\n",
      "Error processing row 6371: list indices must be integers or slices, not str\n",
      "Error processing row 6372: list indices must be integers or slices, not str\n",
      "Error processing row 6373: list indices must be integers or slices, not str\n",
      "Error processing row 6374: list indices must be integers or slices, not str\n"
     ]
    },
    {
     "name": "stderr",
     "output_type": "stream",
     "text": [
      "Processing Rows:  32%|███▏      | 6379/20000 [16:02<10:54, 20.80it/s]"
     ]
    },
    {
     "name": "stdout",
     "output_type": "stream",
     "text": [
      "Error processing row 6378: list indices must be integers or slices, not str\n",
      "Error processing row 6379: list indices must be integers or slices, not str\n",
      "Error processing row 6380: list indices must be integers or slices, not str\n",
      "Error processing row 6381: list indices must be integers or slices, not str\n",
      "Error processing row 6382: list indices must be integers or slices, not str\n",
      "Error processing row 6383: list indices must be integers or slices, not str\n"
     ]
    },
    {
     "name": "stderr",
     "output_type": "stream",
     "text": [
      "Processing Rows:  32%|███▏      | 6388/20000 [16:03<13:10, 17.21it/s]"
     ]
    },
    {
     "name": "stdout",
     "output_type": "stream",
     "text": [
      "Error processing row 6387: list indices must be integers or slices, not str\n",
      "Error processing row 6388: list indices must be integers or slices, not str\n",
      "Error processing row 6389: list indices must be integers or slices, not str\n",
      "Error processing row 6390: list indices must be integers or slices, not str\n",
      "Error processing row 6391: list indices must be integers or slices, not str\n",
      "Error processing row 6392: list indices must be integers or slices, not str\n"
     ]
    },
    {
     "name": "stderr",
     "output_type": "stream",
     "text": [
      "Processing Rows:  32%|███▏      | 6404/20000 [16:03<09:47, 23.13it/s]"
     ]
    },
    {
     "name": "stdout",
     "output_type": "stream",
     "text": [
      "Error processing row 6397: list indices must be integers or slices, not str\n",
      "Error processing row 6398: list indices must be integers or slices, not str\n",
      "Error processing row 6399: list indices must be integers or slices, not str\n",
      "Error processing row 6400: list indices must be integers or slices, not str\n",
      "Error processing row 6401: list indices must be integers or slices, not str\n"
     ]
    },
    {
     "name": "stderr",
     "output_type": "stream",
     "text": [
      "Processing Rows:  32%|███▏      | 6407/20000 [16:04<15:38, 14.49it/s]"
     ]
    },
    {
     "name": "stdout",
     "output_type": "stream",
     "text": [
      "Error processing row 6405: list indices must be integers or slices, not str\n",
      "Error processing row 6406: list indices must be integers or slices, not str\n",
      "Error processing row 6407: list indices must be integers or slices, not str\n",
      "Error processing row 6408: list indices must be integers or slices, not str\n",
      "Error processing row 6409: list indices must be integers or slices, not str\n",
      "Error processing row 6410: list indices must be integers or slices, not str\n"
     ]
    },
    {
     "name": "stderr",
     "output_type": "stream",
     "text": [
      "Processing Rows:  32%|███▏      | 6421/20000 [16:05<15:55, 14.22it/s]"
     ]
    },
    {
     "name": "stdout",
     "output_type": "stream",
     "text": [
      "Error processing row 6417: list indices must be integers or slices, not str\n",
      "Error processing row 6418: list indices must be integers or slices, not str\n",
      "Error processing row 6419: list indices must be integers or slices, not str\n"
     ]
    },
    {
     "name": "stderr",
     "output_type": "stream",
     "text": [
      "Processing Rows:  32%|███▏      | 6430/20000 [16:05<14:53, 15.19it/s]"
     ]
    },
    {
     "name": "stdout",
     "output_type": "stream",
     "text": [
      "Error processing row 6426: list indices must be integers or slices, not str\n",
      "Error processing row 6427: list indices must be integers or slices, not str\n",
      "Error processing row 6428: list indices must be integers or slices, not str\n"
     ]
    },
    {
     "name": "stderr",
     "output_type": "stream",
     "text": [
      "Processing Rows:  32%|███▏      | 6436/20000 [16:06<20:55, 10.81it/s]"
     ]
    },
    {
     "name": "stdout",
     "output_type": "stream",
     "text": [
      "Error processing row 6437: list indices must be integers or slices, not str\n"
     ]
    },
    {
     "name": "stderr",
     "output_type": "stream",
     "text": [
      "Processing Rows:  32%|███▏      | 6446/20000 [16:08<41:18,  5.47it/s]"
     ]
    },
    {
     "name": "stdout",
     "output_type": "stream",
     "text": [
      "Error processing row 6446: list indices must be integers or slices, not str\n"
     ]
    },
    {
     "name": "stderr",
     "output_type": "stream",
     "text": [
      "Processing Rows:  32%|███▏      | 6454/20000 [16:09<41:48,  5.40it/s]"
     ]
    },
    {
     "name": "stdout",
     "output_type": "stream",
     "text": [
      "Error processing row 6454: list indices must be integers or slices, not str\n",
      "Error processing row 6455: list indices must be integers or slices, not str\n"
     ]
    },
    {
     "name": "stderr",
     "output_type": "stream",
     "text": [
      "Processing Rows:  32%|███▏      | 6462/20000 [16:10<26:28,  8.52it/s]"
     ]
    },
    {
     "name": "stdout",
     "output_type": "stream",
     "text": [
      "Error processing row 6463: list indices must be integers or slices, not str\n",
      "Error processing row 6464: list indices must be integers or slices, not str\n"
     ]
    },
    {
     "name": "stderr",
     "output_type": "stream",
     "text": [
      "Processing Rows:  35%|███▍      | 6904/20000 [17:42<1:10:56,  3.08it/s]"
     ]
    },
    {
     "name": "stdout",
     "output_type": "stream",
     "text": [
      "Error processing row 6904: list indices must be integers or slices, not str\n",
      "Error processing row 6905: list indices must be integers or slices, not str\n",
      "Error processing row 6906: list indices must be integers or slices, not str\n",
      "Error processing row 6907: list indices must be integers or slices, not str\n",
      "Error processing row 6908: list indices must be integers or slices, not str\n",
      "Error processing row 6909: list indices must be integers or slices, not str\n",
      "Error processing row 6910: list indices must be integers or slices, not str\n",
      "Error processing row 6911: list indices must be integers or slices, not str\n",
      "Error processing row 6912: list indices must be integers or slices, not str\n",
      "Error processing row 6913: list indices must be integers or slices, not str\n",
      "Error processing row 6914: list indices must be integers or slices, not str\n",
      "Error processing row 6915: list indices must be integers or slices, not str\n",
      "Error processing row 6916: list indices must be integers or slices, not str\n",
      "Error processing row 6917: list indices must be integers or slices, not str\n",
      "Error processing row 6918: list indices must be integers or slices, not str\n",
      "Error processing row 6919: list indices must be integers or slices, not str\n",
      "Error processing row 6920: list indices must be integers or slices, not str\n",
      "Error processing row 6921: list indices must be integers or slices, not str\n",
      "Error processing row 6922: list indices must be integers or slices, not str\n",
      "Error processing row 6923: list indices must be integers or slices, not str\n",
      "Error processing row 6924: list indices must be integers or slices, not str\n",
      "Error processing row 6925: list indices must be integers or slices, not str\n",
      "Error processing row 6926: list indices must be integers or slices, not str\n",
      "Error processing row 6927: list indices must be integers or slices, not str\n",
      "Error processing row 6928: list indices must be integers or slices, not str\n",
      "Error processing row 6929: list indices must be integers or slices, not str\n",
      "Error processing row 6930: list indices must be integers or slices, not str\n",
      "Error processing row 6931: list indices must be integers or slices, not str\n",
      "Error processing row 6932: list indices must be integers or slices, not str\n",
      "Error processing row 6933: list indices must be integers or slices, not str\n",
      "Error processing row 6934: list indices must be integers or slices, not str\n",
      "Error processing row 6935: list indices must be integers or slices, not str\n",
      "Error processing row 6936: list indices must be integers or slices, not str\n",
      "Error processing row 6937: list indices must be integers or slices, not str\n",
      "Error processing row 6938: list indices must be integers or slices, not str\n",
      "Error processing row 6939: list indices must be integers or slices, not str\n",
      "Error processing row 6940: list indices must be integers or slices, not str\n",
      "Error processing row 6941: list indices must be integers or slices, not str\n",
      "Error processing row 6942: list indices must be integers or slices, not str\n",
      "Error processing row 6943: list indices must be integers or slices, not str\n",
      "Error processing row 6944: list indices must be integers or slices, not str\n",
      "Error processing row 6945: list indices must be integers or slices, not str\n",
      "Error processing row 6946: list indices must be integers or slices, not str\n",
      "Error processing row 6947: list indices must be integers or slices, not str\n",
      "Error processing row 6948: list indices must be integers or slices, not str\n",
      "Error processing row 6949: list indices must be integers or slices, not str\n",
      "Error processing row 6950: list indices must be integers or slices, not str\n",
      "Error processing row 6951: list indices must be integers or slices, not str\n",
      "Error processing row 6952: list indices must be integers or slices, not str\n",
      "Error processing row 6953: list indices must be integers or slices, not str\n",
      "Error processing row 6954: list indices must be integers or slices, not str\n",
      "Error processing row 6955: list indices must be integers or slices, not str\n",
      "Error processing row 6956: list indices must be integers or slices, not str\n",
      "Error processing row 6957: list indices must be integers or slices, not str\n",
      "Error processing row 6958: list indices must be integers or slices, not str\n",
      "Error processing row 6959: list indices must be integers or slices, not str\n",
      "Error processing row 6960: list indices must be integers or slices, not str\n",
      "Error processing row 6961: list indices must be integers or slices, not str\n",
      "Error processing row 6962: list indices must be integers or slices, not str\n",
      "Error processing row 6963: list indices must be integers or slices, not str\n",
      "Error processing row 6964: list indices must be integers or slices, not str\n",
      "Error processing row 6965: list indices must be integers or slices, not str\n",
      "Error processing row 6966: list indices must be integers or slices, not str\n",
      "Error processing row 6967: list indices must be integers or slices, not str\n",
      "Error processing row 6968: list indices must be integers or slices, not str\n"
     ]
    },
    {
     "name": "stderr",
     "output_type": "stream",
     "text": [
      "Processing Rows:  35%|███▌      | 7042/20000 [17:58<10:00, 21.57it/s]  "
     ]
    },
    {
     "name": "stdout",
     "output_type": "stream",
     "text": [
      "Error processing row 7032: list indices must be integers or slices, not str\n",
      "Error processing row 7033: list indices must be integers or slices, not str\n",
      "Error processing row 7034: list indices must be integers or slices, not str\n",
      "Error processing row 7035: list indices must be integers or slices, not str\n",
      "Error processing row 7036: list indices must be integers or slices, not str\n",
      "Error processing row 7037: list indices must be integers or slices, not str\n",
      "Error processing row 7038: list indices must be integers or slices, not str\n",
      "Error processing row 7039: list indices must be integers or slices, not str\n",
      "Error processing row 7040: list indices must be integers or slices, not str\n"
     ]
    },
    {
     "name": "stderr",
     "output_type": "stream",
     "text": [
      "Processing Rows:  35%|███▌      | 7045/20000 [17:58<13:49, 15.61it/s]"
     ]
    },
    {
     "name": "stdout",
     "output_type": "stream",
     "text": [
      "Error processing row 7045: list indices must be integers or slices, not str\n",
      "Error processing row 7046: list indices must be integers or slices, not str\n",
      "Error processing row 7047: list indices must be integers or slices, not str\n",
      "Error processing row 7048: list indices must be integers or slices, not str\n",
      "Error processing row 7049: list indices must be integers or slices, not str\n"
     ]
    },
    {
     "name": "stderr",
     "output_type": "stream",
     "text": [
      "Processing Rows:  35%|███▌      | 7057/20000 [17:59<20:32, 10.50it/s]"
     ]
    },
    {
     "name": "stdout",
     "output_type": "stream",
     "text": [
      "Error processing row 7057: list indices must be integers or slices, not str\n",
      "Error processing row 7058: list indices must be integers or slices, not str\n"
     ]
    },
    {
     "name": "stderr",
     "output_type": "stream",
     "text": [
      "Processing Rows:  36%|███▌      | 7120/20000 [18:13<49:48,  4.31it/s]  "
     ]
    },
    {
     "name": "stdout",
     "output_type": "stream",
     "text": [
      "Error processing row 7120: list indices must be integers or slices, not str\n",
      "Error processing row 7121: list indices must be integers or slices, not str\n",
      "Error processing row 7122: list indices must be integers or slices, not str\n"
     ]
    },
    {
     "name": "stderr",
     "output_type": "stream",
     "text": [
      "Processing Rows:  36%|███▌      | 7226/20000 [18:31<40:41,  5.23it/s]  "
     ]
    },
    {
     "name": "stdout",
     "output_type": "stream",
     "text": [
      "Error processing row 7227: list indices must be integers or slices, not str\n",
      "Error processing row 7228: list indices must be integers or slices, not str\n"
     ]
    },
    {
     "name": "stderr",
     "output_type": "stream",
     "text": [
      "Processing Rows:  36%|███▌      | 7233/20000 [18:32<26:26,  8.05it/s]"
     ]
    },
    {
     "name": "stdout",
     "output_type": "stream",
     "text": [
      "Error processing row 7233: list indices must be integers or slices, not str\n",
      "Error processing row 7234: list indices must be integers or slices, not str\n",
      "Error processing row 7235: list indices must be integers or slices, not str\n",
      "Error processing row 7236: list indices must be integers or slices, not str\n",
      "Error processing row 7237: list indices must be integers or slices, not str\n"
     ]
    },
    {
     "name": "stderr",
     "output_type": "stream",
     "text": [
      "Processing Rows:  37%|███▋      | 7342/20000 [18:50<51:34,  4.09it/s]"
     ]
    },
    {
     "name": "stdout",
     "output_type": "stream",
     "text": [
      "Error processing row 7342: list indices must be integers or slices, not str\n",
      "Error processing row 7343: list indices must be integers or slices, not str\n",
      "Error processing row 7344: list indices must be integers or slices, not str\n",
      "Error processing row 7345: list indices must be integers or slices, not str\n",
      "Error processing row 7346: list indices must be integers or slices, not str\n",
      "Error processing row 7347: list indices must be integers or slices, not str\n",
      "Error processing row 7348: list indices must be integers or slices, not str\n",
      "Error processing row 7349: list indices must be integers or slices, not str\n",
      "Error processing row 7350: list indices must be integers or slices, not str\n",
      "Error processing row 7351: list indices must be integers or slices, not str\n",
      "Error processing row 7352: list indices must be integers or slices, not str\n",
      "Error processing row 7353: list indices must be integers or slices, not str\n",
      "Error processing row 7354: list indices must be integers or slices, not str\n",
      "Error processing row 7355: list indices must be integers or slices, not str\n",
      "Error processing row 7356: list indices must be integers or slices, not str\n",
      "Error processing row 7357: list indices must be integers or slices, not str\n",
      "Error processing row 7358: list indices must be integers or slices, not str\n",
      "Error processing row 7359: list indices must be integers or slices, not str\n",
      "Error processing row 7360: list indices must be integers or slices, not str\n",
      "Error processing row 7361: list indices must be integers or slices, not str\n",
      "Error processing row 7362: list indices must be integers or slices, not str\n",
      "Error processing row 7363: list indices must be integers or slices, not str\n",
      "Error processing row 7364: list indices must be integers or slices, not str\n",
      "Error processing row 7365: list indices must be integers or slices, not str\n",
      "Error processing row 7366: list indices must be integers or slices, not str\n",
      "Error processing row 7367: list indices must be integers or slices, not str\n",
      "Error processing row 7368: list indices must be integers or slices, not str\n",
      "Error processing row 7369: list indices must be integers or slices, not str\n",
      "Error processing row 7370: list indices must be integers or slices, not str\n",
      "Error processing row 7371: list indices must be integers or slices, not str\n",
      "Error processing row 7372: list indices must be integers or slices, not str\n",
      "Error processing row 7373: list indices must be integers or slices, not str\n",
      "Error processing row 7374: list indices must be integers or slices, not str\n",
      "Error processing row 7375: list indices must be integers or slices, not str\n",
      "Error processing row 7376: list indices must be integers or slices, not str\n",
      "Error processing row 7377: list indices must be integers or slices, not str\n",
      "Error processing row 7378: list indices must be integers or slices, not str\n",
      "Error processing row 7379: list indices must be integers or slices, not str\n",
      "Error processing row 7380: list indices must be integers or slices, not str\n",
      "Error processing row 7381: list indices must be integers or slices, not str\n",
      "Error processing row 7382: list indices must be integers or slices, not str\n",
      "Error processing row 7383: list indices must be integers or slices, not str\n"
     ]
    },
    {
     "name": "stderr",
     "output_type": "stream",
     "text": [
      "Processing Rows:  37%|███▋      | 7392/20000 [18:51<07:46, 27.05it/s]"
     ]
    },
    {
     "name": "stdout",
     "output_type": "stream",
     "text": [
      "Error processing row 7391: list indices must be integers or slices, not str\n",
      "Error processing row 7392: list indices must be integers or slices, not str\n"
     ]
    },
    {
     "name": "stderr",
     "output_type": "stream",
     "text": [
      "Processing Rows:  39%|███▉      | 7791/20000 [19:54<51:54,  3.92it/s]  "
     ]
    },
    {
     "name": "stdout",
     "output_type": "stream",
     "text": [
      "Error processing row 7791: list indices must be integers or slices, not str\n",
      "Error processing row 7792: list indices must be integers or slices, not str\n",
      "Error processing row 7793: list indices must be integers or slices, not str\n",
      "Error processing row 7794: list indices must be integers or slices, not str\n",
      "Error processing row 7795: list indices must be integers or slices, not str\n",
      "Error processing row 7796: list indices must be integers or slices, not str\n",
      "Error processing row 7797: list indices must be integers or slices, not str\n",
      "Error processing row 7798: list indices must be integers or slices, not str\n",
      "Error processing row 7799: list indices must be integers or slices, not str\n",
      "Error processing row 7800: list indices must be integers or slices, not str\n",
      "Error processing row 7801: list indices must be integers or slices, not str\n",
      "Error processing row 7802: list indices must be integers or slices, not str\n",
      "Error processing row 7803: list indices must be integers or slices, not str\n",
      "Error processing row 7804: list indices must be integers or slices, not str\n",
      "Error processing row 7805: list indices must be integers or slices, not str\n",
      "Error processing row 7806: list indices must be integers or slices, not str\n",
      "Error processing row 7807: list indices must be integers or slices, not str\n",
      "Error processing row 7808: list indices must be integers or slices, not str\n",
      "Error processing row 7809: list indices must be integers or slices, not str\n",
      "Error processing row 7810: list indices must be integers or slices, not str\n",
      "Error processing row 7811: list indices must be integers or slices, not str\n",
      "Error processing row 7812: list indices must be integers or slices, not str\n",
      "Error processing row 7813: list indices must be integers or slices, not str\n",
      "Error processing row 7814: list indices must be integers or slices, not str\n",
      "Error processing row 7815: list indices must be integers or slices, not str\n",
      "Error processing row 7816: list indices must be integers or slices, not str\n",
      "Error processing row 7817: list indices must be integers or slices, not str\n",
      "Error processing row 7818: list indices must be integers or slices, not str\n",
      "Error processing row 7819: list indices must be integers or slices, not str\n",
      "Error processing row 7820: list indices must be integers or slices, not str\n",
      "Error processing row 7821: list indices must be integers or slices, not str\n",
      "Error processing row 7822: list indices must be integers or slices, not str\n",
      "Error processing row 7823: list indices must be integers or slices, not str\n",
      "Error processing row 7824: list indices must be integers or slices, not str\n",
      "Error processing row 7825: list indices must be integers or slices, not str\n",
      "Error processing row 7826: list indices must be integers or slices, not str\n",
      "Error processing row 7827: list indices must be integers or slices, not str\n",
      "Error processing row 7828: list indices must be integers or slices, not str\n",
      "Error processing row 7829: list indices must be integers or slices, not str\n",
      "Error processing row 7830: list indices must be integers or slices, not str\n",
      "Error processing row 7831: list indices must be integers or slices, not str\n",
      "Error processing row 7832: list indices must be integers or slices, not str\n",
      "Error processing row 7833: list indices must be integers or slices, not str\n",
      "Error processing row 7834: list indices must be integers or slices, not str\n",
      "Error processing row 7835: list indices must be integers or slices, not str\n",
      "Error processing row 7836: list indices must be integers or slices, not str\n",
      "Error processing row 7837: list indices must be integers or slices, not str\n",
      "Error processing row 7838: list indices must be integers or slices, not str\n",
      "Error processing row 7839: list indices must be integers or slices, not str\n",
      "Error processing row 7840: list indices must be integers or slices, not str\n",
      "Error processing row 7841: list indices must be integers or slices, not str\n",
      "Error processing row 7842: list indices must be integers or slices, not str\n",
      "Error processing row 7843: list indices must be integers or slices, not str\n",
      "Error processing row 7844: list indices must be integers or slices, not str\n",
      "Error processing row 7845: list indices must be integers or slices, not str\n",
      "Error processing row 7846: list indices must be integers or slices, not str\n",
      "Error processing row 7847: list indices must be integers or slices, not str\n",
      "Error processing row 7848: list indices must be integers or slices, not str\n"
     ]
    },
    {
     "name": "stderr",
     "output_type": "stream",
     "text": [
      "Processing Rows:  40%|████      | 8006/20000 [20:22<12:26, 16.06it/s]  "
     ]
    },
    {
     "name": "stdout",
     "output_type": "stream",
     "text": [
      "Error processing row 8000: list indices must be integers or slices, not str\n",
      "Error processing row 8001: list indices must be integers or slices, not str\n",
      "Error processing row 8002: list indices must be integers or slices, not str\n",
      "Error processing row 8003: list indices must be integers or slices, not str\n",
      "Error processing row 8004: list indices must be integers or slices, not str\n"
     ]
    },
    {
     "name": "stderr",
     "output_type": "stream",
     "text": [
      "Processing Rows:  40%|████      | 8027/20000 [20:25<34:41,  5.75it/s]"
     ]
    },
    {
     "name": "stdout",
     "output_type": "stream",
     "text": [
      "Error processing row 8028: list indices must be integers or slices, not str\n",
      "Error processing row 8029: list indices must be integers or slices, not str\n",
      "Error processing row 8030: list indices must be integers or slices, not str\n",
      "Error processing row 8031: list indices must be integers or slices, not str\n"
     ]
    },
    {
     "name": "stderr",
     "output_type": "stream",
     "text": [
      "Processing Rows:  40%|████      | 8060/20000 [20:28<13:54, 14.31it/s]"
     ]
    },
    {
     "name": "stdout",
     "output_type": "stream",
     "text": [
      "Error processing row 8054: list indices must be integers or slices, not str\n",
      "Error processing row 8055: list indices must be integers or slices, not str\n",
      "Error processing row 8056: list indices must be integers or slices, not str\n",
      "Error processing row 8057: list indices must be integers or slices, not str\n",
      "Error processing row 8058: list indices must be integers or slices, not str\n"
     ]
    },
    {
     "name": "stderr",
     "output_type": "stream",
     "text": [
      "Processing Rows:  40%|████      | 8085/20000 [20:33<40:29,  4.91it/s]"
     ]
    },
    {
     "name": "stdout",
     "output_type": "stream",
     "text": [
      "Error processing row 8085: list indices must be integers or slices, not str\n"
     ]
    },
    {
     "name": "stderr",
     "output_type": "stream",
     "text": [
      "Processing Rows:  41%|████      | 8112/20000 [20:36<08:16, 23.94it/s]"
     ]
    },
    {
     "name": "stdout",
     "output_type": "stream",
     "text": [
      "Error processing row 8101: list indices must be integers or slices, not str\n",
      "Error processing row 8102: list indices must be integers or slices, not str\n",
      "Error processing row 8103: list indices must be integers or slices, not str\n",
      "Error processing row 8104: list indices must be integers or slices, not str\n",
      "Error processing row 8105: list indices must be integers or slices, not str\n",
      "Error processing row 8106: list indices must be integers or slices, not str\n",
      "Error processing row 8107: list indices must be integers or slices, not str\n",
      "Error processing row 8108: list indices must be integers or slices, not str\n",
      "Error processing row 8109: list indices must be integers or slices, not str\n",
      "Error processing row 8110: list indices must be integers or slices, not str\n",
      "Error processing row 8112: list indices must be integers or slices, not str\n",
      "Error processing row 8113: list indices must be integers or slices, not str\n",
      "Error processing row 8114: list indices must be integers or slices, not str\n",
      "Error processing row 8115: list indices must be integers or slices, not str\n",
      "Error processing row 8116: list indices must be integers or slices, not str\n",
      "Error processing row 8117: list indices must be integers or slices, not str\n",
      "Error processing row 8118: list indices must be integers or slices, not str\n",
      "Error processing row 8119: list indices must be integers or slices, not str\n"
     ]
    },
    {
     "name": "stderr",
     "output_type": "stream",
     "text": [
      "Processing Rows:  41%|████      | 8139/20000 [20:36<03:30, 56.31it/s]"
     ]
    },
    {
     "name": "stdout",
     "output_type": "stream",
     "text": [
      "Error processing row 8121: list indices must be integers or slices, not str\n",
      "Error processing row 8122: list indices must be integers or slices, not str\n",
      "Error processing row 8123: list indices must be integers or slices, not str\n",
      "Error processing row 8124: list indices must be integers or slices, not str\n",
      "Error processing row 8125: list indices must be integers or slices, not str\n",
      "Error processing row 8126: list indices must be integers or slices, not str\n",
      "Error processing row 8127: list indices must be integers or slices, not str\n",
      "Error processing row 8128: list indices must be integers or slices, not str\n",
      "Error processing row 8129: list indices must be integers or slices, not str\n",
      "Error processing row 8130: list indices must be integers or slices, not str\n",
      "Error processing row 8131: list indices must be integers or slices, not str\n",
      "Error processing row 8132: list indices must be integers or slices, not str\n",
      "Error processing row 8133: list indices must be integers or slices, not str\n",
      "Error processing row 8134: list indices must be integers or slices, not str\n",
      "Error processing row 8135: list indices must be integers or slices, not str\n",
      "Error processing row 8136: list indices must be integers or slices, not str\n",
      "Error processing row 8137: list indices must be integers or slices, not str\n"
     ]
    },
    {
     "name": "stderr",
     "output_type": "stream",
     "text": [
      "Processing Rows:  41%|████      | 8146/20000 [20:36<04:17, 45.99it/s]"
     ]
    },
    {
     "name": "stdout",
     "output_type": "stream",
     "text": [
      "Error processing row 8141: list indices must be integers or slices, not str\n",
      "Error processing row 8142: list indices must be integers or slices, not str\n",
      "Error processing row 8143: list indices must be integers or slices, not str\n",
      "Error processing row 8144: list indices must be integers or slices, not str\n",
      "Error processing row 8145: list indices must be integers or slices, not str\n",
      "Error processing row 8146: list indices must be integers or slices, not str\n"
     ]
    },
    {
     "name": "stderr",
     "output_type": "stream",
     "text": [
      "Processing Rows:  41%|████      | 8152/20000 [20:37<07:46, 25.40it/s]"
     ]
    },
    {
     "name": "stdout",
     "output_type": "stream",
     "text": [
      "Error processing row 8152: list indices must be integers or slices, not str\n",
      "Error processing row 8153: list indices must be integers or slices, not str\n",
      "Error processing row 8154: list indices must be integers or slices, not str\n",
      "Error processing row 8155: list indices must be integers or slices, not str\n"
     ]
    },
    {
     "name": "stderr",
     "output_type": "stream",
     "text": [
      "Processing Rows:  41%|████      | 8160/20000 [20:38<17:32, 11.25it/s]"
     ]
    },
    {
     "name": "stdout",
     "output_type": "stream",
     "text": [
      "Error processing row 8160: list indices must be integers or slices, not str\n",
      "Error processing row 8161: list indices must be integers or slices, not str\n",
      "Error processing row 8162: list indices must be integers or slices, not str\n",
      "Error processing row 8163: list indices must be integers or slices, not str\n",
      "Error processing row 8164: list indices must be integers or slices, not str\n"
     ]
    },
    {
     "name": "stderr",
     "output_type": "stream",
     "text": [
      "Processing Rows:  41%|████      | 8171/20000 [20:39<16:58, 11.61it/s]"
     ]
    },
    {
     "name": "stdout",
     "output_type": "stream",
     "text": [
      "Error processing row 8170: list indices must be integers or slices, not str\n",
      "Error processing row 8171: list indices must be integers or slices, not str\n",
      "Error processing row 8172: list indices must be integers or slices, not str\n",
      "Error processing row 8173: list indices must be integers or slices, not str\n"
     ]
    },
    {
     "name": "stderr",
     "output_type": "stream",
     "text": [
      "Processing Rows:  41%|████      | 8179/20000 [20:41<28:57,  6.80it/s]"
     ]
    },
    {
     "name": "stdout",
     "output_type": "stream",
     "text": [
      "Error processing row 8179: list indices must be integers or slices, not str\n",
      "Error processing row 8180: list indices must be integers or slices, not str\n",
      "Error processing row 8181: list indices must be integers or slices, not str\n",
      "Error processing row 8182: list indices must be integers or slices, not str\n"
     ]
    },
    {
     "name": "stderr",
     "output_type": "stream",
     "text": [
      "Processing Rows:  41%|████      | 8191/20000 [20:42<23:36,  8.34it/s]"
     ]
    },
    {
     "name": "stdout",
     "output_type": "stream",
     "text": [
      "Error processing row 8191: list indices must be integers or slices, not str\n"
     ]
    },
    {
     "name": "stderr",
     "output_type": "stream",
     "text": [
      "Processing Rows:  41%|████      | 8197/20000 [20:43<26:30,  7.42it/s]"
     ]
    },
    {
     "name": "stdout",
     "output_type": "stream",
     "text": [
      "Error processing row 8198: list indices must be integers or slices, not str\n",
      "Error processing row 8199: list indices must be integers or slices, not str\n",
      "Error processing row 8200: list indices must be integers or slices, not str\n"
     ]
    },
    {
     "name": "stderr",
     "output_type": "stream",
     "text": [
      "Processing Rows:  43%|████▎     | 8651/20000 [22:10<43:29,  4.35it/s]  "
     ]
    },
    {
     "name": "stdout",
     "output_type": "stream",
     "text": [
      "Error processing row 8651: list indices must be integers or slices, not str\n",
      "Error processing row 8652: list indices must be integers or slices, not str\n",
      "Error processing row 8653: list indices must be integers or slices, not str\n",
      "Error processing row 8654: list indices must be integers or slices, not str\n",
      "Error processing row 8655: list indices must be integers or slices, not str\n",
      "Error processing row 8656: list indices must be integers or slices, not str\n",
      "Error processing row 8657: list indices must be integers or slices, not str\n",
      "Error processing row 8658: list indices must be integers or slices, not str\n",
      "Error processing row 8659: list indices must be integers or slices, not str\n",
      "Error processing row 8660: list indices must be integers or slices, not str\n",
      "Error processing row 8661: list indices must be integers or slices, not str\n",
      "Error processing row 8662: list indices must be integers or slices, not str\n",
      "Error processing row 8663: list indices must be integers or slices, not str\n",
      "Error processing row 8664: list indices must be integers or slices, not str\n",
      "Error processing row 8665: list indices must be integers or slices, not str\n",
      "Error processing row 8666: list indices must be integers or slices, not str\n",
      "Error processing row 8667: list indices must be integers or slices, not str\n",
      "Error processing row 8668: list indices must be integers or slices, not str\n",
      "Error processing row 8669: list indices must be integers or slices, not str\n",
      "Error processing row 8670: list indices must be integers or slices, not str\n",
      "Error processing row 8671: list indices must be integers or slices, not str\n",
      "Error processing row 8672: list indices must be integers or slices, not str\n",
      "Error processing row 8673: list indices must be integers or slices, not str\n",
      "Error processing row 8674: list indices must be integers or slices, not str\n",
      "Error processing row 8675: list indices must be integers or slices, not str\n",
      "Error processing row 8676: list indices must be integers or slices, not str\n",
      "Error processing row 8677: list indices must be integers or slices, not str\n",
      "Error processing row 8678: list indices must be integers or slices, not str\n",
      "Error processing row 8679: list indices must be integers or slices, not str\n",
      "Error processing row 8680: list indices must be integers or slices, not str\n",
      "Error processing row 8681: list indices must be integers or slices, not str\n",
      "Error processing row 8682: list indices must be integers or slices, not str\n",
      "Error processing row 8683: list indices must be integers or slices, not str\n",
      "Error processing row 8684: list indices must be integers or slices, not str\n",
      "Error processing row 8685: list indices must be integers or slices, not str\n",
      "Error processing row 8686: list indices must be integers or slices, not str\n",
      "Error processing row 8687: list indices must be integers or slices, not str\n",
      "Error processing row 8688: list indices must be integers or slices, not str\n",
      "Error processing row 8689: list indices must be integers or slices, not str\n",
      "Error processing row 8690: list indices must be integers or slices, not str\n",
      "Error processing row 8691: list indices must be integers or slices, not str\n",
      "Error processing row 8692: list indices must be integers or slices, not str\n",
      "Error processing row 8693: list indices must be integers or slices, not str\n",
      "Error processing row 8694: list indices must be integers or slices, not str\n",
      "Error processing row 8695: list indices must be integers or slices, not str\n",
      "Error processing row 8696: list indices must be integers or slices, not str\n",
      "Error processing row 8697: list indices must be integers or slices, not str\n",
      "Error processing row 8698: list indices must be integers or slices, not str\n",
      "Error processing row 8699: list indices must be integers or slices, not str\n",
      "Error processing row 8700: list indices must be integers or slices, not str\n",
      "Error processing row 8701: list indices must be integers or slices, not str\n",
      "Error processing row 8702: list indices must be integers or slices, not str\n",
      "Error processing row 8703: list indices must be integers or slices, not str\n",
      "Error processing row 8704: list indices must be integers or slices, not str\n",
      "Error processing row 8705: list indices must be integers or slices, not str\n",
      "Error processing row 8706: list indices must be integers or slices, not str\n",
      "Error processing row 8707: list indices must be integers or slices, not str\n",
      "Error processing row 8708: list indices must be integers or slices, not str\n",
      "Error processing row 8709: list indices must be integers or slices, not str\n",
      "Error processing row 8710: list indices must be integers or slices, not str\n",
      "Error processing row 8711: list indices must be integers or slices, not str\n",
      "Error processing row 8712: list indices must be integers or slices, not str\n",
      "Error processing row 8713: list indices must be integers or slices, not str\n"
     ]
    },
    {
     "name": "stderr",
     "output_type": "stream",
     "text": [
      "Processing Rows:  44%|████▍     | 8796/20000 [22:24<38:22,  4.87it/s]  "
     ]
    },
    {
     "name": "stdout",
     "output_type": "stream",
     "text": [
      "Error processing row 8796: list indices must be integers or slices, not str\n",
      "Error processing row 8797: list indices must be integers or slices, not str\n",
      "Error processing row 8798: list indices must be integers or slices, not str\n",
      "Error processing row 8799: list indices must be integers or slices, not str\n"
     ]
    },
    {
     "name": "stderr",
     "output_type": "stream",
     "text": [
      "Processing Rows:  51%|█████▏    | 10263/20000 [26:30<01:34, 102.86it/s]"
     ]
    },
    {
     "name": "stdout",
     "output_type": "stream",
     "text": [
      "Error processing row 10190: list indices must be integers or slices, not str\n",
      "Error processing row 10191: list indices must be integers or slices, not str\n",
      "Error processing row 10192: list indices must be integers or slices, not str\n",
      "Error processing row 10193: list indices must be integers or slices, not str\n",
      "Error processing row 10194: list indices must be integers or slices, not str\n",
      "Error processing row 10195: list indices must be integers or slices, not str\n",
      "Error processing row 10196: list indices must be integers or slices, not str\n",
      "Error processing row 10197: list indices must be integers or slices, not str\n",
      "Error processing row 10198: list indices must be integers or slices, not str\n",
      "Error processing row 10199: list indices must be integers or slices, not str\n",
      "Error processing row 10200: list indices must be integers or slices, not str\n",
      "Error processing row 10201: list indices must be integers or slices, not str\n",
      "Error processing row 10202: list indices must be integers or slices, not str\n",
      "Error processing row 10203: list indices must be integers or slices, not str\n",
      "Error processing row 10204: list indices must be integers or slices, not str\n",
      "Error processing row 10205: list indices must be integers or slices, not str\n",
      "Error processing row 10206: list indices must be integers or slices, not str\n",
      "Error processing row 10207: list indices must be integers or slices, not str\n",
      "Error processing row 10208: list indices must be integers or slices, not str\n",
      "Error processing row 10209: list indices must be integers or slices, not str\n",
      "Error processing row 10210: list indices must be integers or slices, not str\n",
      "Error processing row 10211: list indices must be integers or slices, not str\n",
      "Error processing row 10212: list indices must be integers or slices, not str\n",
      "Error processing row 10213: list indices must be integers or slices, not str\n",
      "Error processing row 10214: list indices must be integers or slices, not str\n",
      "Error processing row 10215: list indices must be integers or slices, not str\n",
      "Error processing row 10216: list indices must be integers or slices, not str\n",
      "Error processing row 10217: list indices must be integers or slices, not str\n",
      "Error processing row 10218: list indices must be integers or slices, not str\n",
      "Error processing row 10219: list indices must be integers or slices, not str\n",
      "Error processing row 10220: list indices must be integers or slices, not str\n",
      "Error processing row 10221: list indices must be integers or slices, not str\n",
      "Error processing row 10222: list indices must be integers or slices, not str\n",
      "Error processing row 10223: list indices must be integers or slices, not str\n",
      "Error processing row 10224: list indices must be integers or slices, not str\n",
      "Error processing row 10225: list indices must be integers or slices, not str\n",
      "Error processing row 10226: list indices must be integers or slices, not str\n",
      "Error processing row 10227: list indices must be integers or slices, not str\n",
      "Error processing row 10228: list indices must be integers or slices, not str\n",
      "Error processing row 10229: list indices must be integers or slices, not str\n",
      "Error processing row 10230: list indices must be integers or slices, not str\n",
      "Error processing row 10231: list indices must be integers or slices, not str\n",
      "Error processing row 10232: list indices must be integers or slices, not str\n",
      "Error processing row 10233: list indices must be integers or slices, not str\n",
      "Error processing row 10234: list indices must be integers or slices, not str\n",
      "Error processing row 10235: list indices must be integers or slices, not str\n",
      "Error processing row 10236: list indices must be integers or slices, not str\n",
      "Error processing row 10237: list indices must be integers or slices, not str\n",
      "Error processing row 10238: list indices must be integers or slices, not str\n",
      "Error processing row 10239: list indices must be integers or slices, not str\n",
      "Error processing row 10240: list indices must be integers or slices, not str\n",
      "Error processing row 10241: list indices must be integers or slices, not str\n",
      "Error processing row 10242: list indices must be integers or slices, not str\n",
      "Error processing row 10243: list indices must be integers or slices, not str\n",
      "Error processing row 10244: list indices must be integers or slices, not str\n",
      "Error processing row 10245: list indices must be integers or slices, not str\n",
      "Error processing row 10246: list indices must be integers or slices, not str\n",
      "Error processing row 10247: list indices must be integers or slices, not str\n",
      "Error processing row 10248: list indices must be integers or slices, not str\n",
      "Error processing row 10249: list indices must be integers or slices, not str\n",
      "Error processing row 10250: list indices must be integers or slices, not str\n",
      "Error processing row 10251: list indices must be integers or slices, not str\n",
      "Error processing row 10252: list indices must be integers or slices, not str\n",
      "Error processing row 10253: list indices must be integers or slices, not str\n",
      "Error processing row 10254: list indices must be integers or slices, not str\n",
      "Error processing row 10255: list indices must be integers or slices, not str\n",
      "Error processing row 10256: list indices must be integers or slices, not str\n",
      "Error processing row 10257: list indices must be integers or slices, not str\n",
      "Error processing row 10258: list indices must be integers or slices, not str\n",
      "Error processing row 10259: list indices must be integers or slices, not str\n",
      "Error processing row 10260: list indices must be integers or slices, not str\n",
      "Error processing row 10261: list indices must be integers or slices, not str\n"
     ]
    },
    {
     "name": "stderr",
     "output_type": "stream",
     "text": [
      "Processing Rows:  52%|█████▏    | 10317/20000 [26:33<05:58, 26.99it/s] "
     ]
    },
    {
     "name": "stdout",
     "output_type": "stream",
     "text": [
      "Error processing row 10289: list indices must be integers or slices, not str\n",
      "Error processing row 10290: list indices must be integers or slices, not str\n",
      "Error processing row 10291: list indices must be integers or slices, not str\n",
      "Error processing row 10292: list indices must be integers or slices, not str\n",
      "Error processing row 10293: list indices must be integers or slices, not str\n",
      "Error processing row 10294: list indices must be integers or slices, not str\n",
      "Error processing row 10295: list indices must be integers or slices, not str\n",
      "Error processing row 10296: list indices must be integers or slices, not str\n",
      "Error processing row 10297: list indices must be integers or slices, not str\n",
      "Error processing row 10298: list indices must be integers or slices, not str\n",
      "Error processing row 10299: list indices must be integers or slices, not str\n",
      "Error processing row 10300: list indices must be integers or slices, not str\n",
      "Error processing row 10301: list indices must be integers or slices, not str\n",
      "Error processing row 10302: list indices must be integers or slices, not str\n",
      "Error processing row 10303: list indices must be integers or slices, not str\n",
      "Error processing row 10304: list indices must be integers or slices, not str\n",
      "Error processing row 10305: list indices must be integers or slices, not str\n",
      "Error processing row 10306: list indices must be integers or slices, not str\n",
      "Error processing row 10307: list indices must be integers or slices, not str\n",
      "Error processing row 10308: list indices must be integers or slices, not str\n",
      "Error processing row 10309: list indices must be integers or slices, not str\n",
      "Error processing row 10310: list indices must be integers or slices, not str\n",
      "Error processing row 10311: list indices must be integers or slices, not str\n",
      "Error processing row 10312: list indices must be integers or slices, not str\n",
      "Error processing row 10313: list indices must be integers or slices, not str\n",
      "Error processing row 10314: list indices must be integers or slices, not str\n",
      "Error processing row 10315: list indices must be integers or slices, not str\n"
     ]
    },
    {
     "name": "stderr",
     "output_type": "stream",
     "text": [
      "Processing Rows:  52%|█████▏    | 10452/20000 [26:53<29:10,  5.45it/s]"
     ]
    }
   ],
   "source": [
    "import json\n",
    "from tqdm import tqdm\n",
    "\n",
    "target = {}\n",
    "descriptors = {}\n",
    "\n",
    "# calc = mace_mp(model=\"medium\", dispersion=False, default_dtype='float64', device='cpu')\n",
    "\n",
    "from orb_models.forcefield import pretrained\n",
    "from orb_models.forcefield.calculator import ORBCalculator\n",
    "\n",
    "device=\"cpu\" # or device=\"cuda\"\n",
    "orbff = pretrained.orb_v2(device=device) # or choose another model using ORB_PRETRAINED_MODELS[model_name]()\n",
    "calc = ORBCalculator(orbff, device=device)\n",
    "\n",
    "# Specify the file name\n",
    "file_name = \"reference_orb-v2.json\"\n",
    "\n",
    "# Read the JSON file into a dictionary\n",
    "with open(file_name, 'r') as json_file:\n",
    "    ref = json.load(json_file)\n",
    "\n",
    "# Open the JSON file in append/update mode\n",
    "output_file = 'descriptors_orb-v2.json'\n",
    "try:\n",
    "    # Load existing data if the file already exists\n",
    "    with open(output_file, 'r') as file:\n",
    "        data = json.load(file)\n",
    "except (FileNotFoundError, json.JSONDecodeError):\n",
    "    # If the file doesn't exist or is empty, initialize an empty dictionary\n",
    "    data = {}\n",
    "\n",
    "# Loop through the DataFrame and process each row\n",
    "for index, row in tqdm(df.iterrows(), total=len(df), desc=\"Processing Rows\"):\n",
    "    try:\n",
    "        formula = row['formula']\n",
    "        (_, _, _, e_f, e_mlp) = get_properties(row, ref)\n",
    "        target[formula] = e_f\n",
    "        # descriptor_values = calculate_descriptors(formula)\n",
    "        # descriptor_values += [e_mlp]\n",
    "        descriptor_values = [index, e_mlp]\n",
    "        descriptors[formula] = descriptor_values\n",
    "\n",
    "        # Store the descriptor and e_f in the desired format\n",
    "        data[formula] = [descriptor_values, e_f]\n",
    "        \n",
    "        # Save to JSON file after each entry (or periodically for large datasets)\n",
    "        with open(output_file, 'w') as file:\n",
    "            json.dump(data, file, indent=4)\n",
    "            \n",
    "    except Exception as e:\n",
    "        print(f\"Error processing row {index}: {e}\")\n",
    "        pass\n",
    "\n",
    "# Optionally, print the final number of descriptors processed\n",
    "print(\"Total descriptors processed:\", len(descriptors.keys()))\n"
   ]
  },
  {
   "cell_type": "code",
   "execution_count": null,
   "metadata": {},
   "outputs": [],
   "source": []
  }
 ],
 "metadata": {
  "kernelspec": {
   "display_name": "jupyter",
   "language": "python",
   "name": "python3"
  },
  "language_info": {
   "codemirror_mode": {
    "name": "ipython",
    "version": 3
   },
   "file_extension": ".py",
   "mimetype": "text/x-python",
   "name": "python",
   "nbconvert_exporter": "python",
   "pygments_lexer": "ipython3",
   "version": "3.10.14"
  }
 },
 "nbformat": 4,
 "nbformat_minor": 2
}
