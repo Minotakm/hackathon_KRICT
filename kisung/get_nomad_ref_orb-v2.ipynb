{
 "cells": [
  {
   "cell_type": "code",
   "execution_count": 3,
   "metadata": {},
   "outputs": [],
   "source": [
    "import pandas as pd\n",
    "from tqdm import tqdm\n",
    "\n",
    "df1 = pd.read_csv('../Data/1_MatDX/MatDX_nomad_EF_Binary.csv')\n",
    "df2 = pd.read_csv('../Data/1_MatDX/MatDX_nomad_EF_Ternary.csv')\n",
    "\n",
    "# Concatenate the DataFrames\n",
    "df = pd.concat([df1, df2], ignore_index=True)"
   ]
  },
  {
   "cell_type": "code",
   "execution_count": 4,
   "metadata": {},
   "outputs": [
    {
     "name": "stderr",
     "output_type": "stream",
     "text": [
      "Processing Rows: 100%|██████████| 20000/20000 [00:01<00:00, 10413.28it/s]\n"
     ]
    }
   ],
   "source": [
    "dict = {}\n",
    "\n",
    "for index, row in tqdm(df.iterrows(), total=len(df), desc=\"Processing Rows\"):\n",
    "    for element in eval(row['formation_energy'])['reference'].keys():\n",
    "        entry_id = eval(row['formation_energy'])['reference'][element].split('/')[-1]\n",
    "        dict[element] = entry_id"
   ]
  },
  {
   "cell_type": "code",
   "execution_count": 5,
   "metadata": {},
   "outputs": [
    {
     "name": "stdout",
     "output_type": "stream",
     "text": [
      "{'Na': 'fZBjCAvL-C0KpykVeDkglk4DiMJE', 'Ir': 'Jxd3Gq7w7vgx3vAf4QaOcIUrNIvf', 'As': 'kWw6gjhjpszGSs-lJVXHTwQkY4RP', 'Pt': 'hfTXu5BPKf83TlYNvYL_xjc7wecf', 'Ni': '2z6qKgNMlPjxK4R1fKqhhgll26lp', 'Ta': 'Jno4RsivxTTSMHe4wn8p4qW8Ef6G', 'Mo': 'TwiQxc0usHCKW3MtmHjbnh8mT5GC', 'Sm': '_QRJJknIDoDicf-YE5iLlQPtC5ne', 'P': 'VliAGY_Z2yfFnSNW4d80E-Y7rLrP', 'Ge': '2eVSxv5n6du3VVsS6uZHLFviKxDn', 'Mn': '8IffBWYWeF2VvGN-TtippJCbAlST', 'Sb': 'e0MYdRBQr9wEXHzKsLol9DZ8gMvs', 'Br': '7DmDJRePJNTiaaJiAv-YuiT0_OyO', 'Ba': 'Lj0gGgNhl0ZMZK5-5xnXiYpf0ut5', 'Ca': 'c08VF8Y4GAg0AFj1CQdui2kVY_IF', 'Pd': 'B_YsxQ9yjPSLQPBbgi6ptP2Q1A64', 'Sr': '9CyQcCUbCgpVbqUi9LKvMkTBuex3', 'Fe': 'uv45-FAwcp05wlvr2QydJ3AkRZeu', 'Pb': 'aYJtYKNr85nM-0acWcW3IEbYkJ65', 'In': 'jidMzp8f26ns8Jif2fj8Gy8eG6id', 'Sn': 'OAw0poj5HN3ZrB-djDMlDbA7-aNL', 'Nb': '861X4hlRjiSg-bvBzuNmZtnnHOYr', 'Bi': 'j4YzvDGcNGpWqp9v6XPFHS3dF2zw', 'Ga': 'vRXRCHTc1BwC0KVL2zTyDtxvDQO7', 'Cu': 'uVTSZjDVQgSURDhx2j8aTT9Zvd6S', 'W': 'dcAjiz1dsca03eeBAM-fTgQjR8M_', 'Rh': '7pAP54pzEP8-EwENC3ty75erNef2', 'V': '6a_z-sYaeMtEBgvOYDzXel9FP5XK', 'Ac': 'iWBIRb7QiLZT3UTReI3nDZH2uLUu', 'I': 'UuwV3j-OlSP2VAyed1nJ8kM9NeTZ', 'Eu': 'xnzHUScqwfp6EIa2HqvVVs-k4kJM', 'U': 'h7NCidOUjaMvlWj_c8fj36riGBne', 'Cr': 'ZTsvXtun3mZO6UT4PDELSgcNICTJ', 'Ce': 'JsXn10Mg3mjkr_2RS8rOekFmtBq9', 'Rb': 'sygIzeq098adpJNKCWiPgzz2uQw-', 'K': '-0vh5pzaGjLtxl6QcMcZHMEL5lI1', 'Ag': 'S0g-iXGYSO3a4JeEbuX_IWUqOBUr', 'Al': 'NwZCCfhy6KcjdrLfBEnERme_39m-', 'Yb': 'V74Cne3jMl6DaE8BB0l4CKbjL33s', 'Cs': 'kN8e3SIVbfhf8PZRKQBSjs6R93sI', 'Au': 'obkWaha46SJyE2R6mKrpCv-Z4ZwG', 'Pa': '6bpYi60bGlsc5rtVjhggTEyL73GI', 'Th': 'uuk0DiX2KJyQeSE9x4L9Owe3IbI9', 'Np': 'vQv31iqprT4hixfJ8QTsk1tt3Nu_'}\n"
     ]
    }
   ],
   "source": [
    "print(dict)"
   ]
  },
  {
   "cell_type": "code",
   "execution_count": 6,
   "metadata": {},
   "outputs": [],
   "source": [
    "import requests\n",
    "import numpy as np\n",
    "from ase import Atoms\n",
    "# from mace.calculators import mace_mp\n",
    "# calc = mace_mp(model=\"medium\", dispersion=False, default_dtype='float64', device='cpu')\n",
    "# from sevenn.sevennet_calculator import SevenNetCalculator\n",
    "# sevennet_0_cal = SevenNetCalculator(\"7net-0\", device='cpu', default_dtype='float64')  # 7net-0, SevenNet-0, 7net-0_22May2024, 7net-0_11July2024 ...\n",
    "from orb_models.forcefield import pretrained\n",
    "from orb_models.forcefield.calculator import ORBCalculator\n",
    "\n",
    "device=\"cpu\" # or device=\"cuda\"\n",
    "orbff = pretrained.orb_v2(device=device) # or choose another model using ORB_PRETRAINED_MODELS[model_name]()\n",
    "calc = ORBCalculator(orbff, device=device)"
   ]
  },
  {
   "cell_type": "code",
   "execution_count": 7,
   "metadata": {},
   "outputs": [
    {
     "name": "stdout",
     "output_type": "stream",
     "text": [
      "Na\n",
      "Ir\n",
      "As\n",
      "Pt\n",
      "Ni\n",
      "Ta\n",
      "Mo\n",
      "Sm\n",
      "P\n",
      "Ge\n",
      "Mn\n",
      "Sb\n",
      "Br\n",
      "Ba\n",
      "Ca\n",
      "Pd\n",
      "Sr\n",
      "Fe\n",
      "Pb\n",
      "In\n",
      "Sn\n",
      "Nb\n",
      "Bi\n",
      "Ga\n",
      "Cu\n",
      "W\n",
      "Rh\n",
      "V\n",
      "Ac\n",
      "I\n",
      "Eu\n",
      "U\n",
      "Cr\n",
      "Ce\n",
      "Rb\n",
      "K\n",
      "Ag\n",
      "Al\n",
      "Yb\n",
      "Cs\n",
      "Au\n",
      "Pa\n",
      "Th\n",
      "Np\n"
     ]
    }
   ],
   "source": [
    "E_ref = {}\n",
    "\n",
    "for key in dict.keys():\n",
    "    print(key)\n",
    "    entry_id = dict[key]\n",
    "    url = f\"https://nomad-lab.eu/prod/rae/api/v1/entries/{entry_id}/archive\"\n",
    "    response = requests.get(url)\n",
    "    if response.status_code == 200:\n",
    "        data = response.json()\n",
    "        \n",
    "        # Navigate to the relevant structure data\n",
    "        try:\n",
    "            idealized_structure = data['data']['archive']['section_metadata']['encyclopedia']['material']['idealized_structure']\n",
    "            \n",
    "            # Extract necessary fields\n",
    "            atom_labels = idealized_structure['atom_labels']\n",
    "            atom_positions = idealized_structure['atom_positions']\n",
    "            lattice_vectors = idealized_structure['lattice_vectors']\n",
    "\n",
    "            # Convert to numpy arrays if not already in that format\n",
    "            positions = np.array(atom_positions)\n",
    "            cell = np.array(lattice_vectors) * 1e10\n",
    "\n",
    "            # Create the ASE Atoms object\n",
    "            refs = Atoms(symbols=atom_labels, scaled_positions=positions, cell=cell, pbc=True)\n",
    "            # refs.calc = calc\n",
    "            \n",
    "            # E_mace = refs.get_potential_energy()\n",
    "\n",
    "            refs.calc = calc\n",
    "\n",
    "            E_m3gnet = refs.get_potential_energy()\n",
    "\n",
    "            E_ref[key] = [len(refs), E_m3gnet]\n",
    "        except KeyError as e:\n",
    "            print(f\"KeyError: Missing expected key in the data structure - {e}\")\n",
    "\n",
    "    else:\n",
    "        print(f\"Error: {response.status_code}\")\n"
   ]
  },
  {
   "cell_type": "code",
   "execution_count": 8,
   "metadata": {},
   "outputs": [
    {
     "data": {
      "text/plain": [
       "{'Na': [2, -2.613463878631592],\n",
       " 'Ir': [4, -35.46720886230469],\n",
       " 'As': [6, -27.9271240234375],\n",
       " 'Pt': [4, -24.19590187072754],\n",
       " 'Ni': [4, -23.06524658203125],\n",
       " 'Ta': [2, -23.70492172241211],\n",
       " 'Mo': [2, -21.686614990234375],\n",
       " 'Sm': [3, -12.584615707397461],\n",
       " 'P': [8, -42.929237365722656],\n",
       " 'Ge': [8, -36.84333801269531],\n",
       " 'Mn': [58, -531.5847778320312],\n",
       " 'Sb': [6, -24.856931686401367],\n",
       " 'Br': [8, -12.26357650756836],\n",
       " 'Ba': [2, -3.840644359588623],\n",
       " 'Ca': [4, -8.01344108581543],\n",
       " 'Pd': [4, -20.726974487304688],\n",
       " 'Sr': [4, -6.734219551086426],\n",
       " 'Fe': [2, -16.888460159301758],\n",
       " 'Pb': [4, -14.789584159851074],\n",
       " 'In': [2, -5.43372106552124],\n",
       " 'Sn': [2, -7.898735046386719],\n",
       " 'Nb': [2, -20.18225860595703],\n",
       " 'Bi': [4, -15.289844512939453],\n",
       " 'Ga': [8, -24.187088012695312],\n",
       " 'Cu': [4, -16.365550994873047],\n",
       " 'W': [2, -25.91641616821289],\n",
       " 'Rh': [4, -29.400602340698242],\n",
       " 'V': [2, -18.170866012573242],\n",
       " 'Ac': [4, -16.404191970825195],\n",
       " 'I': [8, -11.27590560913086],\n",
       " 'Eu': [2, -20.4771785736084],\n",
       " 'U': [8, -87.9658203125],\n",
       " 'Cr': [2, -19.272891998291016],\n",
       " 'Ce': [4, -22.403465270996094],\n",
       " 'Rb': [2, -1.9263267517089844],\n",
       " 'K': [2, -2.1964216232299805],\n",
       " 'Ag': [4, -11.308030128479004],\n",
       " 'Al': [4, -14.980475425720215],\n",
       " 'Yb': [4, -5.990557670593262],\n",
       " 'Cs': [2, -1.699300765991211],\n",
       " 'Au': [4, -13.094429969787598],\n",
       " 'Pa': [2, -18.613014221191406],\n",
       " 'Th': [4, -29.638755798339844],\n",
       " 'Np': [8, -101.51390075683594]}"
      ]
     },
     "execution_count": 8,
     "metadata": {},
     "output_type": "execute_result"
    }
   ],
   "source": [
    "E_ref"
   ]
  },
  {
   "cell_type": "code",
   "execution_count": 9,
   "metadata": {},
   "outputs": [
    {
     "name": "stdout",
     "output_type": "stream",
     "text": [
      "Dictionary saved as reference_orb-v2.json\n"
     ]
    }
   ],
   "source": [
    "import json\n",
    "\n",
    "# Specify the file name\n",
    "file_name = \"reference_orb-v2.json\"\n",
    "\n",
    "# Save the dictionary as a JSON file\n",
    "with open(file_name, 'w') as json_file:\n",
    "    json.dump(E_ref, json_file, indent=4)  # indent=4 makes the JSON pretty-printed\n",
    "\n",
    "print(f\"Dictionary saved as {file_name}\")"
   ]
  },
  {
   "cell_type": "code",
   "execution_count": null,
   "metadata": {},
   "outputs": [],
   "source": []
  }
 ],
 "metadata": {
  "kernelspec": {
   "display_name": "jupyter",
   "language": "python",
   "name": "python3"
  },
  "language_info": {
   "codemirror_mode": {
    "name": "ipython",
    "version": 3
   },
   "file_extension": ".py",
   "mimetype": "text/x-python",
   "name": "python",
   "nbconvert_exporter": "python",
   "pygments_lexer": "ipython3",
   "version": "3.10.14"
  }
 },
 "nbformat": 4,
 "nbformat_minor": 2
}
