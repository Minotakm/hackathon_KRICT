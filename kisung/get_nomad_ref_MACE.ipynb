{
 "cells": [
  {
   "cell_type": "code",
   "execution_count": 50,
   "metadata": {},
   "outputs": [],
   "source": [
    "import pandas as pd\n",
    "from tqdm import tqdm\n",
    "\n",
    "df1 = pd.read_csv('../Data/1_MatDX/MatDX_nomad_EF_Binary.csv')\n",
    "df2 = pd.read_csv('../Data/1_MatDX/MatDX_nomad_EF_Ternary.csv')\n",
    "\n",
    "# Concatenate the DataFrames\n",
    "df = pd.concat([df1, df2], ignore_index=True)"
   ]
  },
  {
   "cell_type": "code",
   "execution_count": 51,
   "metadata": {},
   "outputs": [
    {
     "name": "stderr",
     "output_type": "stream",
     "text": [
      "Processing Rows: 100%|██████████| 20000/20000 [00:01<00:00, 13314.51it/s]\n"
     ]
    }
   ],
   "source": [
    "dict = {}\n",
    "\n",
    "for index, row in tqdm(df.iterrows(), total=len(df), desc=\"Processing Rows\"):\n",
    "    for element in eval(row['formation_energy'])['reference'].keys():\n",
    "        entry_id = eval(row['formation_energy'])['reference'][element].split('/')[-1]\n",
    "        dict[element] = entry_id"
   ]
  },
  {
   "cell_type": "code",
   "execution_count": 52,
   "metadata": {},
   "outputs": [
    {
     "name": "stdout",
     "output_type": "stream",
     "text": [
      "{'Na': 'fZBjCAvL-C0KpykVeDkglk4DiMJE', 'Ir': 'Jxd3Gq7w7vgx3vAf4QaOcIUrNIvf', 'As': 'kWw6gjhjpszGSs-lJVXHTwQkY4RP', 'Pt': 'hfTXu5BPKf83TlYNvYL_xjc7wecf', 'Ni': '2z6qKgNMlPjxK4R1fKqhhgll26lp', 'Ta': 'Jno4RsivxTTSMHe4wn8p4qW8Ef6G', 'Mo': 'TwiQxc0usHCKW3MtmHjbnh8mT5GC', 'Sm': '_QRJJknIDoDicf-YE5iLlQPtC5ne', 'P': 'VliAGY_Z2yfFnSNW4d80E-Y7rLrP', 'Ge': '2eVSxv5n6du3VVsS6uZHLFviKxDn', 'Mn': '8IffBWYWeF2VvGN-TtippJCbAlST', 'Sb': 'e0MYdRBQr9wEXHzKsLol9DZ8gMvs', 'Br': '7DmDJRePJNTiaaJiAv-YuiT0_OyO', 'Ba': 'Lj0gGgNhl0ZMZK5-5xnXiYpf0ut5', 'Ca': 'c08VF8Y4GAg0AFj1CQdui2kVY_IF', 'Pd': 'B_YsxQ9yjPSLQPBbgi6ptP2Q1A64', 'Sr': '9CyQcCUbCgpVbqUi9LKvMkTBuex3', 'Fe': 'uv45-FAwcp05wlvr2QydJ3AkRZeu', 'Pb': 'aYJtYKNr85nM-0acWcW3IEbYkJ65', 'In': 'jidMzp8f26ns8Jif2fj8Gy8eG6id', 'Sn': 'OAw0poj5HN3ZrB-djDMlDbA7-aNL', 'Nb': '861X4hlRjiSg-bvBzuNmZtnnHOYr', 'Bi': 'j4YzvDGcNGpWqp9v6XPFHS3dF2zw', 'Ga': 'vRXRCHTc1BwC0KVL2zTyDtxvDQO7', 'Cu': 'uVTSZjDVQgSURDhx2j8aTT9Zvd6S', 'W': 'dcAjiz1dsca03eeBAM-fTgQjR8M_', 'Rh': '7pAP54pzEP8-EwENC3ty75erNef2', 'V': '6a_z-sYaeMtEBgvOYDzXel9FP5XK', 'Ac': 'iWBIRb7QiLZT3UTReI3nDZH2uLUu', 'I': 'UuwV3j-OlSP2VAyed1nJ8kM9NeTZ', 'Eu': 'xnzHUScqwfp6EIa2HqvVVs-k4kJM', 'U': 'h7NCidOUjaMvlWj_c8fj36riGBne', 'Cr': 'ZTsvXtun3mZO6UT4PDELSgcNICTJ', 'Ce': 'JsXn10Mg3mjkr_2RS8rOekFmtBq9', 'Rb': 'sygIzeq098adpJNKCWiPgzz2uQw-', 'K': '-0vh5pzaGjLtxl6QcMcZHMEL5lI1', 'Ag': 'S0g-iXGYSO3a4JeEbuX_IWUqOBUr', 'Al': 'NwZCCfhy6KcjdrLfBEnERme_39m-', 'Yb': 'V74Cne3jMl6DaE8BB0l4CKbjL33s', 'Cs': 'kN8e3SIVbfhf8PZRKQBSjs6R93sI', 'Au': 'obkWaha46SJyE2R6mKrpCv-Z4ZwG', 'Pa': '6bpYi60bGlsc5rtVjhggTEyL73GI', 'Th': 'uuk0DiX2KJyQeSE9x4L9Owe3IbI9', 'Np': 'vQv31iqprT4hixfJ8QTsk1tt3Nu_'}\n"
     ]
    }
   ],
   "source": [
    "print(dict)"
   ]
  },
  {
   "cell_type": "code",
   "execution_count": 53,
   "metadata": {},
   "outputs": [
    {
     "name": "stdout",
     "output_type": "stream",
     "text": [
      "Using Materials Project MACE for MACECalculator with /Users/kisungkang/.cache/mace/5yyxdm76\n",
      "Using float64 for MACECalculator, which is slower but more accurate. Recommended for geometry optimization.\n"
     ]
    }
   ],
   "source": [
    "import requests\n",
    "import numpy as np\n",
    "from ase import Atoms\n",
    "from copy import deepcopy\n",
    "from mace.calculators import mace_mp\n",
    "calc = mace_mp(model=\"medium\", dispersion=False, default_dtype='float64', device='cpu')\n",
    "# from sevenn.sevennet_calculator import SevenNetCalculator\n",
    "# sevennet_0_cal = SevenNetCalculator(\"7net-0\", device='cpu', default_dtype='float64')  # 7net-0, SevenNet-0, 7net-0_22May2024, 7net-0_11July2024 ..."
   ]
  },
  {
   "cell_type": "code",
   "execution_count": 54,
   "metadata": {},
   "outputs": [
    {
     "name": "stdout",
     "output_type": "stream",
     "text": [
      "Na\n",
      "Ir\n",
      "As\n",
      "Pt\n",
      "Ni\n",
      "Ta\n",
      "Mo\n",
      "Sm\n",
      "P\n",
      "Ge\n",
      "Mn\n",
      "Sb\n",
      "Br\n",
      "Ba\n",
      "Ca\n",
      "Pd\n",
      "Sr\n",
      "Fe\n",
      "Pb\n",
      "In\n",
      "Sn\n",
      "Nb\n",
      "Bi\n",
      "Ga\n",
      "Cu\n",
      "W\n",
      "Rh\n",
      "V\n",
      "Ac\n",
      "I\n",
      "Eu\n",
      "U\n",
      "Cr\n",
      "Ce\n",
      "Rb\n",
      "K\n",
      "Ag\n",
      "Al\n",
      "Yb\n",
      "Cs\n",
      "Au\n",
      "Pa\n",
      "Th\n",
      "Np\n"
     ]
    }
   ],
   "source": [
    "E_ref = {}\n",
    "\n",
    "for key in dict.keys():\n",
    "    print(key)\n",
    "    entry_id = dict[key]\n",
    "    url = f\"https://nomad-lab.eu/prod/rae/api/v1/entries/{entry_id}/archive\"\n",
    "    response = requests.get(url)\n",
    "    if response.status_code == 200:\n",
    "        data = response.json()\n",
    "        \n",
    "        # Navigate to the relevant structure data\n",
    "        try:\n",
    "            idealized_structure = data['data']['archive']['section_metadata']['encyclopedia']['material']['idealized_structure']\n",
    "            \n",
    "            # Extract necessary fields\n",
    "            atom_labels = idealized_structure['atom_labels']\n",
    "            atom_positions = idealized_structure['atom_positions']\n",
    "            lattice_vectors = idealized_structure['lattice_vectors']\n",
    "\n",
    "            # Convert to numpy arrays if not already in that format\n",
    "            positions = np.array(atom_positions)\n",
    "            cell = np.array(lattice_vectors) * 1e10\n",
    "\n",
    "            # Create the ASE Atoms object\n",
    "            refs = Atoms(symbols=atom_labels, scaled_positions=positions, cell=cell, pbc=True)\n",
    "            refs.calc = calc\n",
    "            E_mace = refs.get_potential_energy()\n",
    "\n",
    "            # refs_copy = deepcopy(refs)\n",
    "            # refs_copy.calc = sevennet_0_cal\n",
    "            # E_7net = refs_copy.get_potential_energy()\n",
    "\n",
    "            E_ref[key] = [len(refs), E_mace]\n",
    "        except KeyError as e:\n",
    "            print(f\"KeyError: Missing expected key in the data structure - {e}\")\n",
    "\n",
    "    else:\n",
    "        print(f\"Error: {response.status_code}\")\n"
   ]
  },
  {
   "cell_type": "code",
   "execution_count": 55,
   "metadata": {},
   "outputs": [
    {
     "data": {
      "text/plain": [
       "{'Na': [2, -2.610641327565582],\n",
       " 'Ir': [4, -35.28044576616728],\n",
       " 'As': [6, -27.67369794202979],\n",
       " 'Pt': [4, -24.138431558118338],\n",
       " 'Ni': [4, -22.92730309623691],\n",
       " 'Ta': [2, -23.79799873016572],\n",
       " 'Mo': [2, -21.38866579299701],\n",
       " 'Sm': [3, -13.211578047702657],\n",
       " 'P': [8, -43.19252078154264],\n",
       " 'Ge': [8, -36.20047242202957],\n",
       " 'Mn': [58, -531.5470867982012],\n",
       " 'Sb': [6, -24.41473184206994],\n",
       " 'Br': [8, -12.583815848058011],\n",
       " 'Ba': [2, -3.722729338598432],\n",
       " 'Ca': [4, -8.036482860887196],\n",
       " 'Pd': [4, -20.745409503079994],\n",
       " 'Sr': [4, -6.6818452105834805],\n",
       " 'Fe': [2, -16.779167697866594],\n",
       " 'Pb': [4, -14.785153352407717],\n",
       " 'In': [2, -5.409491501748776],\n",
       " 'Sn': [2, -7.854671129132578],\n",
       " 'Nb': [2, -20.170928884473206],\n",
       " 'Bi': [4, -15.231585231214293],\n",
       " 'Ga': [8, -24.200056635906698],\n",
       " 'Cu': [4, -16.337477241651186],\n",
       " 'W': [2, -25.492974669549724],\n",
       " 'Rh': [4, -29.161207660401775],\n",
       " 'V': [2, -18.197122208289333],\n",
       " 'Ac': [4, -16.43782778413162],\n",
       " 'I': [8, -11.863312928839894],\n",
       " 'Eu': [2, -20.51009688785779],\n",
       " 'U': [8, -88.6638763294697],\n",
       " 'Cr': [2, -18.89275217316997],\n",
       " 'Ce': [4, -22.43484868970878],\n",
       " 'Rb': [2, -1.8181637392711214],\n",
       " 'K': [2, -2.117782378266972],\n",
       " 'Ag': [4, -11.34382563314262],\n",
       " 'Al': [4, -14.910324918596327],\n",
       " 'Yb': [4, -5.948546456187389],\n",
       " 'Cs': [2, -1.6742830822334147],\n",
       " 'Au': [4, -12.983075688602],\n",
       " 'Pa': [2, -18.544357495220922],\n",
       " 'Th': [4, -29.79037200999378],\n",
       " 'Np': [8, -102.46869218555116]}"
      ]
     },
     "execution_count": 55,
     "metadata": {},
     "output_type": "execute_result"
    }
   ],
   "source": [
    "E_ref"
   ]
  },
  {
   "cell_type": "code",
   "execution_count": 56,
   "metadata": {},
   "outputs": [
    {
     "name": "stdout",
     "output_type": "stream",
     "text": [
      "Dictionary saved as reference_MACE.json\n"
     ]
    }
   ],
   "source": [
    "import json\n",
    "\n",
    "# Specify the file name\n",
    "file_name = \"reference_MACE.json\"\n",
    "\n",
    "# Save the dictionary as a JSON file\n",
    "with open(file_name, 'w') as json_file:\n",
    "    json.dump(E_ref, json_file, indent=4)  # indent=4 makes the JSON pretty-printed\n",
    "\n",
    "print(f\"Dictionary saved as {file_name}\")"
   ]
  },
  {
   "cell_type": "code",
   "execution_count": null,
   "metadata": {},
   "outputs": [],
   "source": []
  }
 ],
 "metadata": {
  "kernelspec": {
   "display_name": "jupyter",
   "language": "python",
   "name": "python3"
  },
  "language_info": {
   "codemirror_mode": {
    "name": "ipython",
    "version": 3
   },
   "file_extension": ".py",
   "mimetype": "text/x-python",
   "name": "python",
   "nbconvert_exporter": "python",
   "pygments_lexer": "ipython3",
   "version": "3.10.14"
  }
 },
 "nbformat": 4,
 "nbformat_minor": 2
}
