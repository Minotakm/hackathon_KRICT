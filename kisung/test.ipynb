{
 "cells": [
  {
   "cell_type": "code",
   "execution_count": 25,
   "metadata": {},
   "outputs": [],
   "source": [
    "import pandas as pd\n",
    "import json\n",
    "import numpy as np "
   ]
  },
  {
   "cell_type": "code",
   "execution_count": 5,
   "metadata": {},
   "outputs": [],
   "source": [
    "df = pd.read_csv('../Data/1_MatDX/MatDX_EF.csv')"
   ]
  },
  {
   "cell_type": "code",
   "execution_count": 6,
   "metadata": {},
   "outputs": [
    {
     "data": {
      "text/html": [
       "<div>\n",
       "<style scoped>\n",
       "    .dataframe tbody tr th:only-of-type {\n",
       "        vertical-align: middle;\n",
       "    }\n",
       "\n",
       "    .dataframe tbody tr th {\n",
       "        vertical-align: top;\n",
       "    }\n",
       "\n",
       "    .dataframe thead th {\n",
       "        text-align: right;\n",
       "    }\n",
       "</style>\n",
       "<table border=\"1\" class=\"dataframe\">\n",
       "  <thead>\n",
       "    <tr style=\"text-align: right;\">\n",
       "      <th></th>\n",
       "      <th>formula</th>\n",
       "      <th>space_group</th>\n",
       "      <th>structure</th>\n",
       "      <th>id</th>\n",
       "      <th>formation_energy</th>\n",
       "    </tr>\n",
       "  </thead>\n",
       "  <tbody>\n",
       "    <tr>\n",
       "      <th>0</th>\n",
       "      <td>Ni4Ta6</td>\n",
       "      <td>R-3c</td>\n",
       "      <td>[{'data': {'a': [-6.910143e-10, 0, 0], 'b': [3...</td>\n",
       "      <td>PN_MCKVEQNTJFRUHOURCR2HCEB35KDFRETL</td>\n",
       "      <td>{'reference': {'Ni': 'https://nomad-lab.eu/pro...</td>\n",
       "    </tr>\n",
       "    <tr>\n",
       "      <th>1</th>\n",
       "      <td>Mn4Sb2</td>\n",
       "      <td>I4_1/amd</td>\n",
       "      <td>[{'data': {'a': [-1.87778212e-10, 1.87604249e-...</td>\n",
       "      <td>PN_FGGHB2NFWUCYD3YZO4FWN3QVOKCTVI6K</td>\n",
       "      <td>{'reference': {'Mn': 'https://nomad-lab.eu/pro...</td>\n",
       "    </tr>\n",
       "    <tr>\n",
       "      <th>2</th>\n",
       "      <td>Ir2Na2</td>\n",
       "      <td>Imma</td>\n",
       "      <td>[{'data': {'a': [-1.36776653e-10, 2.60817299e-...</td>\n",
       "      <td>PN_BAO7ZSBZZCMA7PH7QMR7WLDI72GOELND</td>\n",
       "      <td>{'reference': {'Na': 'https://nomad-lab.eu/pro...</td>\n",
       "    </tr>\n",
       "    <tr>\n",
       "      <th>3</th>\n",
       "      <td>MoSm</td>\n",
       "      <td>R-3m</td>\n",
       "      <td>[{'data': {'a': [1.65820251e-10, 9.57363439999...</td>\n",
       "      <td>PN_4YR2JLVZHJLC3F2TYPTOVDBJJ52C6XIE</td>\n",
       "      <td>{'reference': {'Mo': 'https://nomad-lab.eu/pro...</td>\n",
       "    </tr>\n",
       "    <tr>\n",
       "      <th>4</th>\n",
       "      <td>Sn17P12</td>\n",
       "      <td>I-43m</td>\n",
       "      <td>[{'data': {'a': [-5.563178910000001e-10, 5.563...</td>\n",
       "      <td>PN_H6P36AVAKDU244QNQGGCJ7YLC4A4F2YE</td>\n",
       "      <td>{'reference': {'P': 'https://nomad-lab.eu/prod...</td>\n",
       "    </tr>\n",
       "    <tr>\n",
       "      <th>...</th>\n",
       "      <td>...</td>\n",
       "      <td>...</td>\n",
       "      <td>...</td>\n",
       "      <td>...</td>\n",
       "      <td>...</td>\n",
       "    </tr>\n",
       "    <tr>\n",
       "      <th>4995</th>\n",
       "      <td>Ag3Br</td>\n",
       "      <td>P4/mmm</td>\n",
       "      <td>[{'data': {'a': [3.54083755e-10, 0, 0], 'b': [...</td>\n",
       "      <td>PN_GGP4J67ICWQHYNTSDBZQJFBJKFHKP2TY</td>\n",
       "      <td>{'reference': {'Br': 'https://nomad-lab.eu/pro...</td>\n",
       "    </tr>\n",
       "    <tr>\n",
       "      <th>4996</th>\n",
       "      <td>Al16Ge8</td>\n",
       "      <td>Fd-3m</td>\n",
       "      <td>[{'data': {'a': [0, 6.01749067e-10, 6.01749067...</td>\n",
       "      <td>PN_HZ6TO4YLVA2K7PWWHZJRSFEAYOZLE3WF</td>\n",
       "      <td>{'reference': {'Al': 'https://nomad-lab.eu/pro...</td>\n",
       "    </tr>\n",
       "    <tr>\n",
       "      <th>4997</th>\n",
       "      <td>Pt2Th2</td>\n",
       "      <td>Cmcm</td>\n",
       "      <td>[{'data': {'a': [-3.93770842e-10, 0, 0], 'b': ...</td>\n",
       "      <td>PN_5CPW22CGT4NOR6246BCGTZUO2UMDXXWI</td>\n",
       "      <td>{'reference': {'Th': 'https://nomad-lab.eu/pro...</td>\n",
       "    </tr>\n",
       "    <tr>\n",
       "      <th>4998</th>\n",
       "      <td>Ga5Sr</td>\n",
       "      <td>Cmmm</td>\n",
       "      <td>[{'data': {'a': [2.2508728800000003e-10, -6.32...</td>\n",
       "      <td>PN_Y33JSPVMM6O4AYYYNR2LHUUT5WFVXJJC</td>\n",
       "      <td>{'reference': {'Ga': 'https://nomad-lab.eu/pro...</td>\n",
       "    </tr>\n",
       "    <tr>\n",
       "      <th>4999</th>\n",
       "      <td>MoSr3</td>\n",
       "      <td>Pmm2</td>\n",
       "      <td>[{'data': {'a': [4.0378953e-10, 0, 0], 'b': [0...</td>\n",
       "      <td>PN_QR4LU3SKZJE3QZHFUUQPYZMJH44JYUG6</td>\n",
       "      <td>{'reference': {'Mo': 'https://nomad-lab.eu/pro...</td>\n",
       "    </tr>\n",
       "  </tbody>\n",
       "</table>\n",
       "<p>5000 rows × 5 columns</p>\n",
       "</div>"
      ],
      "text/plain": [
       "      formula space_group                                          structure  \\\n",
       "0      Ni4Ta6        R-3c  [{'data': {'a': [-6.910143e-10, 0, 0], 'b': [3...   \n",
       "1      Mn4Sb2    I4_1/amd  [{'data': {'a': [-1.87778212e-10, 1.87604249e-...   \n",
       "2      Ir2Na2        Imma  [{'data': {'a': [-1.36776653e-10, 2.60817299e-...   \n",
       "3        MoSm        R-3m  [{'data': {'a': [1.65820251e-10, 9.57363439999...   \n",
       "4     Sn17P12       I-43m  [{'data': {'a': [-5.563178910000001e-10, 5.563...   \n",
       "...       ...         ...                                                ...   \n",
       "4995    Ag3Br      P4/mmm  [{'data': {'a': [3.54083755e-10, 0, 0], 'b': [...   \n",
       "4996  Al16Ge8       Fd-3m  [{'data': {'a': [0, 6.01749067e-10, 6.01749067...   \n",
       "4997   Pt2Th2        Cmcm  [{'data': {'a': [-3.93770842e-10, 0, 0], 'b': ...   \n",
       "4998    Ga5Sr        Cmmm  [{'data': {'a': [2.2508728800000003e-10, -6.32...   \n",
       "4999    MoSr3        Pmm2  [{'data': {'a': [4.0378953e-10, 0, 0], 'b': [0...   \n",
       "\n",
       "                                       id  \\\n",
       "0     PN_MCKVEQNTJFRUHOURCR2HCEB35KDFRETL   \n",
       "1     PN_FGGHB2NFWUCYD3YZO4FWN3QVOKCTVI6K   \n",
       "2     PN_BAO7ZSBZZCMA7PH7QMR7WLDI72GOELND   \n",
       "3     PN_4YR2JLVZHJLC3F2TYPTOVDBJJ52C6XIE   \n",
       "4     PN_H6P36AVAKDU244QNQGGCJ7YLC4A4F2YE   \n",
       "...                                   ...   \n",
       "4995  PN_GGP4J67ICWQHYNTSDBZQJFBJKFHKP2TY   \n",
       "4996  PN_HZ6TO4YLVA2K7PWWHZJRSFEAYOZLE3WF   \n",
       "4997  PN_5CPW22CGT4NOR6246BCGTZUO2UMDXXWI   \n",
       "4998  PN_Y33JSPVMM6O4AYYYNR2LHUUT5WFVXJJC   \n",
       "4999  PN_QR4LU3SKZJE3QZHFUUQPYZMJH44JYUG6   \n",
       "\n",
       "                                       formation_energy  \n",
       "0     {'reference': {'Ni': 'https://nomad-lab.eu/pro...  \n",
       "1     {'reference': {'Mn': 'https://nomad-lab.eu/pro...  \n",
       "2     {'reference': {'Na': 'https://nomad-lab.eu/pro...  \n",
       "3     {'reference': {'Mo': 'https://nomad-lab.eu/pro...  \n",
       "4     {'reference': {'P': 'https://nomad-lab.eu/prod...  \n",
       "...                                                 ...  \n",
       "4995  {'reference': {'Br': 'https://nomad-lab.eu/pro...  \n",
       "4996  {'reference': {'Al': 'https://nomad-lab.eu/pro...  \n",
       "4997  {'reference': {'Th': 'https://nomad-lab.eu/pro...  \n",
       "4998  {'reference': {'Ga': 'https://nomad-lab.eu/pro...  \n",
       "4999  {'reference': {'Mo': 'https://nomad-lab.eu/pro...  \n",
       "\n",
       "[5000 rows x 5 columns]"
      ]
     },
     "execution_count": 6,
     "metadata": {},
     "output_type": "execute_result"
    }
   ],
   "source": [
    "df"
   ]
  },
  {
   "cell_type": "code",
   "execution_count": 7,
   "metadata": {},
   "outputs": [
    {
     "data": {
      "text/plain": [
       "\"{'reference': {'Ni': 'https://nomad-lab.eu/prod/rae/gui/entry/id/6ITh58J5QcGWUDsmpR9t2A/DW3mGBiIv6M10SVC39rmNQ3rZWvj', 'Ta': 'https://nomad-lab.eu/prod/rae/gui/entry/id/mAAfBZKmTQWDVL1ZPRsrVQ/aiinBOOtWpDnw1fT1PNtrrjHAAiJ'}, 'value_per_atom': 0.10174024974414664, 'value': 1.0174024974414664}\""
      ]
     },
     "execution_count": 7,
     "metadata": {},
     "output_type": "execute_result"
    }
   ],
   "source": [
    "df.iloc[0]['formation_energy']"
   ]
  },
  {
   "cell_type": "code",
   "execution_count": 8,
   "metadata": {},
   "outputs": [],
   "source": [
    "data = eval(df.iloc[0]['structure'])"
   ]
  },
  {
   "cell_type": "code",
   "execution_count": 9,
   "metadata": {},
   "outputs": [
    {
     "data": {
      "text/plain": [
       "[-6.910143e-10, 0, 0]"
      ]
     },
     "execution_count": 9,
     "metadata": {},
     "output_type": "execute_result"
    }
   ],
   "source": [
    "data[0]['data']['a']"
   ]
  },
  {
   "cell_type": "code",
   "execution_count": 10,
   "metadata": {},
   "outputs": [
    {
     "data": {
      "text/plain": [
       "list"
      ]
     },
     "execution_count": 10,
     "metadata": {},
     "output_type": "execute_result"
    }
   ],
   "source": [
    "type(data[0]['data']['a'])"
   ]
  },
  {
   "cell_type": "code",
   "execution_count": 11,
   "metadata": {},
   "outputs": [
    {
     "ename": "TypeError",
     "evalue": "'lat_a' is an invalid keyword argument for print()",
     "output_type": "error",
     "traceback": [
      "\u001b[0;31m---------------------------------------------------------------------------\u001b[0m",
      "\u001b[0;31mTypeError\u001b[0m                                 Traceback (most recent call last)",
      "Cell \u001b[0;32mIn[11], line 4\u001b[0m\n\u001b[1;32m      1\u001b[0m data \u001b[38;5;241m=\u001b[39m \u001b[38;5;28meval\u001b[39m(df\u001b[38;5;241m.\u001b[39miloc[\u001b[38;5;241m0\u001b[39m][\u001b[38;5;124m'\u001b[39m\u001b[38;5;124mstructure\u001b[39m\u001b[38;5;124m'\u001b[39m])\n\u001b[1;32m      3\u001b[0m \u001b[38;5;28;01mimport\u001b[39;00m \u001b[38;5;21;01mnumpy\u001b[39;00m \u001b[38;5;28;01mas\u001b[39;00m \u001b[38;5;21;01mnp\u001b[39;00m\n\u001b[0;32m----> 4\u001b[0m \u001b[38;5;28;43mprint\u001b[39;49m\u001b[43m(\u001b[49m\u001b[43mlat_a\u001b[49m\u001b[43m \u001b[49m\u001b[38;5;241;43m=\u001b[39;49m\u001b[43m \u001b[49m\u001b[43mdata\u001b[49m\u001b[43m[\u001b[49m\u001b[38;5;241;43m0\u001b[39;49m\u001b[43m]\u001b[49m\u001b[43m[\u001b[49m\u001b[38;5;124;43m'\u001b[39;49m\u001b[38;5;124;43mdata\u001b[39;49m\u001b[38;5;124;43m'\u001b[39;49m\u001b[43m]\u001b[49m\u001b[43m[\u001b[49m\u001b[38;5;124;43m'\u001b[39;49m\u001b[38;5;124;43ma\u001b[39;49m\u001b[38;5;124;43m'\u001b[39;49m\u001b[43m]\u001b[49m\u001b[43m)\u001b[49m\n\u001b[1;32m      5\u001b[0m lat_b \u001b[38;5;241m=\u001b[39m data[\u001b[38;5;241m0\u001b[39m][\u001b[38;5;124m'\u001b[39m\u001b[38;5;124mdata\u001b[39m\u001b[38;5;124m'\u001b[39m][\u001b[38;5;124m'\u001b[39m\u001b[38;5;124mb\u001b[39m\u001b[38;5;124m'\u001b[39m]\n\u001b[1;32m      6\u001b[0m lat_c \u001b[38;5;241m=\u001b[39m data[\u001b[38;5;241m0\u001b[39m][\u001b[38;5;124m'\u001b[39m\u001b[38;5;124mdata\u001b[39m\u001b[38;5;124m'\u001b[39m][\u001b[38;5;124m'\u001b[39m\u001b[38;5;124mc\u001b[39m\u001b[38;5;124m'\u001b[39m]\n",
      "\u001b[0;31mTypeError\u001b[0m: 'lat_a' is an invalid keyword argument for print()"
     ]
    }
   ],
   "source": [
    "\n",
    "data = eval(df.iloc[0]['structure'])\n",
    "\n",
    "import numpy as np\n",
    "print(lat_a = data[0]['data']['a'])\n",
    "lat_b = data[0]['data']['b']\n",
    "lat_c = data[0]['data']['c']\n",
    "volume = np.dot(lat_a, np.cross(lat_b, lat_c))\n",
    "\n",
    "print(volume)"
   ]
  },
  {
   "cell_type": "code",
   "execution_count": 30,
   "metadata": {},
   "outputs": [
    {
     "name": "stdout",
     "output_type": "stream",
     "text": [
      "The volume is 158.7662225782138. 10\n"
     ]
    }
   ],
   "source": [
    "def get_properties(row):\n",
    "\n",
    "    # Evaluate the data structure from the given row\n",
    "    data = eval(row['structure'])\n",
    "    \n",
    "    # Extract the lattice vectors\n",
    "    lat_a = data[0]['data']['a'] \n",
    "    lat_b = data[0]['data']['b'] \n",
    "    lat_c = data[0]['data']['c'] \n",
    "\n",
    "    \n",
    "    # Calculate the volume using the scalar triple product\n",
    "    volume = abs(np.dot(lat_a, np.cross(lat_b, lat_c)))\n",
    "    \n",
    "    return (volume* 1e30, len(data[0]['data']['atoms']))\n",
    "\n",
    "# Example usage\n",
    "volume,natoms = get_properties(df.iloc[0])\n",
    "print(f\"The volume is {volume}.\",natoms)"
   ]
  },
  {
   "cell_type": "code",
   "execution_count": 14,
   "metadata": {},
   "outputs": [
    {
     "name": "stdout",
     "output_type": "stream",
     "text": [
      "[-6.910143e-10, 0, 0]\n",
      "[3.455072e-10, -5.984361000000001e-10, 0]\n",
      "[-3.455072e-10, 1.994788e-10, 3.8393110000000003e-10]\n"
     ]
    }
   ],
   "source": [
    "print(data[0]['data']['a'])\n",
    "print(data[0]['data']['b'])\n",
    "print(data[0]['data']['c'])"
   ]
  },
  {
   "cell_type": "code",
   "execution_count": null,
   "metadata": {},
   "outputs": [],
   "source": []
  }
 ],
 "metadata": {
  "kernelspec": {
   "display_name": "jupyter",
   "language": "python",
   "name": "python3"
  },
  "language_info": {
   "codemirror_mode": {
    "name": "ipython",
    "version": 3
   },
   "file_extension": ".py",
   "mimetype": "text/x-python",
   "name": "python",
   "nbconvert_exporter": "python",
   "pygments_lexer": "ipython3",
   "version": "3.10.14"
  }
 },
 "nbformat": 4,
 "nbformat_minor": 2
}
