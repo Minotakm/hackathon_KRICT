{
 "cells": [
  {
   "cell_type": "markdown",
   "metadata": {
    "id": "fu4CzcbAg0hp"
   },
   "source": [
    "# MatDX API tutorial\n",
    "\n",
    "URL to download an example IPYNB file: https://gitlab.chemdx.org/global-network/mrrs-2022-dec-us/-/tree/master"
   ]
  },
  {
   "cell_type": "markdown",
   "metadata": {
    "id": "Y6_WdUAZhrHM"
   },
   "source": [
    "## Install Mendeleev python library"
   ]
  },
  {
   "cell_type": "code",
   "execution_count": 1,
   "metadata": {
    "colab": {
     "base_uri": "https://localhost:8080/",
     "height": 610
    },
    "id": "q14E_7YRaA3X",
    "outputId": "de4782c1-04a3-41ee-a631-16f05650dc3c"
   },
   "outputs": [
    {
     "name": "stdout",
     "output_type": "stream",
     "text": [
      "Requirement already satisfied: mendeleev in /Users/suhyunyoo/Research/syoo_research/syoo_personal/lib/python3.9/site-packages (0.18.1)\n",
      "Requirement already satisfied: Pygments<3.0.0,>=2.11.2 in /Users/suhyunyoo/Research/syoo_research/syoo_personal/lib/python3.9/site-packages (from mendeleev) (2.18.0)\n",
      "Requirement already satisfied: SQLAlchemy>=1.4.0 in /Users/suhyunyoo/Research/syoo_research/syoo_personal/lib/python3.9/site-packages (from mendeleev) (2.0.36)\n",
      "Requirement already satisfied: colorama<0.5.0,>=0.4.6 in /Users/suhyunyoo/Research/syoo_research/syoo_personal/lib/python3.9/site-packages (from mendeleev) (0.4.6)\n",
      "Requirement already satisfied: numpy<2.0,>=1.21 in /Users/suhyunyoo/Research/syoo_research/syoo_personal/lib/python3.9/site-packages (from mendeleev) (1.26.0)\n",
      "Requirement already satisfied: pandas>=1.0.0 in /Users/suhyunyoo/Research/syoo_research/syoo_personal/lib/python3.9/site-packages (from mendeleev) (2.2.2)\n",
      "Requirement already satisfied: pyfiglet<0.9,>=0.8.post1 in /Users/suhyunyoo/Research/syoo_research/syoo_personal/lib/python3.9/site-packages (from mendeleev) (0.8.post1)\n",
      "Requirement already satisfied: python-dateutil>=2.8.2 in /Users/suhyunyoo/Research/syoo_research/syoo_personal/lib/python3.9/site-packages (from pandas>=1.0.0->mendeleev) (2.9.0.post0)\n",
      "Requirement already satisfied: pytz>=2020.1 in /Users/suhyunyoo/Research/syoo_research/syoo_personal/lib/python3.9/site-packages (from pandas>=1.0.0->mendeleev) (2024.1)\n",
      "Requirement already satisfied: tzdata>=2022.7 in /Users/suhyunyoo/Research/syoo_research/syoo_personal/lib/python3.9/site-packages (from pandas>=1.0.0->mendeleev) (2024.1)\n",
      "Requirement already satisfied: typing-extensions>=4.6.0 in /Users/suhyunyoo/Research/syoo_research/syoo_personal/lib/python3.9/site-packages (from SQLAlchemy>=1.4.0->mendeleev) (4.12.2)\n",
      "Requirement already satisfied: six>=1.5 in /Users/suhyunyoo/Research/syoo_research/syoo_personal/lib/python3.9/site-packages (from python-dateutil>=2.8.2->pandas>=1.0.0->mendeleev) (1.16.0)\n"
     ]
    }
   ],
   "source": [
    "!pip install mendeleev"
   ]
  },
  {
   "cell_type": "markdown",
   "metadata": {
    "id": "gd4tjgK7_W3k"
   },
   "source": [
    "Formation energy = E(PtCu2) - (E(Pt) + 2xE(Cu))"
   ]
  },
  {
   "cell_type": "markdown",
   "metadata": {
    "id": "eCAqYI9bh0zU"
   },
   "source": [
    "# MatDX API command to download dataset about formation energy"
   ]
  },
  {
   "cell_type": "code",
   "execution_count": 41,
   "metadata": {
    "id": "rJMwa4f1X_W6"
   },
   "outputs": [],
   "source": [
    "import json\n",
    "import requests\n",
    "import time\n",
    "\n",
    "KRICTDB_URL = \"https://materials.chemdx.org\"\n",
    "api_command = \"/api/download/property\"\n",
    "\n",
    "headers = {}\n",
    "headers['Content-Type'] = 'application/json'\n",
    "\n",
    "compositional_arity=\"Binary\"\n",
    "property_calculation=\"Formation energy\"\n",
    "\n",
    "api_command += \"?compositional_arity=\" + compositional_arity\n",
    "api_command += \"&property_calculation=\" + property_calculation"
   ]
  },
  {
   "cell_type": "markdown",
   "metadata": {
    "id": "_GO8rK1Nh_nH"
   },
   "source": [
    "## Excute API commad"
   ]
  },
  {
   "cell_type": "code",
   "execution_count": 47,
   "metadata": {
    "colab": {
     "base_uri": "https://localhost:8080/"
    },
    "id": "MY3t-IexX_W7",
    "outputId": "c5e895e2-36a4-4de4-936f-152a38a386d4",
    "scrolled": true
   },
   "outputs": [
    {
     "name": "stdout",
     "output_type": "stream",
     "text": [
      "Total 1 * 500 entries\n",
      "Total 2 * 500 entries\n",
      "Total 3 * 500 entries\n",
      "Total 4 * 500 entries\n",
      "Total 5 * 500 entries\n",
      "Total 6 * 500 entries\n",
      "Total 7 * 500 entries\n",
      "Total 8 * 500 entries\n",
      "Total 9 * 500 entries\n",
      "Total 10 * 500 entries\n"
     ]
    }
   ],
   "source": [
    "size = 500\n",
    "\n",
    "collect = []\n",
    "for i in range(1,11,1):\n",
    "    option = json.dumps({\n",
    "        \"from\": i,\n",
    "        \"size\": size\n",
    "    })\n",
    "    response = requests.post(KRICTDB_URL+api_command, data=option, headers=headers).text\n",
    "    collect += json.loads(response)\n",
    "\n",
    "    print(\"Total %d * %d entries\"%(i,size))\n",
    "    time.sleep(1)"
   ]
  },
  {
   "cell_type": "markdown",
   "metadata": {
    "id": "ox2vwcnBiHWa"
   },
   "source": [
    "## View one of the entries"
   ]
  },
  {
   "cell_type": "code",
   "execution_count": 48,
   "metadata": {},
   "outputs": [
    {
     "data": {
      "text/plain": [
       "5000"
      ]
     },
     "execution_count": 48,
     "metadata": {},
     "output_type": "execute_result"
    }
   ],
   "source": [
    "len(collect)"
   ]
  },
  {
   "cell_type": "code",
   "execution_count": 49,
   "metadata": {
    "colab": {
     "base_uri": "https://localhost:8080/"
    },
    "id": "XmHFVCFyX_W8",
    "outputId": "0b1db4a7-bf5d-4727-d3da-6667692c24bf"
   },
   "outputs": [
    {
     "data": {
      "text/plain": [
       "{'formula': 'Ni4Ta6',\n",
       " 'space_group': 'R-3c',\n",
       " 'structure': [{'data': {'a': [-6.910143e-10, 0, 0],\n",
       "    'b': [3.455072e-10, -5.984361000000001e-10, 0],\n",
       "    'c': [-3.455072e-10, 1.994788e-10, 3.8393110000000003e-10],\n",
       "    'atoms': [{'x': -3.45507990183523e-10,\n",
       "      'y': -1.9947900244761103e-10,\n",
       "      'z': 7.9504002988613e-11,\n",
       "      'element': 'Ni'},\n",
       "     {'x': -6.9101497659279e-10,\n",
       "      'y': 7.349320005927056e-18,\n",
       "      'z': 1.1246100950784702e-10,\n",
       "      'element': 'Ni'},\n",
       "     {'x': -4.0564010241193595e-18,\n",
       "      'y': -3.989569981570961e-10,\n",
       "      'z': 2.71471008087482e-10,\n",
       "      'element': 'Ni'},\n",
       "     {'x': -3.4550799589121803e-10,\n",
       "      'y': -1.99478979769825e-10,\n",
       "      'z': 3.0442601432568504e-10,\n",
       "      'element': 'Ni'},\n",
       "     {'x': -1.9145199616975595e-10,\n",
       "      'y': -3.989570119487071e-10,\n",
       "      'z': 9.598300151934901e-11,\n",
       "      'element': 'Ta'},\n",
       "     {'x': -5.952883059087111e-10,\n",
       "      'y': -2.3315500026858307e-10,\n",
       "      'z': 9.598300151934901e-11,\n",
       "      'element': 'Ta'},\n",
       "     {'x': -2.4978099508394904e-10,\n",
       "      'y': 3.3676009160126e-11,\n",
       "      'z': 9.598300919797101e-11,\n",
       "      'element': 'Ta'},\n",
       "     {'x': -9.5726999517115e-11,\n",
       "      'y': -1.6580197857073206e-10,\n",
       "      'z': 2.8794801401580905e-10,\n",
       "      'element': 'Ta'},\n",
       "     {'x': -4.99561989418757e-10,\n",
       "      'y': 2.9119818998865556e-17,\n",
       "      'z': 2.8794801785512e-10,\n",
       "      'element': 'Ta'},\n",
       "     {'x': -4.4123277974519793e-10,\n",
       "      'y': -4.326330618065551e-10,\n",
       "      'z': 2.8794802553374203e-10,\n",
       "      'element': 'Ta'}]},\n",
       "   'natoms': 10,\n",
       "   'element': {'Ni': 4, 'Ta': 6}}],\n",
       " 'id': 'PN_MCKVEQNTJFRUHOURCR2HCEB35KDFRETL',\n",
       " 'formation_energy': {'reference': {'Ni': 'https://nomad-lab.eu/prod/rae/gui/entry/id/6ITh58J5QcGWUDsmpR9t2A/DW3mGBiIv6M10SVC39rmNQ3rZWvj',\n",
       "   'Ta': 'https://nomad-lab.eu/prod/rae/gui/entry/id/mAAfBZKmTQWDVL1ZPRsrVQ/aiinBOOtWpDnw1fT1PNtrrjHAAiJ'},\n",
       "  'value_per_atom': 0.10174024974414664,\n",
       "  'value': 1.0174024974414664}}"
      ]
     },
     "execution_count": 49,
     "metadata": {},
     "output_type": "execute_result"
    }
   ],
   "source": [
    "collect[0]"
   ]
  },
  {
   "cell_type": "code",
   "execution_count": 50,
   "metadata": {},
   "outputs": [],
   "source": [
    "import csv\n",
    "\n",
    "with open('MatDX_nomad_EF.csv','w') as f:\n",
    "    w = csv.writer(f)\n",
    "    for k, tmp_list in enumerate(collect):\n",
    "        if k == 0:\n",
    "            w.writerow(tmp_list.keys())\n",
    "        w.writerow(tmp_list.values())"
   ]
  },
  {
   "cell_type": "markdown",
   "metadata": {
    "id": "IC2ezbdsiyy-"
   },
   "source": [
    "## The number of entries for each spacegroup"
   ]
  },
  {
   "cell_type": "code",
   "execution_count": 5,
   "metadata": {
    "colab": {
     "base_uri": "https://localhost:8080/"
    },
    "id": "w04PvCQqX_W8",
    "outputId": "8b909831-d2be-497d-b7ec-33a3411fd6be"
   },
   "outputs": [
    {
     "data": {
      "text/plain": [
       "[(1234, 'I4/mmm'),\n",
       " (854, 'P4/mmm'),\n",
       " (705, 'Fm-3m'),\n",
       " (660, 'Pm-3m'),\n",
       " (551, 'Cmcm'),\n",
       " (496, 'R-3m'),\n",
       " (377, 'Immm'),\n",
       " (361, 'Cmmm'),\n",
       " (324, 'P4/nmm'),\n",
       " (284, 'P-3m1'),\n",
       " (284, 'Fd-3m')]"
      ]
     },
     "execution_count": 5,
     "metadata": {},
     "output_type": "execute_result"
    }
   ],
   "source": [
    "sp_list = []\n",
    "for sp in collect: sp_list.append(sp['space_group'])\n",
    "sp_count_list = [(sp_list.count(sp), sp) for sp in set(sp_list)]\n",
    "sp_count_list.sort(reverse=True)\n",
    "sp_count_list[0:11]"
   ]
  },
  {
   "cell_type": "markdown",
   "metadata": {
    "id": "ZQqwaOodjCYb"
   },
   "source": [
    "## Select the Fm-3m spacegroup (FCC structure)"
   ]
  },
  {
   "cell_type": "code",
   "execution_count": 6,
   "metadata": {
    "colab": {
     "base_uri": "https://localhost:8080/"
    },
    "id": "j_TP8_oNX_W8",
    "outputId": "4f67a9e2-ad9f-4d9d-d97e-060b8e7478c1"
   },
   "outputs": [
    {
     "name": "stdout",
     "output_type": "stream",
     "text": [
      "Fm-3m\n"
     ]
    },
    {
     "data": {
      "text/plain": [
       "705"
      ]
     },
     "execution_count": 6,
     "metadata": {},
     "output_type": "execute_result"
    }
   ],
   "source": [
    "sp_selectd = sp_count_list[2][1]\n",
    "print(sp_selectd)\n",
    "sp_count_list_selectd = [entry for entry in collect if entry['space_group'] == sp_selectd]\n",
    "len(sp_count_list_selectd)"
   ]
  },
  {
   "cell_type": "markdown",
   "metadata": {
    "id": "t8A5-UkijWTT"
   },
   "source": [
    "## Extract the entries for Fm-3m space group"
   ]
  },
  {
   "cell_type": "code",
   "execution_count": 7,
   "metadata": {
    "colab": {
     "base_uri": "https://localhost:8080/"
    },
    "id": "b2zTIOmuX_W9",
    "outputId": "34aeced6-de6f-4c82-ba7e-360643a03ccc"
   },
   "outputs": [
    {
     "data": {
      "text/plain": [
       "705"
      ]
     },
     "execution_count": 7,
     "metadata": {},
     "output_type": "execute_result"
    }
   ],
   "source": [
    "flist = [entry['formula']\n",
    "         for entry in collect if entry['space_group'] == sp_selectd]\n",
    "len(flist)"
   ]
  },
  {
   "cell_type": "markdown",
   "metadata": {
    "id": "sOwTk6qvjrj1"
   },
   "source": [
    "## Top 5 formulas duplicated in the dataset\n"
   ]
  },
  {
   "cell_type": "code",
   "execution_count": 8,
   "metadata": {
    "colab": {
     "base_uri": "https://localhost:8080/"
    },
    "id": "fqYWLD1FX_W9",
    "outputId": "f8ec2f55-d54c-426b-bc12-c8d34d9d9acb"
   },
   "outputs": [
    {
     "data": {
      "text/plain": [
       "[(9, 'SnP'), (6, 'NaBr'), (5, 'Fe3P'), (4, 'PtSr'), (4, 'CuIr')]"
      ]
     },
     "execution_count": 8,
     "metadata": {},
     "output_type": "execute_result"
    }
   ],
   "source": [
    "nflist = [(flist.count(fi),fi) for fi in set(flist)]\n",
    "nflist.sort(reverse=True)\n",
    "nflist[0:5]"
   ]
  },
  {
   "cell_type": "markdown",
   "metadata": {
    "id": "SuiejxJBkJGZ"
   },
   "source": [
    "## Compare formation energies of various spacegroups"
   ]
  },
  {
   "cell_type": "code",
   "execution_count": 9,
   "metadata": {
    "colab": {
     "base_uri": "https://localhost:8080/"
    },
    "id": "ApXwWT5jX_W9",
    "outputId": "634a9c04-ab7c-48fb-8d2a-e5d1b6abf4df"
   },
   "outputs": [
    {
     "name": "stdout",
     "output_type": "stream",
     "text": [
      "SnP\n",
      "Fm-3m -0.09479267157576299\n",
      "Fm-3m -0.09479276658323421\n",
      "Fm-3m -0.09440152081224173\n",
      "Fm-3m -0.09479073142317151\n",
      "Fm-3m -0.09479267157576299\n",
      "Fm-3m -0.09479276658323421\n",
      "Fm-3m -0.09440152081224173\n",
      "Fm-3m -0.09479073142317151\n",
      "Fm-3m -0.09453313366342808\n",
      "I4mm -0.17049034385357142\n",
      "I4mm -0.17049034385357142\n",
      "F-43m 0.134815296805475\n",
      "Cmmm 0.28567141145133146\n",
      "Cmmm 0.2837275035653928\n"
     ]
    }
   ],
   "source": [
    "print(nflist[0][1])\n",
    "for sp in collect:\n",
    "    if sp['formula'] == nflist[0][1]:\n",
    "        print(sp['space_group'], sp['formation_energy']['value_per_atom'])"
   ]
  },
  {
   "cell_type": "markdown",
   "metadata": {
    "id": "-mktfRSYkvdX"
   },
   "source": [
    "## Collect formation energies of two different compounds"
   ]
  },
  {
   "cell_type": "code",
   "execution_count": 10,
   "metadata": {
    "colab": {
     "base_uri": "https://localhost:8080/"
    },
    "id": "FdJS3I85X_W-",
    "outputId": "88cbe736-aaa7-4506-9139-6673bc6beb57"
   },
   "outputs": [
    {
     "name": "stdout",
     "output_type": "stream",
     "text": [
      "['SnP', 'NaBr']\n",
      "['1:Fm-3m:SnP', '2:Fm-3m:SnP', '3:Fm-3m:SnP', '4:Fm-3m:SnP', '5:Fm-3m:SnP', '6:Fm-3m:SnP', '7:Fm-3m:SnP', '8:Fm-3m:SnP', '9:Fm-3m:SnP', '10:Fm-3m:NaBr', '11:Fm-3m:NaBr', '12:Fm-3m:NaBr', '13:Fm-3m:NaBr', '14:Fm-3m:NaBr', '15:Fm-3m:NaBr']\n",
      "[-0.09479267157576299, -0.09479276658323421, -0.09440152081224173, -0.09479073142317151, -0.09479267157576299, -0.09479276658323421, -0.09440152081224173, -0.09479073142317151, -0.09453313366342808, -1.7192765439625828, -1.6432630530960348, -1.6432630530960348, -1.7218775135256053, -1.7218775135256053, -1.641356465645302]\n"
     ]
    }
   ],
   "source": [
    "print([nflist[0][1], nflist[1][1]])\n",
    "\n",
    "x_label = []\n",
    "en_f = []\n",
    "i = 1\n",
    "for sp in collect:\n",
    "    if (sp['formula'] in [nflist[0][1], nflist[1][1]]) and (sp['space_group'] == sp_selectd):\n",
    "        x_label.append(str(i)+':'+sp['space_group']+':'+sp['formula'])\n",
    "        en_f.append(sp['formation_energy']['value_per_atom'])\n",
    "        i += 1\n",
    "\n",
    "print(x_label)\n",
    "print(en_f)"
   ]
  },
  {
   "cell_type": "markdown",
   "metadata": {
    "id": "THFULUGclE7K"
   },
   "source": [
    "## Plotting the formation energies by using Pandas module"
   ]
  },
  {
   "cell_type": "code",
   "execution_count": 11,
   "metadata": {
    "colab": {
     "base_uri": "https://localhost:8080/",
     "height": 638
    },
    "id": "VIBy2em-X_W_",
    "outputId": "144ce8d1-67fa-4f6e-d0d5-e9886d45862b"
   },
   "outputs": [
    {
     "data": {
      "image/png": "[encoded data removed]",
      "text/plain": [
       "<Figure size 1200x600 with 1 Axes>"
      ]
     },
     "metadata": {},
     "output_type": "display_data"
    }
   ],
   "source": [
    "import pandas as pd\n",
    "\n",
    "df = pd.DataFrame({'Index:Spacegroup': x_label, 'Formation_E': en_f})\n",
    "df.plot.bar(x='Index:Spacegroup', y='Formation_E', figsize=(12,6))\n",
    "pass"
   ]
  },
  {
   "cell_type": "markdown",
   "metadata": {
    "id": "Z3Gk7jF_lXcO"
   },
   "source": [
    "## Download data of Fm-3m compounds from MatDX"
   ]
  },
  {
   "cell_type": "code",
   "execution_count": 12,
   "metadata": {
    "colab": {
     "base_uri": "https://localhost:8080/"
    },
    "id": "KAgzvJUwX_W_",
    "outputId": "32c970e1-18b1-492c-a976-8ad45a5a17ad"
   },
   "outputs": [
    {
     "name": "stdout",
     "output_type": "stream",
     "text": [
      "Total 1 * 1000 entries\n",
      "Total 2 * 1000 entries\n",
      "Total 3 * 1000 entries\n",
      "Total 4 * 1000 entries\n",
      "Total 5 * 1000 entries\n",
      "Total 6 * 1000 entries\n",
      "Total 7 * 1000 entries\n",
      "Total 8 * 1000 entries\n",
      "Total 9 * 1000 entries\n",
      "Total 10 * 1000 entries\n"
     ]
    }
   ],
   "source": [
    "space_group = \"Fm-3m\"\n",
    "api_command += \"&space_group=\" + space_group\n",
    "\n",
    "size = 1000\n",
    "\n",
    "collect_org = []\n",
    "for i in range(1,11,1):\n",
    "    option = json.dumps({\n",
    "        \"from\": i,\n",
    "        \"size\": size\n",
    "    })\n",
    "    response = requests.post(KRICTDB_URL+api_command, data=option, headers=headers).text\n",
    "\n",
    "    collect_org += json.loads(response)\n",
    "\n",
    "    print(\"Total %d * %d entries\"%(i,size))"
   ]
  },
  {
   "cell_type": "code",
   "execution_count": 13,
   "metadata": {
    "colab": {
     "base_uri": "https://localhost:8080/"
    },
    "id": "9MgoRGgMCYbO",
    "outputId": "9446bcde-3730-4cff-9546-4f109b3fc7af"
   },
   "outputs": [
    {
     "name": "stdout",
     "output_type": "stream",
     "text": [
      "10000\n"
     ]
    }
   ],
   "source": [
    "print(len(collect))"
   ]
  },
  {
   "cell_type": "markdown",
   "metadata": {
    "id": "sWCQox_6l1XG"
   },
   "source": [
    "## Data cleaning: remove compounds which have abnormally high formation energy"
   ]
  },
  {
   "cell_type": "code",
   "execution_count": 14,
   "metadata": {
    "colab": {
     "base_uri": "https://localhost:8080/"
    },
    "id": "7OpYJNaJX_W_",
    "outputId": "26ad001c-0444-41ff-a741-edb95e9c628f"
   },
   "outputs": [
    {
     "name": "stdout",
     "output_type": "stream",
     "text": [
      "8780 compounds\n",
      "SnP\n"
     ]
    }
   ],
   "source": [
    "collect_clean = []\n",
    "for i in collect_org:\n",
    "    if abs(i['formation_energy']['value_per_atom']) > 3: continue\n",
    "    collect_clean.append(i)\n",
    "print(len(collect_clean), 'compounds')\n",
    "\n",
    "collect = collect_clean\n",
    "\n",
    "print(collect[0]['formula'])"
   ]
  },
  {
   "cell_type": "markdown",
   "metadata": {
    "id": "Nf5H6oMZnjsh"
   },
   "source": [
    "## Generate feature set by using mendeleev python module"
   ]
  },
  {
   "cell_type": "code",
   "execution_count": 15,
   "metadata": {
    "colab": {
     "base_uri": "https://localhost:8080/"
    },
    "id": "mcJKvERVcRSi",
    "outputId": "b2952cd2-ba80-429e-b145-22c0cb74142e"
   },
   "outputs": [
    {
     "name": "stdout",
     "output_type": "stream",
     "text": [
      "Requirement already satisfied: mendeleev in /Users/suhyunyoo/Research/syoo_research/syoo_personal/lib/python3.9/site-packages (0.18.1)\n",
      "Requirement already satisfied: Pygments<3.0.0,>=2.11.2 in /Users/suhyunyoo/Research/syoo_research/syoo_personal/lib/python3.9/site-packages (from mendeleev) (2.18.0)\n",
      "Requirement already satisfied: SQLAlchemy>=1.4.0 in /Users/suhyunyoo/Research/syoo_research/syoo_personal/lib/python3.9/site-packages (from mendeleev) (2.0.36)\n",
      "Requirement already satisfied: colorama<0.5.0,>=0.4.6 in /Users/suhyunyoo/Research/syoo_research/syoo_personal/lib/python3.9/site-packages (from mendeleev) (0.4.6)\n",
      "Requirement already satisfied: numpy<2.0,>=1.21 in /Users/suhyunyoo/Research/syoo_research/syoo_personal/lib/python3.9/site-packages (from mendeleev) (1.26.0)\n",
      "Requirement already satisfied: pandas>=1.0.0 in /Users/suhyunyoo/Research/syoo_research/syoo_personal/lib/python3.9/site-packages (from mendeleev) (2.2.2)\n",
      "Requirement already satisfied: pyfiglet<0.9,>=0.8.post1 in /Users/suhyunyoo/Research/syoo_research/syoo_personal/lib/python3.9/site-packages (from mendeleev) (0.8.post1)\n",
      "Requirement already satisfied: python-dateutil>=2.8.2 in /Users/suhyunyoo/Research/syoo_research/syoo_personal/lib/python3.9/site-packages (from pandas>=1.0.0->mendeleev) (2.9.0.post0)\n",
      "Requirement already satisfied: pytz>=2020.1 in /Users/suhyunyoo/Research/syoo_research/syoo_personal/lib/python3.9/site-packages (from pandas>=1.0.0->mendeleev) (2024.1)\n",
      "Requirement already satisfied: tzdata>=2022.7 in /Users/suhyunyoo/Research/syoo_research/syoo_personal/lib/python3.9/site-packages (from pandas>=1.0.0->mendeleev) (2024.1)\n",
      "Requirement already satisfied: typing-extensions>=4.6.0 in /Users/suhyunyoo/Research/syoo_research/syoo_personal/lib/python3.9/site-packages (from SQLAlchemy>=1.4.0->mendeleev) (4.12.2)\n",
      "Requirement already satisfied: six>=1.5 in /Users/suhyunyoo/Research/syoo_research/syoo_personal/lib/python3.9/site-packages (from python-dateutil>=2.8.2->pandas>=1.0.0->mendeleev) (1.16.0)\n"
     ]
    }
   ],
   "source": [
    "!pip install mendeleev"
   ]
  },
  {
   "cell_type": "code",
   "execution_count": 16,
   "metadata": {
    "id": "yhTPyD-8cv7-"
   },
   "outputs": [],
   "source": [
    "import mendeleev"
   ]
  },
  {
   "cell_type": "code",
   "execution_count": 17,
   "metadata": {
    "colab": {
     "base_uri": "https://localhost:8080/"
    },
    "id": "FfgRC3clX_XA",
    "outputId": "3495ad51-8254-46e9-9b55-2b4266a354f2"
   },
   "outputs": [
    {
     "name": "stdout",
     "output_type": "stream",
     "text": [
      "SnP [1, 'Sn', 1, 'P']\n"
     ]
    }
   ],
   "source": [
    "from mendeleev import element\n",
    "\n",
    "features_list = []\n",
    "target_list = []\n",
    "\n",
    "for compound in collect:\n",
    "    features = []\n",
    "    elem_list = list(compound['structure'][0]['element'].keys())\n",
    "    if compound['formula'][0:len(elem_list)] != elem_list[0]:\n",
    "        elem_list_new = [elem_list[1], elem_list[0]]\n",
    "        elem_list = elem_list_new\n",
    "\n",
    "    for name in elem_list:\n",
    "        count = compound['structure'][0]['element'][name]\n",
    "        features.append(count)\n",
    "        features.append(name)\n",
    "    print(compound['formula'], features)\n",
    "    break"
   ]
  },
  {
   "cell_type": "markdown",
   "metadata": {
    "id": "gpJt8qhhnugq"
   },
   "source": [
    "## Information about intrinsic properties of element"
   ]
  },
  {
   "cell_type": "code",
   "execution_count": 18,
   "metadata": {
    "colab": {
     "base_uri": "https://localhost:8080/"
    },
    "collapsed": true,
    "id": "xegjJcY1beSc",
    "jupyter": {
     "outputs_hidden": true
    },
    "outputId": "0d25c461-d171-48c3-af34-4a8ec2bebbb6"
   },
   "outputs": [
    {
     "data": {
      "text/plain": [
       "Element(\n",
       "\tabundance_crust=2.3,\n",
       " \tabundance_sea=4e-06,\n",
       " \tannotation='',\n",
       " \tatomic_number=50,\n",
       " \tatomic_radius=145.0,\n",
       " \tatomic_radius_rahm=248.0,\n",
       " \tatomic_volume=16.3,\n",
       " \tatomic_weight=118.71,\n",
       " \tatomic_weight_uncertainty=0.007,\n",
       " \tblock='p',\n",
       " \tc6=659.0,\n",
       " \tc6_gb=715.0,\n",
       " \tcas='7440-31-5',\n",
       " \tcovalent_radius_bragg=140.0,\n",
       " \tcovalent_radius_cordero=139.0,\n",
       " \tcovalent_radius_pyykko=140.0,\n",
       " \tcovalent_radius_pyykko_double=130.0,\n",
       " \tcovalent_radius_pyykko_triple=132.0,\n",
       " \tcpk_color='#ff1493',\n",
       " \tdensity=7.287,\n",
       " \tdescription='Silvery malleable metallic element belonging to group 14 of the periodic table. Twenty-six isotopes are known, five of which are radioactive. Chemically reactive. Combines directly with chlorine and oxygen and displaces hydrogen from dilute acids.',\n",
       " \tdipole_polarizability=53.0,\n",
       " \tdipole_polarizability_unc=6.0,\n",
       " \tdiscoverers='Known to the ancients.',\n",
       " \tdiscovery_location=None,\n",
       " \tdiscovery_year=None,\n",
       " \tec=<ElectronicConfiguration(conf=\"1s2 2s2 2p6 3s2 3p6 4s2 3d10 4p6 4d10 5s2 5p2\")>,\n",
       " \teconf='[Kr] 4d10 5s2 5p2',\n",
       " \telectron_affinity=1.112067,\n",
       " \ten_allen=10.79,\n",
       " \ten_ghosh=0.178052,\n",
       " \ten_pauling=1.96,\n",
       " \tevaporation_heat=296.0,\n",
       " \tfusion_heat=7.07,\n",
       " \tgas_basicity=None,\n",
       " \tgeochemical_class=None,\n",
       " \tglawe_number=83,\n",
       " \tgoldschmidt_class='chalcophile',\n",
       " \tgroup=<Group(symbol=IVA, name=Carbon group)>,\n",
       " \tgroup_id=14,\n",
       " \theat_of_formation=301.2,\n",
       " \tionic_radii=[IonicRadius(\n",
       "\tatomic_number=50,\n",
       " \tcharge=4,\n",
       " \tcoordination='IV',\n",
       " \tcrystal_radius=69.0,\n",
       " \teconf='4d10',\n",
       " \tid=389,\n",
       " \tionic_radius=55.00000000000001,\n",
       " \tmost_reliable=False,\n",
       " \torigin='from r^3 vs V plots, ',\n",
       " \tspin='',\n",
       "), IonicRadius(\n",
       "\tatomic_number=50,\n",
       " \tcharge=4,\n",
       " \tcoordination='V',\n",
       " \tcrystal_radius=76.0,\n",
       " \teconf='4d10',\n",
       " \tid=390,\n",
       " \tionic_radius=62.0,\n",
       " \tmost_reliable=False,\n",
       " \torigin='calculated, ',\n",
       " \tspin='',\n",
       "), IonicRadius(\n",
       "\tatomic_number=50,\n",
       " \tcharge=4,\n",
       " \tcoordination='VI',\n",
       " \tcrystal_radius=83.0,\n",
       " \teconf='4d10',\n",
       " \tid=391,\n",
       " \tionic_radius=69.0,\n",
       " \tmost_reliable=True,\n",
       " \torigin='from r^3 vs V plots, ',\n",
       " \tspin='',\n",
       "), IonicRadius(\n",
       "\tatomic_number=50,\n",
       " \tcharge=4,\n",
       " \tcoordination='VII',\n",
       " \tcrystal_radius=89.0,\n",
       " \teconf='4d10',\n",
       " \tid=392,\n",
       " \tionic_radius=75.0,\n",
       " \tmost_reliable=False,\n",
       " \torigin='',\n",
       " \tspin='',\n",
       "), IonicRadius(\n",
       "\tatomic_number=50,\n",
       " \tcharge=4,\n",
       " \tcoordination='VIII',\n",
       " \tcrystal_radius=95.0,\n",
       " \teconf='4d10',\n",
       " \tid=393,\n",
       " \tionic_radius=81.0,\n",
       " \tmost_reliable=False,\n",
       " \torigin='calculated, ',\n",
       " \tspin='',\n",
       ")],\n",
       " \tis_monoisotopic=None,\n",
       " \tis_radioactive=False,\n",
       " \tisotopes=[<Isotope(Z=50, A=99, mass=98.9485(6), abundance=None)>, <Isotope(Z=50, A=100, mass=99.9386(3), abundance=None)>, <Isotope(Z=50, A=101, mass=100.9353(3), abundance=None)>, <Isotope(Z=50, A=102, mass=101.9303(1), abundance=None)>, <Isotope(Z=50, A=103, mass=102.9280(1), abundance=None)>, <Isotope(Z=50, A=104, mass=103.923105(6), abundance=None)>, <Isotope(Z=50, A=105, mass=104.921268(4), abundance=None)>, <Isotope(Z=50, A=106, mass=105.916957(5), abundance=None)>, <Isotope(Z=50, A=107, mass=106.915714(6), abundance=None)>, <Isotope(Z=50, A=108, mass=107.911894(6), abundance=None)>, <Isotope(Z=50, A=109, mass=108.911293(9), abundance=None)>, <Isotope(Z=50, A=110, mass=109.90784(1), abundance=None)>, <Isotope(Z=50, A=111, mass=110.907741(6), abundance=None)>, <Isotope(Z=50, A=112, mass=111.9048249(3), abundance=0.97(1))>, <Isotope(Z=50, A=113, mass=112.905176(2), abundance=None)>, <Isotope(Z=50, A=114, mass=113.90278013(3), abundance=0.66(1))>, <Isotope(Z=50, A=115, mass=114.90334470(2), abundance=0.34(1))>, <Isotope(Z=50, A=116, mass=115.9017428(1), abundance=14.54(9))>, <Isotope(Z=50, A=117, mass=116.9029540(5), abundance=7.68(7))>, <Isotope(Z=50, A=118, mass=117.9016066(5), abundance=24.22(9))>, <Isotope(Z=50, A=119, mass=118.9033113(8), abundance=8.59(4))>, <Isotope(Z=50, A=120, mass=119.9022026(10), abundance=32.58(9))>, <Isotope(Z=50, A=121, mass=120.904243(1), abundance=None)>, <Isotope(Z=50, A=122, mass=121.903445(3), abundance=4.63(3))>, <Isotope(Z=50, A=123, mass=122.905727(3), abundance=None)>, <Isotope(Z=50, A=124, mass=123.905280(1), abundance=5.79(5))>, <Isotope(Z=50, A=125, mass=124.907789(1), abundance=None)>, <Isotope(Z=50, A=126, mass=125.90766(1), abundance=None)>, <Isotope(Z=50, A=127, mass=126.910392(10), abundance=None)>, <Isotope(Z=50, A=128, mass=127.91051(2), abundance=None)>, <Isotope(Z=50, A=129, mass=128.91348(2), abundance=None)>, <Isotope(Z=50, A=130, mass=129.913975(2), abundance=None)>, <Isotope(Z=50, A=131, mass=130.917053(4), abundance=None)>, <Isotope(Z=50, A=132, mass=131.917824(2), abundance=None)>, <Isotope(Z=50, A=133, mass=132.923914(2), abundance=None)>, <Isotope(Z=50, A=134, mass=133.928680(3), abundance=None)>, <Isotope(Z=50, A=135, mass=134.934909(3), abundance=None)>, <Isotope(Z=50, A=136, mass=135.9397(2), abundance=None)>, <Isotope(Z=50, A=137, mass=136.9462(3), abundance=None)>, <Isotope(Z=50, A=138, mass=137.9511(4), abundance=None)>, <Isotope(Z=50, A=139, mass=138.9578(4), abundance=None)>, <Isotope(Z=50, A=140, mass=139.9630(3), abundance=None)>],\n",
       " \tjmol_color='#668080',\n",
       " \tlattice_constant=5.82,\n",
       " \tlattice_structure='TET',\n",
       " \tmendeleev_number=90,\n",
       " \tmetallic_radius=142.0,\n",
       " \tmetallic_radius_c12=163.0,\n",
       " \tmolar_heat_capacity=26.99,\n",
       " \tmolcas_gv_color='#668080',\n",
       " \tname='Tin',\n",
       " \tname_origin='Named after Etruscan god, Tinia; symbol from Latin: stannum (tin).',\n",
       " \tperiod=5,\n",
       " \tpettifor_number=83,\n",
       " \tphase_transitions=[50 Tm=286.34999999999997 Tb=2859.15, 50 Tm=505.078 Tb=2859.15],\n",
       " \tproton_affinity=None,\n",
       " \tscattering_factors=[Z=50 E=10.0 f1=-9999.0 f2=3.97344, Z=50 E=10.1617 f1=-9999.0 f2=3.94095, Z=50 E=10.3261 f1=-9999.0 f2=3.90871, Z=50 E=10.4931 f1=-9999.0 f2=3.87675, Z=50 E=10.6628 f1=-9999.0 f2=3.84504, Z=50 E=10.8353 f1=-9999.0 f2=3.81359, Z=50 E=11.0106 f1=-9999.0 f2=3.7824, Z=50 E=11.1886 f1=-9999.0 f2=3.75146, Z=50 E=11.3696 f1=-9999.0 f2=3.72078, Z=50 E=11.5535 f1=-9999.0 f2=3.64688, Z=50 E=11.7404 f1=-9999.0 f2=3.57189, Z=50 E=11.9303 f1=-9999.0 f2=3.49845, Z=50 E=12.1232 f1=-9999.0 f2=3.42652, Z=50 E=12.3193 f1=-9999.0 f2=3.30574, Z=50 E=12.5186 f1=-9999.0 f2=3.15089, Z=50 E=12.721 f1=-9999.0 f2=3.0033, Z=50 E=12.9268 f1=-9999.0 f2=2.86262, Z=50 E=13.1359 f1=-9999.0 f2=2.72511, Z=50 E=13.3483 f1=-9999.0 f2=2.48316, Z=50 E=13.5642 f1=-9999.0 f2=2.2627, Z=50 E=13.7836 f1=-9999.0 f2=2.06181, Z=50 E=14.0066 f1=-9999.0 f2=1.89987, Z=50 E=14.2331 f1=-9999.0 f2=1.75449, Z=50 E=14.4633 f1=-9999.0 f2=1.62024, Z=50 E=14.6973 f1=-9999.0 f2=1.49626, Z=50 E=14.935 f1=-9999.0 f2=1.38177, Z=50 E=15.1765 f1=-9999.0 f2=1.27604, Z=50 E=15.422 f1=-9999.0 f2=1.18242, Z=50 E=15.6714 f1=-9999.0 f2=1.10196, Z=50 E=15.9249 f1=-9999.0 f2=1.02698, Z=50 E=16.1825 f1=-9999.0 f2=0.957105, Z=50 E=16.4442 f1=-9999.0 f2=0.89297, Z=50 E=16.7102 f1=-9999.0 f2=0.849459, Z=50 E=16.9805 f1=-9999.0 f2=0.808068, Z=50 E=17.2551 f1=-9999.0 f2=0.768695, Z=50 E=17.5342 f1=-9999.0 f2=0.736073, Z=50 E=17.8178 f1=-9999.0 f2=0.710695, Z=50 E=18.106 f1=-9999.0 f2=0.686194, Z=50 E=18.3989 f1=-9999.0 f2=0.662536, Z=50 E=18.6964 f1=-9999.0 f2=0.64628, Z=50 E=18.9988 f1=-9999.0 f2=0.633782, Z=50 E=19.3061 f1=-9999.0 f2=0.621526, Z=50 E=19.6184 f1=-9999.0 f2=0.609507, Z=50 E=19.9357 f1=-9999.0 f2=0.602556, Z=50 E=20.2582 f1=-9999.0 f2=0.600727, Z=50 E=20.5858 f1=-9999.0 f2=0.598903, Z=50 E=20.9188 f1=-9999.0 f2=0.598391, Z=50 E=21.2571 f1=-9999.0 f2=0.611967, Z=50 E=21.6009 f1=-9999.0 f2=0.625852, Z=50 E=21.9503 f1=-9999.0 f2=0.640967, Z=50 E=22.3053 f1=-9999.0 f2=0.671939, Z=50 E=22.6661 f1=-9999.0 f2=0.704407, Z=50 E=23.0327 f1=-9999.0 f2=0.759304, Z=50 E=23.4053 f1=-9999.0 f2=0.855339, Z=50 E=23.7838 f1=-9999.0 f2=1.1389, Z=50 E=24.1685 f1=-9999.0 f2=1.85247, Z=50 E=24.5594 f1=-9999.0 f2=3.05677, Z=50 E=24.9566 f1=-9999.0 f2=3.71424, Z=50 E=25.3603 f1=-9999.0 f2=4.00664, Z=50 E=25.7705 f1=-9999.0 f2=4.16638, Z=50 E=26.1873 f1=-9999.0 f2=4.33249, Z=50 E=26.6109 f1=-9999.0 f2=4.50523, Z=50 E=27.0413 f1=-9999.0 f2=4.64204, Z=50 E=27.4786 f1=-9999.0 f2=4.7165, Z=50 E=27.9231 f1=-9999.0 f2=4.79216, Z=50 E=28.3747 f1=-9999.0 f2=4.86903, Z=50 E=28.8337 f1=-9999.0 f2=4.94188, Z=50 E=29.3 f1=-0.617521 f2=4.84384, Z=50 E=29.7739 f1=-0.530603 f2=4.74774, Z=50 E=30.2555 f1=-0.493238 f2=4.65354, Z=50 E=30.7449 f1=-0.504236 f2=4.53693, Z=50 E=31.2421 f1=-0.579138 f2=4.42302, Z=50 E=31.7475 f1=-0.740259 f2=4.35143, Z=50 E=32.2609 f1=-0.891436 f2=4.35427, Z=50 E=32.7827 f1=-1.04661 f2=4.35711, Z=50 E=33.313 f1=-1.23597 f2=4.35995, Z=50 E=33.8518 f1=-1.49552 f2=4.43789, Z=50 E=34.3993 f1=-1.6989 f2=4.57867, Z=50 E=34.9557 f1=-1.88562 f2=4.72392, Z=50 E=35.5211 f1=-2.07385 f2=4.87378, Z=50 E=36.0956 f1=-2.2842 f2=5.04642, Z=50 E=36.6794 f1=-2.47739 f2=5.25911, Z=50 E=37.2727 f1=-2.65929 f2=5.48077, Z=50 E=37.8755 f1=-2.83839 f2=5.71177, Z=50 E=38.4882 f1=-3.02366 f2=5.95251, Z=50 E=39.1107 f1=-3.23022 f2=6.2053, Z=50 E=39.7432 f1=-3.43246 f2=6.52769, Z=50 E=40.3861 f1=-3.6105 f2=6.86683, Z=50 E=41.0393 f1=-3.77494 f2=7.22358, Z=50 E=41.7031 f1=-3.92842 f2=7.59887, Z=50 E=42.3776 f1=-4.07153 f2=7.99366, Z=50 E=43.063 f1=-4.20419 f2=8.40895, Z=50 E=43.7595 f1=-4.32668 f2=8.84582, Z=50 E=44.4673 f1=-4.44102 f2=9.30963, Z=50 E=45.1865 f1=-4.53474 f2=9.80363, Z=50 E=45.9174 f1=-4.60691 f2=10.3239, Z=50 E=46.66 f1=-4.65499 f2=10.8717, Z=50 E=47.4147 f1=-4.67411 f2=11.4486, Z=50 E=48.1816 f1=-4.65234 f2=12.0561, Z=50 E=48.9609 f1=-4.56273 f2=12.6958, Z=50 E=49.7528 f1=-4.4383 f2=13.2701, Z=50 E=50.5576 f1=-4.31588 f2=13.8664, Z=50 E=51.3753 f1=-4.17074 f2=14.4895, Z=50 E=52.2062 f1=-3.98944 f2=15.1406, Z=50 E=53.0506 f1=-3.74917 f2=15.821, Z=50 E=53.9087 f1=-3.39804 f2=16.4976, Z=50 E=54.7806 f1=-3.04284 f2=17.0915, Z=50 E=55.6667 f1=-2.68217 f2=17.7067, Z=50 E=56.567 f1=-2.27866 f2=18.3441, Z=50 E=57.482 f1=-1.80131 f2=19.0045, Z=50 E=58.4117 f1=-1.1627 f2=19.6886, Z=50 E=59.3564 f1=-0.460873 f2=20.0565, Z=50 E=60.3165 f1=0.129707 f2=20.4, Z=50 E=61.2921 f1=0.670513 f2=20.7493, Z=50 E=62.2834 f1=1.20275 f2=21.1046, Z=50 E=63.2908 f1=1.73961 f2=21.466, Z=50 E=64.3145 f1=2.29963 f2=21.8321, Z=50 E=65.3547 f1=2.86725 f2=22.1597, Z=50 E=66.4118 f1=3.4334 f2=22.4921, Z=50 E=67.4859 f1=4.00987 f2=22.8296, Z=50 E=68.5775 f1=4.6072 f2=23.1721, Z=50 E=69.6867 f1=5.23614 f2=23.5197, Z=50 E=70.8138 f1=5.92357 f2=23.8726, Z=50 E=71.9591 f1=6.64032 f2=24.1389, Z=50 E=73.123 f1=7.35628 f2=24.4043, Z=50 E=74.3057 f1=8.09902 f2=24.6726, Z=50 E=75.5076 f1=8.91923 f2=24.9438, Z=50 E=76.7289 f1=9.76309 f2=25.0654, Z=50 E=77.9699 f1=10.5832 f2=25.1833, Z=50 E=79.231 f1=11.4212 f2=25.3018, Z=50 E=80.5125 f1=12.3556 f2=25.4208, Z=50 E=81.8147 f1=13.2865 f2=25.2904, Z=50 E=83.138 f1=14.1304 f2=25.1553, Z=50 E=84.4827 f1=14.9303 f2=25.0209, Z=50 E=85.8491 f1=15.7199 f2=24.8872, Z=50 E=87.2377 f1=16.5145 f2=24.7543, Z=50 E=88.6487 f1=17.3428 f2=24.622, Z=50 E=90.0825 f1=18.3032 f2=24.4095, Z=50 E=91.5395 f1=19.1538 f2=24.0449, Z=50 E=93.0201 f1=19.9274 f2=23.6857, Z=50 E=94.5246 f1=20.6797 f2=23.3319, Z=50 E=96.0535 f1=21.4286 f2=22.9834, Z=50 E=97.6071 f1=22.1926 f2=22.64, Z=50 E=99.1858 f1=22.9954 f2=22.3018, Z=50 E=100.79 f1=23.8941 f2=21.9687, Z=50 E=102.42 f1=25.1183 f2=21.6405, Z=50 E=104.077 f1=26.3331 f2=20.5085, Z=50 E=105.76 f1=27.0621 f2=19.2823, Z=50 E=107.471 f1=27.549 f2=18.1295, Z=50 E=109.209 f1=27.8883 f2=17.0456, Z=50 E=110.975 f1=28.1232 f2=16.0265, Z=50 E=112.77 f1=28.2816 f2=15.0683, Z=50 E=114.594 f1=28.3843 f2=14.1673, Z=50 E=116.448 f1=28.4516 f2=13.3203, Z=50 E=118.331 f1=28.5212 f2=12.5239, Z=50 E=120.245 f1=28.6342 f2=11.6421, Z=50 E=122.19 f1=28.583 f2=10.7199, Z=50 E=124.166 f1=28.4188 f2=9.87078, Z=50 E=126.175 f1=28.2007 f2=9.08886, Z=50 E=128.215 f1=27.9444 f2=8.36888, Z=50 E=130.289 f1=27.6604 f2=7.70596, Z=50 E=132.397 f1=27.3575 f2=7.09555, Z=50 E=134.538 f1=27.0417 f2=6.53348, Z=50 E=136.714 f1=26.7199 f2=6.01594, Z=50 E=138.925 f1=26.399 f2=5.53939, Z=50 E=141.172 f1=26.0924 f2=5.1006, Z=50 E=143.456 f1=25.8509 f2=4.69656, Z=50 E=145.776 f1=25.5731 f2=4.10482, Z=50 E=148.134 f1=25.1581 f2=3.55493, Z=50 E=150.53 f1=24.6499 f2=3.07869, Z=50 E=152.964 f1=24.0595 f2=2.66626, Z=50 E=155.439 f1=23.4721 f2=2.45191, Z=50 E=157.953 f1=22.9265 f2=2.26918, Z=50 E=160.507 f1=22.3905 f2=2.149, Z=50 E=163.103 f1=21.8667 f2=2.06322, Z=50 E=165.742 f1=21.3828 f2=2.08757, Z=50 E=168.422 f1=20.948 f2=2.12123, Z=50 E=171.146 f1=20.5514 f2=2.19082, Z=50 E=173.915 f1=20.1926 f2=2.27062, Z=50 E=176.727 f1=19.8502 f2=2.35332, Z=50 E=179.586 f1=19.5147 f2=2.47643, Z=50 E=182.491 f1=19.229 f2=2.63391, Z=50 E=185.442 f1=18.9866 f2=2.80141, Z=50 E=188.442 f1=18.8102 f2=2.9584, Z=50 E=191.489 f1=18.6334 f2=3.0823, Z=50 E=194.587 f1=18.4567 f2=3.21138, Z=50 E=197.734 f1=18.2923 f2=3.34587, Z=50 E=200.932 f1=18.1414 f2=3.486, Z=50 E=204.182 f1=18.0055 f2=3.63199, Z=50 E=207.485 f1=17.8878 f2=3.78409, Z=50 E=210.84 f1=17.8 f2=3.94257, Z=50 E=214.251 f1=17.7252 f2=4.06524, Z=50 E=217.716 f1=17.6481 f2=4.18812, Z=50 E=221.237 f1=17.5727 f2=4.31471, Z=50 E=224.816 f1=17.5048 f2=4.44513, Z=50 E=228.452 f1=17.4462 f2=4.57949, Z=50 E=232.147 f1=17.3993 f2=4.71791, Z=50 E=235.902 f1=17.3679 f2=4.86052, Z=50 E=239.717 f1=17.3628 f2=5.00743, Z=50 E=243.595 f1=17.3941 f2=5.11627, Z=50 E=247.535 f1=17.4057 f2=5.19413, Z=50 E=251.538 f1=17.4007 f2=5.27318, Z=50 E=255.607 f1=17.3938 f2=5.35343, Z=50 E=259.741 f1=17.3872 f2=5.4349, Z=50 E=263.942 f1=17.383 f2=5.51761, Z=50 E=268.211 f1=17.3833 f2=5.60158, Z=50 E=272.549 f1=17.3935 f2=5.68683, Z=50 E=276.957 f1=17.416 f2=5.75534, Z=50 E=281.437 f1=17.431 f2=5.81259, Z=50 E=285.989 f1=17.4409 f2=5.87041, Z=50 E=290.615 f1=17.4531 f2=5.9288, Z=50 E=295.315 f1=17.4733 f2=5.98777, Z=50 E=300.092 f1=17.5238 f2=6.03117, Z=50 E=304.945 f1=17.548 f2=6.03085, Z=50 E=309.878 f1=17.5522 f2=6.03053, Z=50 E=314.89 f1=17.5453 f2=6.0302, Z=50 E=319.983 f1=17.5306 f2=6.02988, Z=50 E=325.158 f1=17.5113 f2=6.02956, Z=50 E=330.418 f1=17.4967 f2=6.02923, Z=50 E=335.762 f1=17.4742 f2=5.99582, Z=50 E=341.192 f1=17.4281 f2=5.95607, Z=50 E=346.711 f1=17.3609 f2=5.91657, Z=50 E=352.319 f1=17.2779 f2=5.87733, Z=50 E=358.017 f1=17.1797 f2=5.83836, Z=50 E=363.808 f1=17.0666 f2=5.79964, Z=50 E=369.692 f1=16.9412 f2=5.76118, Z=50 E=375.672 f1=16.8043 f2=5.71383, Z=50 E=381.748 f1=16.6377 f2=5.65477, Z=50 E=387.922 f1=16.4418 f2=5.59631, Z=50 E=394.197 f1=16.2164 f2=5.53847, Z=50 E=400.573 f1=15.9588 f2=5.48122, Z=50 E=407.052 f1=15.6587 f2=5.42457, Z=50 E=413.635 f1=15.3143 f2=5.38633, Z=50 E=420.326 f1=14.9415 f2=5.36289, Z=50 E=427.124 f1=14.5275 f2=5.33955, Z=50 E=434.032 f1=14.0569 f2=5.31631, Z=50 E=441.052 f1=13.5023 f2=5.29318, Z=50 E=448.186 f1=12.8642 f2=5.32243, Z=50 E=455.435 f1=12.1419 f2=5.36541, Z=50 E=462.802 f1=11.2473 f2=5.45708, Z=50 E=470.287 f1=10.2553 f2=5.64796, Z=50 E=477.894 f1=9.09164 f2=5.84552, Z=50 E=484.8 f1=7.97502 f2=6.02804, Z=50 E=485.0 f1=7.87726 f2=5.61713, Z=50 E=485.623 f1=7.37798 f2=5.73466, Z=50 E=493.478 f1=4.9725 f2=7.42813, Z=50 E=501.459 f1=3.21411 f2=9.62162, Z=50 E=509.57 f1=1.78526 f2=12.4628, Z=50 E=517.812 f1=0.935425 f2=16.1431, Z=50 E=526.187 f1=2.94277 f2=20.5203, Z=50 E=534.698 f1=5.10761 f2=22.2248, Z=50 E=543.346 f1=7.30398 f2=23.8532, Z=50 E=552.134 f1=9.17847 f2=24.6222, Z=50 E=561.065 f1=10.754 f2=25.416, Z=50 E=570.139 f1=12.5226 f2=25.9913, Z=50 E=579.361 f1=13.9927 f2=26.1106, Z=50 E=588.732 f1=15.2416 f2=26.2303, Z=50 E=598.254 f1=16.4342 f2=26.3507, Z=50 E=607.93 f1=17.6582 f2=26.3487, Z=50 E=617.763 f1=18.6768 f2=26.1323, Z=50 E=627.755 f1=19.5244 f2=25.9177, Z=50 E=637.908 f1=20.2437 f2=25.7049, Z=50 E=648.226 f1=20.8447 f2=25.5233, Z=50 E=658.711 f1=21.3958 f2=25.3932, Z=50 E=669.365 f1=21.8923 f2=25.2638, Z=50 E=680.191 f1=22.355 f2=25.135, Z=50 E=691.193 f1=22.7845 f2=24.8825, Z=50 E=702.372 f1=22.419 f2=24.4398, Z=50 E=713.733 f1=21.8164 f2=25.1689, Z=50 E=725.277 f1=21.9609 f2=26.5068, Z=50 E=737.008 f1=22.798 f2=27.9157, Z=50 E=748.928 f1=24.5054 f2=28.7472, Z=50 E=761.042 f1=25.9928 f2=28.7866, Z=50 E=773.351 f1=27.2082 f2=28.826, Z=50 E=785.859 f1=28.3562 f2=28.6369, Z=50 E=798.57 f1=29.3355 f2=28.3879, Z=50 E=811.486 f1=30.2241 f2=28.1411, Z=50 E=824.611 f1=31.0892 f2=27.8964, Z=50 E=837.949 f1=31.921 f2=27.5869, Z=50 E=851.502 f1=32.6694 f2=27.2397, Z=50 E=865.274 f1=33.3558 f2=26.8968, Z=50 E=879.269 f1=33.9932 f2=26.5583, Z=50 E=893.491 f1=34.5632 f2=26.2241, Z=50 E=907.943 f1=35.1278 f2=25.9951, Z=50 E=922.628 f1=35.7312 f2=25.7818, Z=50 E=937.551 f1=36.3806 f2=25.5701, Z=50 E=952.715 f1=37.0694 f2=25.3603, Z=50 E=968.124 f1=38.0719 f2=25.1521, Z=50 E=983.783 f1=39.154 f2=24.3413, Z=50 E=999.695 f1=39.3529 f2=23.2912, Z=50 E=1015.86 f1=39.5068 f2=22.8698, Z=50 E=1032.29 f1=39.8687 f2=22.4083, Z=50 E=1048.99 f1=40.2083 f2=21.9512, Z=50 E=1065.96 f1=40.526 f2=21.4987, Z=50 E=1083.2 f1=40.8244 f2=21.0554, Z=50 E=1100.72 f1=41.1048 f2=20.6212, Z=50 E=1118.52 f1=41.3681 f2=20.1961, Z=50 E=1136.61 f1=41.6155 f2=19.7796, Z=50 E=1155.0 f1=41.8479 f2=19.3717, Z=50 E=1173.68 f1=42.066 f2=18.9723, Z=50 E=1192.66 f1=42.2707 f2=18.581, Z=50 E=1211.95 f1=42.4628 f2=18.1979, Z=50 E=1231.55 f1=42.6431 f2=17.8228, Z=50 E=1251.47 f1=42.8122 f2=17.4556, Z=50 E=1271.72 f1=42.9705 f2=17.0964, Z=50 E=1292.29 f1=43.1196 f2=16.7452, Z=50 E=1313.19 f1=43.2597 f2=16.401, Z=50 E=1334.43 f1=43.391 f2=16.0639, Z=50 E=1356.01 f1=43.514 f2=15.7338, Z=50 E=1377.94 f1=43.6292 f2=15.4103, Z=50 E=1400.23 f1=43.7368 f2=15.0936, Z=50 E=1422.88 f1=43.8371 f2=14.7834, Z=50 E=1445.89 f1=43.9303 f2=14.4796, Z=50 E=1469.28 f1=44.0166 f2=14.1825, Z=50 E=1493.04 f1=44.096 f2=13.8921, Z=50 E=1517.19 f1=44.1704 f2=13.6104, Z=50 E=1541.73 f1=44.2408 f2=13.3349, Z=50 E=1566.67 f1=44.3072 f2=13.0649, Z=50 E=1592.01 f1=44.3693 f2=12.8004, Z=50 E=1617.76 f1=44.4276 f2=12.5411, Z=50 E=1643.92 f1=44.4818 f2=12.2869, Z=50 E=1670.51 f1=44.5325 f2=12.0383, Z=50 E=1697.53 f1=44.5803 f2=11.7946, Z=50 E=1724.99 f1=44.6287 f2=11.5556, Z=50 E=1752.89 f1=44.6734 f2=11.3146, Z=50 E=1781.24 f1=44.7115 f2=11.0762, Z=50 E=1810.05 f1=44.7435 f2=10.8411, Z=50 E=1839.32 f1=44.7697 f2=10.6111, Z=50 E=1869.07 f1=44.7916 f2=10.386, Z=50 E=1899.3 f1=44.8093 f2=10.1654, Z=50 E=1930.02 f1=44.823 f2=9.9496, Z=50 E=1961.24 f1=44.8332 f2=9.73846, Z=50 E=1992.96 f1=44.8388 f2=9.53185, Z=50 E=2025.2 f1=44.847 f2=9.33397, Z=50 E=2057.95 f1=44.8534 f2=9.13169, Z=50 E=2091.24 f1=44.8532 f2=8.93205, Z=50 E=2125.06 f1=44.8487 f2=8.73611, Z=50 E=2159.43 f1=44.8402 f2=8.5432, Z=50 E=2194.36 f1=44.8278 f2=8.35387, Z=50 E=2229.85 f1=44.8112 f2=8.16753, Z=50 E=2265.92 f1=44.7909 f2=7.98494, Z=50 E=2302.57 f1=44.767 f2=7.80508, Z=50 E=2339.81 f1=44.7388 f2=7.62824, Z=50 E=2377.66 f1=44.7066 f2=7.45474, Z=50 E=2416.11 f1=44.6703 f2=7.28406, Z=50 E=2455.19 f1=44.6298 f2=7.11654, Z=50 E=2494.9 f1=44.585 f2=6.9517, Z=50 E=2535.26 f1=44.5355 f2=6.78984, Z=50 E=2576.26 f1=44.4813 f2=6.63078, Z=50 E=2617.93 f1=44.4221 f2=6.47454, Z=50 E=2660.27 f1=44.3577 f2=6.32104, Z=50 E=2703.3 f1=44.2877 f2=6.17018, Z=50 E=2747.03 f1=44.2119 f2=6.02202, Z=50 E=2791.46 f1=44.1297 f2=5.87647, Z=50 E=2836.61 f1=44.0409 f2=5.73352, Z=50 E=2882.49 f1=43.9447 f2=5.59303, Z=50 E=2929.11 f1=43.8405 f2=5.45502, Z=50 E=2976.48 f1=43.7274 f2=5.31947, Z=50 E=3024.63 f1=43.6047 f2=5.18631, Z=50 E=3073.55 f1=43.4712 f2=5.05555, Z=50 E=3123.26 f1=43.3255 f2=4.92704, Z=50 E=3173.78 f1=43.1659 f2=4.80082, Z=50 E=3225.11 f1=42.9905 f2=4.67688, Z=50 E=3277.27 f1=42.7967 f2=4.55512, Z=50 E=3330.28 f1=42.5811 f2=4.43544, Z=50 E=3384.15 f1=42.3396 f2=4.31794, Z=50 E=3438.88 f1=42.0664 f2=4.20252, Z=50 E=3494.5 f1=41.7538 f2=4.08922, Z=50 E=3551.02 f1=41.3906 f2=3.97787, Z=50 E=3608.46 f1=40.9597 f2=3.86841, Z=50 E=3666.82 f1=40.4342 f2=3.76105, Z=50 E=3726.13 f1=39.7661 f2=3.65559, Z=50 E=3786.4 f1=38.8555 f2=3.55191, Z=50 E=3847.64 f1=37.4303 f2=3.45004, Z=50 E=3909.87 f1=33.8781 f2=3.35003, Z=50 E=3928.7 f1=21.367 f2=3.32065, Z=50 E=3928.9 f1=21.3687 f2=10.8165, Z=50 E=3973.11 f1=35.7824 f2=10.6258, Z=50 E=4037.38 f1=37.5436 f2=10.3581, Z=50 E=4102.68 f1=37.8216 f2=10.0972, Z=50 E=4156.0 f1=31.1452 f2=9.89191, Z=50 E=4156.2 f1=31.148 f2=13.588, Z=50 E=4169.03 f1=37.0202 f2=13.5233, Z=50 E=4236.46 f1=39.7808 f2=13.1917, Z=50 E=4304.98 f1=40.9163 f2=12.869, Z=50 E=4374.62 f1=41.5729 f2=12.555, Z=50 E=4445.37 f1=41.5607 f2=12.2471, Z=50 E=4464.6 f1=39.1491 f2=12.1656, Z=50 E=4464.8 f1=39.1509 f2=13.7097, Z=50 E=4517.27 f1=42.6724 f2=13.4942, Z=50 E=4590.33 f1=43.6361 f2=13.2039, Z=50 E=4664.58 f1=44.3357 f2=12.9168, Z=50 E=4740.03 f1=44.9116 f2=12.6326, Z=50 E=4816.69 f1=45.4069 f2=12.3519, Z=50 E=4894.6 f1=45.8429 f2=12.0747, Z=50 E=4973.77 f1=46.2318 f2=11.801, Z=50 E=5054.21 f1=46.5818 f2=11.5311, Z=50 E=5135.96 f1=46.8989 f2=11.2652, Z=50 E=5219.03 f1=47.1876 f2=11.0033, Z=50 E=5303.44 f1=47.4516 f2=10.7455, Z=50 E=5389.22 f1=47.6934 f2=10.4916, Z=50 E=5476.39 f1=47.9153 f2=10.242, Z=50 E=5564.97 f1=48.1194 f2=9.99683, Z=50 E=5654.98 f1=48.3075 f2=9.75571, Z=50 E=5746.44 f1=48.4807 f2=9.51892, Z=50 E=5839.39 f1=48.6403 f2=9.28642, Z=50 E=5933.83 f1=48.7875 f2=9.05831, Z=50 E=6029.81 f1=48.9233 f2=8.83453, Z=50 E=6127.33 f1=49.0484 f2=8.61505, Z=50 E=6226.44 f1=49.1635 f2=8.39981, Z=50 E=6327.15 f1=49.2695 f2=8.18894, Z=50 E=6429.48 f1=49.367 f2=7.98243, Z=50 E=6533.48 f1=49.4566 f2=7.78004, Z=50 E=6639.15 f1=49.5386 f2=7.58182, Z=50 E=6746.54 f1=49.6136 f2=7.38798, Z=50 E=6855.65 f1=49.6823 f2=7.19822, Z=50 E=6966.54 f1=49.7448 f2=7.01252, Z=50 E=7079.22 f1=49.8015 f2=6.83093, Z=50 E=7193.72 f1=49.8529 f2=6.65333, Z=50 E=7310.07 f1=49.8993 f2=6.47986, Z=50 E=7428.31 f1=49.941 f2=6.31012, Z=50 E=7548.45 f1=49.9782 f2=6.14438, Z=50 E=7670.54 f1=50.0113 f2=5.98237, Z=50 E=7794.61 f1=50.0404 f2=5.82412, Z=50 E=7920.68 f1=50.0658 f2=5.66971, Z=50 E=8048.79 f1=50.0879 f2=5.51872, Z=50 E=8178.98 f1=50.1065 f2=5.37147, Z=50 E=8311.26 f1=50.1223 f2=5.22782, Z=50 E=8445.69 f1=50.1352 f2=5.08748, Z=50 E=8582.29 f1=50.1453 f2=4.9507, Z=50 E=8721.11 f1=50.153 f2=4.81718, Z=50 E=8862.16 f1=50.1582 f2=4.68692, Z=50 E=9005.5 f1=50.1612 f2=4.56, Z=50 E=9151.16 f1=50.1622 f2=4.43604, Z=50 E=9299.17 f1=50.1611 f2=4.31531, Z=50 E=9449.58 f1=50.1583 f2=4.19766, Z=50 E=9602.42 f1=50.1537 f2=4.0829, Z=50 E=9757.73 f1=50.1474 f2=3.97106, Z=50 E=9915.55 f1=50.1396 f2=3.86235, Z=50 E=10075.9 f1=50.1306 f2=3.75621, Z=50 E=10238.9 f1=50.1202 f2=3.65281, Z=50 E=10404.5 f1=50.1086 f2=3.55209, Z=50 E=10572.8 f1=50.0957 f2=3.45399, Z=50 E=10743.8 f1=50.0818 f2=3.35846, Z=50 E=10917.6 f1=50.0669 f2=3.26544, Z=50 E=11094.2 f1=50.051 f2=3.17486, Z=50 E=11273.6 f1=50.0342 f2=3.08668, Z=50 E=11455.9 f1=50.0167 f2=3.00085, Z=50 E=11641.2 f1=49.9983 f2=2.9173, Z=50 E=11829.5 f1=49.9792 f2=2.83598, Z=50 E=12020.8 f1=49.9595 f2=2.75684, Z=50 E=12215.3 f1=49.9391 f2=2.67984, Z=50 E=12412.8 f1=49.9182 f2=2.60491, Z=50 E=12613.6 f1=49.8967 f2=2.53201, Z=50 E=12817.6 f1=49.8746 f2=2.46109, Z=50 E=13025.0 f1=49.8522 f2=2.3921, Z=50 E=13235.6 f1=49.8292 f2=2.32499, Z=50 E=13449.7 f1=49.8058 f2=2.25973, Z=50 E=13667.2 f1=49.7821 f2=2.19625, Z=50 E=13888.3 f1=49.7579 f2=2.13452, Z=50 E=14112.9 f1=49.7334 f2=2.07449, Z=50 E=14341.2 f1=49.7086 f2=2.01612, Z=50 E=14573.1 f1=49.6834 f2=1.95937, Z=50 E=14808.9 f1=49.6579 f2=1.9042, Z=50 E=15048.4 f1=49.632 f2=1.85056, Z=50 E=15291.8 f1=49.6059 f2=1.79842, Z=50 E=15539.1 f1=49.5794 f2=1.74774, Z=50 E=15790.4 f1=49.5527 f2=1.69848, Z=50 E=16045.8 f1=49.5256 f2=1.6506, Z=50 E=16305.4 f1=49.4982 f2=1.60406, Z=50 E=16569.1 f1=49.4704 f2=1.55884, Z=50 E=16837.1 f1=49.4423 f2=1.51489, Z=50 E=17109.4 f1=49.4138 f2=1.47218, Z=50 E=17386.1 f1=49.385 f2=1.43069, Z=50 E=17667.4 f1=49.3557 f2=1.39037, Z=50 E=17953.1 f1=49.3259 f2=1.35119, Z=50 E=18243.5 f1=49.2957 f2=1.31313, Z=50 E=18538.6 f1=49.2649 f2=1.27616, Z=50 E=18838.4 f1=49.2335 f2=1.24024, Z=50 E=19143.1 f1=49.2015 f2=1.20535, Z=50 E=19452.7 f1=49.1688 f2=1.17145, Z=50 E=19767.4 f1=49.1353 f2=1.13853, Z=50 E=20087.1 f1=49.1009 f2=1.10655, Z=50 E=20412.0 f1=49.0654 f2=1.07549, Z=50 E=20742.1 f1=49.0289 f2=1.04532, Z=50 E=21077.6 f1=48.9911 f2=1.01602, Z=50 E=21418.5 f1=48.952 f2=0.987571, Z=50 E=21765.0 f1=48.9111 f2=0.959938, Z=50 E=22117.0 f1=48.8685 f2=0.933104, Z=50 E=22474.7 f1=48.8237 f2=0.907047, Z=50 E=22838.2 f1=48.7764 f2=0.881743, Z=50 E=23207.6 f1=48.7263 f2=0.857173, Z=50 E=23583.0 f1=48.6728 f2=0.833315, Z=50 E=23964.4 f1=48.6153 f2=0.81015, Z=50 E=24352.0 f1=48.5531 f2=0.787658, Z=50 E=24745.9 f1=48.485 f2=0.76582, Z=50 E=25146.2 f1=48.4098 f2=0.744618, Z=50 E=25552.9 f1=48.3257 f2=0.724034, Z=50 E=25966.2 f1=48.23 f2=0.70405, Z=50 E=26386.1 f1=48.1191 f2=0.684648, Z=50 E=26812.9 f1=47.9872 f2=0.665814, Z=50 E=27246.6 f1=47.8249 f2=0.647529, Z=50 E=27687.3 f1=47.615 f2=0.62978, Z=50 E=28135.1 f1=47.3212 f2=0.612549, Z=50 E=28590.2 f1=46.8413 f2=0.595823, Z=50 E=29052.6 f1=45.5641 f2=0.579586, Z=50 E=29200.0 f1=38.6877 f2=0.574557, Z=50 E=29200.2 f1=38.6878 f2=3.54851, Z=50 E=29522.5 f1=46.4003 f2=3.48783, Z=50 E=30000.0 f1=47.3136 f2=3.40099],\n",
       " \tscreening_constants=[<ScreeningConstant(Z=  50, n=  1, s=s, screening=    1.0080)>, <ScreeningConstant(Z=  50, n=  2, s=p, screening=    4.1146)>, <ScreeningConstant(Z=  50, n=  2, s=s, screening=   13.1406)>, <ScreeningConstant(Z=  50, n=  3, s=d, screening=   14.2583)>, <ScreeningConstant(Z=  50, n=  3, s=p, screening=   17.6468)>, <ScreeningConstant(Z=  50, n=  3, s=s, screening=   17.5802)>, <ScreeningConstant(Z=  50, n=  4, s=d, screening=   32.0300)>, <ScreeningConstant(Z=  50, n=  4, s=p, screening=   28.7348)>, <ScreeningConstant(Z=  50, n=  4, s=s, screening=   27.3420)>, <ScreeningConstant(Z=  50, n=  5, s=p, screening=   40.8980)>, <ScreeningConstant(Z=  50, n=  5, s=s, screening=   39.3715)>],\n",
       " \tsources='Principally found in the ore cassiterite(SnO2) and stannine (Cu2FeSnS4).',\n",
       " \tspecific_heat_capacity=0.227,\n",
       " \tsymbol='Sn',\n",
       " \tthermal_conductivity=66.8,\n",
       " \tuses='Used as a coating for steel cans since it is nontoxic and noncorrosive. Also in solder (33%Sn:67%Pb), bronze (20%Sn:80%Cu), and pewter. Stannous fluoride (SnF2), a compound of tin and fluorine is used in some toothpaste.',\n",
       " \tvdw_radius=217.0,\n",
       " \tvdw_radius_alvarez=242.0,\n",
       " \tvdw_radius_batsanov=225.0,\n",
       " \tvdw_radius_bondi=217.0,\n",
       " \tvdw_radius_dreiding=447.0,\n",
       " \tvdw_radius_mm3=259.0,\n",
       " \tvdw_radius_rt=None,\n",
       " \tvdw_radius_truhlar=None,\n",
       " \tvdw_radius_uff=439.19999999999993,\n",
       ")"
      ]
     },
     "execution_count": 18,
     "metadata": {},
     "output_type": "execute_result"
    }
   ],
   "source": [
    "element('Sn')"
   ]
  },
  {
   "cell_type": "markdown",
   "metadata": {
    "id": "XgWKfmYgn7v1"
   },
   "source": [
    "## Add atomic radius into the feature set"
   ]
  },
  {
   "cell_type": "code",
   "execution_count": 19,
   "metadata": {
    "colab": {
     "base_uri": "https://localhost:8080/"
    },
    "id": "-cavBN3dX_XB",
    "outputId": "0570145f-b7ca-45e2-b6af-c5b2c9d64079"
   },
   "outputs": [
    {
     "name": "stdout",
     "output_type": "stream",
     "text": [
      "SnP [1, 145.0, 'Sn', 1, 100.0, 'P']\n"
     ]
    }
   ],
   "source": [
    "features_list = []\n",
    "target_list = []\n",
    "\n",
    "for compound in collect:\n",
    "    features = []\n",
    "    elem_list = list(compound['structure'][0]['element'].keys())\n",
    "    if compound['formula'][0:len(elem_list)] != elem_list[0]:\n",
    "        elem_list_new = [elem_list[1], elem_list[0]]\n",
    "        elem_list = elem_list_new\n",
    "\n",
    "    for name in elem_list:\n",
    "        count = compound['structure'][0]['element'][name]\n",
    "        features.append(count)\n",
    "        features.append(element(name).atomic_radius)\n",
    "        features.append(name)\n",
    "    print(compound['formula'], features)\n",
    "    break"
   ]
  },
  {
   "cell_type": "code",
   "execution_count": 20,
   "metadata": {
    "colab": {
     "base_uri": "https://localhost:8080/"
    },
    "id": "bMk5fjGQgdCF",
    "outputId": "b41493f3-3b13-46a8-d5ab-49547456b7fe"
   },
   "outputs": [
    {
     "data": {
      "text/plain": [
       "145.0"
      ]
     },
     "execution_count": 20,
     "metadata": {},
     "output_type": "execute_result"
    }
   ],
   "source": [
    "name\n",
    "element(\"Sn\").atomic_radius"
   ]
  },
  {
   "cell_type": "markdown",
   "metadata": {
    "id": "Z3EgMyLmokcw"
   },
   "source": [
    "## Generate 11 features for all the compounds"
   ]
  },
  {
   "cell_type": "code",
   "execution_count": 21,
   "metadata": {
    "colab": {
     "base_uri": "https://localhost:8080/",
     "height": 462
    },
    "id": "seiZTyhbqVc6",
    "outputId": "1c40fa05-cbdf-433b-8d8e-b633c96277a7"
   },
   "outputs": [
    {
     "name": "stdout",
     "output_type": "stream",
     "text": [
      "1 ['Sn', 'P']\n",
      "2 ['Ba', 'Ir']\n",
      "3 ['Cr', 'P']\n",
      "4 ['Fe', 'Na']\n",
      "5 ['Fe', 'Na']\n",
      "6 ['Sn', 'P']\n",
      "7 ['Cr', 'Nb']\n",
      "8 ['Fe', 'Pb']\n",
      "9 ['Ag', 'P']\n",
      "10 ['Al', 'Cu']\n",
      "11 ['Ce', 'Ga']\n",
      "12 ['Ni', 'As']\n",
      "13 ['Mn', 'W']\n",
      "14 ['As', 'P']\n",
      "15 ['Ac', 'Sb']\n",
      "16 ['Cr', 'Nb']\n",
      "17 ['Cr', 'Nb']\n",
      "18 ['Fe', 'Pd']\n",
      "19 ['As', 'P']\n",
      "20 ['Fe', 'Pd']\n",
      "21 ['Ag', 'Ta']\n",
      "22 ['Fe', 'Th']\n",
      "23 ['Ac', 'Pa']\n",
      "24 ['Fe', 'Pb']\n",
      "25 ['I', 'U']\n",
      "26 ['Cu', 'Ni']\n",
      "27 ['Pa', 'Ge']\n",
      "28 ['Al', 'Cs']\n",
      "29 ['Au', 'Pb']\n",
      "30 ['Al', 'Cs']\n",
      "31 ['Ag', 'As']\n",
      "32 ['Rb', 'U']\n",
      "33 ['Au', 'Sr']\n",
      "34 ['Fe', 'V']\n",
      "35 ['Rh', 'Ge']\n",
      "36 ['Pt', 'Yb']\n",
      "37 ['Fe', 'Bi']\n",
      "38 ['Cr', 'Ga']\n",
      "39 ['Fe', 'Pb']\n",
      "40 ['Ac', 'Yb']\n",
      "41 ['Fe', 'Pb']\n",
      "42 ['Al', 'Mo']\n",
      "43 ['Ba', 'Ir']\n",
      "44 ['Ir', 'Pd']\n",
      "45 ['W', 'P']\n",
      "46 ['Ag', 'Ta']\n",
      "47 ['In', 'V']\n",
      "48 ['Na', 'Pt']\n",
      "49 ['Pb', 'V']\n",
      "50 ['In', 'Pt']\n",
      "51 ['Cr', 'P']\n",
      "52 ['Mo', 'P']\n",
      "53 ['Np', 'Sb']\n",
      "54 ['Na', 'Pt']\n",
      "55 ['Mo', 'P']\n",
      "56 ['Ca', 'Ni']\n",
      "57 ['Eu', 'U']\n",
      "58 ['In', 'Nb']\n",
      "59 ['Pb', 'Sr']\n",
      "60 ['Pb', 'Ge']\n",
      "61 ['Ca', 'Ge']\n",
      "62 ['Sr', 'I']\n",
      "63 ['Au', 'U']\n",
      "64 ['Al', 'K']\n",
      "65 ['Sb', 'W']\n",
      "66 ['Ag', 'P']\n",
      "67 ['Cr', 'Cu']\n",
      "68 ['Cr', 'Eu']\n",
      "69 ['Pb', 'V']\n",
      "70 ['As', 'Br']\n",
      "71 ['Cr', 'Pd']\n",
      "72 ['Na', 'Pb']\n",
      "73 ['Cr', 'P']\n",
      "74 ['Ac', 'Rb']\n",
      "75 ['Ba', 'Ir']\n",
      "76 ['In', 'Sb']\n",
      "77 ['Cs', 'Fe']\n",
      "78 ['Ga', 'P']\n",
      "79 ['Ni', 'Ta']\n",
      "80 ['Ir', 'As']\n",
      "81 ['Au', 'Yb']\n",
      "82 ['Au', 'Pa']\n",
      "83 ['Au', 'V']\n",
      "84 ['Al', 'Ca']\n",
      "85 ['Ag', 'Ta']\n",
      "86 ['Cu', 'Fe']\n",
      "87 ['In', 'Ni']\n",
      "88 ['Fe', 'Mo']\n",
      "89 ['Sb', 'I']\n",
      "90 ['Mo', 'P']\n",
      "91 ['Ni', 'Ta']\n",
      "92 ['K', 'As']\n",
      "93 ['Ni', 'Ta']\n",
      "94 ['Mo', 'P']\n",
      "95 ['Ca', 'Ir']\n",
      "96 ['Cr', 'Nb']\n",
      "97 ['Ac', 'Nb']\n",
      "98 ['Fe', 'Pb']\n",
      "99 ['Ir', 'Ni']\n",
      "100 ['Mn', 'Ni']\n",
      "101 ['Ni', 'Sb']\n",
      "102 ['Mo', 'Nb']\n",
      "103 ['Ba', 'Ir']\n",
      "104 ['Ir', 'P']\n",
      "105 ['As', 'P']\n",
      "106 ['Ag', 'Ta']\n",
      "107 ['Ac', 'Sm']\n",
      "108 ['Ga', 'P']\n",
      "109 ['In', 'Np']\n",
      "110 ['Fe', 'Pd']\n",
      "111 ['Pt', 'Sb']\n",
      "112 ['Fe', 'Pd']\n",
      "113 ['Cu', 'Sb']\n",
      "114 ['Mn', 'W']\n",
      "115 ['Sb', 'P']\n",
      "116 ['Ga', 'P']\n",
      "117 ['Fe', 'Mo']\n",
      "118 ['In', 'Ir']\n",
      "119 ['Th', 'I']\n",
      "120 ['Fe', 'Pa']\n",
      "121 ['Eu', 'Ga']\n",
      "122 ['Fe', 'Br']\n",
      "123 ['Ni', 'Bi']\n",
      "124 ['In', 'Rh']\n",
      "125 ['In', 'Ni']\n",
      "126 ['Al', 'Mn']\n",
      "127 ['Ir', 'Nb']\n",
      "128 ['Ca', 'Mn']\n",
      "129 ['Pt', 'Bi']\n",
      "130 ['Eu', 'I']\n",
      "131 ['Al', 'Np']\n",
      "132 ['Cu', 'In']\n",
      "133 ['Ca', 'Nb']\n",
      "134 ['Cs', 'Cu']\n",
      "135 ['Pt', 'Rh']\n",
      "136 ['Ca', 'W']\n",
      "137 ['Al', 'Th']\n",
      "138 ['Au', 'K']\n",
      "139 ['Ni', 'Ta']\n",
      "140 ['Au', 'Ni']\n",
      "141 ['Ba', 'In']\n",
      "142 ['In', 'Mo']\n",
      "143 ['Ga', 'P']\n",
      "144 ['Al', 'Mn']\n",
      "145 ['Ba', 'Ge']\n",
      "146 ['Cu', 'W']\n",
      "147 ['Ir', 'I']\n",
      "148 ['Au', 'Sb']\n",
      "149 ['W', 'V']\n",
      "150 ['Al', 'As']\n",
      "151 ['Cr', 'Th']\n",
      "152 ['Mn', 'Sb']\n",
      "153 ['Ag', 'Nb']\n",
      "154 ['Na', 'Br']\n",
      "155 ['K', 'P']\n",
      "156 ['Ba', 'Th']\n",
      "157 ['Al', 'Pb']\n",
      "158 ['Ag', 'Nb']\n",
      "159 ['Ba', 'U']\n",
      "160 ['Pt', 'Sr']\n",
      "161 ['Ga', 'In']\n",
      "162 ['Yb', 'Br']\n",
      "163 ['Pt', 'W']\n",
      "164 ['Cs', 'As']\n",
      "165 ['In', 'Sn']\n",
      "166 ['Au', 'V']\n"
     ]
    },
    {
     "name": "stderr",
     "output_type": "stream",
     "text": [
      "Exception ignored in: <function _collection_gced at 0x11a032e50>\n",
      "Traceback (most recent call last):\n",
      "  File \"/Users/suhyunyoo/Research/syoo_research/syoo_personal/lib/python3.9/site-packages/sqlalchemy/event/registry.py\", line 103, in _collection_gced\n",
      "    def _collection_gced(ref: weakref.ref[Any]) -> None:\n",
      "KeyboardInterrupt: \n"
     ]
    },
    {
     "ename": "KeyboardInterrupt",
     "evalue": "",
     "output_type": "error",
     "traceback": [
      "\u001b[0;31m---------------------------------------------------------------------------\u001b[0m",
      "\u001b[0;31mKeyboardInterrupt\u001b[0m                         Traceback (most recent call last)",
      "Cell \u001b[0;32mIn[21], line 39\u001b[0m\n\u001b[1;32m     37\u001b[0m     count \u001b[38;5;241m=\u001b[39m compound[\u001b[38;5;124m'\u001b[39m\u001b[38;5;124mstructure\u001b[39m\u001b[38;5;124m'\u001b[39m][\u001b[38;5;241m0\u001b[39m][\u001b[38;5;124m'\u001b[39m\u001b[38;5;124melement\u001b[39m\u001b[38;5;124m'\u001b[39m][name]\n\u001b[1;32m     38\u001b[0m     features\u001b[38;5;241m.\u001b[39mappend(count)\n\u001b[0;32m---> 39\u001b[0m     \u001b[38;5;28;01mfor\u001b[39;00m fn \u001b[38;5;129;01min\u001b[39;00m feature_name: features\u001b[38;5;241m.\u001b[39mappend(\u001b[38;5;28meval\u001b[39m((\u001b[38;5;124m'\u001b[39m\u001b[38;5;124melement(\u001b[39m\u001b[38;5;124m\"\u001b[39m\u001b[38;5;132;01m%s\u001b[39;00m\u001b[38;5;124m\"\u001b[39m\u001b[38;5;124m).\u001b[39m\u001b[38;5;124m'\u001b[39m\u001b[38;5;241m%\u001b[39mname)\u001b[38;5;241m+\u001b[39mfn))\n\u001b[1;32m     41\u001b[0m features \u001b[38;5;241m=\u001b[39m [\u001b[38;5;241m0\u001b[39m \u001b[38;5;28;01mif\u001b[39;00m f \u001b[38;5;129;01mis\u001b[39;00m \u001b[38;5;28;01mNone\u001b[39;00m \u001b[38;5;28;01melse\u001b[39;00m f \u001b[38;5;28;01mfor\u001b[39;00m f \u001b[38;5;129;01min\u001b[39;00m features]\n\u001b[1;32m     42\u001b[0m line \u001b[38;5;241m=\u001b[39m \u001b[38;5;124m'\u001b[39m\u001b[38;5;124m,\u001b[39m\u001b[38;5;124m'\u001b[39m\u001b[38;5;241m.\u001b[39mjoin(\u001b[38;5;28mmap\u001b[39m(\u001b[38;5;28mstr\u001b[39m,features)) \u001b[38;5;241m+\u001b[39m \u001b[38;5;124m'\u001b[39m\u001b[38;5;130;01m\\n\u001b[39;00m\u001b[38;5;124m'\u001b[39m\n",
      "File \u001b[0;32m<string>:1\u001b[0m\n",
      "File \u001b[0;32m~/Research/syoo_research/syoo_personal/lib/python3.9/site-packages/mendeleev/mendeleev.py:64\u001b[0m, in \u001b[0;36melement\u001b[0;34m(ids)\u001b[0m\n\u001b[1;32m     62\u001b[0m     \u001b[38;5;28;01mreturn\u001b[39;00m [_get_element(i) \u001b[38;5;28;01mfor\u001b[39;00m i \u001b[38;5;129;01min\u001b[39;00m ids]\n\u001b[1;32m     63\u001b[0m \u001b[38;5;28;01melif\u001b[39;00m \u001b[38;5;28misinstance\u001b[39m(ids, (\u001b[38;5;28mstr\u001b[39m, \u001b[38;5;28mint\u001b[39m)):\n\u001b[0;32m---> 64\u001b[0m     \u001b[38;5;28;01mreturn\u001b[39;00m \u001b[43m_get_element\u001b[49m\u001b[43m(\u001b[49m\u001b[43mids\u001b[49m\u001b[43m)\u001b[49m\n\u001b[1;32m     65\u001b[0m \u001b[38;5;28;01melse\u001b[39;00m:\n\u001b[1;32m     66\u001b[0m     \u001b[38;5;28;01mraise\u001b[39;00m \u001b[38;5;167;01mValueError\u001b[39;00m(\n\u001b[1;32m     67\u001b[0m         \u001b[38;5;124m\"\u001b[39m\u001b[38;5;124mExpected a <list>, <tuple>, <str> or <int>, got: \u001b[39m\u001b[38;5;132;01m{0:s}\u001b[39;00m\u001b[38;5;124m\"\u001b[39m\u001b[38;5;241m.\u001b[39mformat(\u001b[38;5;28mtype\u001b[39m(ids))\n\u001b[1;32m     68\u001b[0m     )\n",
      "File \u001b[0;32m~/Research/syoo_research/syoo_personal/lib/python3.9/site-packages/mendeleev/mendeleev.py:82\u001b[0m, in \u001b[0;36m_get_element\u001b[0;34m(ids)\u001b[0m\n\u001b[1;32m     80\u001b[0m \u001b[38;5;28;01mif\u001b[39;00m \u001b[38;5;28misinstance\u001b[39m(ids, \u001b[38;5;28mstr\u001b[39m):\n\u001b[1;32m     81\u001b[0m     \u001b[38;5;28;01mif\u001b[39;00m \u001b[38;5;28mlen\u001b[39m(ids) \u001b[38;5;241m<\u001b[39m\u001b[38;5;241m=\u001b[39m \u001b[38;5;241m3\u001b[39m \u001b[38;5;129;01mand\u001b[39;00m ids\u001b[38;5;241m.\u001b[39mlower() \u001b[38;5;241m!=\u001b[39m \u001b[38;5;124m\"\u001b[39m\u001b[38;5;124mtin\u001b[39m\u001b[38;5;124m\"\u001b[39m:\n\u001b[0;32m---> 82\u001b[0m         \u001b[38;5;28;01mreturn\u001b[39;00m \u001b[43msession\u001b[49m\u001b[38;5;241;43m.\u001b[39;49m\u001b[43mquery\u001b[49m\u001b[43m(\u001b[49m\u001b[43mElement\u001b[49m\u001b[43m)\u001b[49m\u001b[38;5;241;43m.\u001b[39;49m\u001b[43mfilter\u001b[49m\u001b[43m(\u001b[49m\u001b[43mElement\u001b[49m\u001b[38;5;241;43m.\u001b[39;49m\u001b[43msymbol\u001b[49m\u001b[43m \u001b[49m\u001b[38;5;241;43m==\u001b[39;49m\u001b[43m \u001b[49m\u001b[38;5;28;43mstr\u001b[39;49m\u001b[43m(\u001b[49m\u001b[43mids\u001b[49m\u001b[43m)\u001b[49m\u001b[43m)\u001b[49m\u001b[38;5;241;43m.\u001b[39;49m\u001b[43mone\u001b[49m\u001b[43m(\u001b[49m\u001b[43m)\u001b[49m\n\u001b[1;32m     83\u001b[0m     \u001b[38;5;28;01melse\u001b[39;00m:\n\u001b[1;32m     84\u001b[0m         \u001b[38;5;28;01mreturn\u001b[39;00m session\u001b[38;5;241m.\u001b[39mquery(Element)\u001b[38;5;241m.\u001b[39mfilter(Element\u001b[38;5;241m.\u001b[39mname \u001b[38;5;241m==\u001b[39m \u001b[38;5;28mstr\u001b[39m(ids))\u001b[38;5;241m.\u001b[39mone()\n",
      "File \u001b[0;32m~/Research/syoo_research/syoo_personal/lib/python3.9/site-packages/sqlalchemy/orm/query.py:2778\u001b[0m, in \u001b[0;36mQuery.one\u001b[0;34m(self)\u001b[0m\n\u001b[1;32m   2756\u001b[0m \u001b[38;5;28;01mdef\u001b[39;00m \u001b[38;5;21mone\u001b[39m(\u001b[38;5;28mself\u001b[39m) \u001b[38;5;241m-\u001b[39m\u001b[38;5;241m>\u001b[39m _T:\n\u001b[1;32m   2757\u001b[0m \u001b[38;5;250m    \u001b[39m\u001b[38;5;124;03m\"\"\"Return exactly one result or raise an exception.\u001b[39;00m\n\u001b[1;32m   2758\u001b[0m \n\u001b[1;32m   2759\u001b[0m \u001b[38;5;124;03m    Raises ``sqlalchemy.orm.exc.NoResultFound`` if the query selects\u001b[39;00m\n\u001b[0;32m   (...)\u001b[0m\n\u001b[1;32m   2776\u001b[0m \n\u001b[1;32m   2777\u001b[0m \u001b[38;5;124;03m    \"\"\"\u001b[39;00m\n\u001b[0;32m-> 2778\u001b[0m     \u001b[38;5;28;01mreturn\u001b[39;00m \u001b[38;5;28;43mself\u001b[39;49m\u001b[38;5;241;43m.\u001b[39;49m\u001b[43m_iter\u001b[49m\u001b[43m(\u001b[49m\u001b[43m)\u001b[49m\u001b[38;5;241;43m.\u001b[39;49m\u001b[43mone\u001b[49m\u001b[43m(\u001b[49m\u001b[43m)\u001b[49m\n",
      "File \u001b[0;32m~/Research/syoo_research/syoo_personal/lib/python3.9/site-packages/sqlalchemy/engine/result.py:1810\u001b[0m, in \u001b[0;36mScalarResult.one\u001b[0;34m(self)\u001b[0m\n\u001b[1;32m   1802\u001b[0m \u001b[38;5;28;01mdef\u001b[39;00m \u001b[38;5;21mone\u001b[39m(\u001b[38;5;28mself\u001b[39m) \u001b[38;5;241m-\u001b[39m\u001b[38;5;241m>\u001b[39m _R:\n\u001b[1;32m   1803\u001b[0m \u001b[38;5;250m    \u001b[39m\u001b[38;5;124;03m\"\"\"Return exactly one object or raise an exception.\u001b[39;00m\n\u001b[1;32m   1804\u001b[0m \n\u001b[1;32m   1805\u001b[0m \u001b[38;5;124;03m    Equivalent to :meth:`_engine.Result.one` except that\u001b[39;00m\n\u001b[0;32m   (...)\u001b[0m\n\u001b[1;32m   1808\u001b[0m \n\u001b[1;32m   1809\u001b[0m \u001b[38;5;124;03m    \"\"\"\u001b[39;00m\n\u001b[0;32m-> 1810\u001b[0m     \u001b[38;5;28;01mreturn\u001b[39;00m \u001b[38;5;28;43mself\u001b[39;49m\u001b[38;5;241;43m.\u001b[39;49m\u001b[43m_only_one_row\u001b[49m\u001b[43m(\u001b[49m\n\u001b[1;32m   1811\u001b[0m \u001b[43m        \u001b[49m\u001b[43mraise_for_second_row\u001b[49m\u001b[38;5;241;43m=\u001b[39;49m\u001b[38;5;28;43;01mTrue\u001b[39;49;00m\u001b[43m,\u001b[49m\u001b[43m \u001b[49m\u001b[43mraise_for_none\u001b[49m\u001b[38;5;241;43m=\u001b[39;49m\u001b[38;5;28;43;01mTrue\u001b[39;49;00m\u001b[43m,\u001b[49m\u001b[43m \u001b[49m\u001b[43mscalar\u001b[49m\u001b[38;5;241;43m=\u001b[39;49m\u001b[38;5;28;43;01mFalse\u001b[39;49;00m\n\u001b[1;32m   1812\u001b[0m \u001b[43m    \u001b[49m\u001b[43m)\u001b[49m\n",
      "File \u001b[0;32m~/Research/syoo_research/syoo_personal/lib/python3.9/site-packages/sqlalchemy/engine/result.py:749\u001b[0m, in \u001b[0;36mResultInternal._only_one_row\u001b[0;34m(self, raise_for_second_row, raise_for_none, scalar)\u001b[0m\n\u001b[1;32m    741\u001b[0m \u001b[38;5;28;01mdef\u001b[39;00m \u001b[38;5;21m_only_one_row\u001b[39m(\n\u001b[1;32m    742\u001b[0m     \u001b[38;5;28mself\u001b[39m,\n\u001b[1;32m    743\u001b[0m     raise_for_second_row: \u001b[38;5;28mbool\u001b[39m,\n\u001b[1;32m    744\u001b[0m     raise_for_none: \u001b[38;5;28mbool\u001b[39m,\n\u001b[1;32m    745\u001b[0m     scalar: \u001b[38;5;28mbool\u001b[39m,\n\u001b[1;32m    746\u001b[0m ) \u001b[38;5;241m-\u001b[39m\u001b[38;5;241m>\u001b[39m Optional[_R]:\n\u001b[1;32m    747\u001b[0m     onerow \u001b[38;5;241m=\u001b[39m \u001b[38;5;28mself\u001b[39m\u001b[38;5;241m.\u001b[39m_fetchone_impl\n\u001b[0;32m--> 749\u001b[0m     row: Optional[_InterimRowType[Any]] \u001b[38;5;241m=\u001b[39m \u001b[43monerow\u001b[49m\u001b[43m(\u001b[49m\u001b[43mhard_close\u001b[49m\u001b[38;5;241;43m=\u001b[39;49m\u001b[38;5;28;43;01mTrue\u001b[39;49;00m\u001b[43m)\u001b[49m\n\u001b[1;32m    750\u001b[0m     \u001b[38;5;28;01mif\u001b[39;00m row \u001b[38;5;129;01mis\u001b[39;00m \u001b[38;5;28;01mNone\u001b[39;00m:\n\u001b[1;32m    751\u001b[0m         \u001b[38;5;28;01mif\u001b[39;00m raise_for_none:\n",
      "File \u001b[0;32m~/Research/syoo_research/syoo_personal/lib/python3.9/site-packages/sqlalchemy/engine/result.py:1673\u001b[0m, in \u001b[0;36mFilterResult._fetchone_impl\u001b[0;34m(self, hard_close)\u001b[0m\n\u001b[1;32m   1670\u001b[0m \u001b[38;5;28;01mdef\u001b[39;00m \u001b[38;5;21m_fetchone_impl\u001b[39m(\n\u001b[1;32m   1671\u001b[0m     \u001b[38;5;28mself\u001b[39m, hard_close: \u001b[38;5;28mbool\u001b[39m \u001b[38;5;241m=\u001b[39m \u001b[38;5;28;01mFalse\u001b[39;00m\n\u001b[1;32m   1672\u001b[0m ) \u001b[38;5;241m-\u001b[39m\u001b[38;5;241m>\u001b[39m Optional[_InterimRowType[Row[Any]]]:\n\u001b[0;32m-> 1673\u001b[0m     \u001b[38;5;28;01mreturn\u001b[39;00m \u001b[38;5;28;43mself\u001b[39;49m\u001b[38;5;241;43m.\u001b[39;49m\u001b[43m_real_result\u001b[49m\u001b[38;5;241;43m.\u001b[39;49m\u001b[43m_fetchone_impl\u001b[49m\u001b[43m(\u001b[49m\u001b[43mhard_close\u001b[49m\u001b[38;5;241;43m=\u001b[39;49m\u001b[43mhard_close\u001b[49m\u001b[43m)\u001b[49m\n",
      "File \u001b[0;32m~/Research/syoo_research/syoo_personal/lib/python3.9/site-packages/sqlalchemy/engine/result.py:2259\u001b[0m, in \u001b[0;36mIteratorResult._fetchone_impl\u001b[0;34m(self, hard_close)\u001b[0m\n\u001b[1;32m   2256\u001b[0m \u001b[38;5;28;01mif\u001b[39;00m \u001b[38;5;28mself\u001b[39m\u001b[38;5;241m.\u001b[39m_hard_closed:\n\u001b[1;32m   2257\u001b[0m     \u001b[38;5;28mself\u001b[39m\u001b[38;5;241m.\u001b[39m_raise_hard_closed()\n\u001b[0;32m-> 2259\u001b[0m row \u001b[38;5;241m=\u001b[39m \u001b[38;5;28;43mnext\u001b[39;49m\u001b[43m(\u001b[49m\u001b[38;5;28;43mself\u001b[39;49m\u001b[38;5;241;43m.\u001b[39;49m\u001b[43miterator\u001b[49m\u001b[43m,\u001b[49m\u001b[43m \u001b[49m\u001b[43m_NO_ROW\u001b[49m\u001b[43m)\u001b[49m\n\u001b[1;32m   2260\u001b[0m \u001b[38;5;28;01mif\u001b[39;00m row \u001b[38;5;129;01mis\u001b[39;00m _NO_ROW:\n\u001b[1;32m   2261\u001b[0m     \u001b[38;5;28mself\u001b[39m\u001b[38;5;241m.\u001b[39m_soft_close(hard\u001b[38;5;241m=\u001b[39mhard_close)\n",
      "File \u001b[0;32m~/Research/syoo_research/syoo_personal/lib/python3.9/site-packages/sqlalchemy/orm/loading.py:223\u001b[0m, in \u001b[0;36minstances.<locals>.chunks\u001b[0;34m(size)\u001b[0m\n\u001b[1;32m    221\u001b[0m \u001b[38;5;28;01mif\u001b[39;00m single_entity:\n\u001b[1;32m    222\u001b[0m     proc \u001b[38;5;241m=\u001b[39m process[\u001b[38;5;241m0\u001b[39m]\n\u001b[0;32m--> 223\u001b[0m     rows \u001b[38;5;241m=\u001b[39m [proc(row) \u001b[38;5;28;01mfor\u001b[39;00m row \u001b[38;5;129;01min\u001b[39;00m fetch]\n\u001b[1;32m    224\u001b[0m \u001b[38;5;28;01melse\u001b[39;00m:\n\u001b[1;32m    225\u001b[0m     rows \u001b[38;5;241m=\u001b[39m [\n\u001b[1;32m    226\u001b[0m         \u001b[38;5;28mtuple\u001b[39m([proc(row) \u001b[38;5;28;01mfor\u001b[39;00m proc \u001b[38;5;129;01min\u001b[39;00m process]) \u001b[38;5;28;01mfor\u001b[39;00m row \u001b[38;5;129;01min\u001b[39;00m fetch\n\u001b[1;32m    227\u001b[0m     ]\n",
      "File \u001b[0;32m~/Research/syoo_research/syoo_personal/lib/python3.9/site-packages/sqlalchemy/orm/loading.py:223\u001b[0m, in \u001b[0;36m<listcomp>\u001b[0;34m(.0)\u001b[0m\n\u001b[1;32m    221\u001b[0m \u001b[38;5;28;01mif\u001b[39;00m single_entity:\n\u001b[1;32m    222\u001b[0m     proc \u001b[38;5;241m=\u001b[39m process[\u001b[38;5;241m0\u001b[39m]\n\u001b[0;32m--> 223\u001b[0m     rows \u001b[38;5;241m=\u001b[39m [\u001b[43mproc\u001b[49m\u001b[43m(\u001b[49m\u001b[43mrow\u001b[49m\u001b[43m)\u001b[49m \u001b[38;5;28;01mfor\u001b[39;00m row \u001b[38;5;129;01min\u001b[39;00m fetch]\n\u001b[1;32m    224\u001b[0m \u001b[38;5;28;01melse\u001b[39;00m:\n\u001b[1;32m    225\u001b[0m     rows \u001b[38;5;241m=\u001b[39m [\n\u001b[1;32m    226\u001b[0m         \u001b[38;5;28mtuple\u001b[39m([proc(row) \u001b[38;5;28;01mfor\u001b[39;00m proc \u001b[38;5;129;01min\u001b[39;00m process]) \u001b[38;5;28;01mfor\u001b[39;00m row \u001b[38;5;129;01min\u001b[39;00m fetch\n\u001b[1;32m    227\u001b[0m     ]\n",
      "File \u001b[0;32m~/Research/syoo_research/syoo_personal/lib/python3.9/site-packages/sqlalchemy/orm/loading.py:1145\u001b[0m, in \u001b[0;36m_instance_processor.<locals>._instance\u001b[0;34m(row)\u001b[0m\n\u001b[1;32m   1142\u001b[0m     state\u001b[38;5;241m.\u001b[39mload_options \u001b[38;5;241m=\u001b[39m propagated_loader_options\n\u001b[1;32m   1143\u001b[0m     state\u001b[38;5;241m.\u001b[39mload_path \u001b[38;5;241m=\u001b[39m load_path\n\u001b[0;32m-> 1145\u001b[0m \u001b[43m_populate_full\u001b[49m\u001b[43m(\u001b[49m\n\u001b[1;32m   1146\u001b[0m \u001b[43m    \u001b[49m\u001b[43mcontext\u001b[49m\u001b[43m,\u001b[49m\n\u001b[1;32m   1147\u001b[0m \u001b[43m    \u001b[49m\u001b[43mrow\u001b[49m\u001b[43m,\u001b[49m\n\u001b[1;32m   1148\u001b[0m \u001b[43m    \u001b[49m\u001b[43mstate\u001b[49m\u001b[43m,\u001b[49m\n\u001b[1;32m   1149\u001b[0m \u001b[43m    \u001b[49m\u001b[43mdict_\u001b[49m\u001b[43m,\u001b[49m\n\u001b[1;32m   1150\u001b[0m \u001b[43m    \u001b[49m\u001b[43misnew\u001b[49m\u001b[43m,\u001b[49m\n\u001b[1;32m   1151\u001b[0m \u001b[43m    \u001b[49m\u001b[43mload_path\u001b[49m\u001b[43m,\u001b[49m\n\u001b[1;32m   1152\u001b[0m \u001b[43m    \u001b[49m\u001b[43mloaded_instance\u001b[49m\u001b[43m,\u001b[49m\n\u001b[1;32m   1153\u001b[0m \u001b[43m    \u001b[49m\u001b[43meffective_populate_existing\u001b[49m\u001b[43m,\u001b[49m\n\u001b[1;32m   1154\u001b[0m \u001b[43m    \u001b[49m\u001b[43mpopulators\u001b[49m\u001b[43m,\u001b[49m\n\u001b[1;32m   1155\u001b[0m \u001b[43m\u001b[49m\u001b[43m)\u001b[49m\n\u001b[1;32m   1157\u001b[0m \u001b[38;5;28;01mif\u001b[39;00m isnew:\n\u001b[1;32m   1158\u001b[0m     \u001b[38;5;66;03m# state.runid should be equal to context.runid / runid\u001b[39;00m\n\u001b[1;32m   1159\u001b[0m     \u001b[38;5;66;03m# here, however for event checks we are being more conservative\u001b[39;00m\n\u001b[1;32m   1160\u001b[0m     \u001b[38;5;66;03m# and checking against existing run id\u001b[39;00m\n\u001b[1;32m   1161\u001b[0m     \u001b[38;5;66;03m# assert state.runid == runid\u001b[39;00m\n\u001b[1;32m   1163\u001b[0m     existing_runid \u001b[38;5;241m=\u001b[39m state\u001b[38;5;241m.\u001b[39mrunid\n",
      "File \u001b[0;32m~/Research/syoo_research/syoo_personal/lib/python3.9/site-packages/sqlalchemy/orm/loading.py:1353\u001b[0m, in \u001b[0;36m_populate_full\u001b[0;34m(context, row, state, dict_, isnew, load_path, loaded_instance, populate_existing, populators)\u001b[0m\n\u001b[1;32m   1350\u001b[0m                 state\u001b[38;5;241m.\u001b[39mexpired_attributes\u001b[38;5;241m.\u001b[39madd(key)\n\u001b[1;32m   1352\u001b[0m     \u001b[38;5;28;01mfor\u001b[39;00m key, populator \u001b[38;5;129;01min\u001b[39;00m populators[\u001b[38;5;124m\"\u001b[39m\u001b[38;5;124mnew\u001b[39m\u001b[38;5;124m\"\u001b[39m]:\n\u001b[0;32m-> 1353\u001b[0m         \u001b[43mpopulator\u001b[49m\u001b[43m(\u001b[49m\u001b[43mstate\u001b[49m\u001b[43m,\u001b[49m\u001b[43m \u001b[49m\u001b[43mdict_\u001b[49m\u001b[43m,\u001b[49m\u001b[43m \u001b[49m\u001b[43mrow\u001b[49m\u001b[43m)\u001b[49m\n\u001b[1;32m   1355\u001b[0m \u001b[38;5;28;01melif\u001b[39;00m load_path \u001b[38;5;241m!=\u001b[39m state\u001b[38;5;241m.\u001b[39mload_path:\n\u001b[1;32m   1356\u001b[0m     \u001b[38;5;66;03m# new load path, e.g. object is present in more than one\u001b[39;00m\n\u001b[1;32m   1357\u001b[0m     \u001b[38;5;66;03m# column position in a series of rows\u001b[39;00m\n\u001b[1;32m   1358\u001b[0m     state\u001b[38;5;241m.\u001b[39mload_path \u001b[38;5;241m=\u001b[39m load_path\n",
      "File \u001b[0;32m~/Research/syoo_research/syoo_personal/lib/python3.9/site-packages/sqlalchemy/orm/strategies.py:2071\u001b[0m, in \u001b[0;36mSubqueryLoader._create_collection_loader.<locals>.load_collection_from_subq\u001b[0;34m(state, dict_, row)\u001b[0m\n\u001b[1;32m   2070\u001b[0m \u001b[38;5;28;01mdef\u001b[39;00m \u001b[38;5;21mload_collection_from_subq\u001b[39m(state, dict_, row):\n\u001b[0;32m-> 2071\u001b[0m     collection \u001b[38;5;241m=\u001b[39m \u001b[43mcollections\u001b[49m\u001b[38;5;241;43m.\u001b[39;49m\u001b[43mget\u001b[49m\u001b[43m(\u001b[49m\u001b[43mtuple_getter\u001b[49m\u001b[43m(\u001b[49m\u001b[43mrow\u001b[49m\u001b[43m)\u001b[49m\u001b[43m,\u001b[49m\u001b[43m \u001b[49m\u001b[43m(\u001b[49m\u001b[43m)\u001b[49m\u001b[43m)\u001b[49m\n\u001b[1;32m   2072\u001b[0m     state\u001b[38;5;241m.\u001b[39mget_impl(\u001b[38;5;28mself\u001b[39m\u001b[38;5;241m.\u001b[39mkey)\u001b[38;5;241m.\u001b[39mset_committed_value(\n\u001b[1;32m   2073\u001b[0m         state, dict_, collection\n\u001b[1;32m   2074\u001b[0m     )\n",
      "File \u001b[0;32m~/Research/syoo_research/syoo_personal/lib/python3.9/site-packages/sqlalchemy/orm/strategies.py:1804\u001b[0m, in \u001b[0;36mSubqueryLoader._SubqCollections.get\u001b[0;34m(self, key, default)\u001b[0m\n\u001b[1;32m   1802\u001b[0m \u001b[38;5;28;01mdef\u001b[39;00m \u001b[38;5;21mget\u001b[39m(\u001b[38;5;28mself\u001b[39m, key, default):\n\u001b[1;32m   1803\u001b[0m     \u001b[38;5;28;01mif\u001b[39;00m \u001b[38;5;28mself\u001b[39m\u001b[38;5;241m.\u001b[39m_data \u001b[38;5;129;01mis\u001b[39;00m \u001b[38;5;28;01mNone\u001b[39;00m:\n\u001b[0;32m-> 1804\u001b[0m         \u001b[38;5;28;43mself\u001b[39;49m\u001b[38;5;241;43m.\u001b[39;49m\u001b[43m_load\u001b[49m\u001b[43m(\u001b[49m\u001b[43m)\u001b[49m\n\u001b[1;32m   1805\u001b[0m     \u001b[38;5;28;01mreturn\u001b[39;00m \u001b[38;5;28mself\u001b[39m\u001b[38;5;241m.\u001b[39m_data\u001b[38;5;241m.\u001b[39mget(key, default)\n",
      "File \u001b[0;32m~/Research/syoo_research/syoo_personal/lib/python3.9/site-packages/sqlalchemy/orm/strategies.py:1820\u001b[0m, in \u001b[0;36mSubqueryLoader._SubqCollections._load\u001b[0;34m(self)\u001b[0m\n\u001b[1;32m   1816\u001b[0m     q \u001b[38;5;241m=\u001b[39m q\u001b[38;5;241m.\u001b[39mpopulate_existing()\n\u001b[1;32m   1817\u001b[0m \u001b[38;5;66;03m# to work with baked query, the parameters may have been\u001b[39;00m\n\u001b[1;32m   1818\u001b[0m \u001b[38;5;66;03m# updated since this query was created, so take these into account\u001b[39;00m\n\u001b[0;32m-> 1820\u001b[0m rows \u001b[38;5;241m=\u001b[39m \u001b[38;5;28;43mlist\u001b[39;49m\u001b[43m(\u001b[49m\u001b[43mq\u001b[49m\u001b[38;5;241;43m.\u001b[39;49m\u001b[43mparams\u001b[49m\u001b[43m(\u001b[49m\u001b[38;5;28;43mself\u001b[39;49m\u001b[38;5;241;43m.\u001b[39;49m\u001b[43mparams\u001b[49m\u001b[43m)\u001b[49m\u001b[43m)\u001b[49m\n\u001b[1;32m   1821\u001b[0m \u001b[38;5;28;01mfor\u001b[39;00m k, v \u001b[38;5;129;01min\u001b[39;00m itertools\u001b[38;5;241m.\u001b[39mgroupby(rows, \u001b[38;5;28;01mlambda\u001b[39;00m x: x[\u001b[38;5;241m1\u001b[39m:]):\n\u001b[1;32m   1822\u001b[0m     \u001b[38;5;28mself\u001b[39m\u001b[38;5;241m.\u001b[39m_data[k]\u001b[38;5;241m.\u001b[39mextend(vv[\u001b[38;5;241m0\u001b[39m] \u001b[38;5;28;01mfor\u001b[39;00m vv \u001b[38;5;129;01min\u001b[39;00m v)\n",
      "File \u001b[0;32m~/Research/syoo_research/syoo_personal/lib/python3.9/site-packages/sqlalchemy/orm/query.py:2815\u001b[0m, in \u001b[0;36mQuery.__iter__\u001b[0;34m(self)\u001b[0m\n\u001b[1;32m   2813\u001b[0m result \u001b[38;5;241m=\u001b[39m \u001b[38;5;28mself\u001b[39m\u001b[38;5;241m.\u001b[39m_iter()\n\u001b[1;32m   2814\u001b[0m \u001b[38;5;28;01mtry\u001b[39;00m:\n\u001b[0;32m-> 2815\u001b[0m     \u001b[38;5;28;01myield from\u001b[39;00m result  \u001b[38;5;66;03m# type: ignore\u001b[39;00m\n\u001b[1;32m   2816\u001b[0m \u001b[38;5;28;01mexcept\u001b[39;00m \u001b[38;5;167;01mGeneratorExit\u001b[39;00m:\n\u001b[1;32m   2817\u001b[0m     \u001b[38;5;66;03m# issue #8710 - direct iteration is not re-usable after\u001b[39;00m\n\u001b[1;32m   2818\u001b[0m     \u001b[38;5;66;03m# an iterable block is broken, so close the result\u001b[39;00m\n\u001b[1;32m   2819\u001b[0m     result\u001b[38;5;241m.\u001b[39m_soft_close()\n",
      "File \u001b[0;32m~/Research/syoo_research/syoo_personal/lib/python3.9/site-packages/sqlalchemy/engine/result.py:512\u001b[0m, in \u001b[0;36mResultInternal._iterator_getter.<locals>.iterrows\u001b[0;34m(self)\u001b[0m\n\u001b[1;32m    511\u001b[0m \u001b[38;5;28;01mdef\u001b[39;00m \u001b[38;5;21miterrows\u001b[39m(\u001b[38;5;28mself\u001b[39m: Result[Any]) \u001b[38;5;241m-\u001b[39m\u001b[38;5;241m>\u001b[39m Iterator[_R]:\n\u001b[0;32m--> 512\u001b[0m     \u001b[38;5;28;01mfor\u001b[39;00m raw_row \u001b[38;5;129;01min\u001b[39;00m \u001b[38;5;28mself\u001b[39m\u001b[38;5;241m.\u001b[39m_fetchiter_impl():\n\u001b[1;32m    513\u001b[0m         obj: _InterimRowType[Any] \u001b[38;5;241m=\u001b[39m (\n\u001b[1;32m    514\u001b[0m             make_row(raw_row) \u001b[38;5;28;01mif\u001b[39;00m make_row \u001b[38;5;28;01melse\u001b[39;00m raw_row\n\u001b[1;32m    515\u001b[0m         )\n\u001b[1;32m    516\u001b[0m         hashed \u001b[38;5;241m=\u001b[39m strategy(obj) \u001b[38;5;28;01mif\u001b[39;00m strategy \u001b[38;5;28;01melse\u001b[39;00m obj\n",
      "File \u001b[0;32m~/Research/syoo_research/syoo_personal/lib/python3.9/site-packages/sqlalchemy/orm/loading.py:225\u001b[0m, in \u001b[0;36minstances.<locals>.chunks\u001b[0;34m(size)\u001b[0m\n\u001b[1;32m    223\u001b[0m     rows \u001b[38;5;241m=\u001b[39m [proc(row) \u001b[38;5;28;01mfor\u001b[39;00m row \u001b[38;5;129;01min\u001b[39;00m fetch]\n\u001b[1;32m    224\u001b[0m \u001b[38;5;28;01melse\u001b[39;00m:\n\u001b[0;32m--> 225\u001b[0m     rows \u001b[38;5;241m=\u001b[39m [\n\u001b[1;32m    226\u001b[0m         \u001b[38;5;28mtuple\u001b[39m([proc(row) \u001b[38;5;28;01mfor\u001b[39;00m proc \u001b[38;5;129;01min\u001b[39;00m process]) \u001b[38;5;28;01mfor\u001b[39;00m row \u001b[38;5;129;01min\u001b[39;00m fetch\n\u001b[1;32m    227\u001b[0m     ]\n\u001b[1;32m    229\u001b[0m \u001b[38;5;66;03m# if we are the originating load from a query, meaning we\u001b[39;00m\n\u001b[1;32m    230\u001b[0m \u001b[38;5;66;03m# aren't being called as a result of a nested \"post load\",\u001b[39;00m\n\u001b[1;32m    231\u001b[0m \u001b[38;5;66;03m# iterate through all the collected post loaders and fire them\u001b[39;00m\n\u001b[1;32m    232\u001b[0m \u001b[38;5;66;03m# off.  Previously this used to work recursively, however that\u001b[39;00m\n\u001b[1;32m    233\u001b[0m \u001b[38;5;66;03m# prevented deeply nested structures from being loadable\u001b[39;00m\n\u001b[1;32m    234\u001b[0m \u001b[38;5;28;01mif\u001b[39;00m is_top_level:\n",
      "File \u001b[0;32m~/Research/syoo_research/syoo_personal/lib/python3.9/site-packages/sqlalchemy/orm/loading.py:226\u001b[0m, in \u001b[0;36m<listcomp>\u001b[0;34m(.0)\u001b[0m\n\u001b[1;32m    223\u001b[0m     rows \u001b[38;5;241m=\u001b[39m [proc(row) \u001b[38;5;28;01mfor\u001b[39;00m row \u001b[38;5;129;01min\u001b[39;00m fetch]\n\u001b[1;32m    224\u001b[0m \u001b[38;5;28;01melse\u001b[39;00m:\n\u001b[1;32m    225\u001b[0m     rows \u001b[38;5;241m=\u001b[39m [\n\u001b[0;32m--> 226\u001b[0m         \u001b[38;5;28mtuple\u001b[39m([proc(row) \u001b[38;5;28;01mfor\u001b[39;00m proc \u001b[38;5;129;01min\u001b[39;00m process]) \u001b[38;5;28;01mfor\u001b[39;00m row \u001b[38;5;129;01min\u001b[39;00m fetch\n\u001b[1;32m    227\u001b[0m     ]\n\u001b[1;32m    229\u001b[0m \u001b[38;5;66;03m# if we are the originating load from a query, meaning we\u001b[39;00m\n\u001b[1;32m    230\u001b[0m \u001b[38;5;66;03m# aren't being called as a result of a nested \"post load\",\u001b[39;00m\n\u001b[1;32m    231\u001b[0m \u001b[38;5;66;03m# iterate through all the collected post loaders and fire them\u001b[39;00m\n\u001b[1;32m    232\u001b[0m \u001b[38;5;66;03m# off.  Previously this used to work recursively, however that\u001b[39;00m\n\u001b[1;32m    233\u001b[0m \u001b[38;5;66;03m# prevented deeply nested structures from being loadable\u001b[39;00m\n\u001b[1;32m    234\u001b[0m \u001b[38;5;28;01mif\u001b[39;00m is_top_level:\n",
      "File \u001b[0;32m~/Research/syoo_research/syoo_personal/lib/python3.9/site-packages/sqlalchemy/orm/loading.py:226\u001b[0m, in \u001b[0;36m<listcomp>\u001b[0;34m(.0)\u001b[0m\n\u001b[1;32m    223\u001b[0m     rows \u001b[38;5;241m=\u001b[39m [proc(row) \u001b[38;5;28;01mfor\u001b[39;00m row \u001b[38;5;129;01min\u001b[39;00m fetch]\n\u001b[1;32m    224\u001b[0m \u001b[38;5;28;01melse\u001b[39;00m:\n\u001b[1;32m    225\u001b[0m     rows \u001b[38;5;241m=\u001b[39m [\n\u001b[0;32m--> 226\u001b[0m         \u001b[38;5;28mtuple\u001b[39m([\u001b[43mproc\u001b[49m\u001b[43m(\u001b[49m\u001b[43mrow\u001b[49m\u001b[43m)\u001b[49m \u001b[38;5;28;01mfor\u001b[39;00m proc \u001b[38;5;129;01min\u001b[39;00m process]) \u001b[38;5;28;01mfor\u001b[39;00m row \u001b[38;5;129;01min\u001b[39;00m fetch\n\u001b[1;32m    227\u001b[0m     ]\n\u001b[1;32m    229\u001b[0m \u001b[38;5;66;03m# if we are the originating load from a query, meaning we\u001b[39;00m\n\u001b[1;32m    230\u001b[0m \u001b[38;5;66;03m# aren't being called as a result of a nested \"post load\",\u001b[39;00m\n\u001b[1;32m    231\u001b[0m \u001b[38;5;66;03m# iterate through all the collected post loaders and fire them\u001b[39;00m\n\u001b[1;32m    232\u001b[0m \u001b[38;5;66;03m# off.  Previously this used to work recursively, however that\u001b[39;00m\n\u001b[1;32m    233\u001b[0m \u001b[38;5;66;03m# prevented deeply nested structures from being loadable\u001b[39;00m\n\u001b[1;32m    234\u001b[0m \u001b[38;5;28;01mif\u001b[39;00m is_top_level:\n",
      "File \u001b[0;32m~/Research/syoo_research/syoo_personal/lib/python3.9/site-packages/sqlalchemy/orm/loading.py:1145\u001b[0m, in \u001b[0;36m_instance_processor.<locals>._instance\u001b[0;34m(row)\u001b[0m\n\u001b[1;32m   1142\u001b[0m     state\u001b[38;5;241m.\u001b[39mload_options \u001b[38;5;241m=\u001b[39m propagated_loader_options\n\u001b[1;32m   1143\u001b[0m     state\u001b[38;5;241m.\u001b[39mload_path \u001b[38;5;241m=\u001b[39m load_path\n\u001b[0;32m-> 1145\u001b[0m \u001b[43m_populate_full\u001b[49m\u001b[43m(\u001b[49m\n\u001b[1;32m   1146\u001b[0m \u001b[43m    \u001b[49m\u001b[43mcontext\u001b[49m\u001b[43m,\u001b[49m\n\u001b[1;32m   1147\u001b[0m \u001b[43m    \u001b[49m\u001b[43mrow\u001b[49m\u001b[43m,\u001b[49m\n\u001b[1;32m   1148\u001b[0m \u001b[43m    \u001b[49m\u001b[43mstate\u001b[49m\u001b[43m,\u001b[49m\n\u001b[1;32m   1149\u001b[0m \u001b[43m    \u001b[49m\u001b[43mdict_\u001b[49m\u001b[43m,\u001b[49m\n\u001b[1;32m   1150\u001b[0m \u001b[43m    \u001b[49m\u001b[43misnew\u001b[49m\u001b[43m,\u001b[49m\n\u001b[1;32m   1151\u001b[0m \u001b[43m    \u001b[49m\u001b[43mload_path\u001b[49m\u001b[43m,\u001b[49m\n\u001b[1;32m   1152\u001b[0m \u001b[43m    \u001b[49m\u001b[43mloaded_instance\u001b[49m\u001b[43m,\u001b[49m\n\u001b[1;32m   1153\u001b[0m \u001b[43m    \u001b[49m\u001b[43meffective_populate_existing\u001b[49m\u001b[43m,\u001b[49m\n\u001b[1;32m   1154\u001b[0m \u001b[43m    \u001b[49m\u001b[43mpopulators\u001b[49m\u001b[43m,\u001b[49m\n\u001b[1;32m   1155\u001b[0m \u001b[43m\u001b[49m\u001b[43m)\u001b[49m\n\u001b[1;32m   1157\u001b[0m \u001b[38;5;28;01mif\u001b[39;00m isnew:\n\u001b[1;32m   1158\u001b[0m     \u001b[38;5;66;03m# state.runid should be equal to context.runid / runid\u001b[39;00m\n\u001b[1;32m   1159\u001b[0m     \u001b[38;5;66;03m# here, however for event checks we are being more conservative\u001b[39;00m\n\u001b[1;32m   1160\u001b[0m     \u001b[38;5;66;03m# and checking against existing run id\u001b[39;00m\n\u001b[1;32m   1161\u001b[0m     \u001b[38;5;66;03m# assert state.runid == runid\u001b[39;00m\n\u001b[1;32m   1163\u001b[0m     existing_runid \u001b[38;5;241m=\u001b[39m state\u001b[38;5;241m.\u001b[39mrunid\n",
      "File \u001b[0;32m~/Research/syoo_research/syoo_personal/lib/python3.9/site-packages/sqlalchemy/orm/loading.py:1353\u001b[0m, in \u001b[0;36m_populate_full\u001b[0;34m(context, row, state, dict_, isnew, load_path, loaded_instance, populate_existing, populators)\u001b[0m\n\u001b[1;32m   1350\u001b[0m                 state\u001b[38;5;241m.\u001b[39mexpired_attributes\u001b[38;5;241m.\u001b[39madd(key)\n\u001b[1;32m   1352\u001b[0m     \u001b[38;5;28;01mfor\u001b[39;00m key, populator \u001b[38;5;129;01min\u001b[39;00m populators[\u001b[38;5;124m\"\u001b[39m\u001b[38;5;124mnew\u001b[39m\u001b[38;5;124m\"\u001b[39m]:\n\u001b[0;32m-> 1353\u001b[0m         \u001b[43mpopulator\u001b[49m\u001b[43m(\u001b[49m\u001b[43mstate\u001b[49m\u001b[43m,\u001b[49m\u001b[43m \u001b[49m\u001b[43mdict_\u001b[49m\u001b[43m,\u001b[49m\u001b[43m \u001b[49m\u001b[43mrow\u001b[49m\u001b[43m)\u001b[49m\n\u001b[1;32m   1355\u001b[0m \u001b[38;5;28;01melif\u001b[39;00m load_path \u001b[38;5;241m!=\u001b[39m state\u001b[38;5;241m.\u001b[39mload_path:\n\u001b[1;32m   1356\u001b[0m     \u001b[38;5;66;03m# new load path, e.g. object is present in more than one\u001b[39;00m\n\u001b[1;32m   1357\u001b[0m     \u001b[38;5;66;03m# column position in a series of rows\u001b[39;00m\n\u001b[1;32m   1358\u001b[0m     state\u001b[38;5;241m.\u001b[39mload_path \u001b[38;5;241m=\u001b[39m load_path\n",
      "File \u001b[0;32m~/Research/syoo_research/syoo_personal/lib/python3.9/site-packages/sqlalchemy/orm/strategies.py:2908\u001b[0m, in \u001b[0;36mJoinedLoader._create_scalar_loader.<locals>.load_scalar_from_joined_new_row\u001b[0;34m(state, dict_, row)\u001b[0m\n\u001b[1;32m   2905\u001b[0m \u001b[38;5;28;01mdef\u001b[39;00m \u001b[38;5;21mload_scalar_from_joined_new_row\u001b[39m(state, dict_, row):\n\u001b[1;32m   2906\u001b[0m     \u001b[38;5;66;03m# set a scalar object instance directly on the parent\u001b[39;00m\n\u001b[1;32m   2907\u001b[0m     \u001b[38;5;66;03m# object, bypassing InstrumentedAttribute event handlers.\u001b[39;00m\n\u001b[0;32m-> 2908\u001b[0m     dict_[key] \u001b[38;5;241m=\u001b[39m \u001b[43m_instance\u001b[49m\u001b[43m(\u001b[49m\u001b[43mrow\u001b[49m\u001b[43m)\u001b[49m\n",
      "File \u001b[0;32m~/Research/syoo_research/syoo_personal/lib/python3.9/site-packages/sqlalchemy/orm/loading.py:1202\u001b[0m, in \u001b[0;36m_instance_processor.<locals>._instance\u001b[0;34m(row)\u001b[0m\n\u001b[1;32m   1195\u001b[0m isnew \u001b[38;5;241m=\u001b[39m state \u001b[38;5;129;01mnot\u001b[39;00m \u001b[38;5;129;01min\u001b[39;00m context\u001b[38;5;241m.\u001b[39mpartials\n\u001b[1;32m   1197\u001b[0m \u001b[38;5;28;01mif\u001b[39;00m \u001b[38;5;129;01mnot\u001b[39;00m isnew \u001b[38;5;129;01mor\u001b[39;00m unloaded \u001b[38;5;129;01mor\u001b[39;00m populators[\u001b[38;5;124m\"\u001b[39m\u001b[38;5;124meager\u001b[39m\u001b[38;5;124m\"\u001b[39m]:\n\u001b[1;32m   1198\u001b[0m     \u001b[38;5;66;03m# state is having a partial set of its attributes\u001b[39;00m\n\u001b[1;32m   1199\u001b[0m     \u001b[38;5;66;03m# refreshed.  Populate those attributes,\u001b[39;00m\n\u001b[1;32m   1200\u001b[0m     \u001b[38;5;66;03m# and add to the \"context.partials\" collection.\u001b[39;00m\n\u001b[0;32m-> 1202\u001b[0m     to_load \u001b[38;5;241m=\u001b[39m \u001b[43m_populate_partial\u001b[49m\u001b[43m(\u001b[49m\n\u001b[1;32m   1203\u001b[0m \u001b[43m        \u001b[49m\u001b[43mcontext\u001b[49m\u001b[43m,\u001b[49m\n\u001b[1;32m   1204\u001b[0m \u001b[43m        \u001b[49m\u001b[43mrow\u001b[49m\u001b[43m,\u001b[49m\n\u001b[1;32m   1205\u001b[0m \u001b[43m        \u001b[49m\u001b[43mstate\u001b[49m\u001b[43m,\u001b[49m\n\u001b[1;32m   1206\u001b[0m \u001b[43m        \u001b[49m\u001b[43mdict_\u001b[49m\u001b[43m,\u001b[49m\n\u001b[1;32m   1207\u001b[0m \u001b[43m        \u001b[49m\u001b[43misnew\u001b[49m\u001b[43m,\u001b[49m\n\u001b[1;32m   1208\u001b[0m \u001b[43m        \u001b[49m\u001b[43mload_path\u001b[49m\u001b[43m,\u001b[49m\n\u001b[1;32m   1209\u001b[0m \u001b[43m        \u001b[49m\u001b[43munloaded\u001b[49m\u001b[43m,\u001b[49m\n\u001b[1;32m   1210\u001b[0m \u001b[43m        \u001b[49m\u001b[43mpopulators\u001b[49m\u001b[43m,\u001b[49m\n\u001b[1;32m   1211\u001b[0m \u001b[43m    \u001b[49m\u001b[43m)\u001b[49m\n\u001b[1;32m   1213\u001b[0m     \u001b[38;5;28;01mif\u001b[39;00m isnew:\n\u001b[1;32m   1214\u001b[0m         \u001b[38;5;28;01mif\u001b[39;00m refresh_evt:\n",
      "File \u001b[0;32m~/Research/syoo_research/syoo_personal/lib/python3.9/site-packages/sqlalchemy/orm/loading.py:1410\u001b[0m, in \u001b[0;36m_populate_partial\u001b[0;34m(context, row, state, dict_, isnew, load_path, unloaded, populators)\u001b[0m\n\u001b[1;32m   1408\u001b[0m     \u001b[38;5;28;01mfor\u001b[39;00m key, populator \u001b[38;5;129;01min\u001b[39;00m populators[\u001b[38;5;124m\"\u001b[39m\u001b[38;5;124mnew\u001b[39m\u001b[38;5;124m\"\u001b[39m]:\n\u001b[1;32m   1409\u001b[0m         \u001b[38;5;28;01mif\u001b[39;00m key \u001b[38;5;129;01min\u001b[39;00m to_load:\n\u001b[0;32m-> 1410\u001b[0m             \u001b[43mpopulator\u001b[49m\u001b[43m(\u001b[49m\u001b[43mstate\u001b[49m\u001b[43m,\u001b[49m\u001b[43m \u001b[49m\u001b[43mdict_\u001b[49m\u001b[43m,\u001b[49m\u001b[43m \u001b[49m\u001b[43mrow\u001b[49m\u001b[43m)\u001b[49m\n\u001b[1;32m   1412\u001b[0m \u001b[38;5;28;01mfor\u001b[39;00m key, populator \u001b[38;5;129;01min\u001b[39;00m populators[\u001b[38;5;124m\"\u001b[39m\u001b[38;5;124meager\u001b[39m\u001b[38;5;124m\"\u001b[39m]:\n\u001b[1;32m   1413\u001b[0m     \u001b[38;5;28;01mif\u001b[39;00m key \u001b[38;5;129;01mnot\u001b[39;00m \u001b[38;5;129;01min\u001b[39;00m unloaded:\n",
      "File \u001b[0;32m~/Research/syoo_research/syoo_personal/lib/python3.9/site-packages/sqlalchemy/orm/strategies.py:2071\u001b[0m, in \u001b[0;36mSubqueryLoader._create_collection_loader.<locals>.load_collection_from_subq\u001b[0;34m(state, dict_, row)\u001b[0m\n\u001b[1;32m   2070\u001b[0m \u001b[38;5;28;01mdef\u001b[39;00m \u001b[38;5;21mload_collection_from_subq\u001b[39m(state, dict_, row):\n\u001b[0;32m-> 2071\u001b[0m     collection \u001b[38;5;241m=\u001b[39m \u001b[43mcollections\u001b[49m\u001b[38;5;241;43m.\u001b[39;49m\u001b[43mget\u001b[49m\u001b[43m(\u001b[49m\u001b[43mtuple_getter\u001b[49m\u001b[43m(\u001b[49m\u001b[43mrow\u001b[49m\u001b[43m)\u001b[49m\u001b[43m,\u001b[49m\u001b[43m \u001b[49m\u001b[43m(\u001b[49m\u001b[43m)\u001b[49m\u001b[43m)\u001b[49m\n\u001b[1;32m   2072\u001b[0m     state\u001b[38;5;241m.\u001b[39mget_impl(\u001b[38;5;28mself\u001b[39m\u001b[38;5;241m.\u001b[39mkey)\u001b[38;5;241m.\u001b[39mset_committed_value(\n\u001b[1;32m   2073\u001b[0m         state, dict_, collection\n\u001b[1;32m   2074\u001b[0m     )\n",
      "File \u001b[0;32m~/Research/syoo_research/syoo_personal/lib/python3.9/site-packages/sqlalchemy/orm/strategies.py:1804\u001b[0m, in \u001b[0;36mSubqueryLoader._SubqCollections.get\u001b[0;34m(self, key, default)\u001b[0m\n\u001b[1;32m   1802\u001b[0m \u001b[38;5;28;01mdef\u001b[39;00m \u001b[38;5;21mget\u001b[39m(\u001b[38;5;28mself\u001b[39m, key, default):\n\u001b[1;32m   1803\u001b[0m     \u001b[38;5;28;01mif\u001b[39;00m \u001b[38;5;28mself\u001b[39m\u001b[38;5;241m.\u001b[39m_data \u001b[38;5;129;01mis\u001b[39;00m \u001b[38;5;28;01mNone\u001b[39;00m:\n\u001b[0;32m-> 1804\u001b[0m         \u001b[38;5;28;43mself\u001b[39;49m\u001b[38;5;241;43m.\u001b[39;49m\u001b[43m_load\u001b[49m\u001b[43m(\u001b[49m\u001b[43m)\u001b[49m\n\u001b[1;32m   1805\u001b[0m     \u001b[38;5;28;01mreturn\u001b[39;00m \u001b[38;5;28mself\u001b[39m\u001b[38;5;241m.\u001b[39m_data\u001b[38;5;241m.\u001b[39mget(key, default)\n",
      "File \u001b[0;32m~/Research/syoo_research/syoo_personal/lib/python3.9/site-packages/sqlalchemy/orm/strategies.py:1820\u001b[0m, in \u001b[0;36mSubqueryLoader._SubqCollections._load\u001b[0;34m(self)\u001b[0m\n\u001b[1;32m   1816\u001b[0m     q \u001b[38;5;241m=\u001b[39m q\u001b[38;5;241m.\u001b[39mpopulate_existing()\n\u001b[1;32m   1817\u001b[0m \u001b[38;5;66;03m# to work with baked query, the parameters may have been\u001b[39;00m\n\u001b[1;32m   1818\u001b[0m \u001b[38;5;66;03m# updated since this query was created, so take these into account\u001b[39;00m\n\u001b[0;32m-> 1820\u001b[0m rows \u001b[38;5;241m=\u001b[39m \u001b[38;5;28;43mlist\u001b[39;49m\u001b[43m(\u001b[49m\u001b[43mq\u001b[49m\u001b[38;5;241;43m.\u001b[39;49m\u001b[43mparams\u001b[49m\u001b[43m(\u001b[49m\u001b[38;5;28;43mself\u001b[39;49m\u001b[38;5;241;43m.\u001b[39;49m\u001b[43mparams\u001b[49m\u001b[43m)\u001b[49m\u001b[43m)\u001b[49m\n\u001b[1;32m   1821\u001b[0m \u001b[38;5;28;01mfor\u001b[39;00m k, v \u001b[38;5;129;01min\u001b[39;00m itertools\u001b[38;5;241m.\u001b[39mgroupby(rows, \u001b[38;5;28;01mlambda\u001b[39;00m x: x[\u001b[38;5;241m1\u001b[39m:]):\n\u001b[1;32m   1822\u001b[0m     \u001b[38;5;28mself\u001b[39m\u001b[38;5;241m.\u001b[39m_data[k]\u001b[38;5;241m.\u001b[39mextend(vv[\u001b[38;5;241m0\u001b[39m] \u001b[38;5;28;01mfor\u001b[39;00m vv \u001b[38;5;129;01min\u001b[39;00m v)\n",
      "File \u001b[0;32m~/Research/syoo_research/syoo_personal/lib/python3.9/site-packages/sqlalchemy/orm/query.py:2815\u001b[0m, in \u001b[0;36mQuery.__iter__\u001b[0;34m(self)\u001b[0m\n\u001b[1;32m   2813\u001b[0m result \u001b[38;5;241m=\u001b[39m \u001b[38;5;28mself\u001b[39m\u001b[38;5;241m.\u001b[39m_iter()\n\u001b[1;32m   2814\u001b[0m \u001b[38;5;28;01mtry\u001b[39;00m:\n\u001b[0;32m-> 2815\u001b[0m     \u001b[38;5;28;01myield from\u001b[39;00m result  \u001b[38;5;66;03m# type: ignore\u001b[39;00m\n\u001b[1;32m   2816\u001b[0m \u001b[38;5;28;01mexcept\u001b[39;00m \u001b[38;5;167;01mGeneratorExit\u001b[39;00m:\n\u001b[1;32m   2817\u001b[0m     \u001b[38;5;66;03m# issue #8710 - direct iteration is not re-usable after\u001b[39;00m\n\u001b[1;32m   2818\u001b[0m     \u001b[38;5;66;03m# an iterable block is broken, so close the result\u001b[39;00m\n\u001b[1;32m   2819\u001b[0m     result\u001b[38;5;241m.\u001b[39m_soft_close()\n",
      "File \u001b[0;32m~/Research/syoo_research/syoo_personal/lib/python3.9/site-packages/sqlalchemy/engine/result.py:512\u001b[0m, in \u001b[0;36mResultInternal._iterator_getter.<locals>.iterrows\u001b[0;34m(self)\u001b[0m\n\u001b[1;32m    511\u001b[0m \u001b[38;5;28;01mdef\u001b[39;00m \u001b[38;5;21miterrows\u001b[39m(\u001b[38;5;28mself\u001b[39m: Result[Any]) \u001b[38;5;241m-\u001b[39m\u001b[38;5;241m>\u001b[39m Iterator[_R]:\n\u001b[0;32m--> 512\u001b[0m     \u001b[38;5;28;01mfor\u001b[39;00m raw_row \u001b[38;5;129;01min\u001b[39;00m \u001b[38;5;28mself\u001b[39m\u001b[38;5;241m.\u001b[39m_fetchiter_impl():\n\u001b[1;32m    513\u001b[0m         obj: _InterimRowType[Any] \u001b[38;5;241m=\u001b[39m (\n\u001b[1;32m    514\u001b[0m             make_row(raw_row) \u001b[38;5;28;01mif\u001b[39;00m make_row \u001b[38;5;28;01melse\u001b[39;00m raw_row\n\u001b[1;32m    515\u001b[0m         )\n\u001b[1;32m    516\u001b[0m         hashed \u001b[38;5;241m=\u001b[39m strategy(obj) \u001b[38;5;28;01mif\u001b[39;00m strategy \u001b[38;5;28;01melse\u001b[39;00m obj\n",
      "File \u001b[0;32m~/Research/syoo_research/syoo_personal/lib/python3.9/site-packages/sqlalchemy/orm/loading.py:225\u001b[0m, in \u001b[0;36minstances.<locals>.chunks\u001b[0;34m(size)\u001b[0m\n\u001b[1;32m    223\u001b[0m     rows \u001b[38;5;241m=\u001b[39m [proc(row) \u001b[38;5;28;01mfor\u001b[39;00m row \u001b[38;5;129;01min\u001b[39;00m fetch]\n\u001b[1;32m    224\u001b[0m \u001b[38;5;28;01melse\u001b[39;00m:\n\u001b[0;32m--> 225\u001b[0m     rows \u001b[38;5;241m=\u001b[39m [\n\u001b[1;32m    226\u001b[0m         \u001b[38;5;28mtuple\u001b[39m([proc(row) \u001b[38;5;28;01mfor\u001b[39;00m proc \u001b[38;5;129;01min\u001b[39;00m process]) \u001b[38;5;28;01mfor\u001b[39;00m row \u001b[38;5;129;01min\u001b[39;00m fetch\n\u001b[1;32m    227\u001b[0m     ]\n\u001b[1;32m    229\u001b[0m \u001b[38;5;66;03m# if we are the originating load from a query, meaning we\u001b[39;00m\n\u001b[1;32m    230\u001b[0m \u001b[38;5;66;03m# aren't being called as a result of a nested \"post load\",\u001b[39;00m\n\u001b[1;32m    231\u001b[0m \u001b[38;5;66;03m# iterate through all the collected post loaders and fire them\u001b[39;00m\n\u001b[1;32m    232\u001b[0m \u001b[38;5;66;03m# off.  Previously this used to work recursively, however that\u001b[39;00m\n\u001b[1;32m    233\u001b[0m \u001b[38;5;66;03m# prevented deeply nested structures from being loadable\u001b[39;00m\n\u001b[1;32m    234\u001b[0m \u001b[38;5;28;01mif\u001b[39;00m is_top_level:\n",
      "File \u001b[0;32m~/Research/syoo_research/syoo_personal/lib/python3.9/site-packages/sqlalchemy/orm/loading.py:226\u001b[0m, in \u001b[0;36m<listcomp>\u001b[0;34m(.0)\u001b[0m\n\u001b[1;32m    223\u001b[0m     rows \u001b[38;5;241m=\u001b[39m [proc(row) \u001b[38;5;28;01mfor\u001b[39;00m row \u001b[38;5;129;01min\u001b[39;00m fetch]\n\u001b[1;32m    224\u001b[0m \u001b[38;5;28;01melse\u001b[39;00m:\n\u001b[1;32m    225\u001b[0m     rows \u001b[38;5;241m=\u001b[39m [\n\u001b[0;32m--> 226\u001b[0m         \u001b[38;5;28mtuple\u001b[39m([proc(row) \u001b[38;5;28;01mfor\u001b[39;00m proc \u001b[38;5;129;01min\u001b[39;00m process]) \u001b[38;5;28;01mfor\u001b[39;00m row \u001b[38;5;129;01min\u001b[39;00m fetch\n\u001b[1;32m    227\u001b[0m     ]\n\u001b[1;32m    229\u001b[0m \u001b[38;5;66;03m# if we are the originating load from a query, meaning we\u001b[39;00m\n\u001b[1;32m    230\u001b[0m \u001b[38;5;66;03m# aren't being called as a result of a nested \"post load\",\u001b[39;00m\n\u001b[1;32m    231\u001b[0m \u001b[38;5;66;03m# iterate through all the collected post loaders and fire them\u001b[39;00m\n\u001b[1;32m    232\u001b[0m \u001b[38;5;66;03m# off.  Previously this used to work recursively, however that\u001b[39;00m\n\u001b[1;32m    233\u001b[0m \u001b[38;5;66;03m# prevented deeply nested structures from being loadable\u001b[39;00m\n\u001b[1;32m    234\u001b[0m \u001b[38;5;28;01mif\u001b[39;00m is_top_level:\n",
      "File \u001b[0;32m~/Research/syoo_research/syoo_personal/lib/python3.9/site-packages/sqlalchemy/orm/loading.py:226\u001b[0m, in \u001b[0;36m<listcomp>\u001b[0;34m(.0)\u001b[0m\n\u001b[1;32m    223\u001b[0m     rows \u001b[38;5;241m=\u001b[39m [proc(row) \u001b[38;5;28;01mfor\u001b[39;00m row \u001b[38;5;129;01min\u001b[39;00m fetch]\n\u001b[1;32m    224\u001b[0m \u001b[38;5;28;01melse\u001b[39;00m:\n\u001b[1;32m    225\u001b[0m     rows \u001b[38;5;241m=\u001b[39m [\n\u001b[0;32m--> 226\u001b[0m         \u001b[38;5;28mtuple\u001b[39m([\u001b[43mproc\u001b[49m\u001b[43m(\u001b[49m\u001b[43mrow\u001b[49m\u001b[43m)\u001b[49m \u001b[38;5;28;01mfor\u001b[39;00m proc \u001b[38;5;129;01min\u001b[39;00m process]) \u001b[38;5;28;01mfor\u001b[39;00m row \u001b[38;5;129;01min\u001b[39;00m fetch\n\u001b[1;32m    227\u001b[0m     ]\n\u001b[1;32m    229\u001b[0m \u001b[38;5;66;03m# if we are the originating load from a query, meaning we\u001b[39;00m\n\u001b[1;32m    230\u001b[0m \u001b[38;5;66;03m# aren't being called as a result of a nested \"post load\",\u001b[39;00m\n\u001b[1;32m    231\u001b[0m \u001b[38;5;66;03m# iterate through all the collected post loaders and fire them\u001b[39;00m\n\u001b[1;32m    232\u001b[0m \u001b[38;5;66;03m# off.  Previously this used to work recursively, however that\u001b[39;00m\n\u001b[1;32m    233\u001b[0m \u001b[38;5;66;03m# prevented deeply nested structures from being loadable\u001b[39;00m\n\u001b[1;32m    234\u001b[0m \u001b[38;5;28;01mif\u001b[39;00m is_top_level:\n",
      "File \u001b[0;32m~/Research/syoo_research/syoo_personal/lib/python3.9/site-packages/sqlalchemy/orm/loading.py:1080\u001b[0m, in \u001b[0;36m_instance_processor.<locals>._instance\u001b[0;34m(row)\u001b[0m\n\u001b[1;32m   1076\u001b[0m     loaded_instance \u001b[38;5;241m=\u001b[39m \u001b[38;5;28;01mFalse\u001b[39;00m\n\u001b[1;32m   1077\u001b[0m \u001b[38;5;28;01melse\u001b[39;00m:\n\u001b[1;32m   1078\u001b[0m     \u001b[38;5;66;03m# look at the row, see if that identity is in the\u001b[39;00m\n\u001b[1;32m   1079\u001b[0m     \u001b[38;5;66;03m# session, or we have to create a new one\u001b[39;00m\n\u001b[0;32m-> 1080\u001b[0m     identitykey \u001b[38;5;241m=\u001b[39m (\n\u001b[1;32m   1081\u001b[0m         identity_class,\n\u001b[1;32m   1082\u001b[0m         primary_key_getter(row),\n\u001b[1;32m   1083\u001b[0m         identity_token,\n\u001b[1;32m   1084\u001b[0m     )\n\u001b[1;32m   1086\u001b[0m     instance \u001b[38;5;241m=\u001b[39m session_identity_map\u001b[38;5;241m.\u001b[39mget(identitykey)\n\u001b[1;32m   1088\u001b[0m     \u001b[38;5;28;01mif\u001b[39;00m instance \u001b[38;5;129;01mis\u001b[39;00m \u001b[38;5;129;01mnot\u001b[39;00m \u001b[38;5;28;01mNone\u001b[39;00m:\n\u001b[1;32m   1089\u001b[0m         \u001b[38;5;66;03m# existing instance\u001b[39;00m\n",
      "\u001b[0;31mKeyboardInterrupt\u001b[0m: "
     ]
    }
   ],
   "source": [
    "feature_name = ['atomic_radius',\n",
    "                'atomic_volume',\n",
    "                'atomic_weight_uncertainty',\n",
    "                'dipole_polarizability',\n",
    "                'electron_affinity',\n",
    "                'en_pauling',\n",
    "                'heat_of_formation',\n",
    "                'thermal_conductivity',\n",
    "                'vdw_radius',\n",
    "                'period',\n",
    "                'group_id']\n",
    "\n",
    "import os\n",
    "import sys\n",
    "\n",
    "formular_list = []\n",
    "target_list = []\n",
    "id_list = []\n",
    "i = 1\n",
    "\n",
    "try: os.remove('features.csv')\n",
    "except FileNotFoundError: pass\n",
    "\n",
    "f = open('features.csv', 'a')\n",
    "for compound in collect:\n",
    "    features = []\n",
    "    elem_list = list(compound['structure'][0]['element'].keys())\n",
    "\n",
    "    if compound['formula'][0:len(elem_list)] != elem_list[0]:\n",
    "        elem_list_new = [elem_list[1], elem_list[0]]\n",
    "        elem_list = elem_list_new\n",
    "\n",
    "    if compound['formula'] in formular_list: continue\n",
    "    else: formular_list.append(compound['formula'])\n",
    "\n",
    "    for name in elem_list:\n",
    "        count = compound['structure'][0]['element'][name]\n",
    "        features.append(count)\n",
    "        for fn in feature_name: features.append(eval(('element(\"%s\").'%name)+fn))\n",
    "\n",
    "    features = [0 if f is None else f for f in features]\n",
    "    line = ','.join(map(str,features)) + '\\n'\n",
    "    f.write(line)\n",
    "\n",
    "    target_list.append(compound['formation_energy']['value_per_atom'])\n",
    "    id_list.append(compound['id'])\n",
    "\n",
    "    print(i, elem_list)\n",
    "\n",
    "    if i == 200: break\n",
    "    i += 1\n",
    "\n",
    "f.close()"
   ]
  },
  {
   "cell_type": "markdown",
   "metadata": {
    "id": "sLJb3p_Fot1k"
   },
   "source": [
    "## Download 'target.json' and 'feature.csv' files from the repository\n",
    "\n",
    "Repository URL: https://gitlab.chemdx.org/global-network/mrrs-2022-dec-us/-/tree/master\n",
    "\n",
    "## Upload 'target.json' and 'feature.csv' files"
   ]
  },
  {
   "cell_type": "code",
   "execution_count": 22,
   "metadata": {
    "colab": {
     "base_uri": "https://localhost:8080/",
     "height": 262
    },
    "id": "Q3TO0evZX_XC",
    "outputId": "c22c4746-48f8-418d-a59d-c4dd32f01dee"
   },
   "outputs": [
    {
     "ename": "FileNotFoundError",
     "evalue": "[Errno 2] No such file or directory: 'target.json'",
     "output_type": "error",
     "traceback": [
      "\u001b[0;31m---------------------------------------------------------------------------\u001b[0m",
      "\u001b[0;31mFileNotFoundError\u001b[0m                         Traceback (most recent call last)",
      "Cell \u001b[0;32mIn[22], line 1\u001b[0m\n\u001b[0;32m----> 1\u001b[0m \u001b[38;5;28;01mwith\u001b[39;00m \u001b[38;5;28mopen\u001b[39m(\u001b[38;5;124m'\u001b[39m\u001b[38;5;124mtarget.json\u001b[39m\u001b[38;5;124m'\u001b[39m, \u001b[38;5;124m'\u001b[39m\u001b[38;5;124mr\u001b[39m\u001b[38;5;124m'\u001b[39m) \u001b[38;5;28;01mas\u001b[39;00m f: target_list \u001b[38;5;241m=\u001b[39m json\u001b[38;5;241m.\u001b[39mload(f)\n\u001b[1;32m      2\u001b[0m df \u001b[38;5;241m=\u001b[39m pd\u001b[38;5;241m.\u001b[39mread_csv(\u001b[38;5;124m'\u001b[39m\u001b[38;5;124mfeatures.csv\u001b[39m\u001b[38;5;124m'\u001b[39m, header\u001b[38;5;241m=\u001b[39m\u001b[38;5;28;01mNone\u001b[39;00m)\n\u001b[1;32m      3\u001b[0m \u001b[38;5;28;01mfrom\u001b[39;00m \u001b[38;5;21;01mnumpy\u001b[39;00m \u001b[38;5;28;01mimport\u001b[39;00m array\n",
      "File \u001b[0;32m~/Research/syoo_research/syoo_personal/lib/python3.9/site-packages/IPython/core/interactiveshell.py:310\u001b[0m, in \u001b[0;36m_modified_open\u001b[0;34m(file, *args, **kwargs)\u001b[0m\n\u001b[1;32m    303\u001b[0m \u001b[38;5;28;01mif\u001b[39;00m file \u001b[38;5;129;01min\u001b[39;00m {\u001b[38;5;241m0\u001b[39m, \u001b[38;5;241m1\u001b[39m, \u001b[38;5;241m2\u001b[39m}:\n\u001b[1;32m    304\u001b[0m     \u001b[38;5;28;01mraise\u001b[39;00m \u001b[38;5;167;01mValueError\u001b[39;00m(\n\u001b[1;32m    305\u001b[0m         \u001b[38;5;124mf\u001b[39m\u001b[38;5;124m\"\u001b[39m\u001b[38;5;124mIPython won\u001b[39m\u001b[38;5;124m'\u001b[39m\u001b[38;5;124mt let you open fd=\u001b[39m\u001b[38;5;132;01m{\u001b[39;00mfile\u001b[38;5;132;01m}\u001b[39;00m\u001b[38;5;124m by default \u001b[39m\u001b[38;5;124m\"\u001b[39m\n\u001b[1;32m    306\u001b[0m         \u001b[38;5;124m\"\u001b[39m\u001b[38;5;124mas it is likely to crash IPython. If you know what you are doing, \u001b[39m\u001b[38;5;124m\"\u001b[39m\n\u001b[1;32m    307\u001b[0m         \u001b[38;5;124m\"\u001b[39m\u001b[38;5;124myou can use builtins\u001b[39m\u001b[38;5;124m'\u001b[39m\u001b[38;5;124m open.\u001b[39m\u001b[38;5;124m\"\u001b[39m\n\u001b[1;32m    308\u001b[0m     )\n\u001b[0;32m--> 310\u001b[0m \u001b[38;5;28;01mreturn\u001b[39;00m \u001b[43mio_open\u001b[49m\u001b[43m(\u001b[49m\u001b[43mfile\u001b[49m\u001b[43m,\u001b[49m\u001b[43m \u001b[49m\u001b[38;5;241;43m*\u001b[39;49m\u001b[43margs\u001b[49m\u001b[43m,\u001b[49m\u001b[43m \u001b[49m\u001b[38;5;241;43m*\u001b[39;49m\u001b[38;5;241;43m*\u001b[39;49m\u001b[43mkwargs\u001b[49m\u001b[43m)\u001b[49m\n",
      "\u001b[0;31mFileNotFoundError\u001b[0m: [Errno 2] No such file or directory: 'target.json'"
     ]
    }
   ],
   "source": [
    "with open('target.json', 'r') as f: target_list = json.load(f)\n",
    "df = pd.read_csv('features.csv', header=None)\n",
    "from numpy import array\n",
    "features_list = array(df)"
   ]
  },
  {
   "cell_type": "markdown",
   "metadata": {
    "id": "n5nEBnf2pYtI"
   },
   "source": [
    "## Machine learning: Linear Regressor"
   ]
  },
  {
   "cell_type": "code",
   "execution_count": null,
   "metadata": {
    "colab": {
     "base_uri": "https://localhost:8080/"
    },
    "id": "XNxdFPbbX_XC",
    "outputId": "1e33f30f-3c12-4460-fded-80d228263a82"
   },
   "outputs": [
    {
     "name": "stdout",
     "output_type": "stream",
     "text": [
      "0\n",
      "1\n",
      "2\n",
      "3\n",
      "4\n",
      "5\n",
      "6\n",
      "7\n",
      "8\n",
      "9\n"
     ]
    },
    {
     "data": {
      "text/plain": [
       "0.1898103713260441"
      ]
     },
     "execution_count": 20,
     "metadata": {},
     "output_type": "execute_result"
    }
   ],
   "source": [
    "from sklearn import linear_model\n",
    "from sklearn.metrics import r2_score\n",
    "\n",
    "reg = linear_model.LinearRegression()\n",
    "target_list_pred = reg.fit(features_list, target_list).predict(features_list)\n",
    "r2_score(target_list, target_list_pred)\n",
    "\n",
    "from sklearn.model_selection import train_test_split\n",
    "\n",
    "r2_l = []\n",
    "for i in range(0,10,1):\n",
    "    print(i)\n",
    "    features_list = array(features_list)\n",
    "    X_train, X_test, y_train, y_test = train_test_split(features_list, target_list, test_size=2/10)\n",
    "    reg = linear_model.LinearRegression()\n",
    "    reg = reg.fit(X_train, y_train)\n",
    "    y_test_pred = reg.predict(X_test)\n",
    "    r2_l.append(r2_score(y_test, y_test_pred))\n",
    "\n",
    "array(r2_l).mean()"
   ]
  },
  {
   "cell_type": "markdown",
   "metadata": {
    "id": "tmrOOe3gpjaL"
   },
   "source": [
    "## Machine learning: Decision Tree Regressor"
   ]
  },
  {
   "cell_type": "code",
   "execution_count": null,
   "metadata": {
    "colab": {
     "base_uri": "https://localhost:8080/"
    },
    "id": "QePllqlwX_XD",
    "outputId": "c6930437-3767-49fd-b11b-95270127d04e"
   },
   "outputs": [
    {
     "name": "stdout",
     "output_type": "stream",
     "text": [
      "0\n",
      "1\n",
      "2\n",
      "3\n",
      "4\n",
      "5\n",
      "6\n",
      "7\n",
      "8\n",
      "9\n"
     ]
    },
    {
     "data": {
      "text/plain": [
       "0.6563730922111449"
      ]
     },
     "execution_count": 21,
     "metadata": {},
     "output_type": "execute_result"
    }
   ],
   "source": [
    "from sklearn import tree\n",
    "\n",
    "clf = tree.DecisionTreeRegressor()\n",
    "target_list_pred = clf.fit(features_list, target_list).predict(features_list)\n",
    "r2_score(target_list, target_list_pred)\n",
    "\n",
    "r2_l = []\n",
    "for i in range(0,10,1):\n",
    "    print(i)\n",
    "    X_train, X_test, y_train, y_test = train_test_split(features_list, target_list, test_size=2/10)\n",
    "    clf = tree.DecisionTreeRegressor()\n",
    "    clf = clf.fit(X_train, y_train)\n",
    "    y_test_pred = clf.predict(X_test)\n",
    "    r2_l.append(r2_score(y_test, y_test_pred))\n",
    "\n",
    "array(r2_l).mean()"
   ]
  },
  {
   "cell_type": "markdown",
   "metadata": {
    "id": "d4G2yX2yqBMa"
   },
   "source": [
    "## Machine learning: Gradient Boost Regressor\n"
   ]
  },
  {
   "cell_type": "code",
   "execution_count": null,
   "metadata": {
    "colab": {
     "base_uri": "https://localhost:8080/"
    },
    "id": "gwASyY3sX_XE",
    "outputId": "839b6afa-2173-49d8-fdd7-05e4d21eae4a"
   },
   "outputs": [
    {
     "name": "stdout",
     "output_type": "stream",
     "text": [
      "0\n",
      "1\n",
      "2\n",
      "3\n",
      "4\n",
      "5\n",
      "6\n",
      "7\n",
      "8\n",
      "9\n"
     ]
    },
    {
     "data": {
      "text/plain": [
       "0.9369779591248072"
      ]
     },
     "execution_count": 22,
     "metadata": {},
     "output_type": "execute_result"
    }
   ],
   "source": [
    "from sklearn.ensemble import GradientBoostingRegressor\n",
    "\n",
    "r2_l = []\n",
    "for i in range(0,10,1):\n",
    "    print(i)\n",
    "    X_train, X_test, y_train, y_test = train_test_split(features_list, target_list, test_size=2/10)\n",
    "    est = GradientBoostingRegressor()\n",
    "    est = est.fit(X_train, y_train)\n",
    "    y_test_pred = clf.predict(X_test)\n",
    "    r2_l.append(r2_score(y_test, y_test_pred))\n",
    "\n",
    "\n",
    "array(r2_l).mean()"
   ]
  }
 ],
 "metadata": {
  "colab": {
   "collapsed_sections": [
    "fu4CzcbAg0hp",
    "Y6_WdUAZhrHM",
    "_GO8rK1Nh_nH",
    "ox2vwcnBiHWa",
    "IC2ezbdsiyy-",
    "ZQqwaOodjCYb",
    "t8A5-UkijWTT",
    "sOwTk6qvjrj1",
    "SuiejxJBkJGZ",
    "-mktfRSYkvdX",
    "THFULUGclE7K",
    "Z3Gk7jF_lXcO",
    "sWCQox_6l1XG",
    "Nf5H6oMZnjsh"
   ],
   "provenance": []
  },
  "kernelspec": {
   "display_name": "Python (syoo_personal)",
   "language": "python",
   "name": "syoo_personal"
  },
  "language_info": {
   "codemirror_mode": {
    "name": "ipython",
    "version": 3
   },
   "file_extension": ".py",
   "mimetype": "text/x-python",
   "name": "python",
   "nbconvert_exporter": "python",
   "pygments_lexer": "ipython3",
   "version": "3.9.6"
  }
 },
 "nbformat": 4,
 "nbformat_minor": 4
}
