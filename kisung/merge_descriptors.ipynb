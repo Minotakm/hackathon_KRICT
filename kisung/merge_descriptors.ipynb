{
 "cells": [
  {
   "cell_type": "code",
   "execution_count": 19,
   "metadata": {},
   "outputs": [],
   "source": [
    "import json\n",
    "import numpy as np"
   ]
  },
  {
   "cell_type": "code",
   "execution_count": 20,
   "metadata": {},
   "outputs": [],
   "source": [
    "# Specify the file name\n",
    "file_name = \"descriptors.json\"\n",
    "\n",
    "# Read the JSON file into a dictionary\n",
    "with open(file_name, 'r') as json_file:\n",
    "    ref_descr = json.load(json_file)"
   ]
  },
  {
   "cell_type": "code",
   "execution_count": 21,
   "metadata": {},
   "outputs": [],
   "source": [
    "# Specify the file name\n",
    "file_name = \"descriptors_mace.json\"\n",
    "\n",
    "# Read the JSON file into a dictionary\n",
    "with open(file_name, 'r') as json_file:\n",
    "    ref_mace = json.load(json_file)"
   ]
  },
  {
   "cell_type": "code",
   "execution_count": 22,
   "metadata": {},
   "outputs": [],
   "source": [
    "# Specify the file name\n",
    "file_name = \"descriptors_7net.json\"\n",
    "\n",
    "# Read the JSON file into a dictionary\n",
    "with open(file_name, 'r') as json_file:\n",
    "    ref_7net = json.load(json_file)"
   ]
  },
  {
   "cell_type": "code",
   "execution_count": 23,
   "metadata": {},
   "outputs": [],
   "source": [
    "# Specify the file name\n",
    "file_name = \"descriptors_orb-v2.json\"\n",
    "\n",
    "# Read the JSON file into a dictionary\n",
    "with open(file_name, 'r') as json_file:\n",
    "    ref_orb_v2 = json.load(json_file)"
   ]
  },
  {
   "cell_type": "code",
   "execution_count": 24,
   "metadata": {},
   "outputs": [],
   "source": [
    "data = {}"
   ]
  },
  {
   "cell_type": "code",
   "execution_count": 25,
   "metadata": {},
   "outputs": [],
   "source": [
    "for key in ref_descr.keys():\n",
    "    # Check if the key exists in all the reference dictionaries\n",
    "    if key in ref_mace and key in ref_7net and key in ref_orb_v2:\n",
    "        # Check if the last element of `ref_descr[key][0]` matches the first elements in the other references\n",
    "        if (ref_descr[key][0][-1] == ref_mace[key][0][0] and \n",
    "            ref_descr[key][0][-1] == ref_7net[key][0][0] and \n",
    "            ref_descr[key][0][-1] == ref_orb_v2[key][0][0]):\n",
    "            \n",
    "            # Calculate the average of the values from the other references\n",
    "            descr_new = ref_descr[key][0][:-1] + [\n",
    "                np.average([ref_mace[key][0][1], ref_7net[key][0][1], ref_orb_v2[key][0][1]])\n",
    "            ]\n",
    "            forma_new = ref_descr[key][1]\n",
    "            \n",
    "            # Add the new entry to `data`\n",
    "            data[key] = [descr_new, forma_new]\n",
    "    # If the key is missing in any dictionary, it will automatically be skipped"
   ]
  },
  {
   "cell_type": "code",
   "execution_count": 26,
   "metadata": {},
   "outputs": [
    {
     "name": "stdout",
     "output_type": "stream",
     "text": [
      "The total number of data: 2117\n"
     ]
    }
   ],
   "source": [
    "print(f\"The total number of data: {len(data)}\")"
   ]
  },
  {
   "cell_type": "code",
   "execution_count": 27,
   "metadata": {},
   "outputs": [
    {
     "name": "stdout",
     "output_type": "stream",
     "text": [
      "Dictionary saved as descriptors_merged.json\n"
     ]
    }
   ],
   "source": [
    "# Specify the file name\n",
    "output_file = 'descriptors_merged.json'\n",
    "\n",
    "# Save the dictionary as a JSON file\n",
    "with open(output_file, 'w') as json_file:\n",
    "    json.dump(data, json_file, indent=4)  # indent=4 makes the JSON pretty-printed\n",
    "\n",
    "print(f\"Dictionary saved as {output_file}\")"
   ]
  },
  {
   "cell_type": "code",
   "execution_count": null,
   "metadata": {},
   "outputs": [],
   "source": []
  }
 ],
 "metadata": {
  "kernelspec": {
   "display_name": "jupyter",
   "language": "python",
   "name": "python3"
  },
  "language_info": {
   "codemirror_mode": {
    "name": "ipython",
    "version": 3
   },
   "file_extension": ".py",
   "mimetype": "text/x-python",
   "name": "python",
   "nbconvert_exporter": "python",
   "pygments_lexer": "ipython3",
   "version": "3.10.14"
  }
 },
 "nbformat": 4,
 "nbformat_minor": 2
}
