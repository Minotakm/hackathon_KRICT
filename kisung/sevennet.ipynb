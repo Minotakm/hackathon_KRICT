{
 "cells": [
  {
   "cell_type": "code",
   "execution_count": 1,
   "metadata": {},
   "outputs": [],
   "source": [
    "from sevenn.sevennet_calculator import SevenNetCalculator\n",
    "sevennet_0_cal = SevenNetCalculator(\"7net-0\", device='cpu')  # 7net-0, SevenNet-0, 7net-0_22May2024, 7net-0_11July2024 ..."
   ]
  },
  {
   "cell_type": "code",
   "execution_count": 2,
   "metadata": {},
   "outputs": [
    {
     "name": "stdout",
     "output_type": "stream",
     "text": [
      "Potential Energy: -6.642075538635254 eV\n"
     ]
    }
   ],
   "source": [
    "from ase import Atoms\n",
    "\n",
    "# Step 1: Create an Atoms object for H2 molecule\n",
    "atoms = Atoms('H2', positions=[[0, 0, 0], [0, 0, 0.74]])  # Positions in angstroms\n",
    "\n",
    "# Step 2: Assign a calculator (EMT is a simple calculator for demonstration purposes)\n",
    "atoms.calc = sevennet_0_cal\n",
    "\n",
    "# Step 3: Calculate and retrieve the potential energy\n",
    "potential_energy = atoms.get_potential_energy()\n",
    "\n",
    "# Output the potential energy\n",
    "print(\"Potential Energy:\", potential_energy, \"eV\")\n"
   ]
  },
  {
   "cell_type": "code",
   "execution_count": null,
   "metadata": {},
   "outputs": [],
   "source": []
  }
 ],
 "metadata": {
  "kernelspec": {
   "display_name": "jupyter",
   "language": "python",
   "name": "python3"
  },
  "language_info": {
   "codemirror_mode": {
    "name": "ipython",
    "version": 3
   },
   "file_extension": ".py",
   "mimetype": "text/x-python",
   "name": "python",
   "nbconvert_exporter": "python",
   "pygments_lexer": "ipython3",
   "version": "3.10.14"
  }
 },
 "nbformat": 4,
 "nbformat_minor": 2
}
